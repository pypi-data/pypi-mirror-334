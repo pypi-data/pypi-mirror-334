{
 "cells": [
  {
   "cell_type": "markdown",
   "metadata": {},
   "source": [
    "<div class=\"admonition info\">\n",
    "    <p class=\"admonition-title\">Info</p>\n",
    "    <p>Click <a href=\"https://mybinder.org/v2/gh/oqtopus-team/tranqu/HEAD?labpath=docs/usage/custom.ipynb\" target=\"_blank\">here</a> to run this notebook interactively on Binder.</p>\n",
    "</div>\n",
    "\n",
    "# Using Custom Transpilers and Converters\n",
    "\n",
    "You can use custom components, such as custom transpilers, custom programs, and custom devices that you have created.\n",
    "This page explains how to create and use custom components.\n",
    "\n",
    "In Tranqu, you can use the following custom components:\n",
    "\n",
    "- [Custom Programs](#custom-programs)\n",
    "- [Custom Devices](#custom-devices)\n",
    "- [Custom Transpilers](#custom-transpilers)\n"
   ]
  },
  {
   "cell_type": "markdown",
   "metadata": {},
   "source": [
    "In this page, we assume you are developing a library called \"Enigma\"."
   ]
  },
  {
   "cell_type": "code",
   "execution_count": 1,
   "metadata": {},
   "outputs": [],
   "source": [
    "from tranqu import Tranqu\n",
    "\n",
    "tranqu = Tranqu()"
   ]
  },
  {
   "cell_type": "markdown",
   "metadata": {},
   "source": [
    "## Custom Programs\n",
    "\n",
    "The following code is an example of creating your own quantum program class `EnigmaCircuit` and a `ProgramConverter` that converts Qiskit's `QuantumCircuit` to `EnigmaCircuit`.\n",
    "\n",
    "Inherit from the `ProgramConverter` class and implement the `convert` function."
   ]
  },
  {
   "cell_type": "code",
   "execution_count": 2,
   "metadata": {},
   "outputs": [],
   "source": [
    "from qiskit import QuantumCircuit\n",
    "from tranqu.program_converter import ProgramConverter\n",
    "\n",
    "class EnigmaCircuit:\n",
    "    # Implement your own quantum circuit class\n",
    "    pass\n",
    "\n",
    "class QiskitToEnigmaProgramConverter(ProgramConverter):\n",
    "    def convert(self, program: QuantumCircuit) -> EnigmaCircuit:\n",
    "        # Here, return the conversion of Qiskit's QuantumCircuit to EnigmaCircuit\n",
    "        pass"
   ]
  },
  {
   "cell_type": "markdown",
   "metadata": {},
   "source": [
    "To use `QiskitToEnigmaProgramConverter` in Tranqu, call the `register_program_converter` function."
   ]
  },
  {
   "cell_type": "code",
   "execution_count": 3,
   "metadata": {},
   "outputs": [],
   "source": [
    "tranqu.register_program_converter(\"qiskit\", \"enigma\", QiskitToEnigmaProgramConverter())"
   ]
  },
  {
   "cell_type": "markdown",
   "metadata": {},
   "source": [
    "## Custom Devices\n",
    "\n",
    "The following code is an example of creating your own quantum device class `EnigmaDevice` and a `DeviceConverter` that converts Qiskit's `BackendV2` to `EnigmaDevice`.\n",
    "\n",
    "Inherit from the `DeviceConverter` class and implement the `convert` function."
   ]
  },
  {
   "cell_type": "code",
   "execution_count": 4,
   "metadata": {},
   "outputs": [],
   "source": [
    "from qiskit.providers import BackendV2\n",
    "from tranqu.device_converter import DeviceConverter\n",
    " \n",
    "class EnigmaDevice:\n",
    "    # Implement your own quantum device class\n",
    "    pass\n",
    "\n",
    "class QiskitToEnigmaDeviceConverter(DeviceConverter):\n",
    "    def convert(self, device: BackendV2) -> EnigmaDevice:\n",
    "        # Here, return the conversion of Qiskit's BackendV2 to EnigmaDevice\n",
    "        pass"
   ]
  },
  {
   "cell_type": "markdown",
   "metadata": {},
   "source": [
    "To use `QiskitToEnigmaDeviceConverter` in Tranqu, call the `register_device_converter` function."
   ]
  },
  {
   "cell_type": "code",
   "execution_count": 5,
   "metadata": {},
   "outputs": [],
   "source": [
    "tranqu.register_device_converter(\"qiskit\", \"enigma\", QiskitToEnigmaDeviceConverter())"
   ]
  },
  {
   "cell_type": "markdown",
   "metadata": {},
   "source": [
    "## Custom Transpilers\n",
    "\n",
    "The following code is an example of creating your own transpiler class `EnigmaTraspiler` that can transpile `EnigmaCircuit`.\n",
    "\n",
    "To do so, inherit from the `Transpiler` class and implement the `transpile` function."
   ]
  },
  {
   "cell_type": "code",
   "execution_count": 6,
   "metadata": {},
   "outputs": [],
   "source": [
    "from tranqu import TranspileResult\n",
    "from tranqu.transpiler import Transpiler\n",
    "\n",
    "class EnigmaTranspiler(Transpiler):\n",
    "    def transpile(\n",
    "        self,\n",
    "        program: EnigmaCircuit,\n",
    "        options: dict | None = None,\n",
    "        device: EnigmaDevice | None = None,\n",
    "    ) -> TranspileResult:\n",
    "        # Implement custom transpile logic here\n",
    "        pass"
   ]
  },
  {
   "cell_type": "markdown",
   "metadata": {},
   "source": [
    "To use `EnigmaTranspiler` in Tranqu, call the `register_transpiler` function."
   ]
  },
  {
   "cell_type": "code",
   "execution_count": 7,
   "metadata": {},
   "outputs": [],
   "source": [
    "tranqu.register_transpiler(\"enigma\", EnigmaTranspiler())"
   ]
  },
  {
   "cell_type": "markdown",
   "metadata": {},
   "source": [
    "## Run transpile function\n",
    "\n",
    "When you execute the `transpile` function of a Tranqu instance with registered custom components, Tranqu follows the steps explained in \"[How it Works](/usage/how_it_works)\" to convert the program and device information into the Enigma format and perform transpilation using Enigma.\n",
    "\n",
    "<div class=\"admonition warning\">\n",
    "    <p class=\"admonition-title\">Warning</p>\n",
    "    <p>To make this code actually work, you need to implement the parts where \"pass\" is used.</p>\n",
    "</div>\n",
    "\n"
   ]
  },
  {
   "cell_type": "code",
   "execution_count": null,
   "metadata": {},
   "outputs": [],
   "source": [
    "from qiskit_ibm_runtime.fake_provider import FakeManilaV2\n",
    "\n",
    "backend = FakeManilaV2()\n",
    "\n",
    "circuit = QuantumCircuit(2)\n",
    "circuit.h(0)\n",
    "circuit.cx(0, 1)\n",
    "circuit.measure_all()\n",
    "\n",
    "result = tranqu.transpile(\n",
    "  program=circuit,\n",
    "  program_lib=\"qiskit\",\n",
    "  transpiler_lib=\"enigma\",\n",
    "  device=backend,\n",
    "  device_lib=\"qiskit\",\n",
    ")"
   ]
  },
  {
   "cell_type": "markdown",
   "metadata": {},
   "source": []
  }
 ],
 "metadata": {
  "kernelspec": {
   "display_name": ".venv",
   "language": "python",
   "name": "python3"
  },
  "language_info": {
   "codemirror_mode": {
    "name": "ipython",
    "version": 3
   },
   "file_extension": ".py",
   "mimetype": "text/x-python",
   "name": "python",
   "nbconvert_exporter": "python",
   "pygments_lexer": "ipython3",
   "version": "3.12.6"
  }
 },
 "nbformat": 4,
 "nbformat_minor": 2
}

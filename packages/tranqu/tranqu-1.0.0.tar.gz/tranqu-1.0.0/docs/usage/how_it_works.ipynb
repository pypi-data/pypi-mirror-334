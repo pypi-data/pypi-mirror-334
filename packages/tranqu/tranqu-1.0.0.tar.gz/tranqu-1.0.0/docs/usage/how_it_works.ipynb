{
 "cells": [
  {
   "cell_type": "markdown",
   "metadata": {},
   "source": [
    "<div class=\"admonition info\">\n",
    "    <p class=\"admonition-title\">Info</p>\n",
    "    <p>Click <a href=\"https://mybinder.org/v2/gh/oqtopus-team/tranqu/HEAD?labpath=docs/usage/how_it_works.ipynb\" target=\"_blank\">here</a> to run this notebook interactively on Binder.</p>\n",
    "</div>\n",
    "\n",
    "# How It Works\n",
    "\n",
    "This page provides an overview of how Tranqu performs transpilation and explains the internal processing steps."
   ]
  },
  {
   "cell_type": "markdown",
   "metadata": {},
   "source": [
    "## What is Tranqu?\n",
    "\n",
    "Tranqu is is a one-stop framework for transpilers across multiple quantum programming libraries and formats for quantum circuits.\n",
    "\n",
    "Quantum circuit transpilation is NP-complete, and heuristic algorithms are typically used.\n",
    "While many transpiler libraries exist, the optimal transpiler and its options often depend on the quantum circuit and device information.\n",
    "Therefore, the ability to leverage various vendors' transpilers is highly desirable.\n",
    "By using Tranqu, you can run various vendors' transpilers without being bothered by the conversion of quantum circuits or device information."
   ]
  },
  {
   "cell_type": "markdown",
   "metadata": {},
   "source": [
    "## How Tranqu's transpile function works\n",
    "\n",
    "The `transpile` function of Tranqu performs transpilation using the specified library, taking a quantum program and device information as inputs.\n",
    "\n",
    "The input quantum program is set to the `program` argument, and the input device information is set to the `device` argument.\n",
    "To specify the format, set the `program_lib` argument when setting the program.\n",
    "Similarly, set the `device_lib` argument when setting the device.\n",
    "\n",
    "The transpiler library is set to the `transpiler_lib` argument.\n",
    "Tranqu does not perform transpilation directly but utilizes other transpiler libraries to execute the transpilation process.\n",
    "The transpiler options are set as a dict in the `transpiler_options` argument.\n",
    "\n",
    "The following code is a sample that sets all of these arguments."
   ]
  },
  {
   "cell_type": "code",
   "execution_count": 1,
   "metadata": {},
   "outputs": [
    {
     "name": "stdout",
     "output_type": "stream",
     "text": [
      "2\n",
      "global phase: π/4\n",
      "               ┌─────────┐┌────┐┌─────────┐      ░ ┌─┐   \n",
      "      q_0 -> 0 ┤ Rz(π/2) ├┤ √X ├┤ Rz(π/2) ├──■───░─┤M├───\n",
      "               └─────────┘└────┘└─────────┘┌─┴─┐ ░ └╥┘┌─┐\n",
      "      q_1 -> 1 ────────────────────────────┤ X ├─░──╫─┤M├\n",
      "                                           └───┘ ░  ║ └╥┘\n",
      "ancilla_0 -> 2 ─────────────────────────────────────╫──╫─\n",
      "                                                    ║  ║ \n",
      "ancilla_1 -> 3 ─────────────────────────────────────╫──╫─\n",
      "                                                    ║  ║ \n",
      "ancilla_2 -> 4 ─────────────────────────────────────╫──╫─\n",
      "                                                    ║  ║ \n",
      "       meas: 2/═════════════════════════════════════╩══╩═\n",
      "                                                    0  1 \n"
     ]
    }
   ],
   "source": [
    "from qiskit import QuantumCircuit\n",
    "from qiskit_ibm_runtime.fake_provider import FakeManilaV2\n",
    "from tranqu import Tranqu\n",
    "\n",
    "tranqu = Tranqu()\n",
    "\n",
    "# prepare program\n",
    "circuit = QuantumCircuit(2)\n",
    "circuit.h(0)\n",
    "circuit.cx(0, 1)\n",
    "circuit.measure_all()\n",
    "\n",
    "# prepare device\n",
    "backend = FakeManilaV2()\n",
    "\n",
    "# prepare transpiler options\n",
    "options = {\n",
    "    \"basis_gates\": [\"id\", \"sx\", \"x\", \"rz\", \"cx\"]\n",
    "}\n",
    "\n",
    "result = tranqu.transpile(\n",
    "    program=circuit,\n",
    "    program_lib=\"qiskit\",\n",
    "    transpiler_lib=\"qiskit\",\n",
    "    transpiler_options=options,\n",
    "    device=backend,\n",
    "    device_lib=\"qiskit\",\n",
    ")\n",
    "print(result.transpiled_program)"
   ]
  },
  {
   "cell_type": "markdown",
   "metadata": {},
   "source": [
    "The minimum required arguments are `program`, `program_lib`, and `transpiler_lib`.\n",
    "In this case, `transpiler_options` is set to the default options of the transpiler library, and transpilation proceed without utilizing any device information."
   ]
  },
  {
   "cell_type": "code",
   "execution_count": 2,
   "metadata": {},
   "outputs": [
    {
     "name": "stdout",
     "output_type": "stream",
     "text": [
      "        ┌───┐      ░ ┌─┐   \n",
      "   q_0: ┤ H ├──■───░─┤M├───\n",
      "        └───┘┌─┴─┐ ░ └╥┘┌─┐\n",
      "   q_1: ─────┤ X ├─░──╫─┤M├\n",
      "             └───┘ ░  ║ └╥┘\n",
      "meas: 2/══════════════╩══╩═\n",
      "                      0  1 \n"
     ]
    }
   ],
   "source": [
    "result = tranqu.transpile(\n",
    "    program=circuit,\n",
    "    program_lib=\"qiskit\",\n",
    "    transpiler_lib=\"qiskit\",\n",
    ")\n",
    "print(result.transpiled_program)"
   ]
  },
  {
   "cell_type": "markdown",
   "metadata": {},
   "source": [
    "You can set the built-in options provided by Tranqu for `transpiler_lib`, `program_lib`, and `device_lib`.\n",
    "For details on the built-in components, refer to [Built-in Components](#built-in-components).\n",
    "\n",
    "Furthermore, you can set custom transpilers, custom programs, and custom devices that you have created.\n",
    "For details on how to create and use custom options, refer to [Using Custom Transpilers and Converters](../custom)."
   ]
  },
  {
   "cell_type": "markdown",
   "metadata": {},
   "source": [
    "## Inside the transpile function\n",
    "\n",
    "Inside the transpile function, the following steps are executed:\n",
    "\n",
    "### Step 1: Fetch the transpiler library\n",
    "The transpilers available in Tranqu are registered in the `TranspilerManager` class.  \n",
    "Using the `transpiler_lib` argument, the appropriate transpiler library is fetched from the `TranspilerManager`.\n",
    "If the `default_transpiler_lib` is set, the `transpiler_lib` argument can be omitted.\n",
    "\n",
    "### Step 2: Fetch the `ProgramConverter`\n",
    "Tranqu uses the `ProgramConverter` class to convert the format of the input program.  \n",
    "To transform the input program into a format that can be processed by the specified transpiler, the appropriate `ProgramConverter` is fetched from the `ProgramConverterManager` class using the `program_lib` and `transpiler_lib` arguments.\n",
    "If the `program_type` is set, the `program_lib` argument can be omitted.\n",
    "\n",
    "### Step 3: Fetch the `DeviceConverter`\n",
    "Tranqu uses the `DeviceConverter` class to convert the format of the input device information.  \n",
    "To transform the input device information into a format that can be processed by the specified transpiler, the appropriate `DeviceConverter` is fetched from the `DeviceConverterManager` class using the `device_lib` and `transpiler_lib` arguments.  \n",
    "If the `device_type` is set, the `device_lib` argument can be omitted.\n",
    "\n",
    "If `device_lib` is not set, this step is skipped.\n",
    "\n",
    "### Step 4: Execute the transpilation\n",
    "Using the program and device information converted into a format compatible with the transpiler, the transpilation process is executed.\n",
    "\n",
    "### Step 5: Post-processing\n",
    "Retrieve the mapping between virtual qubit (or bit) indices and physical qubit (or bit) indices before and after transpilation.\n",
    "Additionally, obtain statistical information such as the number of gates before and after transpilation.  \n",
    "\n",
    "Additionally, since the transpiled program is in the format specified by `transpiler_lib`, it is converted into the format specified by `program_lib`."
   ]
  },
  {
   "cell_type": "markdown",
   "metadata": {},
   "source": [
    "## Built-in Components\n",
    "\n",
    "When `Tranqu` class is instantiated, it automatically registers `Transpiler`, `ProgramConverter`, and `DeviceConverter` to their respective Managers.  \n",
    "These components are referred to as \"built-in components.\""
   ]
  },
  {
   "cell_type": "markdown",
   "metadata": {},
   "source": [
    "Table 1: Built-in `Transpiler`\n",
    "\n",
    "| Transpiler Library | Description                               |\n",
    "|--------------------|-------------------------------------------|\n",
    "| `\"qiskit\"`         | Transpile quantum circuits using Qiskit.  |\n",
    "| `\"ouqu-tp\"`        | Transpile quantum circuits using ouqu-tp. |\n",
    "\n",
    "<div class=\"admonition info\">\n",
    "    <p class=\"admonition-title\">Info</p>\n",
    "    <p>ouqu-tp. To use ouqu-tp, <a href=\"https://github.com/softwareQinc/staq/blob/main/INSTALL.md\" target=\"_blank\">staq</a> is required. If staq is not installed, it will be automatically installed the first time you use ouqu-tp. The installation of staq takes several minutes.</p>\n",
    "</div>"
   ]
  },
  {
   "cell_type": "markdown",
   "metadata": {},
   "source": [
    "Table 2: Built-in `ProgramConverter`\n",
    "\n",
    "| From          | To            | Description                        |\n",
    "|---------------|---------------|------------------------------------|\n",
    "| `\"openqasm3\"` | `\"qiskit\"`    | Converts from OpenQASM3 to Qiskit. |\n",
    "| `\"openqasm3\"` | `\"tket\"`      | Converts from OpenQASM3 to tket.   |\n",
    "| `\"qiskit\"`    | `\"openqasm3\"` | Converts from Qiskit to OpenQASM3. |\n",
    "| `\"qiskit\"`    | `\"tket\"`      | Converts from Qiskit to tket.      |\n",
    "| `\"tket\"`      | `\"openqasm3\"` | Converts from tket to OpenQASM3.   |\n",
    "| `\"tket\"`      | `\"qiskit\"`    | Converts from tket to Qiskit.      |\n"
   ]
  },
  {
   "cell_type": "markdown",
   "metadata": {},
   "source": [
    "Table 3: Built-in `DeviceConverter`\n",
    "\n",
    "| From        | To         | Description                      |\n",
    "|-------------|------------|----------------------------------|\n",
    "| `\"oqtopus\"` | `\"qiskit\"` | Converts from OQTOPUS to Qiskit. |"
   ]
  },
  {
   "cell_type": "markdown",
   "metadata": {},
   "source": [
    "## Built-in types\n",
    "\n",
    "When `Tranqu` class is instantiated, it automatically registers `program_type`, and `device_type` to their respective Managers.  \n",
    "These components are referred to as \"built-in types.\""
   ]
  },
  {
   "cell_type": "markdown",
   "metadata": {},
   "source": [
    "Table 4: Built-in `program_type`\n",
    "\n",
    "| Program Library | Type                    |\n",
    "|-----------------|-------------------------|\n",
    "| `\"qiskit\"`      | `qiskit.QuantumCircuit` |\n",
    "| `\"tket\"`        | `pytket.Circuit`        |\n"
   ]
  },
  {
   "cell_type": "markdown",
   "metadata": {},
   "source": [
    "Table 5: Built-in `device_type`\n",
    "\n",
    "| Device Library | Type                         |\n",
    "|----------------|------------------------------|\n",
    "| `\"qiskit\"`     | `qiskit.providers.BackendV2` |"
   ]
  }
 ],
 "metadata": {
  "kernelspec": {
   "display_name": ".venv",
   "language": "python",
   "name": "python3"
  },
  "language_info": {
   "codemirror_mode": {
    "name": "ipython",
    "version": 3
   },
   "file_extension": ".py",
   "mimetype": "text/x-python",
   "name": "python",
   "nbconvert_exporter": "python",
   "pygments_lexer": "ipython3",
   "version": "3.12.6"
  }
 },
 "nbformat": 4,
 "nbformat_minor": 2
}

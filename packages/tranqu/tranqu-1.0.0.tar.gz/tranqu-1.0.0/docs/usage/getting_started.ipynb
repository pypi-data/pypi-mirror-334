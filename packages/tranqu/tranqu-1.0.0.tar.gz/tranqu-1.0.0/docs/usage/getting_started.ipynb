{
 "cells": [
  {
   "cell_type": "markdown",
   "metadata": {},
   "source": [
    "<div class=\"admonition info\">\n",
    "    <p class=\"admonition-title\">Info</p>\n",
    "    <p>Click <a href=\"https://mybinder.org/v2/gh/oqtopus-team/tranqu/HEAD?labpath=docs/usage/getting_started.ipynb\" target=\"_blank\">here</a> to run this notebook interactively on Binder.</p>\n",
    "</div>\n",
    "\n",
    "# Getting started\n",
    "\n",
    "Welcome to Tranqu!\n",
    "\n",
    "This page explains how to install Tranqu and use it with basic operations."
   ]
  },
  {
   "cell_type": "markdown",
   "metadata": {},
   "source": [
    "First, install Tranqu."
   ]
  },
  {
   "cell_type": "code",
   "execution_count": null,
   "metadata": {},
   "outputs": [],
   "source": [
    "!pip install tranqu"
   ]
  },
  {
   "cell_type": "markdown",
   "metadata": {},
   "source": [
    "Import libraries and initialize the `Tranqu` class."
   ]
  },
  {
   "cell_type": "code",
   "execution_count": 1,
   "metadata": {},
   "outputs": [],
   "source": [
    "from tranqu import Tranqu\n",
    "\n",
    "tranqu = Tranqu()"
   ]
  },
  {
   "cell_type": "markdown",
   "metadata": {},
   "source": [
    "## Transpile using Tranqu\n",
    "\n",
    "Let's transpile Qiskit circuits using Qiskit. (This is a trivial example)\n",
    "\n",
    "First, we prepare a quantum circuit in Qiskit."
   ]
  },
  {
   "cell_type": "code",
   "execution_count": 2,
   "metadata": {},
   "outputs": [],
   "source": [
    "from qiskit import QuantumCircuit\n",
    "\n",
    "circuit = QuantumCircuit(2)\n",
    "circuit.h(0)\n",
    "circuit.cx(0, 1)\n",
    "circuit.measure_all()"
   ]
  },
  {
   "cell_type": "markdown",
   "metadata": {},
   "source": [
    "Next, we will transpile using the `transpile` function of Tranqu.\n",
    "\n",
    "We set the argument `program` to the previously created Qiskit `QuantumCircuit` as the input program.\n",
    "Since the input program is written in Qiskit, we set the argument `program_lib` to \"qiskit\".\n",
    "To use the Qiskit transpiler, we set the argument `transpiler_lib` to \"qiskit\".\n",
    "\n",
    "The return value of the `transpile` function is an instance of the `TranspileResult` class, which contains the transpilation results."
   ]
  },
  {
   "cell_type": "code",
   "execution_count": 3,
   "metadata": {},
   "outputs": [],
   "source": [
    "result = tranqu.transpile(\n",
    "    program=circuit,\n",
    "    program_lib=\"qiskit\",\n",
    "    transpiler_lib=\"qiskit\",\n",
    ")"
   ]
  },
  {
   "cell_type": "markdown",
   "metadata": {},
   "source": [
    "By accessing the `transpiled_program` property of the `TranspileResult` class, you can view the quantum circuit after transpilation.\n",
    "In this example, there is no change in the quantum circuit before and after transpilation.\n",
    "\n",
    "Since the input program was a Qiskit quantum circuit, the transpilation result is also a Qiskit quantum circuit."
   ]
  },
  {
   "cell_type": "code",
   "execution_count": 4,
   "metadata": {},
   "outputs": [
    {
     "name": "stdout",
     "output_type": "stream",
     "text": [
      "        ┌───┐      ░ ┌─┐   \n",
      "   q_0: ┤ H ├──■───░─┤M├───\n",
      "        └───┘┌─┴─┐ ░ └╥┘┌─┐\n",
      "   q_1: ─────┤ X ├─░──╫─┤M├\n",
      "             └───┘ ░  ║ └╥┘\n",
      "meas: 2/══════════════╩══╩═\n",
      "                      0  1 \n"
     ]
    }
   ],
   "source": [
    "print(result.transpiled_program)"
   ]
  },
  {
   "cell_type": "markdown",
   "metadata": {},
   "source": [
    "By accessing the `stats` property of the `TranspileResult` class, you can view the statistical information before and after the transpilation."
   ]
  },
  {
   "cell_type": "code",
   "execution_count": 5,
   "metadata": {},
   "outputs": [
    {
     "name": "stdout",
     "output_type": "stream",
     "text": [
      "{'before': {'n_qubits': 2, 'n_gates': 5, 'n_gates_1q': 3, 'n_gates_2q': 2, 'depth': 3}, 'after': {'n_qubits': 2, 'n_gates': 5, 'n_gates_1q': 3, 'n_gates_2q': 2, 'depth': 3}}\n"
     ]
    }
   ],
   "source": [
    "print(result.stats)"
   ]
  },
  {
   "cell_type": "markdown",
   "metadata": {},
   "source": [
    "By accessing the `virtual_physical_mapping` property of the `TranspileResult` class, you can check how the virtual qubit (or bit) indices were mapped to physical qubit (or bit) indices during the transpilation.  \n",
    "\n",
    "The keys of `qubit_mapping` (or `bit_mapping`) represent the virtual indices, and the values represent the physical indices."
   ]
  },
  {
   "cell_type": "code",
   "execution_count": 6,
   "metadata": {},
   "outputs": [
    {
     "name": "stdout",
     "output_type": "stream",
     "text": [
      "{'qubit_mapping': {0: 0, 1: 1}, 'bit_mapping': {0: 0, 1: 1}}\n"
     ]
    }
   ],
   "source": [
    "print(result.virtual_physical_mapping)"
   ]
  },
  {
   "cell_type": "markdown",
   "metadata": {},
   "source": [
    "## Set the transpiler options\n",
    "\n",
    "Set the arguments for Qiskit's `transpile` function in dict format to the transpiler_options argument of Tranqu's `transpile` function.\n",
    "This enables you to use the same arguments as those for Qiskit's `transpile` function.\n",
    "\n",
    "In this example, since `basis_gates` is set, the quantum circuit after transpilation does not include any H gates."
   ]
  },
  {
   "cell_type": "code",
   "execution_count": 7,
   "metadata": {},
   "outputs": [
    {
     "name": "stdout",
     "output_type": "stream",
     "text": [
      "global phase: π/4\n",
      "        ┌─────────┐┌────┐┌─────────┐      ░ ┌─┐   \n",
      "   q_0: ┤ Rz(π/2) ├┤ √X ├┤ Rz(π/2) ├──■───░─┤M├───\n",
      "        └─────────┘└────┘└─────────┘┌─┴─┐ ░ └╥┘┌─┐\n",
      "   q_1: ────────────────────────────┤ X ├─░──╫─┤M├\n",
      "                                    └───┘ ░  ║ └╥┘\n",
      "meas: 2/═════════════════════════════════════╩══╩═\n",
      "                                             0  1 \n"
     ]
    }
   ],
   "source": [
    "options = {\n",
    "    \"basis_gates\": [\"id\", \"sx\", \"x\", \"rz\", \"cx\"]\n",
    "}\n",
    "result = tranqu.transpile(\n",
    "    program=circuit,\n",
    "    program_lib=\"qiskit\",\n",
    "    transpiler_lib=\"qiskit\",\n",
    "    transpiler_options=options,\n",
    ")\n",
    "print(result.transpiled_program)"
   ]
  },
  {
   "cell_type": "markdown",
   "metadata": {},
   "source": [
    "By referring to `stats`, you can see that the number of gates has changed before and after transpilation."
   ]
  },
  {
   "cell_type": "code",
   "execution_count": 8,
   "metadata": {},
   "outputs": [
    {
     "name": "stdout",
     "output_type": "stream",
     "text": [
      "{'before': {'n_qubits': 2, 'n_gates': 5, 'n_gates_1q': 3, 'n_gates_2q': 2, 'depth': 3}, 'after': {'n_qubits': 2, 'n_gates': 7, 'n_gates_1q': 5, 'n_gates_2q': 2, 'depth': 5}}\n"
     ]
    }
   ],
   "source": [
    "print(result.stats)"
   ]
  },
  {
   "cell_type": "markdown",
   "metadata": {},
   "source": [
    "## Transpile OpenQASM3 program using Qiskit transpiler.\n",
    "\n",
    "Even if the input program and the transpiler are from different libraries, you can perform transpilation using Tranqu.\n",
    "\n",
    "Here, we input a program in OpenQASM 3 format and transpile it using Qiskit.\n",
    "Since the input is in OpenQASM 3, set the argument `program_lib` of the `transpile` function to \"openqasm3\"."
   ]
  },
  {
   "cell_type": "code",
   "execution_count": 9,
   "metadata": {},
   "outputs": [
    {
     "name": "stdout",
     "output_type": "stream",
     "text": [
      "OPENQASM 3.0;\n",
      "include \"stdgates.inc\";\n",
      "qubit[2] q;\n",
      "rz(pi/2) q[0];\n",
      "sx q[0];\n",
      "rz(pi/2) q[0];\n",
      "cx q[0], q[1];\n",
      "\n"
     ]
    }
   ],
   "source": [
    "program = \"\"\"OPENQASM 3.0;\n",
    "include \"stdgates.inc\";\n",
    "qubit[2] q;\n",
    "\n",
    "h q[0];\n",
    "cx q[0], q[1];\n",
    "\"\"\"\n",
    "\n",
    "result = tranqu.transpile(\n",
    "    program=program,\n",
    "    program_lib=\"openqasm3\",\n",
    "    transpiler_lib=\"qiskit\",\n",
    "    transpiler_options=options,\n",
    ")\n",
    "print(result.transpiled_program)"
   ]
  },
  {
   "cell_type": "markdown",
   "metadata": {},
   "source": [
    "## Transpile to be compatible with Qiskit's backend\n",
    "\n",
    "You can transpile to be compatible with Qiskit's backend.\n",
    "\n",
    "`FakeManilaV2` is a 5-qubit backend."
   ]
  },
  {
   "cell_type": "code",
   "execution_count": 10,
   "metadata": {},
   "outputs": [],
   "source": [
    "from qiskit_ibm_runtime.fake_provider import FakeManilaV2\n",
    "\n",
    "backend = FakeManilaV2()"
   ]
  },
  {
   "cell_type": "markdown",
   "metadata": {},
   "source": [
    "Set the argument `device` to Qiskit's Backend, and set the argument `device_lib` to \"qiskit\"."
   ]
  },
  {
   "cell_type": "code",
   "execution_count": 11,
   "metadata": {},
   "outputs": [
    {
     "name": "stdout",
     "output_type": "stream",
     "text": [
      "global phase: π/4\n",
      "               ┌─────────┐┌────┐┌─────────┐      ░ ┌─┐   \n",
      "      q_0 -> 0 ┤ Rz(π/2) ├┤ √X ├┤ Rz(π/2) ├──■───░─┤M├───\n",
      "               └─────────┘└────┘└─────────┘┌─┴─┐ ░ └╥┘┌─┐\n",
      "      q_1 -> 1 ────────────────────────────┤ X ├─░──╫─┤M├\n",
      "                                           └───┘ ░  ║ └╥┘\n",
      "ancilla_0 -> 2 ─────────────────────────────────────╫──╫─\n",
      "                                                    ║  ║ \n",
      "ancilla_1 -> 3 ─────────────────────────────────────╫──╫─\n",
      "                                                    ║  ║ \n",
      "ancilla_2 -> 4 ─────────────────────────────────────╫──╫─\n",
      "                                                    ║  ║ \n",
      "       meas: 2/═════════════════════════════════════╩══╩═\n",
      "                                                    0  1 \n"
     ]
    }
   ],
   "source": [
    "result = tranqu.transpile(\n",
    "    program=circuit,\n",
    "    program_lib=\"qiskit\",\n",
    "    transpiler_lib=\"qiskit\",\n",
    "    transpiler_options=options,\n",
    "    device=backend,\n",
    "    device_lib=\"qiskit\",\n",
    ")\n",
    "print(result.transpiled_program)"
   ]
  },
  {
   "cell_type": "markdown",
   "metadata": {},
   "source": [
    "## Transpile to be compatible with OQTOPUS device\n",
    "\n",
    "Let's try transpiling using the [OQTOPUS](https://github.com/oqtopus-team) device format.\n",
    "The OQTOPUS device is in dict format."
   ]
  },
  {
   "cell_type": "code",
   "execution_count": 12,
   "metadata": {},
   "outputs": [],
   "source": [
    "oqtopus_device = {\n",
    "    \"name\": \"fake_device\",\n",
    "    \"qubits\": [\n",
    "        {\n",
    "            \"id\": 0,\n",
    "            \"fidelity\": 0.90,\n",
    "            \"meas_error\": {\n",
    "                \"prob_meas1_prep0\": 0.01,\n",
    "                \"prob_meas0_prep1\": 0.02,\n",
    "            },\n",
    "            \"gate_duration\": {\"x\": 60.0, \"sx\": 30.0, \"rz\": 0},\n",
    "        },\n",
    "        {\n",
    "            \"id\": 1,\n",
    "            \"meas_error\": {\n",
    "                \"prob_meas1_prep0\": 0.01,\n",
    "                \"prob_meas0_prep1\": 0.02,\n",
    "            },\n",
    "            \"gate_duration\": {\"x\": 60.0, \"sx\": 30.0, \"rz\": 0},\n",
    "        },\n",
    "        {\n",
    "            \"id\": 2,\n",
    "            \"fidelity\": 0.99,\n",
    "            \"gate_duration\": {\"x\": 60.0, \"sx\": 30.0, \"rz\": 0},\n",
    "        },\n",
    "        {\n",
    "            \"id\": 3,\n",
    "            \"fidelity\": 0.99,\n",
    "            \"meas_error\": {\n",
    "                \"prob_meas1_prep0\": 0.01,\n",
    "                \"prob_meas0_prep1\": 0.02,\n",
    "            },\n",
    "        },\n",
    "    ],\n",
    "    \"couplings\": [\n",
    "        {\n",
    "            \"control\": 0,\n",
    "            \"target\": 2,\n",
    "            \"fidelity\": 0.8,\n",
    "            \"gate_duration\": {\"cx\": 60.0},\n",
    "        },\n",
    "        {\"control\": 0, \"target\": 1, \"fidelity\": 0.8},\n",
    "        {\"control\": 1, \"target\": 0, \"fidelity\": 0.25},\n",
    "        {\"control\": 1, \"target\": 3, \"fidelity\": 0.25},\n",
    "        {\"control\": 2, \"target\": 0, \"fidelity\": 0.25},\n",
    "        {\"control\": 2, \"target\": 3, \"fidelity\": 0.25},\n",
    "        {\"control\": 3, \"target\": 1, \"fidelity\": 0.9},\n",
    "        {\"control\": 3, \"target\": 2, \"fidelity\": 0.9},\n",
    "    ],\n",
    "    \"timestamp\": \"2024-10-31 14:03:48.568126\",\n",
    "}"
   ]
  },
  {
   "cell_type": "markdown",
   "metadata": {},
   "source": [
    "Set the argument `device` to OQTOPUS device, and set the argument `device_lib` to \"oqtopus\"."
   ]
  },
  {
   "cell_type": "code",
   "execution_count": 13,
   "metadata": {},
   "outputs": [
    {
     "name": "stdout",
     "output_type": "stream",
     "text": [
      "global phase: π/4\n",
      "               ┌─────────┐┌────┐┌─────────┐      ░ ┌─┐   \n",
      "      q_0 -> 0 ┤ Rz(π/2) ├┤ √X ├┤ Rz(π/2) ├──■───░─┤M├───\n",
      "               └─────────┘└────┘└─────────┘┌─┴─┐ ░ └╥┘┌─┐\n",
      "      q_1 -> 1 ────────────────────────────┤ X ├─░──╫─┤M├\n",
      "                                           └───┘ ░  ║ └╥┘\n",
      "ancilla_0 -> 2 ─────────────────────────────────────╫──╫─\n",
      "                                                    ║  ║ \n",
      "ancilla_1 -> 3 ─────────────────────────────────────╫──╫─\n",
      "                                                    ║  ║ \n",
      "       meas: 2/═════════════════════════════════════╩══╩═\n",
      "                                                    0  1 \n"
     ]
    }
   ],
   "source": [
    "result = tranqu.transpile(\n",
    "    program=circuit,\n",
    "    program_lib=\"qiskit\",\n",
    "    transpiler_lib=\"qiskit\",\n",
    "    transpiler_options=options,\n",
    "    device=oqtopus_device,\n",
    "    device_lib=\"oqtopus\",\n",
    ")\n",
    "print(result.transpiled_program)"
   ]
  },
  {
   "cell_type": "markdown",
   "metadata": {},
   "source": [
    "If you set the `optimization_level` of the Qiskit transpiler to 2, it will be transpiled using fidelity."
   ]
  },
  {
   "cell_type": "code",
   "execution_count": 14,
   "metadata": {},
   "outputs": [
    {
     "name": "stdout",
     "output_type": "stream",
     "text": [
      "global phase: π/4\n",
      "                                                         \n",
      "ancilla_0 -> 0 ──────────────────────────────────────────\n",
      "                                           ┌───┐ ░    ┌─┐\n",
      "      q_1 -> 1 ────────────────────────────┤ X ├─░────┤M├\n",
      "                                           └─┬─┘ ░    └╥┘\n",
      "ancilla_1 -> 2 ──────────────────────────────┼─────────╫─\n",
      "               ┌─────────┐┌────┐┌─────────┐  │   ░ ┌─┐ ║ \n",
      "      q_0 -> 3 ┤ Rz(π/2) ├┤ √X ├┤ Rz(π/2) ├──■───░─┤M├─╫─\n",
      "               └─────────┘└────┘└─────────┘      ░ └╥┘ ║ \n",
      "       meas: 2/═════════════════════════════════════╩══╩═\n",
      "                                                    0  1 \n"
     ]
    }
   ],
   "source": [
    "options_level2 = {\n",
    "    \"basis_gates\": [\"id\", \"sx\", \"x\", \"rz\", \"cx\"],\n",
    "    \"optimization_level\": 2,\n",
    "}\n",
    "result = tranqu.transpile(\n",
    "    program=circuit,\n",
    "    program_lib=\"qiskit\",\n",
    "    transpiler_lib=\"qiskit\",\n",
    "    transpiler_options=options_level2,\n",
    "    device=oqtopus_device,\n",
    "    device_lib=\"oqtopus\",\n",
    ")\n",
    "print(result.transpiled_program)"
   ]
  },
  {
   "cell_type": "markdown",
   "metadata": {},
   "source": [
    "Let's check the `virtual_physical_mapping` property."
   ]
  },
  {
   "cell_type": "code",
   "execution_count": 15,
   "metadata": {},
   "outputs": [
    {
     "name": "stdout",
     "output_type": "stream",
     "text": [
      "{'qubit_mapping': {0: 3, 1: 1}, 'bit_mapping': {0: 0, 1: 1}}\n"
     ]
    }
   ],
   "source": [
    "print(result.virtual_physical_mapping)"
   ]
  }
 ],
 "metadata": {
  "kernelspec": {
   "display_name": ".venv",
   "language": "python",
   "name": "python3"
  },
  "language_info": {
   "codemirror_mode": {
    "name": "ipython",
    "version": 3
   },
   "file_extension": ".py",
   "mimetype": "text/x-python",
   "name": "python",
   "nbconvert_exporter": "python",
   "pygments_lexer": "ipython3",
   "version": "3.12.6"
  }
 },
 "nbformat": 4,
 "nbformat_minor": 2
}

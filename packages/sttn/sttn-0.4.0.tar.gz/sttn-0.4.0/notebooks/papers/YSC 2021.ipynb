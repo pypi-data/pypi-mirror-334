{
 "cells": [
  {
   "cell_type": "code",
   "execution_count": 1,
   "id": "amber-comment",
   "metadata": {},
   "outputs": [],
   "source": [
    "# data format: city, state usps code, list of counties\n",
    "cities = [\n",
    "    ('New York City', 'ny', ['New York County, NY', 'Queens County, NY','Kings County, NY','Bronx County, NY','Richmond County, NY']),\n",
    "    ('Los Angeles', 'ca', ['Los Angeles County, CA']),\n",
    "    ('Chicago', 'il', ['Cook County, IL']),\n",
    "    ('Houston', 'tx', ['Harris County, TX']),\n",
    "    ('Boston', 'ma', ['Suffolk County, MA', 'Middlesex County, MA']),\n",
    "    ('Phoenix', 'az', ['Maricopa County, AZ']),\n",
    "    ('Philadelphia', 'pa', ['Philadelphia County, PA']),\n",
    "    ('San Antonio', 'tx', ['Bexar County, TX']),\n",
    "    ('San Diego', 'ca', ['San Diego County, CA']),\n",
    "    ('Dallas', 'tx', ['Dallas County, TX']),\n",
    "    ('San Jose', 'ca', ['Santa Clara County, CA']),\n",
    "    ('Austin', 'tx', ['Travis County, TX']),\n",
    "]"
   ]
  },
  {
   "cell_type": "code",
   "execution_count": 2,
   "id": "coastal-generation",
   "metadata": {},
   "outputs": [],
   "source": [
    "import math\n",
    "import pandas as pd\n",
    "import numpy as np\n",
    "import matplotlib.pyplot as plt\n",
    "import statsmodels.api as sm\n",
    "from sttn.network import SpatioTemporalNetwork\n",
    "from sttn.utils import add_distance\n",
    "from sklearn.metrics import mean_squared_error\n",
    "from skmob.models import Gravity\n",
    "import statsmodels.api as sm\n",
    "\n",
    "def compute_weights(network, job_column):\n",
    "    comp_aggs={job_column: 'sum'}\n",
    "    # outgoing=False corresponds to jobs, outgoing=True corresponds to population \n",
    "    jobs = network.agg_adjacent_edges(aggs=comp_aggs, outgoing=False).rename(columns={job_column: 'jobs'})\n",
    "    residence = network.agg_adjacent_edges(aggs=comp_aggs, outgoing=True).rename(columns={job_column: 'residence'})\n",
    "    edges = network.edges\n",
    "    \n",
    "    edges_with_weights = edges.join(residence, on='origin').join(jobs, on='destination')\n",
    "    return edges_with_weights\n",
    "    \n",
    "def fit_gravity_model(edges, job_column):\n",
    "    copy = edges.copy()\n",
    "    # replace zero values with 1\n",
    "    copy.loc[(copy['jobs'] == 0), 'jobs'] = 1 \n",
    "    copy.loc[(copy['residence'] == 0), 'residence'] = 1 \n",
    "    copy.loc[(copy['distance'] == 0), 'distance'] = 1 \n",
    "    \n",
    "    X = sm.add_constant(np.log(copy.distance))\n",
    "    y = np.log(copy[job_column]) - np.log(copy.jobs) - np.log(copy.residence)\n",
    "    \n",
    "    model = sm.OLS(y, X).fit()\n",
    "    return model\n",
    "\n",
    "def extract_model_exponents(network):\n",
    "    columns = ['SE01', 'SE03']\n",
    "    with_distance = add_distance(network)\n",
    "    filtered_network = with_distance.filter_edges((with_distance.edges.SE01 > 0) & (with_distance.edges.SE03 > 0))\n",
    "                                             \n",
    "    result = {}\n",
    "    for column in columns:\n",
    "        with_weights = compute_weights(filtered_network, column)\n",
    "        model = fit_gravity_model(with_weights, column)\n",
    "        conf_interval = model.conf_int(alpha=0.05, cols=None).loc['distance']\n",
    "        result[column] = model.params[1]\n",
    "        result[column + '_error'] = model.params[1] - conf_interval[0]\n",
    "        # variance = SD^2\n",
    "        result[column + '_variance'] = model.bse[1] * model.bse[1]\n",
    "    \n",
    "    return result"
   ]
  },
  {
   "cell_type": "code",
   "execution_count": null,
   "id": "miniature-classics",
   "metadata": {
    "scrolled": true
   },
   "outputs": [],
   "source": [
    "from sttn.data.lehd import OriginDestinationEmploymentDataProvider\n",
    "provider = OriginDestinationEmploymentDataProvider()\n",
    "\n",
    "model_weights = {}\n",
    "for city, state, conties in cities:\n",
    "    print('Processing {city}'.format(city=city))\n",
    "    state_network = provider.get_data(state=state, year=2018)\n",
    "    city_network = state_network.filter_nodes(state_network.nodes.county.isin(conties))\n",
    "    zip_city_network = city_network.group_nodes('zip')\n",
    "    city_network = zip_city_network.agg_parallel_edges(column_aggs={'S000': 'sum', 'SE01': 'sum', 'SE02': 'sum', 'SE03': 'sum'})\n",
    "    exponents = extract_model_exponents(city_network)\n",
    "    model_weights[city] = exponents"
   ]
  },
  {
   "cell_type": "markdown",
   "id": "47157484",
   "metadata": {},
   "source": [
    "## Compute CCDF values"
   ]
  },
  {
   "cell_type": "code",
   "execution_count": 6,
   "id": "f20a5000",
   "metadata": {},
   "outputs": [
    {
     "data": {
      "text/html": [
       "<style  type=\"text/css\" >\n",
       "</style><table id=\"T_cf55e_\" ><thead>    <tr>        <th class=\"blank level0\" ></th>        <th class=\"col_heading level0 col0\" >SE01</th>        <th class=\"col_heading level0 col1\" >SE03</th>        <th class=\"col_heading level0 col2\" >exponent_diff</th>        <th class=\"col_heading level0 col3\" >p_value</th>    </tr></thead><tbody>\n",
       "                <tr>\n",
       "                        <th id=\"T_cf55e_level0_row0\" class=\"row_heading level0 row0\" >New York City</th>\n",
       "                        <td id=\"T_cf55e_row0_col0\" class=\"data row0 col0\" >-0.918541</td>\n",
       "                        <td id=\"T_cf55e_row0_col1\" class=\"data row0 col1\" >-0.712740</td>\n",
       "                        <td id=\"T_cf55e_row0_col2\" class=\"data row0 col2\" >0.205801</td>\n",
       "                        <td id=\"T_cf55e_row0_col3\" class=\"data row0 col3\" >0.00000%</td>\n",
       "            </tr>\n",
       "            <tr>\n",
       "                        <th id=\"T_cf55e_level0_row1\" class=\"row_heading level0 row1\" >Los Angeles</th>\n",
       "                        <td id=\"T_cf55e_row1_col0\" class=\"data row1 col0\" >-1.039514</td>\n",
       "                        <td id=\"T_cf55e_row1_col1\" class=\"data row1 col1\" >-1.055264</td>\n",
       "                        <td id=\"T_cf55e_row1_col2\" class=\"data row1 col2\" >-0.015749</td>\n",
       "                        <td id=\"T_cf55e_row1_col3\" class=\"data row1 col3\" >1.80759%</td>\n",
       "            </tr>\n",
       "            <tr>\n",
       "                        <th id=\"T_cf55e_level0_row2\" class=\"row_heading level0 row2\" >Chicago</th>\n",
       "                        <td id=\"T_cf55e_row2_col0\" class=\"data row2 col0\" >-1.100565</td>\n",
       "                        <td id=\"T_cf55e_row2_col1\" class=\"data row2 col1\" >-1.017542</td>\n",
       "                        <td id=\"T_cf55e_row2_col2\" class=\"data row2 col2\" >0.083023</td>\n",
       "                        <td id=\"T_cf55e_row2_col3\" class=\"data row2 col3\" >0.00000%</td>\n",
       "            </tr>\n",
       "            <tr>\n",
       "                        <th id=\"T_cf55e_level0_row3\" class=\"row_heading level0 row3\" >Houston</th>\n",
       "                        <td id=\"T_cf55e_row3_col0\" class=\"data row3 col0\" >-0.952498</td>\n",
       "                        <td id=\"T_cf55e_row3_col1\" class=\"data row3 col1\" >-0.891831</td>\n",
       "                        <td id=\"T_cf55e_row3_col2\" class=\"data row3 col2\" >0.060667</td>\n",
       "                        <td id=\"T_cf55e_row3_col3\" class=\"data row3 col3\" >0.00000%</td>\n",
       "            </tr>\n",
       "            <tr>\n",
       "                        <th id=\"T_cf55e_level0_row4\" class=\"row_heading level0 row4\" >Boston</th>\n",
       "                        <td id=\"T_cf55e_row4_col0\" class=\"data row4 col0\" >-0.941609</td>\n",
       "                        <td id=\"T_cf55e_row4_col1\" class=\"data row4 col1\" >-0.759276</td>\n",
       "                        <td id=\"T_cf55e_row4_col2\" class=\"data row4 col2\" >0.182333</td>\n",
       "                        <td id=\"T_cf55e_row4_col3\" class=\"data row4 col3\" >0.00000%</td>\n",
       "            </tr>\n",
       "            <tr>\n",
       "                        <th id=\"T_cf55e_level0_row5\" class=\"row_heading level0 row5\" >Phoenix</th>\n",
       "                        <td id=\"T_cf55e_row5_col0\" class=\"data row5 col0\" >-0.805435</td>\n",
       "                        <td id=\"T_cf55e_row5_col1\" class=\"data row5 col1\" >-0.751514</td>\n",
       "                        <td id=\"T_cf55e_row5_col2\" class=\"data row5 col2\" >0.053921</td>\n",
       "                        <td id=\"T_cf55e_row5_col3\" class=\"data row5 col3\" >0.00088%</td>\n",
       "            </tr>\n",
       "            <tr>\n",
       "                        <th id=\"T_cf55e_level0_row6\" class=\"row_heading level0 row6\" >Philadelphia</th>\n",
       "                        <td id=\"T_cf55e_row6_col0\" class=\"data row6 col0\" >-0.795225</td>\n",
       "                        <td id=\"T_cf55e_row6_col1\" class=\"data row6 col1\" >-0.612299</td>\n",
       "                        <td id=\"T_cf55e_row6_col2\" class=\"data row6 col2\" >0.182926</td>\n",
       "                        <td id=\"T_cf55e_row6_col3\" class=\"data row6 col3\" >0.00000%</td>\n",
       "            </tr>\n",
       "            <tr>\n",
       "                        <th id=\"T_cf55e_level0_row7\" class=\"row_heading level0 row7\" >San Antonio</th>\n",
       "                        <td id=\"T_cf55e_row7_col0\" class=\"data row7 col0\" >-0.709283</td>\n",
       "                        <td id=\"T_cf55e_row7_col1\" class=\"data row7 col1\" >-0.583269</td>\n",
       "                        <td id=\"T_cf55e_row7_col2\" class=\"data row7 col2\" >0.126014</td>\n",
       "                        <td id=\"T_cf55e_row7_col3\" class=\"data row7 col3\" >0.00000%</td>\n",
       "            </tr>\n",
       "            <tr>\n",
       "                        <th id=\"T_cf55e_level0_row8\" class=\"row_heading level0 row8\" >San Diego</th>\n",
       "                        <td id=\"T_cf55e_row8_col0\" class=\"data row8 col0\" >-1.064132</td>\n",
       "                        <td id=\"T_cf55e_row8_col1\" class=\"data row8 col1\" >-0.969178</td>\n",
       "                        <td id=\"T_cf55e_row8_col2\" class=\"data row8 col2\" >0.094954</td>\n",
       "                        <td id=\"T_cf55e_row8_col3\" class=\"data row8 col3\" >0.00000%</td>\n",
       "            </tr>\n",
       "            <tr>\n",
       "                        <th id=\"T_cf55e_level0_row9\" class=\"row_heading level0 row9\" >Dallas</th>\n",
       "                        <td id=\"T_cf55e_row9_col0\" class=\"data row9 col0\" >-0.836295</td>\n",
       "                        <td id=\"T_cf55e_row9_col1\" class=\"data row9 col1\" >-0.793016</td>\n",
       "                        <td id=\"T_cf55e_row9_col2\" class=\"data row9 col2\" >0.043278</td>\n",
       "                        <td id=\"T_cf55e_row9_col3\" class=\"data row9 col3\" >1.57667%</td>\n",
       "            </tr>\n",
       "            <tr>\n",
       "                        <th id=\"T_cf55e_level0_row10\" class=\"row_heading level0 row10\" >San Jose</th>\n",
       "                        <td id=\"T_cf55e_row10_col0\" class=\"data row10 col0\" >-0.885607</td>\n",
       "                        <td id=\"T_cf55e_row10_col1\" class=\"data row10 col1\" >-0.645824</td>\n",
       "                        <td id=\"T_cf55e_row10_col2\" class=\"data row10 col2\" >0.239782</td>\n",
       "                        <td id=\"T_cf55e_row10_col3\" class=\"data row10 col3\" >0.00000%</td>\n",
       "            </tr>\n",
       "            <tr>\n",
       "                        <th id=\"T_cf55e_level0_row11\" class=\"row_heading level0 row11\" >Austin</th>\n",
       "                        <td id=\"T_cf55e_row11_col0\" class=\"data row11 col0\" >-0.725558</td>\n",
       "                        <td id=\"T_cf55e_row11_col1\" class=\"data row11 col1\" >-0.623015</td>\n",
       "                        <td id=\"T_cf55e_row11_col2\" class=\"data row11 col2\" >0.102543</td>\n",
       "                        <td id=\"T_cf55e_row11_col3\" class=\"data row11 col3\" >0.03261%</td>\n",
       "            </tr>\n",
       "    </tbody></table>"
      ],
      "text/plain": [
       "<pandas.io.formats.style.Styler at 0x7fd6497af460>"
      ]
     },
     "execution_count": 6,
     "metadata": {},
     "output_type": "execute_result"
    }
   ],
   "source": [
    "from statistics import NormalDist\n",
    "\n",
    "df = pd.DataFrame(model_weights).transpose()\n",
    "df['exponent_diff'] = df.SE03 - df.SE01\n",
    "# SD(high_exp - low_exp) = Srqt(Var(high_exp) + Var(low_exp))\n",
    "df['exponent_diff_sigma'] = np.sqrt(df['SE01_variance'] + df['SE03_variance'])\n",
    "# The Null hypothesis: exponents are the same for low and high-income groups\n",
    "# Under the Null hypothesis the exponent difference is a normally distributed variable with zero mean\n",
    "# We compute H0 p-value using the two tailed hypothesis test: p-val = CDF(-exp_diff) + CCDF(exp_diff)\n",
    "df['p_value'] = df.apply(lambda x: 1 - NormalDist(mu=0, sigma=x['exponent_diff_sigma']).cdf(abs(x['exponent_diff'])) + NormalDist(mu=0, sigma=x['exponent_diff_sigma']).cdf(-abs(x['exponent_diff'])), axis=1)\n",
    "df[['SE01', 'SE03', 'exponent_diff', 'p_value']].style.format({'p_value': \"{:.5%}\"})"
   ]
  },
  {
   "cell_type": "markdown",
   "id": "imposed-jefferson",
   "metadata": {},
   "source": [
    "## Visualize exponents and confidence intervals"
   ]
  },
  {
   "cell_type": "code",
   "execution_count": 5,
   "id": "e3a4e205",
   "metadata": {},
   "outputs": [
    {
     "data": {
      "image/png": "[encoded data removed]",
      "text/plain": [
       "<Figure size 1152x576 with 1 Axes>"
      ]
     },
     "metadata": {
      "needs_background": "light"
     },
     "output_type": "display_data"
    }
   ],
   "source": [
    "exponents = df[['SE01', 'SE03']].copy()\n",
    "exponents.SE01 = -exponents.SE01\n",
    "exponents.SE03 = -exponents.SE03\n",
    "exponents = exponents.rename(columns={'SE01':'low income', 'SE03':'high income'})\n",
    "errors = df[['SE01_error', 'SE03_error']].rename(columns={'SE01_error':'low income','SE03_error':'high income'})\n",
    "\n",
    "fig, ax = plt.subplots(figsize=(16,8))\n",
    "exponents.plot.bar(yerr=errors, ax=ax, capsize=4, rot=0);"
   ]
  },
  {
   "cell_type": "markdown",
   "id": "47e9c38a",
   "metadata": {},
   "source": [
    "## Visualize the difference between low and high income exponents"
   ]
  },
  {
   "cell_type": "code",
   "execution_count": 12,
   "id": "ebe28520",
   "metadata": {},
   "outputs": [
    {
     "data": {
      "text/plain": [
       "<AxesSubplot:xlabel='City', ylabel='p-value'>"
      ]
     },
     "execution_count": 12,
     "metadata": {},
     "output_type": "execute_result"
    },
    {
     "data": {
      "image/png": "[encoded data removed]",
      "text/plain": [
       "<Figure size 1152x576 with 2 Axes>"
      ]
     },
     "metadata": {
      "needs_background": "light"
     },
     "output_type": "display_data"
    }
   ],
   "source": [
    "delta = df[df.index != 'Los Angeles'].sort_values('exponent_diff').reset_index().rename(columns={'index':'City'})\n",
    "delta['p_value'] = delta['p_value'].clip(0.000000001, None)\n",
    "fig, ax = plt.subplots(figsize=(16,8))\n",
    "ax.set_ylabel('low_income_exponent - high_income_exponent', color=\"#1f77b4\")\n",
    "delta.plot.bar(x='City', y='exponent_diff', ax=ax, capsize=4, rot=0, label='exponent difference', position=0, width=0.4)\n",
    "ax2=ax.twinx()\n",
    "ax2.set_ylabel('p-value', color=\"red\")\n",
    "ax2.set_yscale('log')\n",
    "ax2.set_ylim([0.0000000001, 0.1])\n",
    "delta.plot.bar(x='City', y='p_value', ax=ax2, capsize=4, rot=0, label='p-value', position=1, color='red', width=0.4)"
   ]
  },
  {
   "cell_type": "code",
   "execution_count": null,
   "id": "f65afe88",
   "metadata": {},
   "outputs": [],
   "source": []
  }
 ],
 "metadata": {
  "kernelspec": {
   "display_name": "Python 3",
   "language": "python",
   "name": "python3"
  },
  "language_info": {
   "codemirror_mode": {
    "name": "ipython",
    "version": 3
   },
   "file_extension": ".py",
   "mimetype": "text/x-python",
   "name": "python",
   "nbconvert_exporter": "python",
   "pygments_lexer": "ipython3",
   "version": "3.8.6"
  }
 },
 "nbformat": 4,
 "nbformat_minor": 5
}

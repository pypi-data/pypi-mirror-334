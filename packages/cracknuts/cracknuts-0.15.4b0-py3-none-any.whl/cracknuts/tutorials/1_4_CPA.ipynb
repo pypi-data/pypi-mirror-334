{
 "cells": [
  {
   "cell_type": "markdown",
   "id": "9776f3c1-9982-4810-9a6d-26847a56a7e1",
   "metadata": {},
   "source": [
    "# 相关能量分析（CPA）介绍\n",
    "这里以AES算法为例来介绍CPA"
   ]
  },
  {
   "cell_type": "markdown",
   "id": "9b788248-25e4-4aa1-9966-65e887f7a004",
   "metadata": {},
   "source": [
    "---\n",
    "## AES算法简介\n",
    "AES是由美国国家标准与技术研究院（NIST）在2001年发布的，旨在取代早期的DES标准，提供更高安全性的加密方法。AES是一种对称加密算法,它支持128位、192位和256位的密钥长度，对应的轮数为10，12，14轮。"
   ]
  },
  {
   "cell_type": "markdown",
   "id": "1a05b948-ad68-4cb3-98bc-20b43c886b74",
   "metadata": {},
   "source": [
    "### AES工作原理  \n",
    "AES算法通过多轮次的置换-置换网络（SPN）结构来实现加密过程，在第一轮之前，AES先将明文与白化密钥相异或。每轮操作包括以下四个步骤（最后一轮不做列混合）：\n",
    "\n",
    "- 字节替换（SubBytes）：使用S盒进行非线性置换，增加数据混淆。  \n",
    "- 行移位（ShiftRows）：不同行进行循环左移，进一步扩散数据。  \n",
    "- 列混合（MixColumns）：除最后一轮外，使用固定矩阵进行乘法运算，混淆数据。  \n",
    "- 轮密钥加（AddRoundKey）：将轮密钥与数据块进行异或运算，融入密钥信息"
   ]
  },
  {
   "cell_type": "markdown",
   "id": "3267c9db-8707-4319-8fed-f6a0ecfe3e23",
   "metadata": {},
   "source": [
    "字节替换的示例图如下：\n",
    "\n",
    "![AES字节替换](http://5b0988e595225.cdn.sohucs.com/images/20171027/500ec31d0b9b4710826fc05a3de699db.png \"AES S盒\")"
   ]
  },
  {
   "cell_type": "markdown",
   "id": "21a6aa19-119d-4214-b11d-8eb96e57e6a9",
   "metadata": {},
   "source": [
    "行移位示意图：\n",
    "\n",
    "![AES行移位](http://5b0988e595225.cdn.sohucs.com/images/20171027/2fd25929f10d427f9c944b4f8ea4eee7.jpeggg)"
   ]
  },
  {
   "cell_type": "markdown",
   "id": "7ba46aa4-ce5e-402b-9840-cb52084d9adc",
   "metadata": {},
   "source": [
    "列混合示意图：\n",
    "\n",
    "![AES列混合](http://5b0988e595225.cdn.sohucs.com/images/20171027/d6b8627a54e241acb546ed9b83f00be7.jpeg)"
   ]
  },
  {
   "cell_type": "markdown",
   "id": "79319128-7fef-44c8-9751-42bce01efe32",
   "metadata": {},
   "source": [
    "轮密钥异或示意图：\n",
    "\n",
    "![AES轮密钥异或](http://5b0988e595225.cdn.sohucs.com/images/20171027/398a34643dc84307a5737eadb40aaeca.jpeg)"
   ]
  },
  {
   "cell_type": "markdown",
   "id": "bcb230ed-8750-462c-9e54-48c25420db10",
   "metadata": {},
   "source": [
    "## CPA分析的位置"
   ]
  },
  {
   "cell_type": "markdown",
   "id": "27e066e4-a88a-4c13-8811-2c71599ed7c6",
   "metadata": {},
   "source": [
    "由于我们的分析对象是软件实现的AES，为了便于进行CPA分析的演示和说明，我们以第一轮字节替换层的输出为对象进行分析，使用的泄漏模型为汉明重量模型，即计算第一轮S盒的输出汉明重量HW$(S(p \\oplus k))$与曲线的相关系数。其中$p$为明文的一个字节，$k$为猜测的白化密钥的一个字节。"
   ]
  },
  {
   "cell_type": "markdown",
   "id": "a9df2bb6-8e4f-4d62-94a2-d7fb0ee1d56f",
   "metadata": {},
   "source": [
    "相关系数是衡量两个变量之间线性关系强度和方向的统计量。在CPA（Correlation Power Analysis）攻击中，通常使用皮尔逊相关系数（Pearson Correlation Coefficient）来衡量实际测量的能量迹与根据猜测密钥计算的预期功耗之间的相关性。\n"
   ]
  },
  {
   "cell_type": "markdown",
   "id": "5bb4331c-05e5-4a9d-8cfa-683ce88f2dd9",
   "metadata": {},
   "source": [
    "皮尔逊相关系数的计算公式如下：\n",
    "\n",
    "$$\n",
    "        r_{i,j} = \\frac{\\sum_{d=1}^{D} (h_{d,i} - \\bar{h}_i)(t_{d,j} - \\bar{t}_j)}{\\sqrt{\\sum_{d=1}^{D} (h_{d,i} - \\bar{h}_i)^2 \\sum_{d=1}^{D} (t_{d,j} - \\bar{t}_j)^2}}\n",
    "$$"
   ]
  },
  {
   "cell_type": "markdown",
   "id": "47e05e53-e051-4f4f-9d17-17d147838254",
   "metadata": {},
   "source": [
    "其中：\n",
    "* $r_{i,j}$ 是相关系数。\n",
    "* $ h_{d,i} $ 是第 $ d $ 个样本在第 $ i $ 个猜测密钥下的汉明重量。\n",
    "* $ \\bar{h}_i $ 是第 $ i $ 个猜测密钥下所有样本的汉明重量的平均值。\n",
    "* $ t_{d,j} $ 是第 $ d $ 个能量迹在第 $ j $ 个时间点的功耗值。\n",
    "* $ \\bar{t}_j $ 是所有能量迹在第 $ j $ 个时间点的功耗值的平均值。\n",
    "* $ D $ 是样本数量或时间点的数量。"
   ]
  },
  {
   "cell_type": "markdown",
   "id": "d16dfcf4-f0df-4be4-ac2a-0297905d53e4",
   "metadata": {},
   "source": [
    "相关系数的值范围在 -1 到 1 之间，其中： \n",
    "* 1 表示完全正相关，即随着一个变量的增加，另一个变量也增加。\n",
    "* -1 表示完全负相关，即随着一个变量的增加，另一个变量减少。\n",
    "* 0 表示没有线性相关。"
   ]
  },
  {
   "cell_type": "markdown",
   "id": "956f28e1-41d5-4f97-a979-d882fd952059",
   "metadata": {},
   "source": [
    "在CPA攻击中，攻击者会计算每个猜测密钥的相关系数，并寻找最高值，这个最高值对应的猜测密钥很可能是正确的密钥。"
   ]
  },
  {
   "cell_type": "markdown",
   "id": "829c2ee9-b31a-4488-956e-6ff023920b0c",
   "metadata": {},
   "source": [
    "### NUT的AES实现"
   ]
  },
  {
   "cell_type": "markdown",
   "id": "cd44f69b-a79e-4543-959f-a1ff88d83178",
   "metadata": {},
   "source": [
    "NUT的无防护的AES实现使用的是mbedTLS的查小表实现。对于这种实现，对其进行CPA分析时，与教科书AES实现（即前面所讲的AES实现）是一样的。"
   ]
  },
  {
   "cell_type": "markdown",
   "id": "162d4339-4e7e-468d-9e3d-acb47aff27e3",
   "metadata": {},
   "source": [
    "### 能量迹采集\n",
    "采集的过程见参 [采集过程](temp.ipynb)"
   ]
  },
  {
   "cell_type": "markdown",
   "id": "bd26f96e-eeb8-43de-a0bd-197f79527f1f",
   "metadata": {},
   "source": [
    "采集出来的能量迹曲线如下图所示"
   ]
  },
  {
   "cell_type": "code",
   "execution_count": null,
   "id": "e2ced2e4-868d-4dcd-93fb-9fc7f070184c",
   "metadata": {},
   "outputs": [],
   "source": [
    "from cracknuts.trace.trace import ScarrTraceDataset\n",
    "import cracknuts as cn\n",
    "\n",
    "# 以下数据集可通过 `https://pan.baidu.com/s/1cPqDNcDX8uWenHYxRCuPmA 提取码: pdyn`进行下载， 下载后，将如下路径替换为你的路径。\n",
    "scarr_trace_dataset = ScarrTraceDataset.load(r\"D:\\dataset\\20241020094826.zarr\")\n",
    "tap = cn.panel_trace()\n",
    "tap.set_trace_dataset(scarr_trace_dataset)\n",
    "tap"
   ]
  },
  {
   "cell_type": "markdown",
   "id": "49a084f3-a35a-44d9-9e64-510ac8696599",
   "metadata": {},
   "source": [
    "## CPA分析展示"
   ]
  },
  {
   "cell_type": "markdown",
   "id": "18cf7f2e-b8a8-4bd2-92fe-413d1aff240f",
   "metadata": {},
   "source": [
    "> 下面使用scarr库（https://github.com/decryptofy/scarr.git） 来进行AES的CPA分析展示。  \n",
    "> python版本要求：python 3.10以上  \n",
    "> 依赖包安装过程：  \n",
    "> git clone https://github.com/decryptofy/scarr.git  \n",
    "> cd scarr  \n",
    "> pip install ."
   ]
  },
  {
   "cell_type": "code",
   "execution_count": null,
   "id": "8681553c-3bbb-4353-8acf-c58786c8c885",
   "metadata": {},
   "outputs": [],
   "source": [
    "from scarr.engines.cpa import CPA as cpa\n",
    "from scarr.file_handling.trace_handler import TraceHandler as th\n",
    "from scarr.model_values.sbox_weight import SboxWeight\n",
    "from scarr.container.container import Container, ContainerOptions\n",
    "import numpy as np\n",
    "from smartcard.util import toHexString, toBytes\n",
    "# import zarr"
   ]
  },
  {
   "cell_type": "markdown",
   "id": "9a210816-d766-4e4c-bdec-be9a91cea15c",
   "metadata": {},
   "source": [
    "指定要分析的能量迹文件："
   ]
  },
  {
   "cell_type": "code",
   "execution_count": null,
   "id": "45e60674-f5f4-4e98-90b7-2f16e693fb5a",
   "metadata": {},
   "outputs": [],
   "source": [
    "# dataset_name = 'aes_nut1.zarr'\n",
    "dataset_name = r'D:\\dataset\\20241020094826.zarr'"
   ]
  },
  {
   "cell_type": "code",
   "execution_count": null,
   "id": "77c37362-9985-45d9-84cf-544a71d2bfe4",
   "metadata": {},
   "outputs": [],
   "source": [
    "handler2 = th(fileName=dataset_name) "
   ]
  },
  {
   "cell_type": "markdown",
   "id": "bf8af2df-75e0-4445-a607-7619f115d548",
   "metadata": {},
   "source": [
    "分析模型为汉明重量模型："
   ]
  },
  {
   "cell_type": "code",
   "execution_count": null,
   "id": "fdd1e0df-9fea-4397-861c-69bdd7199c23",
   "metadata": {},
   "outputs": [],
   "source": [
    "model = SboxWeight() \n",
    "engine2 = cpa(model)"
   ]
  },
  {
   "cell_type": "markdown",
   "id": "eda1ad80-c9d5-473a-9668-2d270dedecf7",
   "metadata": {},
   "source": [
    "对所有16个密钥字节进行分析："
   ]
  },
  {
   "cell_type": "code",
   "execution_count": null,
   "id": "372055ef-5987-44a5-9dce-2f2928970d55",
   "metadata": {},
   "outputs": [],
   "source": [
    "container2 = Container(options=ContainerOptions(engine=engine2, handler=handler2), model_positions = [x for x in range(16)])\n",
    "container2.run()"
   ]
  },
  {
   "cell_type": "markdown",
   "id": "d30b39c4-ff69-433a-bb27-c18bc09109f8",
   "metadata": {},
   "source": [
    "获取所计算出来的相关系数矩阵，存于变量results2中："
   ]
  },
  {
   "cell_type": "code",
   "execution_count": null,
   "id": "0d108407-2c18-4509-a8aa-a1618afe6e38",
   "metadata": {},
   "outputs": [],
   "source": [
    "results2 = container2.engine.get_result()"
   ]
  },
  {
   "cell_type": "markdown",
   "id": "7d35ccf0-8ee6-4e33-8a64-fa1be45e64cd",
   "metadata": {},
   "source": [
    "获取每个字节最大相关系数所对应的密钥，存于results中："
   ]
  },
  {
   "cell_type": "code",
   "execution_count": null,
   "id": "467268cd-0031-4a3f-a612-6e85dc247b2b",
   "metadata": {},
   "outputs": [],
   "source": [
    "results = np.squeeze(engine2.get_candidate())"
   ]
  },
  {
   "cell_type": "markdown",
   "id": "282d28ce-af1c-427f-990e-399f6972306c",
   "metadata": {},
   "source": [
    "results存储的是各个字节的密钥的计算结果，我们将其以16进制打印出来，可见是正确的密钥。"
   ]
  },
  {
   "cell_type": "code",
   "execution_count": null,
   "id": "a57d496b-6a14-4d52-a7b2-e4958eab557b",
   "metadata": {},
   "outputs": [],
   "source": [
    "toHexString(list(results))"
   ]
  },
  {
   "cell_type": "markdown",
   "id": "0f947954-2cbb-4115-ac46-8d74d8dfcd5a",
   "metadata": {},
   "source": [
    "将第0字节所对应的相关系数矩阵取出，并存于变量result中，以方便后面的演示："
   ]
  },
  {
   "cell_type": "code",
   "execution_count": null,
   "id": "a548cd77-5a34-42e8-a5f0-30ac2549d24d",
   "metadata": {},
   "outputs": [],
   "source": [
    "result = np.squeeze(results2)\n",
    "result = result[0]"
   ]
  },
  {
   "cell_type": "code",
   "execution_count": null,
   "id": "339b1686-471e-4206-83d1-66cffe39d91e",
   "metadata": {},
   "outputs": [],
   "source": [
    "candidate = [None for _ in range(result.shape[0])]\n",
    "\n",
    "for i in range(result.shape[0]):\n",
    "    candidate[i] = np.unravel_index(np.abs(result[i, :]).argmax(), result[i, :].shape[0:])[0]"
   ]
  },
  {
   "cell_type": "code",
   "execution_count": null,
   "id": "04ea3945-42a0-48fa-b8ea-29b43e167a26",
   "metadata": {},
   "outputs": [],
   "source": [
    "candidates = np.empty(256, dtype=np.float64)\n",
    "for k in range(256):\n",
    "    candidates[k] = result[k,candidate[k]]\n",
    "ck = np.abs(candidates).argmax()"
   ]
  },
  {
   "cell_type": "markdown",
   "id": "8ead1518-fcbc-4612-86fe-9a2ce34de1fd",
   "metadata": {},
   "source": [
    "把第0字节相关性最大的前10个相关系数及其对应的密钥猜测值打印出来。这10个密钥即为这个字节的前10个密钥候选值。一般来说，第1个候选值所对应的相关系数如果和第2候选值相差较大，我们便认为它是正确的密钥。"
   ]
  },
  {
   "cell_type": "code",
   "execution_count": null,
   "id": "de3f9d2f-f90c-4f7a-9f0a-00c16b036577",
   "metadata": {},
   "outputs": [],
   "source": [
    "for _i in range(0, 10):\n",
    "    print('第',str(_i+1),'个候选值：',hex(np.abs(candidates).argsort()[::-1][_i]),'， 对应的相关系数为：',str(candidates[np.abs(candidates).argsort()[::-1][_i]]))\n"
   ]
  },
  {
   "cell_type": "code",
   "execution_count": null,
   "id": "4b07296a-6d2b-4db5-bcdb-546eb04f7678",
   "metadata": {},
   "outputs": [],
   "source": [
    "# 定义一个高亮显示key的函数\n",
    "\n",
    "import matplotlib.pyplot as plt\n",
    "\n",
    "def show_key(trace, highlight_index=None):\n",
    "\n",
    "    x = np.arange(trace.shape[1])\n",
    "    \n",
    "    plt.figure(figsize=(36, 4))\n",
    "    \n",
    "    for i in range(trace.shape[0]):\n",
    "        if highlight_index and i == highlight_index:\n",
    "            continue\n",
    "        plt.plot(x, trace[i], linewidth=1, color='gray' if highlight_index else None)\n",
    "\n",
    "    if highlight_index:\n",
    "        plt.plot(x, trace[highlight_index], linewidth=1, color='red')\n",
    "        \n",
    "    plt.show()"
   ]
  },
  {
   "cell_type": "markdown",
   "id": "157cf343-bc94-4a9a-84c3-4b41f0ab30ab",
   "metadata": {},
   "source": [
    "把第0个字节的256个密钥猜测下的相关系数曲线画出来。正确密钥用红色画出，其它密钥用灰色画出。可以看出正确密钥对应的相关系数曲线存在最明显的尖峰。"
   ]
  },
  {
   "cell_type": "code",
   "execution_count": null,
   "id": "f2817246-e54c-4185-9da0-1738f22d453d",
   "metadata": {},
   "outputs": [],
   "source": [
    "# from bokeh.plotting import figure, show, output_notebook\n",
    "# from bokeh.models import ColumnDataSource, HoverTool\n",
    "\n",
    "# output_notebook() \n",
    "\n",
    "# p = figure(width=1000, height=200, title=\"分析结果展示\", output_backend=\"webgl\")\n",
    "# for _i in range(0, 256):\n",
    "#     p.line(np.arange(0, 20480), results2[0,0,0,_i,:].T, color='gray')\n",
    "# p.line(np.arange(0, 20480), results2[0,0,0,0x11,:].T, color=\"red\")\n",
    "# hover = HoverTool()\n",
    "# hover.tooltips = [\n",
    "#     (\"index\", \"$index\"),\n",
    "#     (\"(x,y)\", \"($x, $y)\"),\n",
    "# ]\n",
    "# p.add_tools(hover)\n",
    "# show(p)"
   ]
  },
  {
   "cell_type": "code",
   "execution_count": null,
   "id": "e793fa10-9465-4061-b94a-d618031f6a89",
   "metadata": {},
   "outputs": [],
   "source": [
    "show_key(results2[0,0,0], 0x11)"
   ]
  },
  {
   "cell_type": "markdown",
   "id": "74261c7b-82da-4791-9d15-a55bdf08c3ee",
   "metadata": {},
   "source": [
    "把第1个字节的256个密钥猜测下的相关系数曲线画出来。正确密钥用红色画出，其它密钥用灰色画出。可以看出正确密钥对应的相关系数曲线存在最明显的尖峰。"
   ]
  },
  {
   "cell_type": "code",
   "execution_count": null,
   "id": "28a42059-5285-4f60-a437-023454a8fb27",
   "metadata": {},
   "outputs": [],
   "source": [
    "# p = figure(width=1000, height=200, title=\"分析结果展示\")\n",
    "# for _i in range(0, 256):\n",
    "#     p.line(np.arange(0, 20480), results2[0,1,0,_i,:].T, color='gray')\n",
    "# p.line(np.arange(0, 20480), results2[0,1,0,0x22,:].T, color=\"red\")\n",
    "# hover = HoverTool()\n",
    "# hover.tooltips = [\n",
    "#     (\"index\", \"$index\"),\n",
    "#     (\"(x,y)\", \"($x, $y)\"),\n",
    "# ]\n",
    "# p.add_tools(hover)\n",
    "# show(p)"
   ]
  },
  {
   "cell_type": "code",
   "execution_count": null,
   "id": "7e44a1cc-37c1-4639-bc25-46df14b8e6ed",
   "metadata": {},
   "outputs": [],
   "source": [
    "show_key(results2[0,1,0], 0x22)"
   ]
  },
  {
   "cell_type": "markdown",
   "id": "fe4edd90-bc55-4ec4-82d0-43da7dafd2bf",
   "metadata": {},
   "source": [
    "把第2个字节的256个密钥猜测下的相关系数曲线画出来。正确密钥用红色画出，其它密钥用灰色画出。可以看出正确密钥对应的相关系数曲线存在最明显的尖峰。"
   ]
  },
  {
   "cell_type": "code",
   "execution_count": null,
   "id": "389f229b-8810-4688-9a5c-3234dd301648",
   "metadata": {},
   "outputs": [],
   "source": [
    "# p = figure(width=1000, height=200, title=\"分析结果展示\")\n",
    "# for _i in range(0, 256):\n",
    "#     p.line(np.arange(0, 20480), results2[0,2,0,_i,:].T, color='gray')\n",
    "# p.line(np.arange(0, 20480), results2[0,2,0,0x33,:].T, color=\"red\")\n",
    "# hover = HoverTool()\n",
    "# hover.tooltips = [\n",
    "#     (\"index\", \"$index\"),\n",
    "#     (\"(x,y)\", \"($x, $y)\"),\n",
    "# ]\n",
    "# p.add_tools(hover)\n",
    "# show(p)"
   ]
  },
  {
   "cell_type": "code",
   "execution_count": null,
   "id": "44e7c230-a135-481c-8321-92fa86e90e02",
   "metadata": {},
   "outputs": [],
   "source": [
    "show_key(results2[0,2,0], 0x11)"
   ]
  },
  {
   "cell_type": "markdown",
   "id": "7b90898b-9ac2-4ecb-8512-f81a45e4f66c",
   "metadata": {},
   "source": [
    "把所有16个字节正确密钥对应的相关系数曲线画出来，以便观察它们的时间点。"
   ]
  },
  {
   "cell_type": "code",
   "execution_count": null,
   "id": "62e3f527-a301-4528-ab20-7b56ce73edee",
   "metadata": {},
   "outputs": [],
   "source": [
    "from bokeh.plotting import figure, show, output_notebook\n",
    "from bokeh.models import ColumnDataSource, HoverTool\n",
    "\n",
    "p = figure(width=1000, height=200, title=\"分析结果展示\")\n",
    "p.line(np.arange(0, 20480), results2[0,0,0,0x11,:].T)\n",
    "p.line(np.arange(0, 20480), results2[0,1,0,0x22,:].T)\n",
    "p.line(np.arange(0, 20480), results2[0,2,0,0x33,:].T)\n",
    "p.line(np.arange(0, 20480), results2[0,3,0,0x44,:].T)\n",
    "p.line(np.arange(0, 20480), results2[0,4,0,0x55,:].T)\n",
    "p.line(np.arange(0, 20480), results2[0,5,0,0x66,:].T)\n",
    "p.line(np.arange(0, 20480), results2[0,6,0,0x77,:].T)\n",
    "p.line(np.arange(0, 20480), results2[0,7,0,0x88,:].T)\n",
    "p.line(np.arange(0, 20480), results2[0,8,0,0x99,:].T)\n",
    "p.line(np.arange(0, 20480), results2[0,9,0,0x00,:].T)\n",
    "p.line(np.arange(0, 20480), results2[0,10,0,0xaa,:].T)\n",
    "p.line(np.arange(0, 20480), results2[0,11,0,0xbb,:].T)\n",
    "p.line(np.arange(0, 20480), results2[0,12,0,0xcc,:].T)\n",
    "p.line(np.arange(0, 20480), results2[0,13,0,0xdd,:].T)\n",
    "p.line(np.arange(0, 20480), results2[0,14,0,0xee,:].T)\n",
    "p.line(np.arange(0, 20480), results2[0,15,0,0xff,:].T)\n",
    "hover = HoverTool()\n",
    "hover.tooltips = [\n",
    "    (\"index\", \"$index\"),\n",
    "    (\"(x,y)\", \"($x, $y)\"),\n",
    "]\n",
    "p.add_tools(hover)\n",
    "show(p)"
   ]
  },
  {
   "cell_type": "code",
   "execution_count": null,
   "id": "0cf41338-2453-4dc7-ae3a-d64b12d64513",
   "metadata": {},
   "outputs": [],
   "source": [
    "# show_key(np.vstack((\n",
    "#     results2[0,0,0,0x11,:],\n",
    "#     results2[0,1,0,0x22,:],\n",
    "#     results2[0,2,0,0x33,:],\n",
    "#     results2[0,3,0,0x44,:],\n",
    "#     results2[0,4,0,0x55,:],\n",
    "#     results2[0,5,0,0x66,:],\n",
    "#     results2[0,6,0,0x77,:],\n",
    "#     results2[0,7,0,0x88,:],\n",
    "#     results2[0,8,0,0x99,:],\n",
    "#     results2[0,9,0,0x00,:],\n",
    "#     results2[0,10,0,0xaa,:],\n",
    "#     results2[0,11,0,0xbb,:],\n",
    "#     results2[0,12,0,0xcc,:],\n",
    "#     results2[0,13,0,0xdd,:],\n",
    "#     results2[0,14,0,0xee,:],\n",
    "#     results2[0,15,0,0xff,:],\n",
    "# )))"
   ]
  }
 ],
 "metadata": {
  "kernelspec": {
   "display_name": "Python 3 (ipykernel)",
   "language": "python",
   "name": "python3"
  },
  "language_info": {
   "codemirror_mode": {
    "name": "ipython",
    "version": 3
   },
   "file_extension": ".py",
   "mimetype": "text/x-python",
   "name": "python",
   "nbconvert_exporter": "python",
   "pygments_lexer": "ipython3",
   "version": "3.12.8"
  }
 },
 "nbformat": 4,
 "nbformat_minor": 5
}

{
 "cells": [
  {
   "cell_type": "code",
   "execution_count": null,
   "metadata": {},
   "outputs": [],
   "source": [
    "import input_table"
   ]
  },
  {
   "cell_type": "code",
   "execution_count": null,
   "metadata": {},
   "outputs": [],
   "source": [
    "input_table.create_input_table()"
   ]
  },
  {
   "cell_type": "code",
   "execution_count": null,
   "metadata": {},
   "outputs": [],
   "source": []
  },
  {
   "cell_type": "code",
   "execution_count": 2,
   "metadata": {
    "JPSL": {
     "input_table_cell": true
    },
    "editable": false
   },
   "outputs": [
    {
     "data": {
      "text/html": [
       "<table class=\"input_table\" id=\"it_1630948697650\"><caption style=\"font-weight:bold;font-size:1.5em;color:darkkhaki\">Test 2</caption><tbody> <tr class=\"input_table r0\">  <th class=\"input_table r0 c0\"><select class=\"form-control table-actions\" onchange=\"var lastvalue = this.value;this.value = &quot;Table Actions&quot;;if(lastvalue==&quot;Edit Data&quot;){edit_input_table(&quot;it_1630948697650&quot;);}if(lastvalue==&quot;Data to Pandas...&quot;){data_table_to_Pandas(&quot;it_1630948697650&quot;);}\"><option title=\"Things you can do to this table.\">Table Actions</option><option title=\"Start editing the data.\">Edit Data</option><option title=\"Create a Panda DataFrame from table.\">Data to Pandas...</option></select></th><th class=\"input_table r0 c1\"><span class=\"table_label\">Long heading number 1</span></th><th class=\"input_table r0 c2\"><span class=\"table_label\">Long heading number 2</span></th><th class=\"input_table r0 c3\"><span class=\"table_label\">Long heading number 3</span></th><th class=\"input_table r0 c4\"><span class=\"table_label\">Long heading number 4</span></th><th class=\"input_table r0 c5\"><span class=\"table_label\">Long heading number 5</span></th><th class=\"input_table r0 c6\"><span class=\"table_label\">Long heading number 6</span></th><th class=\"input_table r0 c7\"><span class=\"table_label\">Long heading number 7</span></th><th class=\"input_table r0 c8\"><span class=\"table_label\">Long heading number 8</span></th><th class=\"input_table r0 c9\"><span class=\"table_label\">Long heading number 9</span></th> </tr> <tr class=\"input_table r1\"><th class=\"input_table r1 c0\"><span class=\"table_label\">0</span></th>  <td class=\"input_table r1 c1\"><span class=\"data_cell\">1.000000</span></td>  <td class=\"input_table r1 c2\"><span class=\"data_cell\">2.000000</span></td>  <td class=\"input_table r1 c3\"><span class=\"data_cell\">hello there</span></td>  <td class=\"input_table r1 c4\"><span class=\"data_cell\"></span></td>  <td class=\"input_table r1 c5\"><span class=\"data_cell\"></span></td>  <td class=\"input_table r1 c6\"><span class=\"data_cell\"></span></td>  <td class=\"input_table r1 c7\"><span class=\"data_cell\"></span></td>  <td class=\"input_table r1 c8\"><span class=\"data_cell\"></span></td>  <td class=\"input_table r1 c9\"><span class=\"data_cell\"></span></td> </tr> <tr class=\"input_table r2\"><th class=\"input_table r2 c0\"><span class=\"table_label\">1</span></th>  <td class=\"input_table r2 c1\"><span class=\"data_cell\"></span></td>  <td class=\"input_table r2 c2\"><span class=\"data_cell\"></span></td>  <td class=\"input_table r2 c3\"><span class=\"data_cell\"></span></td>  <td class=\"input_table r2 c4\"><span class=\"data_cell\"></span></td>  <td class=\"input_table r2 c5\"><span class=\"data_cell\"></span></td>  <td class=\"input_table r2 c6\"><span class=\"data_cell\"></span></td>  <td class=\"input_table r2 c7\"><span class=\"data_cell\"></span></td>  <td class=\"input_table r2 c8\"><span class=\"data_cell\"></span></td>  <td class=\"input_table r2 c9\"><span class=\"data_cell\"></span></td> </tr></tbody></table>"
      ],
      "text/plain": [
       "<IPython.core.display.HTML object>"
      ]
     },
     "metadata": {},
     "output_type": "display_data"
    }
   ],
   "source": [
    "# If no data table appears in the output of this cell, run the cell to display the table.\n",
    "\n",
    "from IPython.display import HTML\n",
    "try:\n",
    "    import input_table\n",
    "except (ImportError, FileNotFoundError) as e:\n",
    "    print(\"Table editing will not work because `jupyter_datainputtable` module is not installed in python kernel\")\n",
    "display(HTML('<table class=\"input_table\" id=\"it_1630948697650\"><caption style=\"font-weight:bold;font-size:1.5em;color:darkkhaki\">Test 2</caption><tbody> <tr class=\"input_table r0\">  <th class=\"input_table r0 c0\"><select class=\"form-control table-actions\" onchange=\"var lastvalue = this.value;this.value = &quot;Table Actions&quot;;if(lastvalue==&quot;Edit Data&quot;){edit_input_table(&quot;it_1630948697650&quot;);}if(lastvalue==&quot;Data to Pandas...&quot;){data_table_to_Pandas(&quot;it_1630948697650&quot;);}\"><option title=\"Things you can do to this table.\">Table Actions</option><option title=\"Start editing the data.\">Edit Data</option><option title=\"Create a Panda DataFrame from table.\">Data to Pandas...</option></select></th><th class=\"input_table r0 c1\"><span class=\"table_label\">Long heading number 1</span></th><th class=\"input_table r0 c2\"><span class=\"table_label\">Long heading number 2</span></th><th class=\"input_table r0 c3\"><span class=\"table_label\">Long heading number 3</span></th><th class=\"input_table r0 c4\"><span class=\"table_label\">Long heading number 4</span></th><th class=\"input_table r0 c5\"><span class=\"table_label\">Long heading number 5</span></th><th class=\"input_table r0 c6\"><span class=\"table_label\">Long heading number 6</span></th><th class=\"input_table r0 c7\"><span class=\"table_label\">Long heading number 7</span></th><th class=\"input_table r0 c8\"><span class=\"table_label\">Long heading number 8</span></th><th class=\"input_table r0 c9\"><span class=\"table_label\">Long heading number 9</span></th> </tr> <tr class=\"input_table r1\"><th class=\"input_table r1 c0\"><span class=\"table_label\">0</span></th>  <td class=\"input_table r1 c1\"><span class=\"data_cell\">1.000000</span></td>  <td class=\"input_table r1 c2\"><span class=\"data_cell\">2.000000</span></td>  <td class=\"input_table r1 c3\"><span class=\"data_cell\">hello there</span></td>  <td class=\"input_table r1 c4\"><span class=\"data_cell\"></span></td>  <td class=\"input_table r1 c5\"><span class=\"data_cell\"></span></td>  <td class=\"input_table r1 c6\"><span class=\"data_cell\"></span></td>  <td class=\"input_table r1 c7\"><span class=\"data_cell\"></span></td>  <td class=\"input_table r1 c8\"><span class=\"data_cell\"></span></td>  <td class=\"input_table r1 c9\"><span class=\"data_cell\"></span></td> </tr> <tr class=\"input_table r2\"><th class=\"input_table r2 c0\"><span class=\"table_label\">1</span></th>  <td class=\"input_table r2 c1\"><span class=\"data_cell\"></span></td>  <td class=\"input_table r2 c2\"><span class=\"data_cell\"></span></td>  <td class=\"input_table r2 c3\"><span class=\"data_cell\"></span></td>  <td class=\"input_table r2 c4\"><span class=\"data_cell\"></span></td>  <td class=\"input_table r2 c5\"><span class=\"data_cell\"></span></td>  <td class=\"input_table r2 c6\"><span class=\"data_cell\"></span></td>  <td class=\"input_table r2 c7\"><span class=\"data_cell\"></span></td>  <td class=\"input_table r2 c8\"><span class=\"data_cell\"></span></td>  <td class=\"input_table r2 c9\"><span class=\"data_cell\"></span></td> </tr></tbody></table>'))"
   ]
  },
  {
   "cell_type": "code",
   "execution_count": 4,
   "metadata": {
    "JPSL": {
     "input_table_cell": true
    },
    "editable": false
   },
   "outputs": [
    {
     "data": {
      "text/html": [
       "<table class=\"input_table\" id=\"it_1630948387230\"><caption style=\"font-weight:bold;font-size:1.5em;color:darkkhaki\">Test 1</caption><tbody> <tr class=\"input_table r0\">  <th class=\"input_table r0 c0\"><select class=\"form-control table-actions\" onchange=\"var lastvalue = this.value;this.value = &quot;Table Actions&quot;;if(lastvalue==&quot;Edit Data&quot;){edit_input_table(&quot;it_1630948387230&quot;);}if(lastvalue==&quot;Data to Pandas...&quot;){data_table_to_Pandas(&quot;it_1630948387230&quot;);}\"><option title=\"Things you can do to this table.\">Table Actions</option><option title=\"Start editing the data.\">Edit Data</option><option title=\"Create a Panda DataFrame from table.\">Data to Pandas...</option></select></th><th class=\"input_table r0 c1\"><span class=\"table_label\">Long heading number 1</span></th><th class=\"input_table r0 c2\"><span class=\"table_label\">Long heading number 2</span></th><th class=\"input_table r0 c3\"><span class=\"table_label\">Long heading number 3</span></th><th class=\"input_table r0 c4\"><span class=\"table_label\">Long heading number 5</span></th><th class=\"input_table r0 c5\"><span class=\"table_label\">Long heading number 5</span></th><th class=\"input_table r0 c6\"><span class=\"table_label\">Long heading number 6</span></th> </tr> <tr class=\"input_table r1\"><th class=\"input_table r1 c0\"><span class=\"table_label\">0</span></th>  <td class=\"input_table r1 c1\"><span class=\"data_cell\"></span></td>  <td class=\"input_table r1 c2\"><span class=\"data_cell\"></span></td>  <td class=\"input_table r1 c3\"><span class=\"data_cell\"></span></td>  <td class=\"input_table r1 c4\"><span class=\"data_cell\"></span></td>  <td class=\"input_table r1 c5\"><span class=\"data_cell\"></span></td>  <td class=\"input_table r1 c6\"><span class=\"data_cell\"></span></td> </tr> <tr class=\"input_table r2\"><th class=\"input_table r2 c0\"><span class=\"table_label\">1</span></th>  <td class=\"input_table r2 c1\"><span class=\"data_cell\"></span></td>  <td class=\"input_table r2 c2\"><span class=\"data_cell\"></span></td>  <td class=\"input_table r2 c3\"><span class=\"data_cell\"></span></td>  <td class=\"input_table r2 c4\"><span class=\"data_cell\"></span></td>  <td class=\"input_table r2 c5\"><span class=\"data_cell\"></span></td>  <td class=\"input_table r2 c6\"><span class=\"data_cell\"></span></td> </tr></tbody></table>"
      ],
      "text/plain": [
       "<IPython.core.display.HTML object>"
      ]
     },
     "metadata": {},
     "output_type": "display_data"
    }
   ],
   "source": [
    "# If no data table appears in the output of this cell, run the cell to display the table.\n",
    "\n",
    "from IPython.display import HTML\n",
    "try:\n",
    "    import input_table\n",
    "except (ImportError, FileNotFoundError) as e:\n",
    "    print(\"Table editing will not work because `jupyter_datainputtable` module is not installed in python kernel\")\n",
    "display(HTML('<table class=\"input_table\" id=\"it_1630948387230\"><caption style=\"font-weight:bold;font-size:1.5em;color:darkkhaki\">Test 1</caption><tbody> <tr class=\"input_table r0\">  <th class=\"input_table r0 c0\"><select class=\"form-control table-actions\" onchange=\"var lastvalue = this.value;this.value = &quot;Table Actions&quot;;if(lastvalue==&quot;Edit Data&quot;){edit_input_table(&quot;it_1630948387230&quot;);}if(lastvalue==&quot;Data to Pandas...&quot;){data_table_to_Pandas(&quot;it_1630948387230&quot;);}\"><option title=\"Things you can do to this table.\">Table Actions</option><option title=\"Start editing the data.\">Edit Data</option><option title=\"Create a Panda DataFrame from table.\">Data to Pandas...</option></select></th><th class=\"input_table r0 c1\"><span class=\"table_label\">Long heading number 1</span></th><th class=\"input_table r0 c2\"><span class=\"table_label\">Long heading number 2</span></th><th class=\"input_table r0 c3\"><span class=\"table_label\">Long heading number 3</span></th><th class=\"input_table r0 c4\"><span class=\"table_label\">Long heading number 5</span></th><th class=\"input_table r0 c5\"><span class=\"table_label\">Long heading number 5</span></th><th class=\"input_table r0 c6\"><span class=\"table_label\">Long heading number 6</span></th> </tr> <tr class=\"input_table r1\"><th class=\"input_table r1 c0\"><span class=\"table_label\">0</span></th>  <td class=\"input_table r1 c1\"><span class=\"data_cell\"></span></td>  <td class=\"input_table r1 c2\"><span class=\"data_cell\"></span></td>  <td class=\"input_table r1 c3\"><span class=\"data_cell\"></span></td>  <td class=\"input_table r1 c4\"><span class=\"data_cell\"></span></td>  <td class=\"input_table r1 c5\"><span class=\"data_cell\"></span></td>  <td class=\"input_table r1 c6\"><span class=\"data_cell\"></span></td> </tr> <tr class=\"input_table r2\"><th class=\"input_table r2 c0\"><span class=\"table_label\">1</span></th>  <td class=\"input_table r2 c1\"><span class=\"data_cell\"></span></td>  <td class=\"input_table r2 c2\"><span class=\"data_cell\"></span></td>  <td class=\"input_table r2 c3\"><span class=\"data_cell\"></span></td>  <td class=\"input_table r2 c4\"><span class=\"data_cell\"></span></td>  <td class=\"input_table r2 c5\"><span class=\"data_cell\"></span></td>  <td class=\"input_table r2 c6\"><span class=\"data_cell\"></span></td> </tr></tbody></table>'))"
   ]
  },
  {
   "cell_type": "code",
   "execution_count": null,
   "metadata": {},
   "outputs": [],
   "source": []
  }
 ],
 "metadata": {
  "kernelspec": {
   "display_name": "Python 3",
   "language": "python",
   "name": "python3"
  },
  "language_info": {
   "codemirror_mode": {
    "name": "ipython",
    "version": 3
   },
   "file_extension": ".py",
   "mimetype": "text/x-python",
   "name": "python",
   "nbconvert_exporter": "python",
   "pygments_lexer": "ipython3",
   "version": "3.8.10"
  }
 },
 "nbformat": 4,
 "nbformat_minor": 4
}

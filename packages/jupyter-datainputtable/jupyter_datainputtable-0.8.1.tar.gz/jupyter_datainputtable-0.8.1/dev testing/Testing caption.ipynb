{
 "cells": [
  {
   "cell_type": "code",
   "execution_count": null,
   "metadata": {},
   "outputs": [],
   "source": [
    "from input_table import *"
   ]
  },
  {
   "cell_type": "code",
   "execution_count": null,
   "metadata": {},
   "outputs": [],
   "source": [
    "create_input_table()"
   ]
  },
  {
   "cell_type": "code",
   "execution_count": null,
   "metadata": {},
   "outputs": [],
   "source": []
  },
  {
   "cell_type": "code",
   "execution_count": 2,
   "metadata": {
    "editable": false
   },
   "outputs": [
    {
     "data": {
      "text/html": [
       "<table class=\"input_table\" id=\"it_1625705471751\"><caption>Table 1: Data on metals</caption><tbody> <tr class=\"input_table r0\">  <th class=\"input_table r0 c0\"><select class=\"form-control table-actions\" onchange=\"var lastvalue = this.value;this.value = &quot;Table Actions&quot;;if(lastvalue==&quot;Edit Data&quot;){edit_input_table(&quot;it_1625705471751&quot;);}if(lastvalue==&quot;Data to Pandas...&quot;){data_table_to_Pandas(&quot;it_1625705471751&quot;);}\"><option title=\"Things you can do to this table.\">Table Actions</option><option title=\"Start editing the data.\">Edit Data</option><option title=\"Create a Panda DataFrame from table.\">Data to Pandas...</option></select></th><th class=\"input_table r0 c1\"><span class=\"table_label\">mass(g)</span></th><th class=\"input_table r0 c2\"><span class=\"table_label\">time in ice bath (min)</span></th><th class=\"input_table r0 c3\"><span class=\"table_label\">ice bath temperature (C)</span></th> </tr> <tr class=\"input_table r1\"><th class=\"input_table r1 c0\"><span class=\"table_label\">Brass</span></th>  <td class=\"input_table r1 c1\"><span class=\"data_cell\">200.62</span></td>  <td class=\"input_table r1 c2\"><span class=\"data_cell\">10</span></td>  <td class=\"input_table r1 c3\"><span class=\"data_cell\">0.796</span></td> </tr> <tr class=\"input_table r2\"><th class=\"input_table r2 c0\"><span class=\"table_label\">Lead (Pb)</span></th>  <td class=\"input_table r2 c1\"><span class=\"data_cell\">201.11</span></td>  <td class=\"input_table r2 c2\"><span class=\"data_cell\">10</span></td>  <td class=\"input_table r2 c3\"><span class=\"data_cell\">0.796</span></td> </tr></tbody></table>"
      ],
      "text/plain": [
       "<IPython.core.display.HTML object>"
      ]
     },
     "metadata": {},
     "output_type": "display_data"
    }
   ],
   "source": [
    "# If no data table appears in the output of this cell, run the cell to display the table.\n",
    "\n",
    "try:\n",
    "    from input_table import *\n",
    "except (ImportError, FileNotFoundError) as e:\n",
    "    from IPython.display import HTML\n",
    "    print(\"Table editing will not work because `jupyter_datainputtable` module is not installed in python kernel\")\n",
    "display(HTML('<table class=\"input_table\" id=\"it_1625705471751\"><caption>Table 1: Data on metals</caption><tbody> <tr class=\"input_table r0\">  <th class=\"input_table r0 c0\"><select class=\"form-control table-actions\" onchange=\"var lastvalue = this.value;this.value = &quot;Table Actions&quot;;if(lastvalue==&quot;Edit Data&quot;){edit_input_table(&quot;it_1625705471751&quot;);}if(lastvalue==&quot;Data to Pandas...&quot;){data_table_to_Pandas(&quot;it_1625705471751&quot;);}\"><option title=\"Things you can do to this table.\">Table Actions</option><option title=\"Start editing the data.\">Edit Data</option><option title=\"Create a Panda DataFrame from table.\">Data to Pandas...</option></select></th><th class=\"input_table r0 c1\"><span class=\"table_label\">mass(g)</span></th><th class=\"input_table r0 c2\"><span class=\"table_label\">time in ice bath (min)</span></th><th class=\"input_table r0 c3\"><span class=\"table_label\">ice bath temperature (C)</span></th> </tr> <tr class=\"input_table r1\"><th class=\"input_table r1 c0\"><span class=\"table_label\">Brass</span></th>  <td class=\"input_table r1 c1\"><span class=\"data_cell\">200.62</span></td>  <td class=\"input_table r1 c2\"><span class=\"data_cell\">10</span></td>  <td class=\"input_table r1 c3\"><span class=\"data_cell\">0.796</span></td> </tr> <tr class=\"input_table r2\"><th class=\"input_table r2 c0\"><span class=\"table_label\">Lead (Pb)</span></th>  <td class=\"input_table r2 c1\"><span class=\"data_cell\">201.11</span></td>  <td class=\"input_table r2 c2\"><span class=\"data_cell\">10</span></td>  <td class=\"input_table r2 c3\"><span class=\"data_cell\">0.796</span></td> </tr></tbody></table>'))"
   ]
  },
  {
   "cell_type": "code",
   "execution_count": null,
   "metadata": {},
   "outputs": [],
   "source": []
  }
 ],
 "metadata": {
  "kernelspec": {
   "display_name": "Python 3",
   "language": "python",
   "name": "python3"
  },
  "language_info": {
   "codemirror_mode": {
    "name": "ipython",
    "version": 3
   },
   "file_extension": ".py",
   "mimetype": "text/x-python",
   "name": "python",
   "nbconvert_exporter": "python",
   "pygments_lexer": "ipython3",
   "version": "3.8.10"
  }
 },
 "nbformat": 4,
 "nbformat_minor": 4
}

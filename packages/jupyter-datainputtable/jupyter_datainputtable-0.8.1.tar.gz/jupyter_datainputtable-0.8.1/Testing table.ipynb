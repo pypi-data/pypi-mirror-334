{
 "cells": [
  {
   "cell_type": "markdown",
   "id": "d85c769c-291b-4894-995b-760b58fb8747",
   "metadata": {},
   "source": [
    "# heading with link"
   ]
  },
  {
   "cell_type": "markdown",
   "id": "22ec1780-4409-42fa-825a-84294ec8fb7f",
   "metadata": {},
   "source": [
    "<a href=\"#Table-33\">Table 33</a>\n",
    "\n",
    "<a href=\"#heading-with-link\">Above heading</a>"
   ]
  },
  {
   "cell_type": "code",
   "execution_count": 2,
   "id": "efbec1fd-b05d-4ff6-8618-4ae4a845d3b3",
   "metadata": {
    "scrolled": true
   },
   "outputs": [
    {
     "name": "stdout",
     "output_type": "stream",
     "text": [
      "Table editing will not work because `jupyter_datainputtable` module is not installed in python kernel\n"
     ]
    },
    {
     "data": {
      "text/html": [
       "<table class=\"input_table\" id=\"it_1719514826974\"><caption  style=\"font-weight:bold;font-size:1.5em;\"><span style=\"color:darkkhaki;\">Table 1:</span> Test table.</caption><tbody> <tr class=\"input_table r0\">  <th class=\"input_table r0 c0\"><button class=\"lock_btn\" onclick=\"lock_labels('it_1719514826974')\">Lock Column and Row Labels</button></th><th class=\"input_table r0 c1\"><input class=\"table_label\" type=\"text\" size=\"15\" value=\"Col_0\" onblur=\"record_input(this)\"></input></th><th class=\"input_table r0 c2\"><input class=\"table_label\" type=\"text\" size=\"15\" value=\"Col_1\" onblur=\"record_input(this)\"></input></th> </tr> <tr class=\"input_table r1\"><th class=\"input_table r1 c0\"><input class=\"table_label\" type=\"text\" size=\"7\" value=\"0\" onblur=\"record_input(this)\"></input></th>  <td class=\"input_table r1 c1\"><input class=\"data_cell\" type=\"text\" size=\"7\" onblur=\"record_input(this)\"></input></td>  <td class=\"input_table r1 c2\"><input class=\"data_cell\" type=\"text\" size=\"7\" onblur=\"record_input(this)\"></input></td> </tr> <tr class=\"input_table r2\"><th class=\"input_table r2 c0\"><input class=\"table_label\" type=\"text\" size=\"7\" value=\"1\" onblur=\"record_input(this)\"></input></th>  <td class=\"input_table r2 c1\"><input class=\"data_cell\" type=\"text\" size=\"7\" onblur=\"record_input(this)\"></input></td>  <td class=\"input_table r2 c2\"><input class=\"data_cell\" type=\"text\" size=\"7\" onblur=\"record_input(this)\"></input></td> </tr> <tr class=\"input_table r3\"><th class=\"input_table r3 c0\"><input class=\"table_label\" type=\"text\" size=\"7\" value=\"2\" onblur=\"record_input(this)\"></input></th>  <td class=\"input_table r3 c1\"><textarea class=\"data_cell\" type=\"text\" size=\"7\" onblur=\"record_input(this)\"></textarea></td>  <td class=\"input_table r3 c2\"><textarea class=\"data_cell\" type=\"text\" size=\"7\" onblur=\"record_input(this)\"></textarea></td> </tr> <tr class=\"input_table r4\"><th class=\"input_table r4 c0\"><textarea class=\"table_label\" type=\"text\" size=\"7\" value=\"3\" onblur=\"record_input(this)\"></textarea></th>  <td class=\"input_table r4 c1\"><input class=\"data_cell\" type=\"text\" size=\"7\" onblur=\"record_input(this)\"></input></td>  <td class=\"input_table r4 c2\"><input class=\"data_cell\" type=\"text\" size=\"7\" onblur=\"record_input(this)\"></input></td> </tr></tbody></table>"
      ],
      "text/plain": [
       "<IPython.core.display.HTML object>"
      ]
     },
     "metadata": {},
     "output_type": "display_data"
    }
   ],
   "source": [
    "# If no data table appears in the output of this cell, run the cell to display the table.\n",
    "\n",
    "from IPython.display import HTML\n",
    "try:\n",
    "    import input_table\n",
    "except (ImportError, FileNotFoundError) as e:\n",
    "    print(\"Table editing will not work because `jupyter_datainputtable` module is not installed in python kernel\")\n",
    "display(HTML('<table class=\"input_table\" id=\"it_1719514826974\"><caption  style=\"font-weight:bold;font-size:1.5em;\"><span style=\"color:darkkhaki;\">Table 1:</span> Test table.</caption><tbody> <tr class=\"input_table r0\">  <th class=\"input_table r0 c0\"><button class=\"lock_btn\" onclick=\"lock_labels(\\'it_1719514826974\\')\">Lock Column and Row Labels</button></th><th class=\"input_table r0 c1\"><input class=\"table_label\" type=\"text\" size=\"15\" value=\"Col_0\" onblur=\"record_input(this)\"></input></th><th class=\"input_table r0 c2\"><input class=\"table_label\" type=\"text\" size=\"15\" value=\"Col_1\" onblur=\"record_input(this)\"></input></th> </tr> <tr class=\"input_table r1\"><th class=\"input_table r1 c0\"><input class=\"table_label\" type=\"text\" size=\"7\" value=\"0\" onblur=\"record_input(this)\"></input></th>  <td class=\"input_table r1 c1\"><input class=\"data_cell\" type=\"text\" size=\"7\" onblur=\"record_input(this)\"></input></td>  <td class=\"input_table r1 c2\"><input class=\"data_cell\" type=\"text\" size=\"7\" onblur=\"record_input(this)\"></input></td> </tr> <tr class=\"input_table r2\"><th class=\"input_table r2 c0\"><input class=\"table_label\" type=\"text\" size=\"7\" value=\"1\" onblur=\"record_input(this)\"></input></th>  <td class=\"input_table r2 c1\"><input class=\"data_cell\" type=\"text\" size=\"7\" onblur=\"record_input(this)\"></input></td>  <td class=\"input_table r2 c2\"><input class=\"data_cell\" type=\"text\" size=\"7\" onblur=\"record_input(this)\"></input></td> </tr> <tr class=\"input_table r3\"><th class=\"input_table r3 c0\"><input class=\"table_label\" type=\"text\" size=\"7\" value=\"2\" onblur=\"record_input(this)\"></input></th>  <td class=\"input_table r3 c1\"><textarea class=\"data_cell\" type=\"text\" size=\"7\" onblur=\"record_input(this)\"></textarea></td>  <td class=\"input_table r3 c2\"><textarea class=\"data_cell\" type=\"text\" size=\"7\" onblur=\"record_input(this)\"></textarea></td> </tr> <tr class=\"input_table r4\"><th class=\"input_table r4 c0\"><textarea class=\"table_label\" type=\"text\" size=\"7\" value=\"3\" onblur=\"record_input(this)\"></textarea></th>  <td class=\"input_table r4 c1\"><input class=\"data_cell\" type=\"text\" size=\"7\" onblur=\"record_input(this)\"></input></td>  <td class=\"input_table r4 c2\"><input class=\"data_cell\" type=\"text\" size=\"7\" onblur=\"record_input(this)\"></input></td> </tr></tbody></table>'))"
   ]
  },
  {
   "cell_type": "code",
   "execution_count": 1,
   "id": "50cf1ed6-eb4e-4864-8633-f38b9edbdb94",
   "metadata": {},
   "outputs": [
    {
     "name": "stdout",
     "output_type": "stream",
     "text": [
      "Table editing will not work because `jupyter_datainputtable` module is not installed in python kernel\n"
     ]
    },
    {
     "data": {
      "text/html": [
       "<table class=\"input_table\" id=\"it_1719516864726\"><caption  style=\"font-weight:bold;font-size:1.5em;color:darkkhaki\">Table 2: Test with input areas.</caption><tbody> <tr class=\"input_table r0\">  <th class=\"input_table r0 c0\"><button class=\"lock_btn\" onclick=\"lock_labels('it_1719516864726')\">Lock Column and Row Labels</button></th><th class=\"input_table r0 c1\"><textarea class=\"table_label\" type=\"text\" size=\"15\" onblur=\"record_input(this)\">Col_0</textarea></th><th class=\"input_table r0 c2\"><textarea class=\"table_label\" type=\"text\" size=\"15\" onblur=\"record_input(this)\">Col_1</textarea></th> </tr> <tr class=\"input_table r1\"><th class=\"input_table r1 c0\"><textarea class=\"table_label\" type=\"text\" size=\"7\" onblur=\"record_input(this)\">0</textarea></th>  <td class=\"input_table r1 c1\"><textarea class=\"data_cell\" type=\"text\" size=\"7\" onblur=\"record_input(this)\"></textarea></td>  <td class=\"input_table r1 c2\"><textarea class=\"data_cell\" type=\"text\" size=\"7\" onblur=\"record_input(this)\"></textarea></td> </tr> <tr class=\"input_table r2\"><th class=\"input_table r2 c0\"><textarea class=\"table_label\" type=\"text\" size=\"7\" onblur=\"record_input(this)\">1</textarea></th>  <td class=\"input_table r2 c1\"><textarea class=\"data_cell\" type=\"text\" size=\"7\" onblur=\"record_input(this)\"></textarea></td>  <td class=\"input_table r2 c2\"><textarea class=\"data_cell\" type=\"text\" size=\"7\" onblur=\"record_input(this)\"></textarea></td> </tr> <tr class=\"input_table r3\"><th class=\"input_table r3 c0\"><textarea class=\"table_label\" type=\"text\" size=\"7\" onblur=\"record_input(this)\">2</textarea></th>  <td class=\"input_table r3 c1\"><textarea class=\"data_cell\" type=\"text\" size=\"7\" onblur=\"record_input(this)\"></textarea></td>  <td class=\"input_table r3 c2\"><textarea class=\"data_cell\" type=\"text\" size=\"7\" onblur=\"record_input(this)\"></textarea></td> </tr> <tr class=\"input_table r4\"><th class=\"input_table r4 c0\"><textarea class=\"table_label\" type=\"text\" size=\"7\" onblur=\"record_input(this)\">3</textarea></th>  <td class=\"input_table r4 c1\"><textarea class=\"data_cell\" type=\"text\" size=\"7\" onblur=\"record_input(this)\"></textarea></td>  <td class=\"input_table r4 c2\"><textarea class=\"data_cell\" type=\"text\" size=\"7\" onblur=\"record_input(this)\"></textarea></td> </tr></tbody></table>"
      ],
      "text/plain": [
       "<IPython.core.display.HTML object>"
      ]
     },
     "metadata": {},
     "output_type": "display_data"
    }
   ],
   "source": [
    "# If no data table appears in the output of this cell, run the cell to display the table.\n",
    "\n",
    "from IPython.display import HTML\n",
    "try:\n",
    "    import input_table\n",
    "except (ImportError, FileNotFoundError) as e:\n",
    "    print(\"Table editing will not work because `jupyter_datainputtable` module is not installed in python kernel\")\n",
    "display(HTML('<table class=\"input_table\" id=\"it_1719516864726\"><caption  style=\"font-weight:bold;font-size:1.5em;color:darkkhaki\">Table 2: Test with input areas.</caption><tbody> <tr class=\"input_table r0\">  <th class=\"input_table r0 c0\"><button class=\"lock_btn\" onclick=\"lock_labels(\\'it_1719516864726\\')\">Lock Column and Row Labels</button></th><th class=\"input_table r0 c1\"><textarea class=\"table_label\" type=\"text\" size=\"15\" onblur=\"record_input(this)\">Col_0</textarea></th><th class=\"input_table r0 c2\"><textarea class=\"table_label\" type=\"text\" size=\"15\" onblur=\"record_input(this)\">Col_1</textarea></th> </tr> <tr class=\"input_table r1\"><th class=\"input_table r1 c0\"><textarea class=\"table_label\" type=\"text\" size=\"7\" onblur=\"record_input(this)\">0</textarea></th>  <td class=\"input_table r1 c1\"><textarea class=\"data_cell\" type=\"text\" size=\"7\" onblur=\"record_input(this)\"></textarea></td>  <td class=\"input_table r1 c2\"><textarea class=\"data_cell\" type=\"text\" size=\"7\" onblur=\"record_input(this)\"></textarea></td> </tr> <tr class=\"input_table r2\"><th class=\"input_table r2 c0\"><textarea class=\"table_label\" type=\"text\" size=\"7\" onblur=\"record_input(this)\">1</textarea></th>  <td class=\"input_table r2 c1\"><textarea class=\"data_cell\" type=\"text\" size=\"7\" onblur=\"record_input(this)\"></textarea></td>  <td class=\"input_table r2 c2\"><textarea class=\"data_cell\" type=\"text\" size=\"7\" onblur=\"record_input(this)\"></textarea></td> </tr> <tr class=\"input_table r3\"><th class=\"input_table r3 c0\"><textarea class=\"table_label\" type=\"text\" size=\"7\" onblur=\"record_input(this)\">2</textarea></th>  <td class=\"input_table r3 c1\"><textarea class=\"data_cell\" type=\"text\" size=\"7\" onblur=\"record_input(this)\"></textarea></td>  <td class=\"input_table r3 c2\"><textarea class=\"data_cell\" type=\"text\" size=\"7\" onblur=\"record_input(this)\"></textarea></td> </tr> <tr class=\"input_table r4\"><th class=\"input_table r4 c0\"><textarea class=\"table_label\" type=\"text\" size=\"7\" onblur=\"record_input(this)\">3</textarea></th>  <td class=\"input_table r4 c1\"><textarea class=\"data_cell\" type=\"text\" size=\"7\" onblur=\"record_input(this)\"></textarea></td>  <td class=\"input_table r4 c2\"><textarea class=\"data_cell\" type=\"text\" size=\"7\" onblur=\"record_input(this)\"></textarea></td> </tr></tbody></table>'))"
   ]
  },
  {
   "cell_type": "code",
   "execution_count": 2,
   "id": "e4f50dc4-5b40-4bec-b9c6-bf05a98f957d",
   "metadata": {
    "scrolled": true
   },
   "outputs": [
    {
     "name": "stdout",
     "output_type": "stream",
     "text": [
      "Table editing will not work because `jupyter_datainputtable` module is not installed in python kernel\n"
     ]
    },
    {
     "data": {
      "text/html": [
       "<table class=\"jp-input_table\" id=\"it_1719596246012\"><caption class=\"jp-input_table\">Table 3: Test with saving</caption><tbody> <tr class=\"input_table r0\">  <th class=\"jp-input_table r0 c0\"><button class=\"jp-input_table_lock_btn\" onclick=\"lock_labels('it_1719596246012')\">Lock Column and Row Labels</button></th><th class=\"jp-input_table r0 c1\"><textarea class=\"jp-input_table_table_label\" type=\"text\" size=\"15\" onblur=\"record_input(this)\">Col_0</textarea></th><th class=\"jp-input_table r0 c2\"><textarea class=\"jp-input_table_table_label\" type=\"text\" size=\"15\" onblur=\"record_input(this)\">Col_1</textarea></th><th class=\"jp-input_table r0 c3\"><textarea class=\"jp-input_table_table_label\" type=\"text\" size=\"15\" onblur=\"record_input(this)\">Col_2</textarea></th> </tr> <tr class=\"input_table r1\"><th class=\"jp-input_table r1 c0\"><textarea class=\"jp-input_table_table_label\" type=\"text\" size=\"7\" onblur=\"record_input(this)\">0</textarea></th>  <td class=\"jp-input_table r1 c1\"><textarea class=\"jp-input_table_data_cell\" type=\"text\" size=\"7\" onblur=\"record_input(this)\"></textarea></td>  <td class=\"jp-input_table r1 c2\"><textarea class=\"jp-input_table_data_cell\" type=\"text\" size=\"7\" onblur=\"record_input(this)\"></textarea></td>  <td class=\"jp-input_table r1 c3\"><textarea class=\"jp-input_table_data_cell\" type=\"text\" size=\"7\" onblur=\"record_input(this)\"></textarea></td> </tr> <tr class=\"input_table r2\"><th class=\"jp-input_table r2 c0\"><textarea class=\"jp-input_table_table_label\" type=\"text\" size=\"7\" onblur=\"record_input(this)\">1</textarea></th>  <td class=\"jp-input_table r2 c1\"><textarea class=\"jp-input_table_data_cell\" type=\"text\" size=\"7\" onblur=\"record_input(this)\"></textarea></td>  <td class=\"jp-input_table r2 c2\"><textarea class=\"jp-input_table_data_cell\" type=\"text\" size=\"7\" onblur=\"record_input(this)\"></textarea></td>  <td class=\"jp-input_table r2 c3\"><textarea class=\"jp-input_table_data_cell\" type=\"text\" size=\"7\" onblur=\"record_input(this)\"></textarea></td> </tr> <tr class=\"input_table r3\"><th class=\"jp-input_table r3 c0\"><textarea class=\"jp-input_table_table_label\" type=\"text\" size=\"7\" onblur=\"record_input(this)\">2</textarea></th>  <td class=\"jp-input_table r3 c1\"><textarea class=\"jp-input_table_data_cell\" type=\"text\" size=\"7\" onblur=\"record_input(this)\"></textarea></td>  <td class=\"jp-input_table r3 c2\"><textarea class=\"jp-input_table_data_cell\" type=\"text\" size=\"7\" onblur=\"record_input(this)\"></textarea></td>  <td class=\"jp-input_table r3 c3\"><textarea class=\"jp-input_table_data_cell\" type=\"text\" size=\"7\" onblur=\"record_input(this)\"></textarea></td> </tr></tbody></table>"
      ],
      "text/plain": [
       "<IPython.core.display.HTML object>"
      ]
     },
     "metadata": {},
     "output_type": "display_data"
    }
   ],
   "source": [
    "# If no data table appears in the output of this cell, run the cell to display the table.\n",
    "\n",
    "from IPython.display import HTML\n",
    "try:\n",
    "    import input_table\n",
    "except (ImportError, FileNotFoundError) as e:\n",
    "    print(\"Table editing will not work because `jupyter_datainputtable` module is not installed in python kernel\")\n",
    "display(HTML('<table class=\"jp-input_table\" id=\"it_1719596246012\"><caption class=\"jp-input_table\">Table 3: Test with saving</caption><tbody> <tr class=\"input_table r0\">  <th class=\"jp-input_table r0 c0\"><button class=\"jp-input_table_lock_btn\" onclick=\"lock_labels(\\'it_1719596246012\\')\">Lock Column and Row Labels</button></th><th class=\"jp-input_table r0 c1\"><textarea class=\"jp-input_table_table_label\" type=\"text\" size=\"15\" onblur=\"record_input(this)\">Col_0</textarea></th><th class=\"jp-input_table r0 c2\"><textarea class=\"jp-input_table_table_label\" type=\"text\" size=\"15\" onblur=\"record_input(this)\">Col_1</textarea></th><th class=\"jp-input_table r0 c3\"><textarea class=\"jp-input_table_table_label\" type=\"text\" size=\"15\" onblur=\"record_input(this)\">Col_2</textarea></th> </tr> <tr class=\"input_table r1\"><th class=\"jp-input_table r1 c0\"><textarea class=\"jp-input_table_table_label\" type=\"text\" size=\"7\" onblur=\"record_input(this)\">0</textarea></th>  <td class=\"jp-input_table r1 c1\"><textarea class=\"jp-input_table_data_cell\" type=\"text\" size=\"7\" onblur=\"record_input(this)\"></textarea></td>  <td class=\"jp-input_table r1 c2\"><textarea class=\"jp-input_table_data_cell\" type=\"text\" size=\"7\" onblur=\"record_input(this)\"></textarea></td>  <td class=\"jp-input_table r1 c3\"><textarea class=\"jp-input_table_data_cell\" type=\"text\" size=\"7\" onblur=\"record_input(this)\"></textarea></td> </tr> <tr class=\"input_table r2\"><th class=\"jp-input_table r2 c0\"><textarea class=\"jp-input_table_table_label\" type=\"text\" size=\"7\" onblur=\"record_input(this)\">1</textarea></th>  <td class=\"jp-input_table r2 c1\"><textarea class=\"jp-input_table_data_cell\" type=\"text\" size=\"7\" onblur=\"record_input(this)\"></textarea></td>  <td class=\"jp-input_table r2 c2\"><textarea class=\"jp-input_table_data_cell\" type=\"text\" size=\"7\" onblur=\"record_input(this)\"></textarea></td>  <td class=\"jp-input_table r2 c3\"><textarea class=\"jp-input_table_data_cell\" type=\"text\" size=\"7\" onblur=\"record_input(this)\"></textarea></td> </tr> <tr class=\"input_table r3\"><th class=\"jp-input_table r3 c0\"><textarea class=\"jp-input_table_table_label\" type=\"text\" size=\"7\" onblur=\"record_input(this)\">2</textarea></th>  <td class=\"jp-input_table r3 c1\"><textarea class=\"jp-input_table_data_cell\" type=\"text\" size=\"7\" onblur=\"record_input(this)\"></textarea></td>  <td class=\"jp-input_table r3 c2\"><textarea class=\"jp-input_table_data_cell\" type=\"text\" size=\"7\" onblur=\"record_input(this)\"></textarea></td>  <td class=\"jp-input_table r3 c3\"><textarea class=\"jp-input_table_data_cell\" type=\"text\" size=\"7\" onblur=\"record_input(this)\"></textarea></td> </tr></tbody></table>'))"
   ]
  },
  {
   "cell_type": "code",
   "execution_count": 1,
   "id": "c69cc44c-ee14-440f-b17f-c0a316049b95",
   "metadata": {},
   "outputs": [
    {
     "name": "stdout",
     "output_type": "stream",
     "text": [
      "Table editing will not work because `jupyter_datainputtable` module is not installed in python kernel\n"
     ]
    },
    {
     "data": {
      "text/html": [
       "<table class=\"jp-input_table\" id=\"it_1719597181714\"><caption class=\"jp-input_table\">Table 4: Mayb lock labels will work now</caption><tbody> <tr class=\"input_table r0\">  <th class=\"jp-input_table r0 c0\"><button class=\"jp-input_table_lock_btn\" onclick=\"lock_labels('it_1719597181714')\">Lock Column and Row Labels</button></th><th class=\"jp-input_table r0 c1\"><textarea class=\"jp-input_table_table_label\" type=\"text\" size=\"15\" onblur=\"record_input(this)\">Col_0</textarea></th><th class=\"jp-input_table r0 c2\"><textarea class=\"jp-input_table_table_label\" type=\"text\" size=\"15\" onblur=\"record_input(this)\">Col_1</textarea></th><th class=\"jp-input_table r0 c3\"><textarea class=\"jp-input_table_table_label\" type=\"text\" size=\"15\" onblur=\"record_input(this)\">Col_2</textarea></th> </tr> <tr class=\"input_table r1\"><th class=\"jp-input_table r1 c0\"><textarea class=\"jp-input_table_table_label\" type=\"text\" size=\"7\" onblur=\"record_input(this)\">0</textarea></th>  <td class=\"jp-input_table r1 c1\"><textarea class=\"jp-input_table_data_cell\" type=\"text\" size=\"7\" onblur=\"record_input(this)\"></textarea></td>  <td class=\"jp-input_table r1 c2\"><textarea class=\"jp-input_table_data_cell\" type=\"text\" size=\"7\" onblur=\"record_input(this)\"></textarea></td>  <td class=\"jp-input_table r1 c3\"><textarea class=\"jp-input_table_data_cell\" type=\"text\" size=\"7\" onblur=\"record_input(this)\"></textarea></td> </tr> <tr class=\"input_table r2\"><th class=\"jp-input_table r2 c0\"><textarea class=\"jp-input_table_table_label\" type=\"text\" size=\"7\" onblur=\"record_input(this)\">1</textarea></th>  <td class=\"jp-input_table r2 c1\"><textarea class=\"jp-input_table_data_cell\" type=\"text\" size=\"7\" onblur=\"record_input(this)\"></textarea></td>  <td class=\"jp-input_table r2 c2\"><textarea class=\"jp-input_table_data_cell\" type=\"text\" size=\"7\" onblur=\"record_input(this)\"></textarea></td>  <td class=\"jp-input_table r2 c3\"><textarea class=\"jp-input_table_data_cell\" type=\"text\" size=\"7\" onblur=\"record_input(this)\"></textarea></td> </tr></tbody></table>"
      ],
      "text/plain": [
       "<IPython.core.display.HTML object>"
      ]
     },
     "metadata": {},
     "output_type": "display_data"
    }
   ],
   "source": [
    "# If no data table appears in the output of this cell, run the cell to display the table.\n",
    "\n",
    "from IPython.display import HTML\n",
    "try:\n",
    "    import input_table\n",
    "except (ImportError, FileNotFoundError) as e:\n",
    "    print(\"Table editing will not work because `jupyter_datainputtable` module is not installed in python kernel\")\n",
    "display(HTML('<table class=\"jp-input_table\" id=\"it_1719597181714\"><caption class=\"jp-input_table\">Table 4: Mayb lock labels will work now</caption><tbody> <tr class=\"input_table r0\">  <th class=\"jp-input_table r0 c0\"><button class=\"jp-input_table_lock_btn\" onclick=\"lock_labels(\\'it_1719597181714\\')\">Lock Column and Row Labels</button></th><th class=\"jp-input_table r0 c1\"><textarea class=\"jp-input_table_table_label\" type=\"text\" size=\"15\" onblur=\"record_input(this)\">Col_0</textarea></th><th class=\"jp-input_table r0 c2\"><textarea class=\"jp-input_table_table_label\" type=\"text\" size=\"15\" onblur=\"record_input(this)\">Col_1</textarea></th><th class=\"jp-input_table r0 c3\"><textarea class=\"jp-input_table_table_label\" type=\"text\" size=\"15\" onblur=\"record_input(this)\">Col_2</textarea></th> </tr> <tr class=\"input_table r1\"><th class=\"jp-input_table r1 c0\"><textarea class=\"jp-input_table_table_label\" type=\"text\" size=\"7\" onblur=\"record_input(this)\">0</textarea></th>  <td class=\"jp-input_table r1 c1\"><textarea class=\"jp-input_table_data_cell\" type=\"text\" size=\"7\" onblur=\"record_input(this)\"></textarea></td>  <td class=\"jp-input_table r1 c2\"><textarea class=\"jp-input_table_data_cell\" type=\"text\" size=\"7\" onblur=\"record_input(this)\"></textarea></td>  <td class=\"jp-input_table r1 c3\"><textarea class=\"jp-input_table_data_cell\" type=\"text\" size=\"7\" onblur=\"record_input(this)\"></textarea></td> </tr> <tr class=\"input_table r2\"><th class=\"jp-input_table r2 c0\"><textarea class=\"jp-input_table_table_label\" type=\"text\" size=\"7\" onblur=\"record_input(this)\">1</textarea></th>  <td class=\"jp-input_table r2 c1\"><textarea class=\"jp-input_table_data_cell\" type=\"text\" size=\"7\" onblur=\"record_input(this)\"></textarea></td>  <td class=\"jp-input_table r2 c2\"><textarea class=\"jp-input_table_data_cell\" type=\"text\" size=\"7\" onblur=\"record_input(this)\"></textarea></td>  <td class=\"jp-input_table r2 c3\"><textarea class=\"jp-input_table_data_cell\" type=\"text\" size=\"7\" onblur=\"record_input(this)\"></textarea></td> </tr></tbody></table>'))"
   ]
  },
  {
   "cell_type": "code",
   "execution_count": 1,
   "id": "f2e828a0-8ddc-4f7f-8444-79e38c8ed0fd",
   "metadata": {},
   "outputs": [
    {
     "name": "stdout",
     "output_type": "stream",
     "text": [
      "Table editing will not work because `jupyter_datainputtable` module is not installed in python kernel\n"
     ]
    },
    {
     "data": {
      "text/html": [
       "<table class=\"jp-input_table\" id=\"it_1719597520115\"><caption class=\"jp-input_table\">Table 5 : Maybe now</caption><tbody> <tr class=\"input_table r0\">  <th class=\"jp-input_table r0 c0\"><button class=\"jp-input_table_lock_btn\" onclick=\"commands.execute(tableID:'it_1719597520115')\">Lock Column and Row Labels</button></th><th class=\"jp-input_table r0 c1\"><textarea class=\"jp-input_table_table_label\" type=\"text\" size=\"15\" onblur=\"record_input(this)\">Col_0</textarea></th><th class=\"jp-input_table r0 c2\"><textarea class=\"jp-input_table_table_label\" type=\"text\" size=\"15\" onblur=\"record_input(this)\">Col_1</textarea></th> </tr> <tr class=\"input_table r1\"><th class=\"jp-input_table r1 c0\"><textarea class=\"jp-input_table_table_label\" type=\"text\" size=\"7\" onblur=\"record_input(this)\">0</textarea></th>  <td class=\"jp-input_table r1 c1\"><textarea class=\"jp-input_table_data_cell\" type=\"text\" size=\"7\" onblur=\"record_input(this)\"></textarea></td>  <td class=\"jp-input_table r1 c2\"><textarea class=\"jp-input_table_data_cell\" type=\"text\" size=\"7\" onblur=\"record_input(this)\"></textarea></td> </tr> <tr class=\"input_table r2\"><th class=\"jp-input_table r2 c0\"><textarea class=\"jp-input_table_table_label\" type=\"text\" size=\"7\" onblur=\"record_input(this)\">1</textarea></th>  <td class=\"jp-input_table r2 c1\"><textarea class=\"jp-input_table_data_cell\" type=\"text\" size=\"7\" onblur=\"record_input(this)\"></textarea></td>  <td class=\"jp-input_table r2 c2\"><textarea class=\"jp-input_table_data_cell\" type=\"text\" size=\"7\" onblur=\"record_input(this)\"></textarea></td> </tr> <tr class=\"input_table r3\"><th class=\"jp-input_table r3 c0\"><textarea class=\"jp-input_table_table_label\" type=\"text\" size=\"7\" onblur=\"record_input(this)\">2</textarea></th>  <td class=\"jp-input_table r3 c1\"><textarea class=\"jp-input_table_data_cell\" type=\"text\" size=\"7\" onblur=\"record_input(this)\"></textarea></td>  <td class=\"jp-input_table r3 c2\"><textarea class=\"jp-input_table_data_cell\" type=\"text\" size=\"7\" onblur=\"record_input(this)\"></textarea></td> </tr></tbody></table>"
      ],
      "text/plain": [
       "<IPython.core.display.HTML object>"
      ]
     },
     "metadata": {},
     "output_type": "display_data"
    }
   ],
   "source": [
    "# If no data table appears in the output of this cell, run the cell to display the table.\n",
    "\n",
    "from IPython.display import HTML\n",
    "try:\n",
    "    import input_table\n",
    "except (ImportError, FileNotFoundError) as e:\n",
    "    print(\"Table editing will not work because `jupyter_datainputtable` module is not installed in python kernel\")\n",
    "display(HTML('<table class=\"jp-input_table\" id=\"it_1719597520115\"><caption class=\"jp-input_table\">Table 5 : Maybe now</caption><tbody> <tr class=\"input_table r0\">  <th class=\"jp-input_table r0 c0\"><button class=\"jp-input_table_lock_btn\" onclick=\"commands.execute(tableID:\\'it_1719597520115\\')\">Lock Column and Row Labels</button></th><th class=\"jp-input_table r0 c1\"><textarea class=\"jp-input_table_table_label\" type=\"text\" size=\"15\" onblur=\"record_input(this)\">Col_0</textarea></th><th class=\"jp-input_table r0 c2\"><textarea class=\"jp-input_table_table_label\" type=\"text\" size=\"15\" onblur=\"record_input(this)\">Col_1</textarea></th> </tr> <tr class=\"input_table r1\"><th class=\"jp-input_table r1 c0\"><textarea class=\"jp-input_table_table_label\" type=\"text\" size=\"7\" onblur=\"record_input(this)\">0</textarea></th>  <td class=\"jp-input_table r1 c1\"><textarea class=\"jp-input_table_data_cell\" type=\"text\" size=\"7\" onblur=\"record_input(this)\"></textarea></td>  <td class=\"jp-input_table r1 c2\"><textarea class=\"jp-input_table_data_cell\" type=\"text\" size=\"7\" onblur=\"record_input(this)\"></textarea></td> </tr> <tr class=\"input_table r2\"><th class=\"jp-input_table r2 c0\"><textarea class=\"jp-input_table_table_label\" type=\"text\" size=\"7\" onblur=\"record_input(this)\">1</textarea></th>  <td class=\"jp-input_table r2 c1\"><textarea class=\"jp-input_table_data_cell\" type=\"text\" size=\"7\" onblur=\"record_input(this)\"></textarea></td>  <td class=\"jp-input_table r2 c2\"><textarea class=\"jp-input_table_data_cell\" type=\"text\" size=\"7\" onblur=\"record_input(this)\"></textarea></td> </tr> <tr class=\"input_table r3\"><th class=\"jp-input_table r3 c0\"><textarea class=\"jp-input_table_table_label\" type=\"text\" size=\"7\" onblur=\"record_input(this)\">2</textarea></th>  <td class=\"jp-input_table r3 c1\"><textarea class=\"jp-input_table_data_cell\" type=\"text\" size=\"7\" onblur=\"record_input(this)\"></textarea></td>  <td class=\"jp-input_table r3 c2\"><textarea class=\"jp-input_table_data_cell\" type=\"text\" size=\"7\" onblur=\"record_input(this)\"></textarea></td> </tr></tbody></table>'))"
   ]
  },
  {
   "cell_type": "code",
   "execution_count": 1,
   "id": "19e45787-dc0b-4e60-9407-3ed757398f9f",
   "metadata": {},
   "outputs": [
    {
     "name": "stdout",
     "output_type": "stream",
     "text": [
      "Table editing will not work because `jupyter_datainputtable` module is not installed in python kernel\n"
     ]
    },
    {
     "data": {
      "text/html": [
       "<table class=\"jp-input_table\" id=\"it_1719598850809\"><caption class=\"jp-input_table\">Table 6 : Maybe calling lock command now?</caption><tbody> <tr class=\"jp-input_table r0\">  <th class=\"jp-input_table r0 c0\"><button class=\"jp-input_table_lock_btn\" onclick=\"commands.execute('LockLabels:jupyter-inputtable', tableID:'it_1719598850809');\">Lock Column and Row Labels</button></th><th class=\"jp-input_table r0 c1\"><textarea class=\"jp-input_table_table_label\" type=\"text\" size=\"15\" onblur=\"record_input(this)\">Col_0</textarea></th><th class=\"jp-input_table r0 c2\"><textarea class=\"jp-input_table_table_label\" type=\"text\" size=\"15\" onblur=\"record_input(this)\">Col_1</textarea></th> </tr> <tr class=\"jp-input_table r1\"><th class=\"jp-input_table r1 c0\"><textarea class=\"jp-input_table_table_label\" type=\"text\" size=\"7\" onblur=\"record_input(this)\">0</textarea></th>  <td class=\"jp-input_table r1 c1\"><textarea class=\"jp-input_table_data_cell\" type=\"text\" size=\"7\" onblur=\"record_input(this)\"></textarea></td>  <td class=\"jp-input_table r1 c2\"><textarea class=\"jp-input_table_data_cell\" type=\"text\" size=\"7\" onblur=\"record_input(this)\"></textarea></td> </tr> <tr class=\"jp-input_table r2\"><th class=\"jp-input_table r2 c0\"><textarea class=\"jp-input_table_table_label\" type=\"text\" size=\"7\" onblur=\"record_input(this)\">1</textarea></th>  <td class=\"jp-input_table r2 c1\"><textarea class=\"jp-input_table_data_cell\" type=\"text\" size=\"7\" onblur=\"record_input(this)\"></textarea></td>  <td class=\"jp-input_table r2 c2\"><textarea class=\"jp-input_table_data_cell\" type=\"text\" size=\"7\" onblur=\"record_input(this)\"></textarea></td> </tr></tbody></table>"
      ],
      "text/plain": [
       "<IPython.core.display.HTML object>"
      ]
     },
     "metadata": {},
     "output_type": "display_data"
    }
   ],
   "source": [
    "# If no data table appears in the output of this cell, run the cell to display the table.\n",
    "\n",
    "from IPython.display import HTML\n",
    "try:\n",
    "    import input_table\n",
    "except (ImportError, FileNotFoundError) as e:\n",
    "    print(\"Table editing will not work because `jupyter_datainputtable` module is not installed in python kernel\")\n",
    "display(HTML('<table class=\"jp-input_table\" id=\"it_1719598850809\"><caption class=\"jp-input_table\">Table 6 : Maybe calling lock command now?</caption><tbody> <tr class=\"jp-input_table r0\">  <th class=\"jp-input_table r0 c0\"><button class=\"jp-input_table_lock_btn\" onclick=\"commands.execute(\\'LockLabels:jupyter-inputtable\\', tableID:\\'it_1719598850809\\');\">Lock Column and Row Labels</button></th><th class=\"jp-input_table r0 c1\"><textarea class=\"jp-input_table_table_label\" type=\"text\" size=\"15\" onblur=\"record_input(this)\">Col_0</textarea></th><th class=\"jp-input_table r0 c2\"><textarea class=\"jp-input_table_table_label\" type=\"text\" size=\"15\" onblur=\"record_input(this)\">Col_1</textarea></th> </tr> <tr class=\"jp-input_table r1\"><th class=\"jp-input_table r1 c0\"><textarea class=\"jp-input_table_table_label\" type=\"text\" size=\"7\" onblur=\"record_input(this)\">0</textarea></th>  <td class=\"jp-input_table r1 c1\"><textarea class=\"jp-input_table_data_cell\" type=\"text\" size=\"7\" onblur=\"record_input(this)\"></textarea></td>  <td class=\"jp-input_table r1 c2\"><textarea class=\"jp-input_table_data_cell\" type=\"text\" size=\"7\" onblur=\"record_input(this)\"></textarea></td> </tr> <tr class=\"jp-input_table r2\"><th class=\"jp-input_table r2 c0\"><textarea class=\"jp-input_table_table_label\" type=\"text\" size=\"7\" onblur=\"record_input(this)\">1</textarea></th>  <td class=\"jp-input_table r2 c1\"><textarea class=\"jp-input_table_data_cell\" type=\"text\" size=\"7\" onblur=\"record_input(this)\"></textarea></td>  <td class=\"jp-input_table r2 c2\"><textarea class=\"jp-input_table_data_cell\" type=\"text\" size=\"7\" onblur=\"record_input(this)\"></textarea></td> </tr></tbody></table>'))"
   ]
  },
  {
   "cell_type": "code",
   "execution_count": 3,
   "id": "f66c7788-4b50-4698-b041-ccaacc75f2dc",
   "metadata": {},
   "outputs": [
    {
     "data": {
      "application/javascript": [
       "app.commands.execute('help:about');\n"
      ],
      "text/plain": [
       "<IPython.core.display.Javascript object>"
      ]
     },
     "metadata": {},
     "output_type": "display_data"
    }
   ],
   "source": [
    "%%javascript\n",
    "app.commands.execute('help:about');"
   ]
  },
  {
   "cell_type": "code",
   "execution_count": 1,
   "id": "207c7a07-b683-4c90-b51c-a0d5bc7851f8",
   "metadata": {},
   "outputs": [
    {
     "name": "stdout",
     "output_type": "stream",
     "text": [
      "Table editing will not work because `jupyter_datainputtable` module is not installed in python kernel\n"
     ]
    },
    {
     "data": {
      "text/html": [
       "<table class=\"jp-input_table\" id=\"it_1719601967546\"><caption class=\"jp-input_table\">Table7 : Trying Command Linker</caption><tbody> <tr class=\"jp-input_table r0\">  <th class=\"jp-input_table r0 c0\"><button class=\"jp-input_table_lock_btn\"data-commandlinker-command=\"LockLabels:jupyter-inputtable\"data-commandlinker-args=\"{tableID:it_1719601967546}\"Lock Column and Row Labels</button></th><th class=\"jp-input_table r0 c1\"><textarea class=\"jp-input_table_table_label\" type=\"text\" size=\"15\" onblur=\"record_input(this)\">Col_0</textarea></th> </tr> <tr class=\"jp-input_table r1\"><th class=\"jp-input_table r1 c0\"><textarea class=\"jp-input_table_table_label\" type=\"text\" size=\"7\" onblur=\"record_input(this)\">0</textarea></th>  <td class=\"jp-input_table r1 c1\"><textarea class=\"jp-input_table_data_cell\" type=\"text\" size=\"7\" onblur=\"record_input(this)\"></textarea></td> </tr></tbody></table>"
      ],
      "text/plain": [
       "<IPython.core.display.HTML object>"
      ]
     },
     "metadata": {},
     "output_type": "display_data"
    }
   ],
   "source": [
    "# If no data table appears in the output of this cell, run the cell to display the table.\n",
    "\n",
    "from IPython.display import HTML\n",
    "try:\n",
    "    import input_table\n",
    "except (ImportError, FileNotFoundError) as e:\n",
    "    print(\"Table editing will not work because `jupyter_datainputtable` module is not installed in python kernel\")\n",
    "display(HTML('<table class=\"jp-input_table\" id=\"it_1719601967546\"><caption class=\"jp-input_table\">Table7 : Trying Command Linker</caption><tbody> <tr class=\"jp-input_table r0\">  <th class=\"jp-input_table r0 c0\"><button class=\"jp-input_table_lock_btn\"data-commandlinker-command=\"LockLabels:jupyter-inputtable\"data-commandlinker-args=\"{tableID:it_1719601967546}\"Lock Column and Row Labels</button></th><th class=\"jp-input_table r0 c1\"><textarea class=\"jp-input_table_table_label\" type=\"text\" size=\"15\" onblur=\"record_input(this)\">Col_0</textarea></th> </tr> <tr class=\"jp-input_table r1\"><th class=\"jp-input_table r1 c0\"><textarea class=\"jp-input_table_table_label\" type=\"text\" size=\"7\" onblur=\"record_input(this)\">0</textarea></th>  <td class=\"jp-input_table r1 c1\"><textarea class=\"jp-input_table_data_cell\" type=\"text\" size=\"7\" onblur=\"record_input(this)\"></textarea></td> </tr></tbody></table>'))"
   ]
  },
  {
   "cell_type": "code",
   "execution_count": 1,
   "id": "0ada6e53-d6f3-4816-91de-7c74547bf349",
   "metadata": {},
   "outputs": [
    {
     "name": "stdout",
     "output_type": "stream",
     "text": [
      "Table editing will not work because `jupyter_datainputtable` module is not installed in python kernel\n"
     ]
    },
    {
     "data": {
      "text/html": [
       "<table class=\"jp-input_table\" id=\"it_1719602150144\"><caption class=\"jp-input_table\">Table 8 : Command Linker trial 2</caption><tbody> <tr class=\"jp-input_table r0\">  <th class=\"jp-input_table r0 c0\"><button class=\"jp-input_table_lock_btn\" data-commandlinker-command=\"LockLabels:jupyter-inputtable\" data-commandlinker-args=\"{tableID:it_1719602150144}\">Lock Column and Row Labels</button></th><th class=\"jp-input_table r0 c1\"><textarea class=\"jp-input_table_table_label\" type=\"text\" size=\"15\" onblur=\"record_input(this)\">Col_0</textarea></th> </tr> <tr class=\"jp-input_table r1\"><th class=\"jp-input_table r1 c0\"><textarea class=\"jp-input_table_table_label\" type=\"text\" size=\"7\" onblur=\"record_input(this)\">0</textarea></th>  <td class=\"jp-input_table r1 c1\"><textarea class=\"jp-input_table_data_cell\" type=\"text\" size=\"7\" onblur=\"record_input(this)\"></textarea></td> </tr></tbody></table>"
      ],
      "text/plain": [
       "<IPython.core.display.HTML object>"
      ]
     },
     "metadata": {},
     "output_type": "display_data"
    }
   ],
   "source": [
    "# If no data table appears in the output of this cell, run the cell to display the table.\n",
    "\n",
    "from IPython.display import HTML\n",
    "try:\n",
    "    import input_table\n",
    "except (ImportError, FileNotFoundError) as e:\n",
    "    print(\"Table editing will not work because `jupyter_datainputtable` module is not installed in python kernel\")\n",
    "display(HTML('<table class=\"jp-input_table\" id=\"it_1719602150144\"><caption class=\"jp-input_table\">Table 8 : Command Linker trial 2</caption><tbody> <tr class=\"jp-input_table r0\">  <th class=\"jp-input_table r0 c0\"><button class=\"jp-input_table_lock_btn\" data-commandlinker-command=\"LockLabels:jupyter-inputtable\" data-commandlinker-args=\"{tableID:it_1719602150144}\">Lock Column and Row Labels</button></th><th class=\"jp-input_table r0 c1\"><textarea class=\"jp-input_table_table_label\" type=\"text\" size=\"15\" onblur=\"record_input(this)\">Col_0</textarea></th> </tr> <tr class=\"jp-input_table r1\"><th class=\"jp-input_table r1 c0\"><textarea class=\"jp-input_table_table_label\" type=\"text\" size=\"7\" onblur=\"record_input(this)\">0</textarea></th>  <td class=\"jp-input_table r1 c1\"><textarea class=\"jp-input_table_data_cell\" type=\"text\" size=\"7\" onblur=\"record_input(this)\"></textarea></td> </tr></tbody></table>'))"
   ]
  },
  {
   "cell_type": "code",
   "execution_count": 1,
   "id": "fdeaf510-41c3-47d7-a795-5558968a9acc",
   "metadata": {},
   "outputs": [
    {
     "ename": "SyntaxError",
     "evalue": "invalid syntax. Perhaps you forgot a comma? (1499524948.py, line 8)",
     "output_type": "error",
     "traceback": [
      "\u001b[0;36m  Cell \u001b[0;32mIn[1], line 8\u001b[0;36m\u001b[0m\n\u001b[0;31m    display(HTML('<table class=\"jp-input_table\" id=\"it_1719604370520\"><caption class=\"jp-input_table\">Table 9: Command Linker trial 3</caption><tbody> <tr class=\"jp-input_table r0\">  <th class=\"jp-input_table r0 c0\"><button class=\"jp-input_table_lock_btn\" data-commandlinker-command=\"LockLabels:jupyter-inputtable\" data-commandlinker-args=\"{'tableID':'it_1719604370520'}\">Lock Column and Row Labels</button></th><th class=\"jp-input_table r0 c1\"><textarea class=\"jp-input_table_table_label\" type=\"text\" size=\"15\" onblur=\"record_input(this)\">Col_0</textarea></th> </tr> <tr class=\"jp-input_table r1\"><th class=\"jp-input_table r1 c0\"><textarea class=\"jp-input_table_table_label\" type=\"text\" size=\"7\" onblur=\"record_input(this)\">0</textarea></th>  <td class=\"jp-input_table r1 c1\"><textarea class=\"jp-input_table_data_cell\" type=\"text\" size=\"7\" onblur=\"record_input(this)\"></textarea></td> </tr></tbody></table>'))\u001b[0m\n\u001b[0m                 ^\u001b[0m\n\u001b[0;31mSyntaxError\u001b[0m\u001b[0;31m:\u001b[0m invalid syntax. Perhaps you forgot a comma?\n"
     ]
    }
   ],
   "source": [
    "# If no data table appears in the output of this cell, run the cell to display the table.\n",
    "\n",
    "from IPython.display import HTML\n",
    "try:\n",
    "    import input_table\n",
    "except (ImportError, FileNotFoundError) as e:\n",
    "    print(\"Table editing will not work because `jupyter_datainputtable` module is not installed in python kernel\")\n",
    "display(HTML('<table class=\"jp-input_table\" id=\"it_1719604370520\"><caption class=\"jp-input_table\">Table 9: Command Linker trial 3</caption><tbody> <tr class=\"jp-input_table r0\">  <th class=\"jp-input_table r0 c0\"><button class=\"jp-input_table_lock_btn\" data-commandlinker-command=\"LockLabels:jupyter-inputtable\" data-commandlinker-args=\"{'tableID':'it_1719604370520'}\">Lock Column and Row Labels</button></th><th class=\"jp-input_table r0 c1\"><textarea class=\"jp-input_table_table_label\" type=\"text\" size=\"15\" onblur=\"record_input(this)\">Col_0</textarea></th> </tr> <tr class=\"jp-input_table r1\"><th class=\"jp-input_table r1 c0\"><textarea class=\"jp-input_table_table_label\" type=\"text\" size=\"7\" onblur=\"record_input(this)\">0</textarea></th>  <td class=\"jp-input_table r1 c1\"><textarea class=\"jp-input_table_data_cell\" type=\"text\" size=\"7\" onblur=\"record_input(this)\"></textarea></td> </tr></tbody></table>'))"
   ]
  },
  {
   "cell_type": "code",
   "execution_count": 4,
   "id": "fd60cf87-9014-4a88-b95d-442dfd086d26",
   "metadata": {},
   "outputs": [
    {
     "data": {
      "text/html": [
       "<table class=\"jp-input_table\" id=\"it_1719604370520\"><caption class=\"jp-input_table\">Table 9: Command Linker trial 3</caption>\n",
       "<tbody> \n",
       "<tr class=\"jp-input_table r0\">  \n",
       "<th class=\"jp-input_table r0 c0\"><button class=\"jp-input_table_lock_btn\" data-commandlinker-command=\"LockLabels:jupyter-inputtable\" data-commandlinker-args='{\"tableID\":\"t_1719604370520\"}'>Lock Column and Row Labels</button></th>\n",
       "<th class=\"jp-input_table r0 c1\"><textarea class=\"jp-input_table_table_label\" size=\"15\">Col_0</textarea></th> </tr> \n",
       "<tr class=\"jp-input_table r1\">\n",
       "<th class=\"jp-input_table r1 c0\"><textarea class=\"jp-input_table_table_label\" size=\"7\">0</textarea></th>\n",
       "<td class=\"jp-input_table r1 c1\"><textarea class=\"jp-input_table_data_cell\" size=\"7\"></textarea></td>\n",
       "</tr></tbody></table>\n"
      ],
      "text/plain": [
       "<IPython.core.display.HTML object>"
      ]
     },
     "metadata": {},
     "output_type": "display_data"
    }
   ],
   "source": [
    "%%html\n",
    "<table class=\"jp-input_table\" id=\"it_1719604370520\"><caption class=\"jp-input_table\">Table 9: Command Linker trial 3</caption>\n",
    "<tbody> \n",
    "<tr class=\"jp-input_table r0\">  \n",
    "<th class=\"jp-input_table r0 c0\"><button class=\"jp-input_table_lock_btn\" data-commandlinker-command=\"LockLabels:jupyter-inputtable\" data-commandlinker-args='{\"tableID\":\"t_1719604370520\"}'>Lock Column and Row Labels</button></th>\n",
    "<th class=\"jp-input_table r0 c1\"><textarea class=\"jp-input_table_table_label\" size=\"15\">Col_0</textarea></th> </tr> \n",
    "<tr class=\"jp-input_table r1\">\n",
    "<th class=\"jp-input_table r1 c0\"><textarea class=\"jp-input_table_table_label\" size=\"7\">0</textarea></th>\n",
    "<td class=\"jp-input_table r1 c1\"><textarea class=\"jp-input_table_data_cell\" size=\"7\"></textarea></td>\n",
    "</tr></tbody></table>"
   ]
  },
  {
   "cell_type": "code",
   "execution_count": 1,
   "id": "f73a3711-d81d-4fe1-9bc6-6f4c72fba8d7",
   "metadata": {},
   "outputs": [
    {
     "ename": "SyntaxError",
     "evalue": "invalid syntax. Perhaps you forgot a comma? (4223127998.py, line 8)",
     "output_type": "error",
     "traceback": [
      "\u001b[0;36m  Cell \u001b[0;32mIn[1], line 8\u001b[0;36m\u001b[0m\n\u001b[0;31m    display(HTML('<table class=\"jp-input_table\" id=\"it_1719605883408\"><caption class=\"jp-input_table\">Table 10: Command Linker test 4</caption><tbody> <tr class=\"jp-input_table r0\">  <th class=\"jp-input_table r0 c0\"><button class=\"jp-input_table_lock_btn\" data-commandlinker-command=\"LockLabels:jupyter-inputtable\" data-commandlinker-args='{\"tableID\":\"it_1719605883408\"}'>Lock Column and Row Labels</button></th><th class=\"jp-input_table r0 c1\"><textarea class=\"jp-input_table_table_label\" size=\"15\">Col_0</textarea></th> </tr> <tr class=\"jp-input_table r1\"><th class=\"jp-input_table r1 c0\"><textarea class=\"jp-input_table_table_label\" size=\"7\">0</textarea></th>  <td class=\"jp-input_table r1 c1\"><textarea class=\"jp-input_table_data_cell\" size=\"7\"> </tr></tbody></table>'))\u001b[0m\n\u001b[0m                 ^\u001b[0m\n\u001b[0;31mSyntaxError\u001b[0m\u001b[0;31m:\u001b[0m invalid syntax. Perhaps you forgot a comma?\n"
     ]
    }
   ],
   "source": [
    "# If no data table appears in the output of this cell, run the cell to display the table.\n",
    "\n",
    "from IPython.display import HTML\n",
    "try:\n",
    "    import input_table\n",
    "except (ImportError, FileNotFoundError) as e:\n",
    "    print(\"Table editing will not work because `jupyter_datainputtable` module is not installed in python kernel\")\n",
    "display(HTML('<table class=\"jp-input_table\" id=\"it_1719605883408\"><caption class=\"jp-input_table\">Table 10: Command Linker test 4</caption><tbody> <tr class=\"jp-input_table r0\">  <th class=\"jp-input_table r0 c0\"><button class=\"jp-input_table_lock_btn\" data-commandlinker-command=\"LockLabels:jupyter-inputtable\" data-commandlinker-args='{\"tableID\":\"it_1719605883408\"}'>Lock Column and Row Labels</button></th><th class=\"jp-input_table r0 c1\"><textarea class=\"jp-input_table_table_label\" size=\"15\">Col_0</textarea></th> </tr> <tr class=\"jp-input_table r1\"><th class=\"jp-input_table r1 c0\"><textarea class=\"jp-input_table_table_label\" size=\"7\">0</textarea></th>  <td class=\"jp-input_table r1 c1\"><textarea class=\"jp-input_table_data_cell\" size=\"7\"> </tr></tbody></table>'))"
   ]
  },
  {
   "cell_type": "code",
   "execution_count": 1,
   "id": "9157206a-0c0a-4e51-8f62-83b011a368c6",
   "metadata": {},
   "outputs": [
    {
     "name": "stdout",
     "output_type": "stream",
     "text": [
      "Table editing will not work because `jupyter_datainputtable` module is not installed in python kernel\n"
     ]
    },
    {
     "data": {
      "text/html": [
       "<table class=\"jp-input_table\" id=\"it_1719606529958\"><caption class=\"jp-input_table\">Table 11</caption><tbody> <tr class=\"jp-input_table r0\">  <th class=\"jp-input_table r0 c0\"><button class=\"jp-input_table_lock_btn\" data-commandlinker-command=\"LockLabels:jupyter-inputtable\" data-commandlinker-args=\"{\"tableID\":\"it_1719606529958\"}\">Lock Column and Row Labels</button></th><th class=\"jp-input_table r0 c1\"><textarea class=\"jp-input_table_table_label\" size=\"15\">Col_0</textarea></th> </tr> <tr class=\"jp-input_table r1\"><th class=\"jp-input_table r1 c0\"><textarea class=\"jp-input_table_table_label\" size=\"7\">0</textarea></th>  <td class=\"jp-input_table r1 c1\"><textarea class=\"jp-input_table_data_cell\" size=\"7\"> </tr></tbody></table>"
      ],
      "text/plain": [
       "<IPython.core.display.HTML object>"
      ]
     },
     "metadata": {},
     "output_type": "display_data"
    }
   ],
   "source": [
    "# If no data table appears in the output of this cell, run the cell to display the table.\n",
    "\n",
    "from IPython.display import HTML\n",
    "try:\n",
    "    import input_table\n",
    "except (ImportError, FileNotFoundError) as e:\n",
    "    print(\"Table editing will not work because `jupyter_datainputtable` module is not installed in python kernel\")\n",
    "display(HTML('<table class=\"jp-input_table\" id=\"it_1719606529958\"><caption class=\"jp-input_table\">Table 11</caption><tbody> <tr class=\"jp-input_table r0\">  <th class=\"jp-input_table r0 c0\"><button class=\"jp-input_table_lock_btn\" data-commandlinker-command=\"LockLabels:jupyter-inputtable\" data-commandlinker-args=\"{\\\"tableID\\\":\\\"it_1719606529958\\\"}\">Lock Column and Row Labels</button></th><th class=\"jp-input_table r0 c1\"><textarea class=\"jp-input_table_table_label\" size=\"15\">Col_0</textarea></th> </tr> <tr class=\"jp-input_table r1\"><th class=\"jp-input_table r1 c0\"><textarea class=\"jp-input_table_table_label\" size=\"7\">0</textarea></th>  <td class=\"jp-input_table r1 c1\"><textarea class=\"jp-input_table_data_cell\" size=\"7\"> </tr></tbody></table>'))"
   ]
  },
  {
   "cell_type": "code",
   "execution_count": 1,
   "id": "90439b99-eb73-436c-b2e2-8f61bfc0d3bb",
   "metadata": {},
   "outputs": [
    {
     "name": "stdout",
     "output_type": "stream",
     "text": [
      "Table editing will not work because `jupyter_datainputtable` module is not installed in python kernel\n"
     ]
    },
    {
     "data": {
      "text/html": [
       "<table class=\"jp-input_table\" id=\"it_1719606945876\"><caption class=\"jp-input_table\">Table 12</caption><tbody> <tr class=\"jp-input_table r0\">  <th class=\"jp-input_table r0 c0\"><button class=\"jp-input_table_lock_btn\" data-commandlinker-command=\"LockLabels:jupyter-inputtable\" data-commandlinker-args=\"{\"tableID\":\"it_1719606945876\"}\">Lock Column and Row Labels</button></th><th class=\"jp-input_table r0 c1\"><textarea class=\"jp-input_table_table_label\" size=\"15\">Col_0</textarea></th> </tr> <tr class=\"jp-input_table r1\"><th class=\"jp-input_table r1 c0\"><textarea class=\"jp-input_table_table_label\" size=\"7\">0</textarea></th>  <td class=\"jp-input_table r1 c1\"><textarea class=\"jp-input_table_data_cell\" size=\"7\"></textarea></td> </tr></tbody></table>"
      ],
      "text/plain": [
       "<IPython.core.display.HTML object>"
      ]
     },
     "metadata": {},
     "output_type": "display_data"
    }
   ],
   "source": [
    "# If no data table appears in the output of this cell, run the cell to display the table.\n",
    "\n",
    "from IPython.display import HTML\n",
    "try:\n",
    "    import input_table\n",
    "except (ImportError, FileNotFoundError) as e:\n",
    "    print(\"Table editing will not work because `jupyter_datainputtable` module is not installed in python kernel\")\n",
    "display(HTML('<table class=\"jp-input_table\" id=\"it_1719606945876\"><caption class=\"jp-input_table\">Table 12</caption><tbody> <tr class=\"jp-input_table r0\">  <th class=\"jp-input_table r0 c0\"><button class=\"jp-input_table_lock_btn\" data-commandlinker-command=\"LockLabels:jupyter-inputtable\" data-commandlinker-args=\"{\\\"tableID\\\":\\\"it_1719606945876\\\"}\">Lock Column and Row Labels</button></th><th class=\"jp-input_table r0 c1\"><textarea class=\"jp-input_table_table_label\" size=\"15\">Col_0</textarea></th> </tr> <tr class=\"jp-input_table r1\"><th class=\"jp-input_table r1 c0\"><textarea class=\"jp-input_table_table_label\" size=\"7\">0</textarea></th>  <td class=\"jp-input_table r1 c1\"><textarea class=\"jp-input_table_data_cell\" size=\"7\"></textarea></td> </tr></tbody></table>'))"
   ]
  },
  {
   "cell_type": "code",
   "execution_count": 1,
   "id": "86f633d9-031d-4c65-a928-094da220f9e1",
   "metadata": {},
   "outputs": [
    {
     "name": "stdout",
     "output_type": "stream",
     "text": [
      "Table editing will not work because `jupyter_datainputtable` module is not installed in python kernel\n"
     ]
    },
    {
     "data": {
      "text/html": [
       "<table class=\"jp-input_table\" id=\"it_1719607997879\"><caption class=\"jp-input_table\">Table 13: Still trying to pass args to the command</caption><tbody> <tr class=\"jp-input_table r0\">  <th class=\"jp-input_table r0 c0\"><button class=\"jp-input_table_lock_btn\" data-commandlinker-command=\"LockLabels:jupyter-inputtable\" data-commandlinker-args=\"{tableID:it_1719607997879}\">Lock Column and Row Labels</button></th><th class=\"jp-input_table r0 c1\"><textarea class=\"jp-input_table_table_label\" size=\"15\">Col_0</textarea></th> </tr> <tr class=\"jp-input_table r1\"><th class=\"jp-input_table r1 c0\"><textarea class=\"jp-input_table_table_label\" size=\"7\">0</textarea></th>  <td class=\"jp-input_table r1 c1\"><textarea class=\"jp-input_table_data_cell\" size=\"7\"></textarea></td> </tr></tbody></table>"
      ],
      "text/plain": [
       "<IPython.core.display.HTML object>"
      ]
     },
     "metadata": {},
     "output_type": "display_data"
    }
   ],
   "source": [
    "# If no data table appears in the output of this cell, run the cell to display the table.\n",
    "\n",
    "from IPython.display import HTML\n",
    "try:\n",
    "    import input_table\n",
    "except (ImportError, FileNotFoundError) as e:\n",
    "    print(\"Table editing will not work because `jupyter_datainputtable` module is not installed in python kernel\")\n",
    "display(HTML('<table class=\"jp-input_table\" id=\"it_1719607997879\"><caption class=\"jp-input_table\">Table 13: Still trying to pass args to the command</caption><tbody> <tr class=\"jp-input_table r0\">  <th class=\"jp-input_table r0 c0\"><button class=\"jp-input_table_lock_btn\" data-commandlinker-command=\"LockLabels:jupyter-inputtable\" data-commandlinker-args=\"{tableID:it_1719607997879}\">Lock Column and Row Labels</button></th><th class=\"jp-input_table r0 c1\"><textarea class=\"jp-input_table_table_label\" size=\"15\">Col_0</textarea></th> </tr> <tr class=\"jp-input_table r1\"><th class=\"jp-input_table r1 c0\"><textarea class=\"jp-input_table_table_label\" size=\"7\">0</textarea></th>  <td class=\"jp-input_table r1 c1\"><textarea class=\"jp-input_table_data_cell\" size=\"7\"></textarea></td> </tr></tbody></table>'))"
   ]
  },
  {
   "cell_type": "code",
   "execution_count": 6,
   "id": "69896eff-5154-4a57-8b3f-c7e515f1ae84",
   "metadata": {},
   "outputs": [
    {
     "name": "stdout",
     "output_type": "stream",
     "text": [
      "Table editing will not work because `jupyter_datainputtable` module is not installed in python kernel\n"
     ]
    },
    {
     "data": {
      "text/html": [
       "<table class=\"jp-input_table\" id=\"it_1719608870053\"><caption class=\"jp-input_table\">Table 14: with escaped single quote on string</caption><tbody> <tr class=\"jp-input_table r0\">  <th class=\"jp-input_table r0 c0\"><button class=\"jp-input_table_lock_btn\" data-commandlinker-command=\"LockLabels:jupyter-inputtable\" data-commandlinker-args=\"{'tableID':'it_1719608870053'}\">Lock Column and Row Labels</button></th><th class=\"jp-input_table r0 c1\"><textarea class=\"jp-input_table_table_label\" size=\"15\">Col_0</textarea></th> </tr> <tr class=\"jp-input_table r1\"><th class=\"jp-input_table r1 c0\"><textarea class=\"jp-input_table_table_label\" size=\"7\">0</textarea></th>  <td class=\"jp-input_table r1 c1\"><textarea class=\"jp-input_table_data_cell\" size=\"7\"></textarea></td> </tr></tbody></table>"
      ],
      "text/plain": [
       "<IPython.core.display.HTML object>"
      ]
     },
     "metadata": {},
     "output_type": "display_data"
    }
   ],
   "source": [
    "# If no data table appears in the output of this cell, run the cell to display the table.\n",
    "\n",
    "from IPython.display import HTML\n",
    "try:\n",
    "    import input_table\n",
    "except (ImportError, FileNotFoundError) as e:\n",
    "    print(\"Table editing will not work because `jupyter_datainputtable` module is not installed in python kernel\")\n",
    "display(HTML('<table class=\"jp-input_table\" id=\"it_1719608870053\"><caption class=\"jp-input_table\">Table 14: with escaped single quote on string</caption><tbody> <tr class=\"jp-input_table r0\">  <th class=\"jp-input_table r0 c0\"><button class=\"jp-input_table_lock_btn\" data-commandlinker-command=\"LockLabels:jupyter-inputtable\" data-commandlinker-args=\"{\\'tableID\\':\\'it_1719608870053\\'}\">Lock Column and Row Labels</button></th><th class=\"jp-input_table r0 c1\"><textarea class=\"jp-input_table_table_label\" size=\"15\">Col_0</textarea></th> </tr> <tr class=\"jp-input_table r1\"><th class=\"jp-input_table r1 c0\"><textarea class=\"jp-input_table_table_label\" size=\"7\">0</textarea></th>  <td class=\"jp-input_table r1 c1\"><textarea class=\"jp-input_table_data_cell\" size=\"7\"></textarea></td> </tr></tbody></table>'))"
   ]
  },
  {
   "cell_type": "code",
   "execution_count": 2,
   "id": "9e61717d-b69d-4406-8fba-02c886628ef9",
   "metadata": {},
   "outputs": [
    {
     "name": "stdout",
     "output_type": "stream",
     "text": [
      "Table editing will not work because `jupyter_datainputtable` module is not installed in python kernel\n"
     ]
    },
    {
     "data": {
      "text/html": [
       "<table class=\"jp-input_table\" id=\"it_1719623599004\"><caption class=\"jp-input_table\">Table 15: Lock without passing tableID</caption><tbody> <tr class=\"jp-input_table r0\">  <th class=\"jp-input_table r0 c0\"><button class=\"jp-input_table_lock_btn\" data-commandlinker-command=\"LockLabels:jupyter-inputtable\" >Lock Column and Row Labels</button></th><th class=\"jp-input_table r0 c1\"><textarea class=\"jp-input_table_table_label\" size=\"15\">Col_0</textarea></th> </tr> <tr class=\"jp-input_table r1\"><th class=\"jp-input_table r1 c0\"><textarea class=\"jp-input_table_table_label\" size=\"7\">0</textarea></th>  <td class=\"jp-input_table r1 c1\"><textarea class=\"jp-input_table_data_cell\" size=\"7\"></textarea></td> </tr></tbody></table>"
      ],
      "text/plain": [
       "<IPython.core.display.HTML object>"
      ]
     },
     "metadata": {},
     "output_type": "display_data"
    }
   ],
   "source": [
    "# If no data table appears in the output of this cell, run the cell to display the table.\n",
    "\n",
    "from IPython.display import HTML\n",
    "try:\n",
    "    import input_table\n",
    "except (ImportError, FileNotFoundError) as e:\n",
    "    print(\"Table editing will not work because `jupyter_datainputtable` module is not installed in python kernel\")\n",
    "display(HTML('<table class=\"jp-input_table\" id=\"it_1719623599004\"><caption class=\"jp-input_table\">Table 15: Lock without passing tableID</caption><tbody> <tr class=\"jp-input_table r0\">  <th class=\"jp-input_table r0 c0\"><button class=\"jp-input_table_lock_btn\" data-commandlinker-command=\"LockLabels:jupyter-inputtable\" >Lock Column and Row Labels</button></th><th class=\"jp-input_table r0 c1\"><textarea class=\"jp-input_table_table_label\" size=\"15\">Col_0</textarea></th> </tr> <tr class=\"jp-input_table r1\"><th class=\"jp-input_table r1 c0\"><textarea class=\"jp-input_table_table_label\" size=\"7\">0</textarea></th>  <td class=\"jp-input_table r1 c1\"><textarea class=\"jp-input_table_data_cell\" size=\"7\"></textarea></td> </tr></tbody></table>'))"
   ]
  },
  {
   "cell_type": "markdown",
   "id": "f368fc9b-5378-48b9-a529-82709b10a4d0",
   "metadata": {},
   "source": [
    "This works."
   ]
  },
  {
   "cell_type": "code",
   "execution_count": 2,
   "id": "278ecb21-8775-4135-90d5-249f64f6146d",
   "metadata": {},
   "outputs": [
    {
     "name": "stdout",
     "output_type": "stream",
     "text": [
      "Table editing will not work because `jupyter_datainputtable` module is not installed in python kernel\n"
     ]
    },
    {
     "data": {
      "text/html": [
       "<table class=\"jp-input_table\" id=\"it_1719624558429\"><caption class=\"jp-input_table\">Table 16: Maybe saving now working</caption><tbody> <tr class=\"jp-input_table r0\">  <th class=\"jp-input_table r0 c0\"><button class=\"jp-input_table_lock_btn\" data-commandlinker-command=\"LockLabels:jupyter-inputtable\" >Lock Column and Row Labels</button></th><th class=\"jp-input_table r0 c1\"><textarea class=\"jp-input_table_table_label\" size=\"15\">Col_0</textarea></th> </tr> <tr class=\"jp-input_table r1\"><th class=\"jp-input_table r1 c0\"><textarea class=\"jp-input_table_table_label\" size=\"7\">0</textarea></th>  <td class=\"jp-input_table r1 c1\"><textarea class=\"jp-input_table_data_cell\" size=\"7\"></textarea></td> </tr></tbody></table>"
      ],
      "text/plain": [
       "<IPython.core.display.HTML object>"
      ]
     },
     "metadata": {},
     "output_type": "display_data"
    }
   ],
   "source": [
    "# If no data table appears in the output of this cell, run the cell to display the table.\n",
    "\n",
    "from IPython.display import HTML\n",
    "try:\n",
    "    import input_table\n",
    "except (ImportError, FileNotFoundError) as e:\n",
    "    print(\"Table editing will not work because `jupyter_datainputtable` module is not installed in python kernel\")\n",
    "display(HTML('<table class=\"jp-input_table\" id=\"it_1719624558429\"><caption class=\"jp-input_table\">Table 16: Maybe saving now working</caption><tbody> <tr class=\"jp-input_table r0\">  <th class=\"jp-input_table r0 c0\"><button class=\"jp-input_table_lock_btn\" data-commandlinker-command=\"LockLabels:jupyter-inputtable\" >Lock Column and Row Labels</button></th><th class=\"jp-input_table r0 c1\"><textarea class=\"jp-input_table_table_label\" size=\"15\">Col_0</textarea></th> </tr> <tr class=\"jp-input_table r1\"><th class=\"jp-input_table r1 c0\"><textarea class=\"jp-input_table_table_label\" size=\"7\">0</textarea></th>  <td class=\"jp-input_table r1 c1\"><textarea class=\"jp-input_table_data_cell\" size=\"7\"></textarea></td> </tr></tbody></table>'))"
   ]
  },
  {
   "cell_type": "code",
   "execution_count": 1,
   "id": "8d78e570-57dc-406d-968a-c1edd56cbdec",
   "metadata": {},
   "outputs": [
    {
     "name": "stdout",
     "output_type": "stream",
     "text": [
      "Table editing will not work because `jupyter_datainputtable` module is not installed in python kernel\n"
     ]
    },
    {
     "data": {
      "text/html": [
       "<table class=\"jp-input_table\" id=\"it_1719624984152\"><caption class=\"jp-input_table\">Table 17: more diagnostics on saving</caption><tbody> <tr class=\"jp-input_table r0\">  <th class=\"jp-input_table r0 c0\"><button class=\"jp-input_table_lock_btn\" data-commandlinker-command=\"LockLabels:jupyter-inputtable\" >Lock Column and Row Labels</button></th><th class=\"jp-input_table r0 c1\"><textarea class=\"jp-input_table_table_label\" size=\"15\">Col_0</textarea></th> </tr> <tr class=\"jp-input_table r1\"><th class=\"jp-input_table r1 c0\"><textarea class=\"jp-input_table_table_label\" size=\"7\">0</textarea></th>  <td class=\"jp-input_table r1 c1\"><textarea class=\"jp-input_table_data_cell\" size=\"7\"></textarea></td> </tr></tbody></table>"
      ],
      "text/plain": [
       "<IPython.core.display.HTML object>"
      ]
     },
     "metadata": {},
     "output_type": "display_data"
    }
   ],
   "source": [
    "# If no data table appears in the output of this cell, run the cell to display the table.\n",
    "\n",
    "from IPython.display import HTML\n",
    "try:\n",
    "    import input_table\n",
    "except (ImportError, FileNotFoundError) as e:\n",
    "    print(\"Table editing will not work because `jupyter_datainputtable` module is not installed in python kernel\")\n",
    "display(HTML('<table class=\"jp-input_table\" id=\"it_1719624984152\"><caption class=\"jp-input_table\">Table 17: more diagnostics on saving</caption><tbody> <tr class=\"jp-input_table r0\">  <th class=\"jp-input_table r0 c0\"><button class=\"jp-input_table_lock_btn\" data-commandlinker-command=\"LockLabels:jupyter-inputtable\" >Lock Column and Row Labels</button></th><th class=\"jp-input_table r0 c1\"><textarea class=\"jp-input_table_table_label\" size=\"15\">Col_0</textarea></th> </tr> <tr class=\"jp-input_table r1\"><th class=\"jp-input_table r1 c0\"><textarea class=\"jp-input_table_table_label\" size=\"7\">0</textarea></th>  <td class=\"jp-input_table r1 c1\"><textarea class=\"jp-input_table_data_cell\" size=\"7\"></textarea></td> </tr></tbody></table>'))"
   ]
  },
  {
   "cell_type": "code",
   "execution_count": 3,
   "id": "bc39c0a6-314d-40da-93b2-3bbae2dd0cb7",
   "metadata": {},
   "outputs": [
    {
     "name": "stdout",
     "output_type": "stream",
     "text": [
      "Table editing will not work because `jupyter_datainputtable` module is not installed in python kernel\n"
     ]
    },
    {
     "data": {
      "text/html": [
       "<table class=\"jp-input_table\" id=\"it_1719685138441\"><caption class=\"jp-input_table\">Table 18: SaveDataTable now has fallback</caption><tbody> <tr class=\"jp-input_table r0\">  <th class=\"jp-input_table r0 c0\"><select class=\"jp-input_table_menu\" onchange=\"var lastvalue = this.value;this.value = &quot;Table Actions&quot;;if(lastvalue==&quot;Edit Data&quot;){edit_input_table(&quot;it_1719685138441&quot;);}if(lastvalue==&quot;Data to Pandas...&quot;){data_table_to_Pandas(&quot;it_1719685138441&quot;);}\"><option title=\"Things you can do to this table.\">Table Actions</option><option title=\"Start editing the data.\">Edit Data</option><option title=\"Create a Panda DataFrame from table.\">Data to Pandas...</option></select></th><th class=\"jp-input_table r0 c1\"><span class=\"jp-input_table_table_label\">Col_0</span></th> </tr> <tr class=\"jp-input_table r1\"><th class=\"jp-input_table r1 c0\"><span class=\"jp-input_table_table_label\">0</span></th>  <td class=\"jp-input_table r1 c1\"><span class=\"jp-input_table_data_cell\"></span></td> </tr></tbody></table>"
      ],
      "text/plain": [
       "<IPython.core.display.HTML object>"
      ]
     },
     "metadata": {},
     "output_type": "display_data"
    }
   ],
   "source": [
    "# If no data table appears in the output of this cell, run the cell to display the table.\n",
    "\n",
    "from IPython.display import HTML\n",
    "try:\n",
    "    import input_table\n",
    "except (ImportError, FileNotFoundError) as e:\n",
    "    print(\"Table editing will not work because `jupyter_datainputtable` module is not installed in python kernel\")\n",
    "display(HTML('<table class=\"jp-input_table\" id=\"it_1719685138441\"><caption class=\"jp-input_table\">Table 18: SaveDataTable now has fallback</caption><tbody> <tr class=\"jp-input_table r0\">  <th class=\"jp-input_table r0 c0\"><select class=\"jp-input_table_menu\" onchange=\"var lastvalue = this.value;this.value = &quot;Table Actions&quot;;if(lastvalue==&quot;Edit Data&quot;){edit_input_table(&quot;it_1719685138441&quot;);}if(lastvalue==&quot;Data to Pandas...&quot;){data_table_to_Pandas(&quot;it_1719685138441&quot;);}\"><option title=\"Things you can do to this table.\">Table Actions</option><option title=\"Start editing the data.\">Edit Data</option><option title=\"Create a Panda DataFrame from table.\">Data to Pandas...</option></select></th><th class=\"jp-input_table r0 c1\"><span class=\"jp-input_table_table_label\">Col_0</span></th> </tr> <tr class=\"jp-input_table r1\"><th class=\"jp-input_table r1 c0\"><span class=\"jp-input_table_table_label\">0</span></th>  <td class=\"jp-input_table r1 c1\"><span class=\"jp-input_table_data_cell\"></span></td> </tr></tbody></table>'))"
   ]
  },
  {
   "cell_type": "markdown",
   "id": "2abc52da-ee94-443c-aca3-48c24a5bddbf",
   "metadata": {},
   "source": [
    "Not picking up contents of jp-input_table_data_cell"
   ]
  },
  {
   "cell_type": "code",
   "execution_count": 1,
   "id": "81351117-25dd-421a-88e2-6640c908c21b",
   "metadata": {},
   "outputs": [
    {
     "name": "stdout",
     "output_type": "stream",
     "text": [
      "Table editing will not work because `jupyter_datainputtable` module is not installed in python kernel\n"
     ]
    },
    {
     "data": {
      "text/html": [
       "<table class=\"jp-input_table\" id=\"it_1719685858635\"><caption class=\"jp-input_table\">Table 19: trying debugger</caption><tbody> <tr class=\"jp-input_table r0\">  <th class=\"jp-input_table r0 c0\"><select class=\"jp-input_table_menu\" onchange=\"var lastvalue = this.value;this.value = &quot;Table Actions&quot;;if(lastvalue==&quot;Edit Data&quot;){edit_input_table(&quot;it_1719685858635&quot;);}if(lastvalue==&quot;Data to Pandas...&quot;){data_table_to_Pandas(&quot;it_1719685858635&quot;);}\"><option title=\"Things you can do to this table.\">Table Actions</option><option title=\"Start editing the data.\">Edit Data</option><option title=\"Create a Panda DataFrame from table.\">Data to Pandas...</option></select></th><th class=\"jp-input_table r0 c1\"><span class=\"jp-input_table_table_label\">Col_0</span></th> </tr> <tr class=\"jp-input_table r1\"><th class=\"jp-input_table r1 c0\"><span class=\"jp-input_table_table_label\">0</span></th>  <td class=\"jp-input_table r1 c1\"><span class=\"jp-input_table_data_cell\"></span></td> </tr></tbody></table>"
      ],
      "text/plain": [
       "<IPython.core.display.HTML object>"
      ]
     },
     "metadata": {},
     "output_type": "display_data"
    }
   ],
   "source": [
    "# If no data table appears in the output of this cell, run the cell to display the table.\n",
    "\n",
    "from IPython.display import HTML\n",
    "try:\n",
    "    import input_table\n",
    "except (ImportError, FileNotFoundError) as e:\n",
    "    print(\"Table editing will not work because `jupyter_datainputtable` module is not installed in python kernel\")\n",
    "display(HTML('<table class=\"jp-input_table\" id=\"it_1719685858635\"><caption class=\"jp-input_table\">Table 19: trying debugger</caption><tbody> <tr class=\"jp-input_table r0\">  <th class=\"jp-input_table r0 c0\"><select class=\"jp-input_table_menu\" onchange=\"var lastvalue = this.value;this.value = &quot;Table Actions&quot;;if(lastvalue==&quot;Edit Data&quot;){edit_input_table(&quot;it_1719685858635&quot;);}if(lastvalue==&quot;Data to Pandas...&quot;){data_table_to_Pandas(&quot;it_1719685858635&quot;);}\"><option title=\"Things you can do to this table.\">Table Actions</option><option title=\"Start editing the data.\">Edit Data</option><option title=\"Create a Panda DataFrame from table.\">Data to Pandas...</option></select></th><th class=\"jp-input_table r0 c1\"><span class=\"jp-input_table_table_label\">Col_0</span></th> </tr> <tr class=\"jp-input_table r1\"><th class=\"jp-input_table r1 c0\"><span class=\"jp-input_table_table_label\">0</span></th>  <td class=\"jp-input_table r1 c1\"><span class=\"jp-input_table_data_cell\"></span></td> </tr></tbody></table>'))"
   ]
  },
  {
   "cell_type": "code",
   "execution_count": 1,
   "id": "deaf010b-bb4a-41d0-8173-82fe036b49d5",
   "metadata": {},
   "outputs": [
    {
     "name": "stdout",
     "output_type": "stream",
     "text": [
      "Table editing will not work because `jupyter_datainputtable` module is not installed in python kernel\n"
     ]
    },
    {
     "data": {
      "text/html": [
       "<table class=\"jp-input_table\" id=\"it_1719710897401\"><caption class=\"jp-input_table\">Table 20: explore DOM for where text is stored in text area</caption><tbody> <tr class=\"jp-input_table r0\">  <th class=\"jp-input_table r0 c0\"><select class=\"jp-input_table_menu\" onchange=\"var lastvalue = this.value;this.value = &quot;Table Actions&quot;;if(lastvalue==&quot;Edit Data&quot;){edit_input_table(&quot;it_1719710897401&quot;);}if(lastvalue==&quot;Data to Pandas...&quot;){data_table_to_Pandas(&quot;it_1719710897401&quot;);}\"><option title=\"Things you can do to this table.\">Table Actions</option><option title=\"Start editing the data.\">Edit Data</option><option title=\"Create a Panda DataFrame from table.\">Data to Pandas...</option></select></th><th class=\"jp-input_table r0 c1\"><span class=\"jp-input_table_table_label\">Col_0</span></th> </tr> <tr class=\"jp-input_table r1\"><th class=\"jp-input_table r1 c0\"><span class=\"jp-input_table_table_label\">0</span></th>  <td class=\"jp-input_table r1 c1\"><span class=\"jp-input_table_data_cell\"></span></td> </tr></tbody></table>"
      ],
      "text/plain": [
       "<IPython.core.display.HTML object>"
      ]
     },
     "metadata": {},
     "output_type": "display_data"
    }
   ],
   "source": [
    "# If no data table appears in the output of this cell, run the cell to display the table.\n",
    "\n",
    "from IPython.display import HTML\n",
    "try:\n",
    "    import input_table\n",
    "except (ImportError, FileNotFoundError) as e:\n",
    "    print(\"Table editing will not work because `jupyter_datainputtable` module is not installed in python kernel\")\n",
    "display(HTML('<table class=\"jp-input_table\" id=\"it_1719710897401\"><caption class=\"jp-input_table\">Table 20: explore DOM for where text is stored in text area</caption><tbody> <tr class=\"jp-input_table r0\">  <th class=\"jp-input_table r0 c0\"><select class=\"jp-input_table_menu\" onchange=\"var lastvalue = this.value;this.value = &quot;Table Actions&quot;;if(lastvalue==&quot;Edit Data&quot;){edit_input_table(&quot;it_1719710897401&quot;);}if(lastvalue==&quot;Data to Pandas...&quot;){data_table_to_Pandas(&quot;it_1719710897401&quot;);}\"><option title=\"Things you can do to this table.\">Table Actions</option><option title=\"Start editing the data.\">Edit Data</option><option title=\"Create a Panda DataFrame from table.\">Data to Pandas...</option></select></th><th class=\"jp-input_table r0 c1\"><span class=\"jp-input_table_table_label\">Col_0</span></th> </tr> <tr class=\"jp-input_table r1\"><th class=\"jp-input_table r1 c0\"><span class=\"jp-input_table_table_label\">0</span></th>  <td class=\"jp-input_table r1 c1\"><span class=\"jp-input_table_data_cell\"></span></td> </tr></tbody></table>'))"
   ]
  },
  {
   "cell_type": "code",
   "execution_count": 2,
   "id": "f5da7232-3ced-4280-915f-a94945aa60a1",
   "metadata": {},
   "outputs": [
    {
     "name": "stdout",
     "output_type": "stream",
     "text": [
      "Table editing will not work because `jupyter_datainputtable` module is not installed in python kernel\n"
     ]
    },
    {
     "data": {
      "text/html": [
       "<table class=\"jp-input_table\" id=\"it_1719712541973\"><caption class=\"jp-input_table\">Table 21: using value of textarea</caption><tbody> <tr class=\"jp-input_table r0\">  <th class=\"jp-input_table r0 c0\"><select class=\"jp-input_table_menu\" onchange=\"var lastvalue = this.value;this.value = &quot;Table Actions&quot;;if(lastvalue==&quot;Edit Data&quot;){edit_input_table(&quot;it_1719712541973&quot;);}if(lastvalue==&quot;Data to Pandas...&quot;){data_table_to_Pandas(&quot;it_1719712541973&quot;);}\"><option title=\"Things you can do to this table.\">Table Actions</option><option title=\"Start editing the data.\">Edit Data</option><option title=\"Create a Panda DataFrame from table.\">Data to Pandas...</option></select></th><th class=\"jp-input_table r0 c1\"><span class=\"jp-input_table_table_label\">Col_0</span></th> </tr> <tr class=\"jp-input_table r1\"><th class=\"jp-input_table r1 c0\"><span class=\"jp-input_table_table_label\">0</span></th>  <td class=\"jp-input_table r1 c1\"><span class=\"jp-input_table_data_cell\">test text.</span></td> </tr></tbody></table>"
      ],
      "text/plain": [
       "<IPython.core.display.HTML object>"
      ]
     },
     "metadata": {},
     "output_type": "display_data"
    }
   ],
   "source": [
    "# If no data table appears in the output of this cell, run the cell to display the table.\n",
    "\n",
    "from IPython.display import HTML\n",
    "try:\n",
    "    import input_table\n",
    "except (ImportError, FileNotFoundError) as e:\n",
    "    print(\"Table editing will not work because `jupyter_datainputtable` module is not installed in python kernel\")\n",
    "display(HTML('<table class=\"jp-input_table\" id=\"it_1719712541973\"><caption class=\"jp-input_table\">Table 21: using value of textarea</caption><tbody> <tr class=\"jp-input_table r0\">  <th class=\"jp-input_table r0 c0\"><select class=\"jp-input_table_menu\" onchange=\"var lastvalue = this.value;this.value = &quot;Table Actions&quot;;if(lastvalue==&quot;Edit Data&quot;){edit_input_table(&quot;it_1719712541973&quot;);}if(lastvalue==&quot;Data to Pandas...&quot;){data_table_to_Pandas(&quot;it_1719712541973&quot;);}\"><option title=\"Things you can do to this table.\">Table Actions</option><option title=\"Start editing the data.\">Edit Data</option><option title=\"Create a Panda DataFrame from table.\">Data to Pandas...</option></select></th><th class=\"jp-input_table r0 c1\"><span class=\"jp-input_table_table_label\">Col_0</span></th> </tr> <tr class=\"jp-input_table r1\"><th class=\"jp-input_table r1 c0\"><span class=\"jp-input_table_table_label\">0</span></th>  <td class=\"jp-input_table r1 c1\"><span class=\"jp-input_table_data_cell\">test text.</span></td> </tr></tbody></table>'))"
   ]
  },
  {
   "cell_type": "markdown",
   "id": "23f92401-806d-47a0-a6a5-f3b08084d54d",
   "metadata": {},
   "source": [
    "<table class=\"jp-input_table_actions\">\n",
    "    <tr>\n",
    "        <th class=\"jp-input_table_actions\">Table Actions:</th>\n",
    "        <td class=\"jp-input_table_actions\"><button class =\"jp-Button jp-input_table_actions_btn\">button 1</button></td>\n",
    "        <td class=\"jp-input_table_actions\"><button class =\"jp-Button jp-input_table_actions_btn\">button 2</button></td>\n",
    "        <td class=\"jp-input_table_actions\"><button class =\"jp-Button jp-input_table_actions_btn\">button 3</button></td>\n",
    "        <td class=\"jp-input_table_actions\"><button class =\"jp-Button jp-input_table_actions_btn\">button 4</button></td>\n",
    "    </tr>\n",
    "</table>\n",
    "<table>\n",
    "    <caption>Table Caption</caption>\n",
    "    <tr><td>R1 C1</td><td>R1 C2</td></tr>\n",
    "    <tr><td>R2 C1</td><td>R2 C2</td></tr>\n",
    "</table>"
   ]
  },
  {
   "cell_type": "code",
   "execution_count": 2,
   "id": "d70bd382-9fd7-4527-87c0-c7353c72524b",
   "metadata": {},
   "outputs": [
    {
     "data": {
      "text/html": [
       "<table class=\"jp-input_table\" id=\"it_1719841844632\"><caption class=\"jp-input_table\">Table 22: First pass with table action buttons</caption><tbody> <tr class=\"jp-input_table r0\">  <th class=\"jp-input_table r0 c0\"></th><th class=\"jp-input_table r0 c1\"><span class=\"jp-input_table_table_label\">Col_0</span></th> </tr> <tr class=\"jp-input_table r1\"><th class=\"jp-input_table r1 c0\"><span class=\"jp-input_table_table_label\">0</span></th>  <td class=\"jp-input_table r1 c1\"><span class=\"jp-input_table_data_cell\"></span></td> </tr></tbody></table>"
      ],
      "text/plain": [
       "<IPython.core.display.HTML object>"
      ]
     },
     "metadata": {},
     "output_type": "display_data"
    }
   ],
   "source": [
    "# If no data table appears in the output of this cell, run the cell to display the table.\n",
    "\n",
    "from IPython.display import HTML\n",
    "display(HTML('<table class=\"jp-input_table\" id=\"it_1719841844632\"><caption class=\"jp-input_table\">Table 22: First pass with table action buttons</caption><tbody> <tr class=\"jp-input_table r0\">  <th class=\"jp-input_table r0 c0\"></th><th class=\"jp-input_table r0 c1\"><span class=\"jp-input_table_table_label\">Col_0</span></th> </tr> <tr class=\"jp-input_table r1\"><th class=\"jp-input_table r1 c0\"><span class=\"jp-input_table_table_label\">0</span></th>  <td class=\"jp-input_table r1 c1\"><span class=\"jp-input_table_data_cell\"></span></td> </tr></tbody></table>'))"
   ]
  },
  {
   "cell_type": "code",
   "execution_count": 1,
   "id": "371dd579-25d1-40db-8c13-4c3d420fc10a",
   "metadata": {},
   "outputs": [
    {
     "ename": "SyntaxError",
     "evalue": "invalid syntax (1534990312.py, line 4)",
     "output_type": "error",
     "traceback": [
      "\u001b[0;36m  Cell \u001b[0;32mIn[1], line 4\u001b[0;36m\u001b[0m\n\u001b[0;31m    display(HTML('<div class=\"jp-input_table\"><table class = \"jp-input_table_actions\"><caption>Actions only work if jupyter-datainputtable extension installed.</caption><tr class = \"jp-input_table_actions\"><th class \"jp-input_table_actions\">Table Actions</th><td class =\"jp-input_table_actions\"><button class =\"jp-Button jp-input_table_actions_btn\" data-commandlinker-command=\"EditDataTable:jupyter-inputtable\" title=\"Start editing the data.\">Edit Data</button></td><td class =\"jp-input_table_actions\"><button class =\"jp-Button jp-input_table_actions_btn\" data-commandlinker-command=\"DataToPandas:jupyter-inputtable\" title=\"Create a Panda DataFrame from table.\">Data to Pandas...</button></td><td class =\"jp-input_table_actions\"><button class =\"jp-Button jp-input_table_actions_btn\" data-commandlinker-command=\"SaveDataTable:jupyter-inputtable\" title=\"Save the updated data table.\">Save Table</button></td></tr></table><table class=\"jp-input_table\" id=\"it_1719843088746\"><caption class=\"jp-input_table\">Table 23: Wrap in <div></caption><tbody> <tr class=\"jp-input_table r0\">  <th class=\"jp-input_table r0 c0\"><button class=\"jp-Button jp-input_table_lock_btn\" data-commandlinker-command=\"LockLabels:jupyter-inputtable\" >Lock Column and Row Labels</button></th><th class=\"jp-input_table r0 c1\"><textarea class=\"jp-input_table_table_label\" size=\"15\">Col_0</textarea></th> </tr> <tr class=\"jp-input_table r1\"><th class=\"jp-input_table r1 c0\"><textarea class=\"jp-input_table_table_label\" size=\"7\">0</textarea></th>  <td class=\"jp-input_table r1 c1\"><textarea class=\"jp-input_table_data_cell\" size=\"7\"></textarea></td> </tr></tbody></table>'))</div>\u001b[0m\n\u001b[0m                                                                                                                                                                                                                                                                                                                                                                                                                                                                                                                                                                                                                                                                                                                                                                                                                                                                                                                                                                                                                                                                                                                                                                                                                                                                                                                                                                                                                                                                                                                                                                                                                                                                                                      ^\u001b[0m\n\u001b[0;31mSyntaxError\u001b[0m\u001b[0;31m:\u001b[0m invalid syntax\n"
     ]
    }
   ],
   "source": [
    "# If no data table appears in the output of this cell, run the cell to display the table.\n",
    "\n",
    "from IPython.display import HTML\n",
    "display(HTML('<div class=\"jp-input_table\"><table class = \"jp-input_table_actions\"><caption>Actions only work if jupyter-datainputtable extension installed.</caption><tr class = \"jp-input_table_actions\"><th class \"jp-input_table_actions\">Table Actions</th><td class =\"jp-input_table_actions\"><button class =\"jp-Button jp-input_table_actions_btn\" data-commandlinker-command=\"EditDataTable:jupyter-inputtable\" title=\"Start editing the data.\">Edit Data</button></td><td class =\"jp-input_table_actions\"><button class =\"jp-Button jp-input_table_actions_btn\" data-commandlinker-command=\"DataToPandas:jupyter-inputtable\" title=\"Create a Panda DataFrame from table.\">Data to Pandas...</button></td><td class =\"jp-input_table_actions\"><button class =\"jp-Button jp-input_table_actions_btn\" data-commandlinker-command=\"SaveDataTable:jupyter-inputtable\" title=\"Save the updated data table.\">Save Table</button></td></tr></table><table class=\"jp-input_table\" id=\"it_1719843088746\"><caption class=\"jp-input_table\">Table 23: Wrap in <div></caption><tbody> <tr class=\"jp-input_table r0\">  <th class=\"jp-input_table r0 c0\"><button class=\"jp-Button jp-input_table_lock_btn\" data-commandlinker-command=\"LockLabels:jupyter-inputtable\" >Lock Column and Row Labels</button></th><th class=\"jp-input_table r0 c1\"><textarea class=\"jp-input_table_table_label\" size=\"15\">Col_0</textarea></th> </tr> <tr class=\"jp-input_table r1\"><th class=\"jp-input_table r1 c0\"><textarea class=\"jp-input_table_table_label\" size=\"7\">0</textarea></th>  <td class=\"jp-input_table r1 c1\"><textarea class=\"jp-input_table_data_cell\" size=\"7\"></textarea></td> </tr></tbody></table>'))</div>"
   ]
  },
  {
   "cell_type": "code",
   "execution_count": 1,
   "id": "76ec57ef-d9e2-4697-a091-39080c144735",
   "metadata": {},
   "outputs": [
    {
     "data": {
      "text/html": [
       "<div class=\"jp-input_table\"><table class = \"jp-input_table_actions\"><caption>Actions only work if jupyter-datainputtable extension installed.</caption><tr class = \"jp-input_table_actions\"><th class \"jp-input_table_actions\">Table Actions</th><td class =\"jp-input_table_actions\"><button class =\"jp-Button jp-input_table_actions_btn\" data-commandlinker-command=\"EditDataTable:jupyter-inputtable\" title=\"Start editing the data.\">Edit Data</button></td><td class =\"jp-input_table_actions\"><button class =\"jp-Button jp-input_table_actions_btn\" data-commandlinker-command=\"DataToPandas:jupyter-inputtable\" title=\"Create a Panda DataFrame from table.\">Data to Pandas...</button></td><td class =\"jp-input_table_actions\"><button class =\"jp-Button jp-input_table_actions_btn\" data-commandlinker-command=\"SaveDataTable:jupyter-inputtable\" title=\"Save the updated data table.\">Save Table</button></td></tr></table><table class=\"jp-input_table\" id=\"it_1719851491130\"><caption class=\"jp-input_table\">Table 23: again syntax fixes</caption><tbody> <tr class=\"jp-input_table r0\">  <th class=\"jp-input_table r0 c0\"></th><th class=\"jp-input_table r0 c1\"><span class=\"jp-input_table_table_label\">Col_0</span></th> </tr> <tr class=\"jp-input_table r1\"><th class=\"jp-input_table r1 c0\"><span class=\"jp-input_table_table_label\">0</span></th>  <td class=\"jp-input_table r1 c1\"><span class=\"jp-input_table_data_cell\">Test text</span></td> </tr></tbody></table></div>"
      ],
      "text/plain": [
       "<IPython.core.display.HTML object>"
      ]
     },
     "metadata": {},
     "output_type": "display_data"
    }
   ],
   "source": [
    "# If no data table appears in the output of this cell, run the cell to display the table.\n",
    "\n",
    "from IPython.display import HTML\n",
    "display(HTML('<div class=\"jp-input_table\"><table class = \"jp-input_table_actions\"><caption>Actions only work if jupyter-datainputtable extension installed.</caption><tr class = \"jp-input_table_actions\"><th class \"jp-input_table_actions\">Table Actions</th><td class =\"jp-input_table_actions\"><button class =\"jp-Button jp-input_table_actions_btn\" data-commandlinker-command=\"EditDataTable:jupyter-inputtable\" title=\"Start editing the data.\">Edit Data</button></td><td class =\"jp-input_table_actions\"><button class =\"jp-Button jp-input_table_actions_btn\" data-commandlinker-command=\"DataToPandas:jupyter-inputtable\" title=\"Create a Panda DataFrame from table.\">Data to Pandas...</button></td><td class =\"jp-input_table_actions\"><button class =\"jp-Button jp-input_table_actions_btn\" data-commandlinker-command=\"SaveDataTable:jupyter-inputtable\" title=\"Save the updated data table.\">Save Table</button></td></tr></table><table class=\"jp-input_table\" id=\"it_1719851491130\"><caption class=\"jp-input_table\">Table 23: again syntax fixes</caption><tbody> <tr class=\"jp-input_table r0\">  <th class=\"jp-input_table r0 c0\"></th><th class=\"jp-input_table r0 c1\"><span class=\"jp-input_table_table_label\">Col_0</span></th> </tr> <tr class=\"jp-input_table r1\"><th class=\"jp-input_table r1 c0\"><span class=\"jp-input_table_table_label\">0</span></th>  <td class=\"jp-input_table r1 c1\"><span class=\"jp-input_table_data_cell\">Test text</span></td> </tr></tbody></table></div>'))"
   ]
  },
  {
   "cell_type": "code",
   "execution_count": 8,
   "id": "f7440a2d-0fba-4d83-b70e-2b066b362340",
   "metadata": {},
   "outputs": [
    {
     "data": {
      "text/html": [
       "<div class=\"jp-input_table\"><div class = \"jp-input_table_actions\"><p class = \"jp-input_table_actions>Actions only work if jupyter-datainputtable extension installed.</p><div class = \"jp-input_table_actions_label\">Table Actions</div><button class =\"jp-Button jp-input_table_actions_btn\" data-commandlinker-command=\"EditDataTable:jupyter-inputtable\" title=\"Start editing the data.\">Edit Data</button><button class =\"jp-Button jp-input_table_actions_btn\" data-commandlinker-command=\"DataToPandas:jupyter-inputtable\" title=\"Create a Panda DataFrame from table.\">Data to Pandas...</button><button class =\"jp-Button jp-input_table_actions_btn\" data-commandlinker-command=\"SaveDataTable:jupyter-inputtable\" title=\"Save the updated data table.\">Save Table</button></div><table class=\"jp-input_table\" id=\"it_1719854499279\"><caption class=\"jp-input_table\">Table 24: actions as div command test</caption><tbody> <tr class=\"jp-input_table r0\">  <th class=\"jp-input_table r0 c0\"></th><th class=\"jp-input_table r0 c1\"><span class=\"jp-input_table_table_label\">Col_0</span></th> </tr> <tr class=\"jp-input_table r1\"><th class=\"jp-input_table r1 c0\"><span class=\"jp-input_table_table_label\">0</span></th>  <td class=\"jp-input_table r1 c1\"><span class=\"jp-input_table_data_cell\"></span></td> </tr></tbody></table></div>"
      ],
      "text/plain": [
       "<IPython.core.display.HTML object>"
      ]
     },
     "metadata": {},
     "output_type": "display_data"
    }
   ],
   "source": [
    "# If no data table appears in the output of this cell, run the cell to display the table.\n",
    "\n",
    "from IPython.display import HTML\n",
    "display(HTML('<div class=\"jp-input_table\"><div class = \"jp-input_table_actions\"><p class = \"jp-input_table_actions\">Actions only work if jupyter-datainputtable extension installed.</p><div class = \"jp-input_table_actions_label\">Table Actions</div><button class =\"jp-Button jp-input_table_actions_btn\" data-commandlinker-command=\"EditDataTable:jupyter-inputtable\" title=\"Start editing the data.\">Edit Data</button><button class =\"jp-Button jp-input_table_actions_btn\" data-commandlinker-command=\"DataToPandas:jupyter-inputtable\" title=\"Create a Panda DataFrame from table.\">Data to Pandas...</button><button class =\"jp-Button jp-input_table_actions_btn\" data-commandlinker-command=\"SaveDataTable:jupyter-inputtable\" title=\"Save the updated data table.\">Save Table</button></div><table class=\"jp-input_table\" id=\"it_1719854499279\"><caption class=\"jp-input_table\">Table 24: actions as div command test</caption><tbody> <tr class=\"jp-input_table r0\">  <th class=\"jp-input_table r0 c0\"></th><th class=\"jp-input_table r0 c1\"><span class=\"jp-input_table_table_label\">Col_0</span></th> </tr> <tr class=\"jp-input_table r1\"><th class=\"jp-input_table r1 c0\"><span class=\"jp-input_table_table_label\">0</span></th>  <td class=\"jp-input_table r1 c1\"><span class=\"jp-input_table_data_cell\"></span></td> </tr></tbody></table></div>'))"
   ]
  },
  {
   "cell_type": "code",
   "execution_count": 3,
   "id": "af9e6ff5-bf8c-4395-91b6-438fa236f91a",
   "metadata": {},
   "outputs": [
    {
     "data": {
      "text/html": [
       "<div class=\"jp-input_table\"><div class = \"jp-input_table_actions\"><p class = \"jp-input_table_actions\">Actions only work if jupyter-datainputtable extension installed.</p><div class = \"jp-input_table_actions_label\">Table Actions</div><button class =\"jp-Button jp-input_table_actions_btn\" data-commandlinker-command=\"EditDataTable:jupyter-inputtable\" title=\"Start editing the data.\">Edit Data</button><button class =\"jp-Button jp-input_table_actions_btn\" data-commandlinker-command=\"DataToPandas:jupyter-inputtable\" title=\"Create a Panda DataFrame from table.\">Data to Pandas...</button><button class =\"jp-Button jp-input_table_actions_btn\" data-commandlinker-command=\"SaveDataTable:jupyter-inputtable\" title=\"Save the updated data table.\">Save Table</button></div><table class=\"jp-input_table\" id=\"it_1719857008377\"><caption class=\"jp-input_table\">Table 25: Formatting and escaping</caption><tbody> <tr class=\"jp-input_table r0\">  <th class=\"jp-input_table r0 c0\"></th><th class=\"jp-input_table r0 c1\"><span class=\"jp-input_table_table_label\">Col_0</span></th> </tr> <tr class=\"jp-input_table r1\"><th class=\"jp-input_table r1 c0\"><span class=\"jp-input_table_table_label\">0</span></th>  <td class=\"jp-input_table r1 c1\"><span class=\"jp-input_table_data_cell\">Some test text.</span></td> </tr></tbody></table></div>"
      ],
      "text/plain": [
       "<IPython.core.display.HTML object>"
      ]
     },
     "metadata": {},
     "output_type": "display_data"
    }
   ],
   "source": [
    "# If no data table appears in the output of this cell, run the cell to display the table.\n",
    "\n",
    "from IPython.display import HTML\n",
    "display(HTML('<div class=\"jp-input_table\"><div class = \"jp-input_table_actions\"><p class = \"jp-input_table_actions\">Actions only work if jupyter-datainputtable extension installed.</p><div class = \"jp-input_table_actions_label\">Table Actions</div><button class =\"jp-Button jp-input_table_actions_btn\" data-commandlinker-command=\"EditDataTable:jupyter-inputtable\" title=\"Start editing the data.\">Edit Data</button><button class =\"jp-Button jp-input_table_actions_btn\" data-commandlinker-command=\"DataToPandas:jupyter-inputtable\" title=\"Create a Panda DataFrame from table.\">Data to Pandas...</button><button class =\"jp-Button jp-input_table_actions_btn\" data-commandlinker-command=\"SaveDataTable:jupyter-inputtable\" title=\"Save the updated data table.\">Save Table</button></div><table class=\"jp-input_table\" id=\"it_1719857008377\"><caption class=\"jp-input_table\">Table 25: Formatting and escaping</caption><tbody> <tr class=\"jp-input_table r0\">  <th class=\"jp-input_table r0 c0\"></th><th class=\"jp-input_table r0 c1\"><span class=\"jp-input_table_table_label\">Col_0</span></th> </tr> <tr class=\"jp-input_table r1\"><th class=\"jp-input_table r1 c0\"><span class=\"jp-input_table_table_label\">0</span></th>  <td class=\"jp-input_table r1 c1\"><span class=\"jp-input_table_data_cell\">Some test text.</span></td> </tr></tbody></table></div>'))"
   ]
  },
  {
   "cell_type": "code",
   "execution_count": 4,
   "id": "89d172a8-b88c-4c13-8ebc-a5c3ae30c5ce",
   "metadata": {},
   "outputs": [
    {
     "data": {
      "text/html": [
       "<div class=\"jp-input_table\"><div class = \"jp-input_table_actions\"><p class = \"jp-input_table_actions\">Actions only work if jupyter-datainputtable extension installed.</p><div class = \"jp-input_table_actions_label\">Table Actions</div><button class =\"jp-Button jp-input_table_actions_btn\" data-commandlinker-command=\"EditDataTable:jupyter-inputtable\" data-commandlinker-args='{\"tableID\":\"it_1719861887855\"}'title=\"Start editing the data.\">Edit Data</button><button class =\"jp-Button jp-input_table_actions_btn\" data-commandlinker-command=\"DataToPandas:jupyter-inputtable\" data-commandlinker-args='{\"tableID\":\"it_1719861887855\"}'title=\"Create a Panda DataFrame from table.\">Data to Pandas...</button><button class =\"jp-Button jp-input_table_actions_btn\" data-commandlinker-command=\"SaveDataTable:jupyter-inputtable\" data-commandlinker-args='{\"tableID\":\"it_1719861887855\"}'title=\"Save the updated data table.\">Save Table</button></div><table class=\"jp-input_table\" id=\"it_1719861887855\"><caption class=\"jp-input_table\">Table 26: More escaping fixes</caption><tbody> <tr class=\"jp-input_table r0\">  <th class=\"jp-input_table r0 c0\"></th><th class=\"jp-input_table r0 c1\"><span class=\"jp-input_table_table_label\">Col_0</span></th> </tr> <tr class=\"jp-input_table r1\"><th class=\"jp-input_table r1 c0\"><span class=\"jp-input_table_table_label\">0</span></th>  <td class=\"jp-input_table r1 c1\"><span class=\"jp-input_table_data_cell\">Test text.</span></td> </tr></tbody></table></div>"
      ],
      "text/plain": [
       "<IPython.core.display.HTML object>"
      ]
     },
     "metadata": {},
     "output_type": "display_data"
    }
   ],
   "source": [
    "# If no data table appears in the output of this cell, run the cell to display the table.\n",
    "\n",
    "from IPython.display import HTML\n",
    "display(HTML('<div class=\"jp-input_table\"><div class = \"jp-input_table_actions\"><p class = \"jp-input_table_actions\">Actions only work if jupyter-datainputtable extension installed.</p><div class = \"jp-input_table_actions_label\">Table Actions</div><button class =\"jp-Button jp-input_table_actions_btn\" data-commandlinker-command=\"EditDataTable:jupyter-inputtable\" data-commandlinker-args=\\'{\"tableID\":\"it_1719861887855\"}\\'title=\"Start editing the data.\">Edit Data</button><button class =\"jp-Button jp-input_table_actions_btn\" data-commandlinker-command=\"DataToPandas:jupyter-inputtable\" data-commandlinker-args=\\'{\"tableID\":\"it_1719861887855\"}\\'title=\"Create a Panda DataFrame from table.\">Data to Pandas...</button><button class =\"jp-Button jp-input_table_actions_btn\" data-commandlinker-command=\"SaveDataTable:jupyter-inputtable\" data-commandlinker-args=\\'{\"tableID\":\"it_1719861887855\"}\\'title=\"Save the updated data table.\">Save Table</button></div><table class=\"jp-input_table\" id=\"it_1719861887855\"><caption class=\"jp-input_table\">Table 26: More escaping fixes</caption><tbody> <tr class=\"jp-input_table r0\">  <th class=\"jp-input_table r0 c0\"></th><th class=\"jp-input_table r0 c1\"><span class=\"jp-input_table_table_label\">Col_0</span></th> </tr> <tr class=\"jp-input_table r1\"><th class=\"jp-input_table r1 c0\"><span class=\"jp-input_table_table_label\">0</span></th>  <td class=\"jp-input_table r1 c1\"><span class=\"jp-input_table_data_cell\">Test text.</span></td> </tr></tbody></table></div>'))"
   ]
  },
  {
   "cell_type": "code",
   "execution_count": 4,
   "id": "ceb726c9-6802-4e36-8d19-89f3ecfce53c",
   "metadata": {},
   "outputs": [
    {
     "data": {
      "text/html": [
       "<div class=\"jp-input_table\"><div class = \"jp-input_table_actions\"><p class = \"jp-input_table_actions\">Actions only work if jupyter-datainputtable extension installed.</p><div class = \"jp-input_table_actions_label\">Table Actions</div><button class =\"jp-Button jp-input_table_actions_btn\" data-commandlinker-command=\"EditDataTable:jupyter-inputtable\" data-commandlinker-args='{\"tableID\":\"it_1719863975121\"}'title=\"Start editing the data.\">Edit Data</button><button class =\"jp-Button jp-input_table_actions_btn\" data-commandlinker-command=\"DataToPandas:jupyter-inputtable\" data-commandlinker-args='{\"tableID\":\"it_1719863975121\"}'title=\"Create a Panda DataFrame from table.\">Data to Pandas...</button><button class =\"jp-Button jp-input_table_actions_btn\" data-commandlinker-command=\"SaveDataTable:jupyter-inputtable\" data-commandlinker-args='{\"tableID\":\"it_1719863975121\"}'title=\"Save the updated data table.\">Save Table</button></div><table class=\"jp-input_table\" id=\"it_1719863975121\"><caption class=\"jp-input_table\">Table 27: Test 1 of Editing</caption><tbody> <tr class=\"jp-input_table r0\">  <th class=\"jp-input_table r0 c0\"></th><th class=\"jp-input_table r0 c1\"><span class=\"jp-input_table_table_label\">Col_0</span></th> </tr> <tr class=\"jp-input_table r1\"><th class=\"jp-input_table r1 c0\"><span class=\"jp-input_table_table_label\">0</span></th>  <td class=\"jp-input_table r1 c1\"><span class=\"jp-input_table_data_cell\">Corrected Text.</span></td> </tr></tbody></table></div>"
      ],
      "text/plain": [
       "<IPython.core.display.HTML object>"
      ]
     },
     "metadata": {},
     "output_type": "display_data"
    }
   ],
   "source": [
    "# If no data table appears in the output of this cell, run the cell to display the table.\n",
    "\n",
    "from IPython.display import HTML\n",
    "display(HTML('<div class=\"jp-input_table\"><div class = \"jp-input_table_actions\"><p class = \"jp-input_table_actions\">Actions only work if jupyter-datainputtable extension installed.</p><div class = \"jp-input_table_actions_label\">Table Actions</div><button class =\"jp-Button jp-input_table_actions_btn\" data-commandlinker-command=\"EditDataTable:jupyter-inputtable\" data-commandlinker-args=\\'{\"tableID\":\"it_1719863975121\"}\\'title=\"Start editing the data.\">Edit Data</button><button class =\"jp-Button jp-input_table_actions_btn\" data-commandlinker-command=\"DataToPandas:jupyter-inputtable\" data-commandlinker-args=\\'{\"tableID\":\"it_1719863975121\"}\\'title=\"Create a Panda DataFrame from table.\">Data to Pandas...</button><button class =\"jp-Button jp-input_table_actions_btn\" data-commandlinker-command=\"SaveDataTable:jupyter-inputtable\" data-commandlinker-args=\\'{\"tableID\":\"it_1719863975121\"}\\'title=\"Save the updated data table.\">Save Table</button></div><table class=\"jp-input_table\" id=\"it_1719863975121\"><caption class=\"jp-input_table\">Table 27: Test 1 of Editing</caption><tbody> <tr class=\"jp-input_table r0\">  <th class=\"jp-input_table r0 c0\"></th><th class=\"jp-input_table r0 c1\"><span class=\"jp-input_table_table_label\">Col_0</span></th> </tr> <tr class=\"jp-input_table r1\"><th class=\"jp-input_table r1 c0\"><span class=\"jp-input_table_table_label\">0</span></th>  <td class=\"jp-input_table r1 c1\"><span class=\"jp-input_table_data_cell\">Corrected Text.</span></td> </tr></tbody></table></div>'))"
   ]
  },
  {
   "cell_type": "code",
   "execution_count": 1,
   "id": "3c0ed946-bf72-444b-a9bf-bc8194ee0819",
   "metadata": {},
   "outputs": [
    {
     "data": {
      "text/html": [
       "<div class=\"jp-input_table\"><div class = \"jp-input_table_actions\"><p class = \"jp-input_table_actions\">Actions only work if jupyter-datainputtable extension installed.</p><div class = \"jp-input_table_actions_label\">Table Actions</div><button class =\"jp-Button jp-input_table_actions_btn\" data-commandlinker-command=\"EditDataTable:jupyter-inputtable\" data-commandlinker-args='{\"tableID\":\"it_1719868004695\"}'title=\"Start editing the data.\">Edit Data</button><button class =\"jp-Button jp-input_table_actions_btn\" data-commandlinker-command=\"DataToPandas:jupyter-inputtable\" data-commandlinker-args='{\"tableID\":\"it_1719868004695\"}'title=\"Create a Panda DataFrame from table.\">Data to Pandas...</button><button class =\"jp-Button jp-input_table_actions_btn\" data-commandlinker-command=\"SaveDataTable:jupyter-inputtable\" data-commandlinker-args='{\"tableID\":\"it_1719868004695\"}'title=\"Save the updated data table.\">Save Table</button></div><table class=\"jp-input_table\" id=\"it_1719868004695\"><caption class=\"jp-input_table\">3</caption><tbody> <tr class=\"jp-input_table r0\"> </tr> <tr class=\"jp-input_table r1\"> </tr> <tr class=\"jp-input_table r2\"> </tr></tbody></table></div>"
      ],
      "text/plain": [
       "<IPython.core.display.HTML object>"
      ]
     },
     "metadata": {},
     "output_type": "display_data"
    }
   ],
   "source": [
    "# If no data table appears in the output of this cell, run the cell to display the table.\n",
    "\n",
    "from IPython.display import HTML\n",
    "display(HTML('<div class=\"jp-input_table\"><div class = \"jp-input_table_actions\"><p class = \"jp-input_table_actions\">Actions only work if jupyter-datainputtable extension installed.</p><div class = \"jp-input_table_actions_label\">Table Actions</div><button class =\"jp-Button jp-input_table_actions_btn\" data-commandlinker-command=\"EditDataTable:jupyter-inputtable\" data-commandlinker-args=\\'{\"tableID\":\"it_1719868004695\"}\\'title=\"Start editing the data.\">Edit Data</button><button class =\"jp-Button jp-input_table_actions_btn\" data-commandlinker-command=\"DataToPandas:jupyter-inputtable\" data-commandlinker-args=\\'{\"tableID\":\"it_1719868004695\"}\\'title=\"Create a Panda DataFrame from table.\">Data to Pandas...</button><button class =\"jp-Button jp-input_table_actions_btn\" data-commandlinker-command=\"SaveDataTable:jupyter-inputtable\" data-commandlinker-args=\\'{\"tableID\":\"it_1719868004695\"}\\'title=\"Save the updated data table.\">Save Table</button></div><table class=\"jp-input_table\" id=\"it_1719868004695\"><caption class=\"jp-input_table\">3</caption><tbody> <tr class=\"jp-input_table r0\"> </tr> <tr class=\"jp-input_table r1\"> </tr> <tr class=\"jp-input_table r2\"> </tr></tbody></table></div>'))"
   ]
  },
  {
   "cell_type": "code",
   "execution_count": 1,
   "id": "1492a2fa-04a1-48bd-a9e0-f7ea0e46c716",
   "metadata": {},
   "outputs": [
    {
     "data": {
      "text/html": [
       "<div class=\"jp-input_table\"><div class = \"jp-input_table_actions\"><p class = \"jp-input_table_actions\">Actions only work if jupyter-datainputtable extension installed.</p><div class = \"jp-input_table_actions_label\">Table Actions</div><button class =\"jp-Button jp-input_table_actions_btn\" data-commandlinker-command=\"EditDataTable:jupyter-inputtable\" data-commandlinker-args='{\"tableID\":\"it_1719880400745\"}'title=\"Start editing the data.\">Edit Data</button><button class =\"jp-Button jp-input_table_actions_btn\" data-commandlinker-command=\"DataToPandas:jupyter-inputtable\" data-commandlinker-args='{\"tableID\":\"it_1719880400745\"}'title=\"Create a Panda DataFrame from table.\">Data to Pandas...</button><button class =\"jp-Button jp-input_table_actions_btn\" data-commandlinker-command=\"SaveDataTable:jupyter-inputtable\" data-commandlinker-args='{\"tableID\":\"it_1719880400745\"}'title=\"Save the updated data table.\">Save Table</button></div><table class=\"jp-input_table\" id=\"it_1719880400745\"><caption class=\"jp-input_table\">3</caption><tbody> <tr class=\"jp-input_table r0\"> </tr> <tr class=\"jp-input_table r1\"> </tr> <tr class=\"jp-input_table r2\"> </tr></tbody></table></div>"
      ],
      "text/plain": [
       "<IPython.core.display.HTML object>"
      ]
     },
     "metadata": {},
     "output_type": "display_data"
    }
   ],
   "source": [
    "# If no data table appears in the output of this cell, run the cell to display the table.\n",
    "\n",
    "from IPython.display import HTML\n",
    "display(HTML('<div class=\"jp-input_table\"><div class = \"jp-input_table_actions\"><p class = \"jp-input_table_actions\">Actions only work if jupyter-datainputtable extension installed.</p><div class = \"jp-input_table_actions_label\">Table Actions</div><button class =\"jp-Button jp-input_table_actions_btn\" data-commandlinker-command=\"EditDataTable:jupyter-inputtable\" data-commandlinker-args=\\'{\"tableID\":\"it_1719880400745\"}\\'title=\"Start editing the data.\">Edit Data</button><button class =\"jp-Button jp-input_table_actions_btn\" data-commandlinker-command=\"DataToPandas:jupyter-inputtable\" data-commandlinker-args=\\'{\"tableID\":\"it_1719880400745\"}\\'title=\"Create a Panda DataFrame from table.\">Data to Pandas...</button><button class =\"jp-Button jp-input_table_actions_btn\" data-commandlinker-command=\"SaveDataTable:jupyter-inputtable\" data-commandlinker-args=\\'{\"tableID\":\"it_1719880400745\"}\\'title=\"Save the updated data table.\">Save Table</button></div><table class=\"jp-input_table\" id=\"it_1719880400745\"><caption class=\"jp-input_table\">3</caption><tbody> <tr class=\"jp-input_table r0\"> </tr> <tr class=\"jp-input_table r1\"> </tr> <tr class=\"jp-input_table r2\"> </tr></tbody></table></div>'))"
   ]
  },
  {
   "cell_type": "code",
   "execution_count": 1,
   "id": "92491d53-0fba-4a12-a0c9-ad86f61a5ed4",
   "metadata": {},
   "outputs": [
    {
     "data": {
      "text/html": [
       "<div class=\"jp-input_table\"><div class = \"jp-input_table_actions\"><p class = \"jp-input_table_actions\">Actions only work if jupyter-datainputtable extension installed.</p><div class = \"jp-input_table_actions_label\">Table Actions</div><button class =\"jp-Button jp-input_table_actions_btn\" data-commandlinker-command=\"EditDataTable:jupyter-inputtable\" data-commandlinker-args='{\"tableID\":\"it_1719882122127\"}'title=\"Start editing the data.\">Edit Data</button><button class =\"jp-Button jp-input_table_actions_btn\" data-commandlinker-command=\"DataToPandas:jupyter-inputtable\" data-commandlinker-args='{\"tableID\":\"it_1719882122127\"}'title=\"Create a Panda DataFrame from table.\">Data to Pandas...</button><button class =\"jp-Button jp-input_table_actions_btn\" data-commandlinker-command=\"SaveDataTable:jupyter-inputtable\" data-commandlinker-args='{\"tableID\":\"it_1719882122127\"}'title=\"Save the updated data table.\">Save Table</button></div><table class=\"jp-input_table\" id=\"it_1719882122127\"><caption class=\"jp-input_table\">Table 30: Need to fix textbox shape</caption><tbody> <tr class=\"jp-input_table r0\">  <th class=\"jp-input_table r0 c0\"></th><th class=\"jp-input_table r0 c1\"><span class=\"jp-input_table_table_label\">Color</span></th><th class=\"jp-input_table r0 c2\"><span class=\"jp-input_table_table_label\">length (mm)</span></th> </tr> <tr class=\"jp-input_table r1\"><th class=\"jp-input_table r1 c0\"><span class=\"jp-input_table_table_label\">0</span></th>  <td class=\"jp-input_table r1 c1\"><span class=\"jp-input_table_data_cell\">blue</span></td>  <td class=\"jp-input_table r1 c2\"><span class=\"jp-input_table_data_cell\">34.0</span></td> </tr> <tr class=\"jp-input_table r2\"><th class=\"jp-input_table r2 c0\"><span class=\"jp-input_table_table_label\">1</span></th>  <td class=\"jp-input_table r2 c1\"><span class=\"jp-input_table_data_cell\">red</span></td>  <td class=\"jp-input_table r2 c2\"><span class=\"jp-input_table_data_cell\">25.2</span></td> </tr></tbody></table></div>"
      ],
      "text/plain": [
       "<IPython.core.display.HTML object>"
      ]
     },
     "metadata": {},
     "output_type": "display_data"
    }
   ],
   "source": [
    "# If no data table appears in the output of this cell, run the cell to display the table.\n",
    "\n",
    "from IPython.display import HTML\n",
    "display(HTML('<div class=\"jp-input_table\"><div class = \"jp-input_table_actions\"><p class = \"jp-input_table_actions\">Actions only work if jupyter-datainputtable extension installed.</p><div class = \"jp-input_table_actions_label\">Table Actions</div><button class =\"jp-Button jp-input_table_actions_btn\" data-commandlinker-command=\"EditDataTable:jupyter-inputtable\" data-commandlinker-args=\\'{\"tableID\":\"it_1719882122127\"}\\'title=\"Start editing the data.\">Edit Data</button><button class =\"jp-Button jp-input_table_actions_btn\" data-commandlinker-command=\"DataToPandas:jupyter-inputtable\" data-commandlinker-args=\\'{\"tableID\":\"it_1719882122127\"}\\'title=\"Create a Panda DataFrame from table.\">Data to Pandas...</button><button class =\"jp-Button jp-input_table_actions_btn\" data-commandlinker-command=\"SaveDataTable:jupyter-inputtable\" data-commandlinker-args=\\'{\"tableID\":\"it_1719882122127\"}\\'title=\"Save the updated data table.\">Save Table</button></div><table class=\"jp-input_table\" id=\"it_1719882122127\"><caption class=\"jp-input_table\">Table 30: Need to fix textbox shape</caption><tbody> <tr class=\"jp-input_table r0\">  <th class=\"jp-input_table r0 c0\"></th><th class=\"jp-input_table r0 c1\"><span class=\"jp-input_table_table_label\">Color</span></th><th class=\"jp-input_table r0 c2\"><span class=\"jp-input_table_table_label\">length (mm)</span></th> </tr> <tr class=\"jp-input_table r1\"><th class=\"jp-input_table r1 c0\"><span class=\"jp-input_table_table_label\">0</span></th>  <td class=\"jp-input_table r1 c1\"><span class=\"jp-input_table_data_cell\">blue</span></td>  <td class=\"jp-input_table r1 c2\"><span class=\"jp-input_table_data_cell\">34.0</span></td> </tr> <tr class=\"jp-input_table r2\"><th class=\"jp-input_table r2 c0\"><span class=\"jp-input_table_table_label\">1</span></th>  <td class=\"jp-input_table r2 c1\"><span class=\"jp-input_table_data_cell\">red</span></td>  <td class=\"jp-input_table r2 c2\"><span class=\"jp-input_table_data_cell\">25.2</span></td> </tr></tbody></table></div>'))"
   ]
  },
  {
   "cell_type": "code",
   "execution_count": 1,
   "id": "ae9180bd-a7fb-4ea4-8872-90967c937373",
   "metadata": {},
   "outputs": [
    {
     "data": {
      "text/html": [
       "<div class=\"jp-input_table\"><div class = \"jp-input_table_actions\"><p class = \"jp-input_table_actions\">Actions only work if jupyter-datainputtable extension installed.</p><div class = \"jp-input_table_actions_label\">Table Actions</div><button class =\"jp-Button jp-input_table_actions_btn\" data-commandlinker-command=\"EditDataTable:jupyter-inputtable\" data-commandlinker-args='{\"tableID\":\"it_1719889659598\"}'title=\"Start editing the data.\">Edit Data</button><button class =\"jp-Button jp-input_table_actions_btn\" data-commandlinker-command=\"DataToPandas:jupyter-inputtable\" data-commandlinker-args='{\"tableID\":\"it_1719889659598\"}'title=\"Create a Panda DataFrame from table.\">Data to Pandas...</button><button class =\"jp-Button jp-input_table_actions_btn\" data-commandlinker-command=\"SaveDataTable:jupyter-inputtable\" data-commandlinker-args='{\"tableID\":\"it_1719889659598\"}'title=\"Save the updated data table.\">Save Table</button></div><table class=\"jp-input_table\" id=\"it_1719889659598\"><caption class=\"jp-input_table\">Table 31: The caption box looks good in the dialog.</caption><tbody> <tr class=\"jp-input_table r0\">  <th class=\"jp-input_table r0 c0\"></th><th class=\"jp-input_table r0 c1\"><span class=\"jp-input_table_table_label\">Col_0</span></th> </tr> <tr class=\"jp-input_table r1\"><th class=\"jp-input_table r1 c0\"><span class=\"jp-input_table_table_label\">0</span></th>  <td class=\"jp-input_table r1 c1\"><span class=\"jp-input_table_data_cell\">formatting of text area now works.</span></td> </tr></tbody></table></div>"
      ],
      "text/plain": [
       "<IPython.core.display.HTML object>"
      ]
     },
     "metadata": {},
     "output_type": "display_data"
    }
   ],
   "source": [
    "# If no data table appears in the output of this cell, run the cell to display the table.\n",
    "\n",
    "from IPython.display import HTML\n",
    "display(HTML('<div class=\"jp-input_table\"><div class = \"jp-input_table_actions\"><p class = \"jp-input_table_actions\">Actions only work if jupyter-datainputtable extension installed.</p><div class = \"jp-input_table_actions_label\">Table Actions</div><button class =\"jp-Button jp-input_table_actions_btn\" data-commandlinker-command=\"EditDataTable:jupyter-inputtable\" data-commandlinker-args=\\'{\"tableID\":\"it_1719889659598\"}\\'title=\"Start editing the data.\">Edit Data</button><button class =\"jp-Button jp-input_table_actions_btn\" data-commandlinker-command=\"DataToPandas:jupyter-inputtable\" data-commandlinker-args=\\'{\"tableID\":\"it_1719889659598\"}\\'title=\"Create a Panda DataFrame from table.\">Data to Pandas...</button><button class =\"jp-Button jp-input_table_actions_btn\" data-commandlinker-command=\"SaveDataTable:jupyter-inputtable\" data-commandlinker-args=\\'{\"tableID\":\"it_1719889659598\"}\\'title=\"Save the updated data table.\">Save Table</button></div><table class=\"jp-input_table\" id=\"it_1719889659598\"><caption class=\"jp-input_table\">Table 31: The caption box looks good in the dialog.</caption><tbody> <tr class=\"jp-input_table r0\">  <th class=\"jp-input_table r0 c0\"></th><th class=\"jp-input_table r0 c1\"><span class=\"jp-input_table_table_label\">Col_0</span></th> </tr> <tr class=\"jp-input_table r1\"><th class=\"jp-input_table r1 c0\"><span class=\"jp-input_table_table_label\">0</span></th>  <td class=\"jp-input_table r1 c1\"><span class=\"jp-input_table_data_cell\">formatting of text area now works.</span></td> </tr></tbody></table></div>'))"
   ]
  },
  {
   "cell_type": "code",
   "execution_count": 2,
   "id": "9fcc7237-a666-4509-ae1d-3329b2ce85b0",
   "metadata": {
    "deletable": false,
    "editable": false
   },
   "outputs": [
    {
     "data": {
      "text/html": [
       "<div class=\"jp-input_table\"><div class = \"jp-input_table_actions\"><p class = \"jp-input_table_actions\">Actions only work if jupyter-datainputtable extension installed.</p><div class = \"jp-input_table_actions_label\">Table Actions</div><button class =\"jp-Button jp-input_table_actions_btn\" data-commandlinker-command=\"EditDataTable:jupyter-inputtable\" data-commandlinker-args='{\"tableID\":\"it_1719891997635\"}'title=\"Start editing the data.\">Edit Data</button><button class =\"jp-Button jp-input_table_actions_btn\" data-commandlinker-command=\"DataToPandas:jupyter-inputtable\" data-commandlinker-args='{\"tableID\":\"it_1719891997635\"}'title=\"Create a Panda DataFrame from table.\">Data to Pandas...</button><button class =\"jp-Button jp-input_table_actions_btn\" data-commandlinker-command=\"SaveDataTable:jupyter-inputtable\" data-commandlinker-args='{\"tableID\":\"it_1719891997635\"}'title=\"Save the updated data table.\">Save Table</button></div><table class=\"jp-input_table\" id=\"it_1719891997635\"><caption class=\"jp-input_table\">Table 32: Testing cell locking and auto run.</caption><tbody> <tr class=\"jp-input_table r0\">  <th class=\"jp-input_table r0 c0\"></th><th class=\"jp-input_table r0 c1\"><span class=\"jp-input_table_table_label\">Col_0</span></th> </tr> <tr class=\"jp-input_table r1\"><th class=\"jp-input_table r1 c0\"><span class=\"jp-input_table_table_label\">0</span></th>  <td class=\"jp-input_table r1 c1\"><span class=\"jp-input_table_data_cell\">sometext and more. Formatting now works. Cell is also resizable.</span></td> </tr></tbody></table></div>"
      ],
      "text/plain": [
       "<IPython.core.display.HTML object>"
      ]
     },
     "metadata": {},
     "output_type": "display_data"
    }
   ],
   "source": [
    "# If no data table appears in the output of this cell, run the cell to display the table.\n",
    "\n",
    "from IPython.display import HTML\n",
    "display(HTML('<div class=\"jp-input_table\"><div class = \"jp-input_table_actions\"><p class = \"jp-input_table_actions\">Actions only work if jupyter-datainputtable extension installed.</p><div class = \"jp-input_table_actions_label\">Table Actions</div><button class =\"jp-Button jp-input_table_actions_btn\" data-commandlinker-command=\"EditDataTable:jupyter-inputtable\" data-commandlinker-args=\\'{\"tableID\":\"it_1719891997635\"}\\'title=\"Start editing the data.\">Edit Data</button><button class =\"jp-Button jp-input_table_actions_btn\" data-commandlinker-command=\"DataToPandas:jupyter-inputtable\" data-commandlinker-args=\\'{\"tableID\":\"it_1719891997635\"}\\'title=\"Create a Panda DataFrame from table.\">Data to Pandas...</button><button class =\"jp-Button jp-input_table_actions_btn\" data-commandlinker-command=\"SaveDataTable:jupyter-inputtable\" data-commandlinker-args=\\'{\"tableID\":\"it_1719891997635\"}\\'title=\"Save the updated data table.\">Save Table</button></div><table class=\"jp-input_table\" id=\"it_1719891997635\"><caption class=\"jp-input_table\">Table 32: Testing cell locking and auto run.</caption><tbody> <tr class=\"jp-input_table r0\">  <th class=\"jp-input_table r0 c0\"></th><th class=\"jp-input_table r0 c1\"><span class=\"jp-input_table_table_label\">Col_0</span></th> </tr> <tr class=\"jp-input_table r1\"><th class=\"jp-input_table r1 c0\"><span class=\"jp-input_table_table_label\">0</span></th>  <td class=\"jp-input_table r1 c1\"><span class=\"jp-input_table_data_cell\">sometext and more. Formatting now works. Cell is also resizable.</span></td> </tr></tbody></table></div>'))"
   ]
  },
  {
   "cell_type": "code",
   "execution_count": 3,
   "id": "61944b5d-4ba5-44da-838e-3df637c1b431",
   "metadata": {
    "deletable": false,
    "editable": false,
    "slideshow": {
     "slide_type": ""
    },
    "tags": []
   },
   "outputs": [
    {
     "data": {
      "text/html": [
       "<div class=\"jp-input_table\"><div class = \"jp-input_table_actions\"><p class = \"jp-input_table_actions\">Actions only work if jupyter-datainputtable extension installed.</p><div class = \"jp-input_table_actions_label\">Table Actions</div><button class =\"jp-Button jp-input_table_actions_btn\" style = \"margin:4px;text-decoration:red line-through;\" data-commandlinker-command=\"EditDataTable:jupyter-inputtable\" data-commandlinker-args='{\"tableID\":\"it_1719932916790\"}'title=\"Start editing the data.\">Edit Data</button><button class =\"jp-Button jp-input_table_actions_btn\" style = \"margin:4px;text-decoration:red line-through;\" data-commandlinker-command=\"DataToPandas:jupyter-inputtable\" data-commandlinker-args='{\"tableID\":\"it_1719932916790\"}'title=\"Create a Panda DataFrame from table.\">Data to Pandas...</button><button class =\"jp-Button jp-input_table_actions_btn\" style = \"margin:4px;text-decoration:red line-through;\" data-commandlinker-command=\"SaveDataTable:jupyter-inputtable\" data-commandlinker-args='{\"tableID\":\"it_1719932916790\"}'title=\"Save the updated data table.\">Save Table</button></div><table class=\"jp-input_table\" id=\"it_1719932916790\"><caption class=\"jp-input_table\" style=\"font-weight:bold;font-size:1.5em;color:darkkhaki;text-align:left;\">Table 32: Test with some inline formatting for when the extension is unavailable.</caption><tbody> <tr class=\"jp-input_table r0\">  <th class=\"jp-input_table r0 c0\" style=\"text-align:left;padding:0px;border-width:1px;border-style:solid;\"></th><th class=\"jp-input_table r0 c1\" style=\"text-align:left;padding:0px;border-width:1px;border-style:solid;\"><span class=\"jp-input_table_table_label\">Col_0</span></th> </tr> <tr class=\"jp-input_table r1\"><th class=\"jp-input_table r1 c0\" style=\"text-align:left;padding:0px;border-width:1px;border-style:solid;\"><span class=\"jp-input_table_table_label\">0</span></th>  <td class=\"jp-input_table r1 c1\" style=\"text-align:left;padding:0px;border-width:1px;border-style:solid;\"><span class=\"jp-input_table_data_cell\">Some text.</span></td> </tr></tbody></table></div>"
      ],
      "text/plain": [
       "<IPython.core.display.HTML object>"
      ]
     },
     "metadata": {},
     "output_type": "display_data"
    }
   ],
   "source": [
    "# If no data table appears in the output of this cell, run the cell to display the table.\n",
    "\n",
    "from IPython.display import HTML\n",
    "display(HTML('<div class=\"jp-input_table\"><div class = \"jp-input_table_actions\"><p class = \"jp-input_table_actions\">Actions only work if jupyter-datainputtable extension installed.</p><div class = \"jp-input_table_actions_label\">Table Actions</div><button class =\"jp-Button jp-input_table_actions_btn\" style = \"margin:4px;text-decoration:red line-through;\" data-commandlinker-command=\"EditDataTable:jupyter-inputtable\" data-commandlinker-args=\\'{\"tableID\":\"it_1719932916790\"}\\'title=\"Start editing the data.\">Edit Data</button><button class =\"jp-Button jp-input_table_actions_btn\" style = \"margin:4px;text-decoration:red line-through;\" data-commandlinker-command=\"DataToPandas:jupyter-inputtable\" data-commandlinker-args=\\'{\"tableID\":\"it_1719932916790\"}\\'title=\"Create a Panda DataFrame from table.\">Data to Pandas...</button><button class =\"jp-Button jp-input_table_actions_btn\" style = \"margin:4px;text-decoration:red line-through;\" data-commandlinker-command=\"SaveDataTable:jupyter-inputtable\" data-commandlinker-args=\\'{\"tableID\":\"it_1719932916790\"}\\'title=\"Save the updated data table.\">Save Table</button></div><table class=\"jp-input_table\" id=\"it_1719932916790\"><caption class=\"jp-input_table\" style=\"font-weight:bold;font-size:1.5em;color:darkkhaki;text-align:left;\">Table 32: Test with some inline formatting for when the extension is unavailable.</caption><tbody> <tr class=\"jp-input_table r0\">  <th class=\"jp-input_table r0 c0\" style=\"text-align:left;padding:0px;border-width:1px;border-style:solid;\"></th><th class=\"jp-input_table r0 c1\" style=\"text-align:left;padding:0px;border-width:1px;border-style:solid;\"><span class=\"jp-input_table_table_label\">Col_0</span></th> </tr> <tr class=\"jp-input_table r1\"><th class=\"jp-input_table r1 c0\" style=\"text-align:left;padding:0px;border-width:1px;border-style:solid;\"><span class=\"jp-input_table_table_label\">0</span></th>  <td class=\"jp-input_table r1 c1\" style=\"text-align:left;padding:0px;border-width:1px;border-style:solid;\"><span class=\"jp-input_table_data_cell\">Some text.</span></td> </tr></tbody></table></div>'))"
   ]
  },
  {
   "cell_type": "markdown",
   "id": "d7ac1e14-20ae-4904-b947-6602ab39a8f3",
   "metadata": {},
   "source": [
    "###### Table 33"
   ]
  },
  {
   "cell_type": "code",
   "execution_count": 2,
   "id": "a3bb45a6-5fb2-4f65-8329-2013f39f48c8",
   "metadata": {
    "deletable": true,
    "slideshow": {
     "slide_type": ""
    },
    "tags": []
   },
   "outputs": [
    {
     "name": "stdout",
     "output_type": "stream",
     "text": [
      "DataFrame `testdf6`:\n"
     ]
    },
    {
     "data": {
      "text/html": [
       "<div>\n",
       "<style scoped>\n",
       "    .dataframe tbody tr th:only-of-type {\n",
       "        vertical-align: middle;\n",
       "    }\n",
       "\n",
       "    .dataframe tbody tr th {\n",
       "        vertical-align: top;\n",
       "    }\n",
       "\n",
       "    .dataframe thead th {\n",
       "        text-align: right;\n",
       "    }\n",
       "</style>\n",
       "<table border=\"1\" class=\"dataframe\">\n",
       "  <thead>\n",
       "    <tr style=\"text-align: right;\">\n",
       "      <th></th>\n",
       "      <th>Col_0</th>\n",
       "    </tr>\n",
       "  </thead>\n",
       "  <tbody>\n",
       "    <tr>\n",
       "      <th>0</th>\n",
       "      <td>NaN</td>\n",
       "    </tr>\n",
       "  </tbody>\n",
       "</table>\n",
       "</div>"
      ],
      "text/plain": [
       "   Col_0\n",
       "0    NaN"
      ]
     },
     "execution_count": 2,
     "metadata": {},
     "output_type": "execute_result"
    }
   ],
   "source": [
    "# Package Imports. These do nothing if packages already imported.\n",
    "import numpy as np\n",
    "import pandas as pd\n",
    "# Define the columns\n",
    "Col_0=[np.nan]\n",
    "# Create the DataFrame.\n",
    "testdf6= pd.DataFrame({\"Col_0\":Col_0,\n",
    "    })\n",
    "# Print a label and output a summary of the DataFrame.\n",
    "print('DataFrame `testdf6`:')\n",
    "testdf6"
   ]
  },
  {
   "cell_type": "code",
   "execution_count": null,
   "id": "ab576791-17f7-4216-8a5b-8d5fb86c0d47",
   "metadata": {},
   "outputs": [],
   "source": []
  },
  {
   "cell_type": "code",
   "execution_count": null,
   "id": "7a2bce05-1380-480b-a940-7addaa3ae00e",
   "metadata": {},
   "outputs": [],
   "source": []
  },
  {
   "cell_type": "code",
   "execution_count": 1,
   "id": "b1acc76e-f672-4e6c-a860-b738fda79a13",
   "metadata": {
    "deletable": true
   },
   "outputs": [
    {
     "name": "stdout",
     "output_type": "stream",
     "text": [
      "DataFrame `testdf5`:\n"
     ]
    },
    {
     "data": {
      "text/html": [
       "<div>\n",
       "<style scoped>\n",
       "    .dataframe tbody tr th:only-of-type {\n",
       "        vertical-align: middle;\n",
       "    }\n",
       "\n",
       "    .dataframe tbody tr th {\n",
       "        vertical-align: top;\n",
       "    }\n",
       "\n",
       "    .dataframe thead th {\n",
       "        text-align: right;\n",
       "    }\n",
       "</style>\n",
       "<table border=\"1\" class=\"dataframe\">\n",
       "  <thead>\n",
       "    <tr style=\"text-align: right;\">\n",
       "      <th></th>\n",
       "      <th>Color</th>\n",
       "      <th>Diameter (mm)</th>\n",
       "    </tr>\n",
       "  </thead>\n",
       "  <tbody>\n",
       "    <tr>\n",
       "      <th>0</th>\n",
       "      <td>blue</td>\n",
       "      <td>35.2</td>\n",
       "    </tr>\n",
       "    <tr>\n",
       "      <th>1</th>\n",
       "      <td>red</td>\n",
       "      <td>41.8</td>\n",
       "    </tr>\n",
       "  </tbody>\n",
       "</table>\n",
       "</div>"
      ],
      "text/plain": [
       "  Color  Diameter (mm)\n",
       "0  blue           35.2\n",
       "1   red           41.8"
      ]
     },
     "execution_count": 1,
     "metadata": {},
     "output_type": "execute_result"
    }
   ],
   "source": [
    "# Package Imports. These do nothing if packages already imported.\n",
    "import numpy as np\n",
    "import pandas as pd\n",
    "# Define the columns\n",
    "Color=['blue','red']\n",
    "Diameter__mm_=[35.2,41.8]\n",
    "# Create the DataFrame.\n",
    "testdf5= pd.DataFrame({\"Color\":Color,\n",
    "    \"Diameter (mm)\":Diameter__mm_,\n",
    "    })\n",
    "# Print a label and output a summary of the DataFrame.\n",
    "print('DataFrame `testdf5`:')\n",
    "testdf5"
   ]
  },
  {
   "cell_type": "code",
   "execution_count": null,
   "id": "0bee8aab-d4a3-42d8-ab74-b9b171cae5d5",
   "metadata": {},
   "outputs": [],
   "source": []
  },
  {
   "cell_type": "code",
   "execution_count": 2,
   "id": "4bed9030-d75b-45c6-ae68-c2741e0ba3c4",
   "metadata": {
    "deletable": false,
    "editable": false
   },
   "outputs": [
    {
     "data": {
      "text/html": [
       "<div>\n",
       "<style scoped>\n",
       "    .dataframe tbody tr th:only-of-type {\n",
       "        vertical-align: middle;\n",
       "    }\n",
       "\n",
       "    .dataframe tbody tr th {\n",
       "        vertical-align: top;\n",
       "    }\n",
       "\n",
       "    .dataframe thead th {\n",
       "        text-align: right;\n",
       "    }\n",
       "</style>\n",
       "<table border=\"1\" class=\"dataframe\">\n",
       "  <thead>\n",
       "    <tr style=\"text-align: right;\">\n",
       "      <th></th>\n",
       "      <th>Color</th>\n",
       "      <th>Diameter (mm)</th>\n",
       "    </tr>\n",
       "  </thead>\n",
       "  <tbody>\n",
       "    <tr>\n",
       "      <th>0</th>\n",
       "      <td>red</td>\n",
       "      <td>35.1</td>\n",
       "    </tr>\n",
       "    <tr>\n",
       "      <th>1</th>\n",
       "      <td>blue</td>\n",
       "      <td>67.3</td>\n",
       "    </tr>\n",
       "  </tbody>\n",
       "</table>\n",
       "</div>"
      ],
      "text/plain": [
       "  Color  Diameter (mm)\n",
       "0   red           35.1\n",
       "1  blue           67.3"
      ]
     },
     "execution_count": 2,
     "metadata": {},
     "output_type": "execute_result"
    }
   ],
   "source": [
    "# Package Imports. These do nothing if packages already imported.\n",
    "import numpy as np\n",
    "import pandas as pd\n",
    "# Define the columns\n",
    "Color=['red','blue']\n",
    "Diameter__mm_=[35.1,67.3]\n",
    "# Create the DataFrame.\n",
    "testdf3= pd.DataFrame({\"Color\":Color,\n",
    "    \"Diameter (mm)\":Diameter__mm_,\n",
    "    })\n",
    "# Print a label and output a summary of the DataFrame.print('DataFrame `testdf3`:')\n",
    "testdf3"
   ]
  },
  {
   "cell_type": "code",
   "execution_count": 5,
   "id": "f54275f4-51ff-4e8c-8bac-362c10ff9de0",
   "metadata": {
    "deletable": false,
    "editable": false
   },
   "outputs": [
    {
     "data": {
      "text/html": [
       "<div>\n",
       "<style scoped>\n",
       "    .dataframe tbody tr th:only-of-type {\n",
       "        vertical-align: middle;\n",
       "    }\n",
       "\n",
       "    .dataframe tbody tr th {\n",
       "        vertical-align: top;\n",
       "    }\n",
       "\n",
       "    .dataframe thead th {\n",
       "        text-align: right;\n",
       "    }\n",
       "</style>\n",
       "<table border=\"1\" class=\"dataframe\">\n",
       "  <thead>\n",
       "    <tr style=\"text-align: right;\">\n",
       "      <th></th>\n",
       "      <th>color</th>\n",
       "      <th>diameter (mm)</th>\n",
       "    </tr>\n",
       "  </thead>\n",
       "  <tbody>\n",
       "    <tr>\n",
       "      <th>0</th>\n",
       "      <td>green</td>\n",
       "      <td>14.5</td>\n",
       "    </tr>\n",
       "    <tr>\n",
       "      <th>1</th>\n",
       "      <td>orange</td>\n",
       "      <td>20.1</td>\n",
       "    </tr>\n",
       "  </tbody>\n",
       "</table>\n",
       "</div>"
      ],
      "text/plain": [
       "    color  diameter (mm)\n",
       "0   green           14.5\n",
       "1  orange           20.1"
      ]
     },
     "execution_count": 5,
     "metadata": {},
     "output_type": "execute_result"
    }
   ],
   "source": [
    "# Package Imports. These do nothing if packages already imported.\n",
    "import numpy as np\n",
    "import pandas as pd\n",
    "# Define the columns\n",
    "color=['green','orange']\n",
    "diameter__mm_=[14.5,20.1]\n",
    "# Create the DataFrame.\n",
    "testdf4= pd.DataFrame({\"color\":color,\n",
    "    \"diameter (mm)\":diameter__mm_,\n",
    "    })\n",
    "# Print a label and output a summary of the DataFrame.print('DataFrame `testdf4`:')\n",
    "testdf4"
   ]
  },
  {
   "cell_type": "code",
   "execution_count": 5,
   "id": "cfc21196-706f-40e7-90d6-6fcaa7a1a67d",
   "metadata": {
    "deletable": true
   },
   "outputs": [
    {
     "name": "stdout",
     "output_type": "stream",
     "text": [
      "DataFrame `testdf7`:\n"
     ]
    },
    {
     "data": {
      "text/html": [
       "<div>\n",
       "<style scoped>\n",
       "    .dataframe tbody tr th:only-of-type {\n",
       "        vertical-align: middle;\n",
       "    }\n",
       "\n",
       "    .dataframe tbody tr th {\n",
       "        vertical-align: top;\n",
       "    }\n",
       "\n",
       "    .dataframe thead th {\n",
       "        text-align: right;\n",
       "    }\n",
       "</style>\n",
       "<table border=\"1\" class=\"dataframe\">\n",
       "  <thead>\n",
       "    <tr style=\"text-align: right;\">\n",
       "      <th></th>\n",
       "      <th>Col_0</th>\n",
       "    </tr>\n",
       "  </thead>\n",
       "  <tbody>\n",
       "    <tr>\n",
       "      <th>0</th>\n",
       "      <td>Some text.</td>\n",
       "    </tr>\n",
       "  </tbody>\n",
       "</table>\n",
       "</div>"
      ],
      "text/plain": [
       "        Col_0\n",
       "0  Some text."
      ]
     },
     "execution_count": 5,
     "metadata": {},
     "output_type": "execute_result"
    }
   ],
   "source": [
    "# Package Imports. These do nothing if packages already imported.\n",
    "import numpy as np\n",
    "import pandas as pd\n",
    "# Define the columns\n",
    "Col_0=['Some text.']\n",
    "# Create the DataFrame.\n",
    "testdf7= pd.DataFrame({\"Col_0\":Col_0,\n",
    "    })\n",
    "# Print a label and output a summary of the DataFrame.\n",
    "print('DataFrame `testdf7`:')\n",
    "testdf7"
   ]
  },
  {
   "cell_type": "code",
   "execution_count": 3,
   "id": "241f3fa2-9aba-4f1a-9996-3ff22ff5d686",
   "metadata": {
    "deletable": true
   },
   "outputs": [
    {
     "name": "stdout",
     "output_type": "stream",
     "text": [
      "DataFrame `testdf8`:\n"
     ]
    },
    {
     "data": {
      "text/html": [
       "<div>\n",
       "<style scoped>\n",
       "    .dataframe tbody tr th:only-of-type {\n",
       "        vertical-align: middle;\n",
       "    }\n",
       "\n",
       "    .dataframe tbody tr th {\n",
       "        vertical-align: top;\n",
       "    }\n",
       "\n",
       "    .dataframe thead th {\n",
       "        text-align: right;\n",
       "    }\n",
       "</style>\n",
       "<table border=\"1\" class=\"dataframe\">\n",
       "  <thead>\n",
       "    <tr style=\"text-align: right;\">\n",
       "      <th></th>\n",
       "      <th>Col_0</th>\n",
       "    </tr>\n",
       "  </thead>\n",
       "  <tbody>\n",
       "    <tr>\n",
       "      <th>0</th>\n",
       "      <td>35.7</td>\n",
       "    </tr>\n",
       "  </tbody>\n",
       "</table>\n",
       "</div>"
      ],
      "text/plain": [
       "   Col_0\n",
       "0   35.7"
      ]
     },
     "execution_count": 3,
     "metadata": {},
     "output_type": "execute_result"
    }
   ],
   "source": [
    "# Package Imports. These do nothing if packages already imported.\n",
    "import numpy as np\n",
    "import pandas as pd\n",
    "# Define the columns\n",
    "Col_0=[35.7]\n",
    "# Create the DataFrame.\n",
    "testdf8= pd.DataFrame({\"Col_0\":Col_0,\n",
    "    })\n",
    "# Print a label and output a summary of the DataFrame.\n",
    "print('DataFrame `testdf8`:')\n",
    "testdf8"
   ]
  },
  {
   "cell_type": "code",
   "execution_count": 2,
   "id": "02cdb7ee-4f34-4ae2-a361-576fe311596c",
   "metadata": {
    "deletable": false,
    "editable": false
   },
   "outputs": [
    {
     "name": "stdout",
     "output_type": "stream",
     "text": [
      "DataFrame testDF15:\n"
     ]
    },
    {
     "data": {
      "text/html": [
       "<div>\n",
       "<style scoped>\n",
       "    .dataframe tbody tr th:only-of-type {\n",
       "        vertical-align: middle;\n",
       "    }\n",
       "\n",
       "    .dataframe tbody tr th {\n",
       "        vertical-align: top;\n",
       "    }\n",
       "\n",
       "    .dataframe thead th {\n",
       "        text-align: right;\n",
       "    }\n",
       "</style>\n",
       "<table border=\"1\" class=\"dataframe\">\n",
       "  <thead>\n",
       "    <tr style=\"text-align: right;\">\n",
       "      <th></th>\n",
       "      <th>Col_0</th>\n",
       "    </tr>\n",
       "  </thead>\n",
       "  <tbody>\n",
       "    <tr>\n",
       "      <th>0</th>\n",
       "      <td>test</td>\n",
       "    </tr>\n",
       "  </tbody>\n",
       "</table>\n",
       "</div>"
      ],
      "text/plain": [
       "  Col_0\n",
       "0  test"
      ]
     },
     "execution_count": 2,
     "metadata": {},
     "output_type": "execute_result"
    }
   ],
   "source": [
    "# Package Imports. These do nothing if packages already imported.\n",
    "import numpy as np\n",
    "import pandas as pd\n",
    "# Define the columns\n",
    "Col_0=['test']\n",
    "# Create the DataFrame.\n",
    "testDF15= pd.DataFrame({\"Col_0\":Col_0,\n",
    "    })\n",
    "# Print a label and output a summary of the DataFrame.\n",
    "print('DataFrame testDF15:')\n",
    "testDF15"
   ]
  },
  {
   "cell_type": "code",
   "execution_count": null,
   "id": "9d3ef48b-cbe5-4781-8884-71c7c35e5dfd",
   "metadata": {},
   "outputs": [],
   "source": []
  },
  {
   "cell_type": "code",
   "execution_count": 1,
   "id": "39487449-1c6b-4833-92d3-d318e5869bfc",
   "metadata": {
    "deletable": false,
    "editable": false
   },
   "outputs": [
    {
     "name": "stdout",
     "output_type": "stream",
     "text": [
      "DataFrame testdf14:\n"
     ]
    },
    {
     "data": {
      "text/html": [
       "<div>\n",
       "<style scoped>\n",
       "    .dataframe tbody tr th:only-of-type {\n",
       "        vertical-align: middle;\n",
       "    }\n",
       "\n",
       "    .dataframe tbody tr th {\n",
       "        vertical-align: top;\n",
       "    }\n",
       "\n",
       "    .dataframe thead th {\n",
       "        text-align: right;\n",
       "    }\n",
       "</style>\n",
       "<table border=\"1\" class=\"dataframe\">\n",
       "  <thead>\n",
       "    <tr style=\"text-align: right;\">\n",
       "      <th></th>\n",
       "      <th>Col_0</th>\n",
       "    </tr>\n",
       "  </thead>\n",
       "  <tbody>\n",
       "    <tr>\n",
       "      <th>0</th>\n",
       "      <td>test</td>\n",
       "    </tr>\n",
       "  </tbody>\n",
       "</table>\n",
       "</div>"
      ],
      "text/plain": [
       "  Col_0\n",
       "0  test"
      ]
     },
     "execution_count": 1,
     "metadata": {},
     "output_type": "execute_result"
    }
   ],
   "source": [
    "# Package Imports. These do nothing if packages already imported.\n",
    "import numpy as np\n",
    "import pandas as pd\n",
    "# Define the columns\n",
    "Col_0=['test']\n",
    "# Create the DataFrame.\n",
    "testdf14= pd.DataFrame({\"Col_0\":Col_0,\n",
    "    })\n",
    "# Print a label and output a summary of the DataFrame.\n",
    "print('DataFrame testdf14:')\n",
    "testdf14"
   ]
  },
  {
   "cell_type": "code",
   "execution_count": 1,
   "id": "2195a45d-0f54-4fbc-8d44-24e0858a8caa",
   "metadata": {
    "deletable": false,
    "editable": false
   },
   "outputs": [
    {
     "data": {
      "text/html": [
       "<div class=\"jp-input_table\"><div class = \"jp-input_table_actions\"><p class = \"jp-input_table_actions\">Actions only work if jupyter-datainputtable extension installed.</p><div class = \"jp-input_table_actions_label\" style = \"display:inline-flex;\">Table Actions</div><button class =\"jp-Button jp-input_table_actions_btn\" style = \"margin:4px;text-decoration:red line-through;\" data-commandlinker-command=\"EditDataTable:jupyter-inputtable\" data-commandlinker-args='{\"tableID\":\"it_1719972233989\"}'title=\"Start editing the data.\">Edit Data</button><button class =\"jp-Button jp-input_table_actions_btn\" style = \"margin:4px;text-decoration:red line-through;\" data-commandlinker-command=\"DataToPandas:jupyter-inputtable\" data-commandlinker-args='{\"tableID\":\"it_1719972233989\"}'title=\"Create a Panda DataFrame from table.\">Data to Pandas...</button><button class =\"jp-Button jp-input_table_actions_btn\" style = \"margin:4px;text-decoration:red line-through;\" data-commandlinker-command=\"SaveDataTable:jupyter-inputtable\" data-commandlinker-args='{\"tableID\":\"it_1719972233989\"}'title=\"Save the updated data table.\">Save Table</button></div><table class=\"jp-input_table\" id=\"it_1719972233989\" style = \"min-width:80%;\"><caption class=\"jp-input_table\" style=\"font-weight:bold;font-size:1.5em;color:darkkhaki;text-align:left;\">Table 40: using synthetic click to for selections</caption><tbody> <tr class=\"jp-input_table r0\">  <th class=\"jp-input_table r0 c0\" style=\"text-align:left;padding:0px;border-width:1px;border-style:solid;\"></th><th class=\"jp-input_table r0 c1\" style=\"text-align:left;padding:0px;border-width:1px;border-style:solid;\"><span class=\"jp-input_table_table_label\">Col_0</span></th> </tr> <tr class=\"jp-input_table r1\"><th class=\"jp-input_table r1 c0\" style=\"text-align:left;padding:0px;border-width:1px;border-style:solid;\"><span class=\"jp-input_table_table_label\">0</span></th>  <td class=\"jp-input_table r1 c1\" style=\"text-align:left;padding:0px;border-width:1px;border-style:solid;\"><span class=\"jp-input_table_data_cell\">45.0</span></td> </tr></tbody></table></div>"
      ],
      "text/plain": [
       "<IPython.core.display.HTML object>"
      ]
     },
     "metadata": {},
     "output_type": "display_data"
    }
   ],
   "source": [
    "# If no data table appears in the output of this cell, run the cell to display the table.\n",
    "\n",
    "from IPython.display import HTML\n",
    "display(HTML('<div class=\"jp-input_table\"><div class = \"jp-input_table_actions\"><p class = \"jp-input_table_actions\">Actions only work if jupyter-datainputtable extension installed.</p><div class = \"jp-input_table_actions_label\" style = \"display:inline-flex;\">Table Actions</div><button class =\"jp-Button jp-input_table_actions_btn\" style = \"margin:4px;text-decoration:red line-through;\" data-commandlinker-command=\"EditDataTable:jupyter-inputtable\" data-commandlinker-args=\\'{\"tableID\":\"it_1719972233989\"}\\'title=\"Start editing the data.\">Edit Data</button><button class =\"jp-Button jp-input_table_actions_btn\" style = \"margin:4px;text-decoration:red line-through;\" data-commandlinker-command=\"DataToPandas:jupyter-inputtable\" data-commandlinker-args=\\'{\"tableID\":\"it_1719972233989\"}\\'title=\"Create a Panda DataFrame from table.\">Data to Pandas...</button><button class =\"jp-Button jp-input_table_actions_btn\" style = \"margin:4px;text-decoration:red line-through;\" data-commandlinker-command=\"SaveDataTable:jupyter-inputtable\" data-commandlinker-args=\\'{\"tableID\":\"it_1719972233989\"}\\'title=\"Save the updated data table.\">Save Table</button></div><table class=\"jp-input_table\" id=\"it_1719972233989\" style = \"min-width:80%;\"><caption class=\"jp-input_table\" style=\"font-weight:bold;font-size:1.5em;color:darkkhaki;text-align:left;\">Table 40: using synthetic click to for selections</caption><tbody> <tr class=\"jp-input_table r0\">  <th class=\"jp-input_table r0 c0\" style=\"text-align:left;padding:0px;border-width:1px;border-style:solid;\"></th><th class=\"jp-input_table r0 c1\" style=\"text-align:left;padding:0px;border-width:1px;border-style:solid;\"><span class=\"jp-input_table_table_label\">Col_0</span></th> </tr> <tr class=\"jp-input_table r1\"><th class=\"jp-input_table r1 c0\" style=\"text-align:left;padding:0px;border-width:1px;border-style:solid;\"><span class=\"jp-input_table_table_label\">0</span></th>  <td class=\"jp-input_table r1 c1\" style=\"text-align:left;padding:0px;border-width:1px;border-style:solid;\"><span class=\"jp-input_table_data_cell\">45.0</span></td> </tr></tbody></table></div>'))"
   ]
  },
  {
   "cell_type": "code",
   "execution_count": 2,
   "id": "2c7e3641-d534-415a-aa56-4c1a70f2372f",
   "metadata": {
    "editable": true,
    "slideshow": {
     "slide_type": ""
    },
    "tags": []
   },
   "outputs": [
    {
     "name": "stdout",
     "output_type": "stream",
     "text": [
      "DataFrame testdf41:\n"
     ]
    },
    {
     "data": {
      "text/html": [
       "<div>\n",
       "<style scoped>\n",
       "    .dataframe tbody tr th:only-of-type {\n",
       "        vertical-align: middle;\n",
       "    }\n",
       "\n",
       "    .dataframe tbody tr th {\n",
       "        vertical-align: top;\n",
       "    }\n",
       "\n",
       "    .dataframe thead th {\n",
       "        text-align: right;\n",
       "    }\n",
       "</style>\n",
       "<table border=\"1\" class=\"dataframe\">\n",
       "  <thead>\n",
       "    <tr style=\"text-align: right;\">\n",
       "      <th></th>\n",
       "      <th>Col_0</th>\n",
       "    </tr>\n",
       "  </thead>\n",
       "  <tbody>\n",
       "    <tr>\n",
       "      <th>0</th>\n",
       "      <td>45.0</td>\n",
       "    </tr>\n",
       "  </tbody>\n",
       "</table>\n",
       "</div>"
      ],
      "text/plain": [
       "   Col_0\n",
       "0   45.0"
      ]
     },
     "execution_count": 2,
     "metadata": {},
     "output_type": "execute_result"
    }
   ],
   "source": [
    "# Package Imports. These do nothing if packages already imported.\n",
    "import numpy as np\n",
    "import pandas as pd\n",
    "# Define the columns\n",
    "Col_0=[45.0]\n",
    "# Create the DataFrame.\n",
    "testdf41= pd.DataFrame({\"Col_0\":Col_0,\n",
    "    })\n",
    "# Print a label and output a summary of the DataFrame.\n",
    "print('DataFrame testdf41:')\n",
    "testdf41"
   ]
  },
  {
   "cell_type": "code",
   "execution_count": 1,
   "id": "f3cd2f97-c731-4bf1-bf07-0027ca5df05e",
   "metadata": {
    "editable": true,
    "slideshow": {
     "slide_type": ""
    },
    "tags": []
   },
   "outputs": [
    {
     "name": "stdout",
     "output_type": "stream",
     "text": [
      "DataFrame testdf40:\n"
     ]
    },
    {
     "data": {
      "text/html": [
       "<div>\n",
       "<style scoped>\n",
       "    .dataframe tbody tr th:only-of-type {\n",
       "        vertical-align: middle;\n",
       "    }\n",
       "\n",
       "    .dataframe tbody tr th {\n",
       "        vertical-align: top;\n",
       "    }\n",
       "\n",
       "    .dataframe thead th {\n",
       "        text-align: right;\n",
       "    }\n",
       "</style>\n",
       "<table border=\"1\" class=\"dataframe\">\n",
       "  <thead>\n",
       "    <tr style=\"text-align: right;\">\n",
       "      <th></th>\n",
       "      <th>Col_0</th>\n",
       "    </tr>\n",
       "  </thead>\n",
       "  <tbody>\n",
       "    <tr>\n",
       "      <th>0</th>\n",
       "      <td>45.0</td>\n",
       "    </tr>\n",
       "  </tbody>\n",
       "</table>\n",
       "</div>"
      ],
      "text/plain": [
       "   Col_0\n",
       "0   45.0"
      ]
     },
     "execution_count": 1,
     "metadata": {},
     "output_type": "execute_result"
    }
   ],
   "source": [
    "# Package Imports. These do nothing if packages already imported.\n",
    "import numpy as np\n",
    "import pandas as pd\n",
    "# Define the columns\n",
    "Col_0=[45.0]\n",
    "# Create the DataFrame.\n",
    "testdf40= pd.DataFrame({\"Col_0\":Col_0,\n",
    "    })\n",
    "# Print a label and output a summary of the DataFrame.\n",
    "print('DataFrame testdf40:')\n",
    "testdf40"
   ]
  },
  {
   "cell_type": "code",
   "execution_count": 9,
   "id": "38b49731-5403-411a-afdb-e3d9e4e4ae12",
   "metadata": {
    "deletable": false,
    "editable": false
   },
   "outputs": [
    {
     "data": {
      "text/html": [
       "<div class=\"jp-input_table\"><div class = \"jp-input_table_actions\"><p class = \"jp-input_table_actions\">Actions only work if jupyter-datainputtable extension installed.</p><div class = \"jp-input_table_actions_label\" style = \"display:inline-flex;\">Table Actions</div><button class =\"jp-Button jp-input_table_actions_btn\" style = \"margin:4px;text-decoration:red line-through;\" data-commandlinker-command=\"EditDataTable:jupyter-inputtable\" data-commandlinker-args='{\"tableID\":\"it_1720014328184\"}'title=\"Start editing the data.\">Edit Data</button><button class =\"jp-Button jp-input_table_actions_btn\" style = \"margin:4px;text-decoration:red line-through;\" data-commandlinker-command=\"DataToPandas:jupyter-inputtable\" data-commandlinker-args='{\"tableID\":\"it_1720014328184\"}'title=\"Create a Panda DataFrame from table.\">Data to Pandas...</button><button class =\"jp-Button jp-input_table_actions_btn\" style = \"margin:4px;text-decoration:red line-through;\" data-commandlinker-command=\"SaveDataTable:jupyter-inputtable\" data-commandlinker-args='{\"tableID\":\"it_1720014328184\"}'title=\"Save the updated data table.\">Save Table</button></div><table class=\"jp-input_table\" id=\"it_1720014328184\" style = \"min-width:80%;\"><caption class=\"jp-input_table\" style=\"font-weight:bold;font-size:1.5em;color:darkkhaki;text-align:left;\">Table 41: Testing empty cells and convert to Pandas.</caption><tbody> <tr class=\"jp-input_table r0\">  <th class=\"jp-input_table r0 c0\" style=\"text-align:left;padding:0px;border-width:1px;border-style:solid;\"></th><th class=\"jp-input_table r0 c1\" style=\"text-align:left;padding:0px;border-width:1px;border-style:solid;\"><span class=\"jp-input_table_table_label\">Color</span></th><th class=\"jp-input_table r0 c2\" style=\"text-align:left;padding:0px;border-width:1px;border-style:solid;\"><span class=\"jp-input_table_table_label\">height (cm)</span></th><th class=\"jp-input_table r0 c3\" style=\"text-align:left;padding:0px;border-width:1px;border-style:solid;\"><span class=\"jp-input_table_table_label\">width (cm)</span></th> </tr> <tr class=\"jp-input_table r1\"><th class=\"jp-input_table r1 c0\" style=\"text-align:left;padding:0px;border-width:1px;border-style:solid;\"><span class=\"jp-input_table_table_label\">0</span></th>  <td class=\"jp-input_table r1 c1\" style=\"text-align:left;padding:0px;border-width:1px;border-style:solid;\"><span class=\"jp-input_table_data_cell\">blue</span></td>  <td class=\"jp-input_table r1 c2\" style=\"text-align:left;padding:0px;border-width:1px;border-style:solid;\"><span class=\"jp-input_table_data_cell\">4.5</span></td>  <td class=\"jp-input_table r1 c3\" style=\"text-align:left;padding:0px;border-width:1px;border-style:solid;\"><span class=\"jp-input_table_data_cell\">2.3</span></td> </tr> <tr class=\"jp-input_table r2\"><th class=\"jp-input_table r2 c0\" style=\"text-align:left;padding:0px;border-width:1px;border-style:solid;\"><span class=\"jp-input_table_table_label\">1</span></th>  <td class=\"jp-input_table r2 c1\" style=\"text-align:left;padding:0px;border-width:1px;border-style:solid;\"><span class=\"jp-input_table_data_cell\">red</span></td>  <td class=\"jp-input_table r2 c2\" style=\"text-align:left;padding:0px;border-width:1px;border-style:solid;\"><span class=\"jp-input_table_data_cell\">np.nan</span></td>  <td class=\"jp-input_table r2 c3\" style=\"text-align:left;padding:0px;border-width:1px;border-style:solid;\"><span class=\"jp-input_table_data_cell\">3.3</span></td> </tr> <tr class=\"jp-input_table r3\"><th class=\"jp-input_table r3 c0\" style=\"text-align:left;padding:0px;border-width:1px;border-style:solid;\"><span class=\"jp-input_table_table_label\">2</span></th>  <td class=\"jp-input_table r3 c1\" style=\"text-align:left;padding:0px;border-width:1px;border-style:solid;\"><span class=\"jp-input_table_data_cell\">orange</span></td>  <td class=\"jp-input_table r3 c2\" style=\"text-align:left;padding:0px;border-width:1px;border-style:solid;\"><span class=\"jp-input_table_data_cell\">7.5</span></td>  <td class=\"jp-input_table r3 c3\" style=\"text-align:left;padding:0px;border-width:1px;border-style:solid;\"><span class=\"jp-input_table_data_cell\">2.7</span></td> </tr></tbody></table></div>"
      ],
      "text/plain": [
       "<IPython.core.display.HTML object>"
      ]
     },
     "metadata": {},
     "output_type": "display_data"
    }
   ],
   "source": [
    "# If no data table appears in the output of this cell, run the cell to display the table.\n",
    "\n",
    "from IPython.display import HTML\n",
    "display(HTML('<div class=\"jp-input_table\"><div class = \"jp-input_table_actions\"><p class = \"jp-input_table_actions\">Actions only work if jupyter-datainputtable extension installed.</p><div class = \"jp-input_table_actions_label\" style = \"display:inline-flex;\">Table Actions</div><button class =\"jp-Button jp-input_table_actions_btn\" style = \"margin:4px;text-decoration:red line-through;\" data-commandlinker-command=\"EditDataTable:jupyter-inputtable\" data-commandlinker-args=\\'{\"tableID\":\"it_1720014328184\"}\\'title=\"Start editing the data.\">Edit Data</button><button class =\"jp-Button jp-input_table_actions_btn\" style = \"margin:4px;text-decoration:red line-through;\" data-commandlinker-command=\"DataToPandas:jupyter-inputtable\" data-commandlinker-args=\\'{\"tableID\":\"it_1720014328184\"}\\'title=\"Create a Panda DataFrame from table.\">Data to Pandas...</button><button class =\"jp-Button jp-input_table_actions_btn\" style = \"margin:4px;text-decoration:red line-through;\" data-commandlinker-command=\"SaveDataTable:jupyter-inputtable\" data-commandlinker-args=\\'{\"tableID\":\"it_1720014328184\"}\\'title=\"Save the updated data table.\">Save Table</button></div><table class=\"jp-input_table\" id=\"it_1720014328184\" style = \"min-width:80%;\"><caption class=\"jp-input_table\" style=\"font-weight:bold;font-size:1.5em;color:darkkhaki;text-align:left;\">Table 41: Testing empty cells and convert to Pandas.</caption><tbody> <tr class=\"jp-input_table r0\">  <th class=\"jp-input_table r0 c0\" style=\"text-align:left;padding:0px;border-width:1px;border-style:solid;\"></th><th class=\"jp-input_table r0 c1\" style=\"text-align:left;padding:0px;border-width:1px;border-style:solid;\"><span class=\"jp-input_table_table_label\">Color</span></th><th class=\"jp-input_table r0 c2\" style=\"text-align:left;padding:0px;border-width:1px;border-style:solid;\"><span class=\"jp-input_table_table_label\">height (cm)</span></th><th class=\"jp-input_table r0 c3\" style=\"text-align:left;padding:0px;border-width:1px;border-style:solid;\"><span class=\"jp-input_table_table_label\">width (cm)</span></th> </tr> <tr class=\"jp-input_table r1\"><th class=\"jp-input_table r1 c0\" style=\"text-align:left;padding:0px;border-width:1px;border-style:solid;\"><span class=\"jp-input_table_table_label\">0</span></th>  <td class=\"jp-input_table r1 c1\" style=\"text-align:left;padding:0px;border-width:1px;border-style:solid;\"><span class=\"jp-input_table_data_cell\">blue</span></td>  <td class=\"jp-input_table r1 c2\" style=\"text-align:left;padding:0px;border-width:1px;border-style:solid;\"><span class=\"jp-input_table_data_cell\">4.5</span></td>  <td class=\"jp-input_table r1 c3\" style=\"text-align:left;padding:0px;border-width:1px;border-style:solid;\"><span class=\"jp-input_table_data_cell\">2.3</span></td> </tr> <tr class=\"jp-input_table r2\"><th class=\"jp-input_table r2 c0\" style=\"text-align:left;padding:0px;border-width:1px;border-style:solid;\"><span class=\"jp-input_table_table_label\">1</span></th>  <td class=\"jp-input_table r2 c1\" style=\"text-align:left;padding:0px;border-width:1px;border-style:solid;\"><span class=\"jp-input_table_data_cell\">red</span></td>  <td class=\"jp-input_table r2 c2\" style=\"text-align:left;padding:0px;border-width:1px;border-style:solid;\"><span class=\"jp-input_table_data_cell\">np.nan</span></td>  <td class=\"jp-input_table r2 c3\" style=\"text-align:left;padding:0px;border-width:1px;border-style:solid;\"><span class=\"jp-input_table_data_cell\">3.3</span></td> </tr> <tr class=\"jp-input_table r3\"><th class=\"jp-input_table r3 c0\" style=\"text-align:left;padding:0px;border-width:1px;border-style:solid;\"><span class=\"jp-input_table_table_label\">2</span></th>  <td class=\"jp-input_table r3 c1\" style=\"text-align:left;padding:0px;border-width:1px;border-style:solid;\"><span class=\"jp-input_table_data_cell\">orange</span></td>  <td class=\"jp-input_table r3 c2\" style=\"text-align:left;padding:0px;border-width:1px;border-style:solid;\"><span class=\"jp-input_table_data_cell\">7.5</span></td>  <td class=\"jp-input_table r3 c3\" style=\"text-align:left;padding:0px;border-width:1px;border-style:solid;\"><span class=\"jp-input_table_data_cell\">2.7</span></td> </tr></tbody></table></div>'))"
   ]
  },
  {
   "cell_type": "code",
   "execution_count": 10,
   "id": "15fbf91e-53fb-4c55-9a8e-6b5950a8309f",
   "metadata": {},
   "outputs": [
    {
     "name": "stdout",
     "output_type": "stream",
     "text": [
      "DataFrame testDF42:\n"
     ]
    },
    {
     "data": {
      "text/html": [
       "<div>\n",
       "<style scoped>\n",
       "    .dataframe tbody tr th:only-of-type {\n",
       "        vertical-align: middle;\n",
       "    }\n",
       "\n",
       "    .dataframe tbody tr th {\n",
       "        vertical-align: top;\n",
       "    }\n",
       "\n",
       "    .dataframe thead th {\n",
       "        text-align: right;\n",
       "    }\n",
       "</style>\n",
       "<table border=\"1\" class=\"dataframe\">\n",
       "  <thead>\n",
       "    <tr style=\"text-align: right;\">\n",
       "      <th></th>\n",
       "      <th>Color</th>\n",
       "      <th>height (cm)</th>\n",
       "      <th>width (cm)</th>\n",
       "    </tr>\n",
       "  </thead>\n",
       "  <tbody>\n",
       "    <tr>\n",
       "      <th>0</th>\n",
       "      <td>blue</td>\n",
       "      <td>4.5</td>\n",
       "      <td>2.3</td>\n",
       "    </tr>\n",
       "    <tr>\n",
       "      <th>1</th>\n",
       "      <td>red</td>\n",
       "      <td>NaN</td>\n",
       "      <td>3.3</td>\n",
       "    </tr>\n",
       "    <tr>\n",
       "      <th>2</th>\n",
       "      <td>orange</td>\n",
       "      <td>7.5</td>\n",
       "      <td>2.7</td>\n",
       "    </tr>\n",
       "  </tbody>\n",
       "</table>\n",
       "</div>"
      ],
      "text/plain": [
       "    Color  height (cm)  width (cm)\n",
       "0    blue          4.5         2.3\n",
       "1     red          NaN         3.3\n",
       "2  orange          7.5         2.7"
      ]
     },
     "execution_count": 10,
     "metadata": {},
     "output_type": "execute_result"
    }
   ],
   "source": [
    "# Package Imports. These do nothing if packages already imported.\n",
    "import numpy as np\n",
    "import pandas as pd\n",
    "# Define the columns\n",
    "Color=['blue','red','orange']\n",
    "height__cm_=[4.5,np.nan,7.5]\n",
    "width__cm_=[2.3,3.3,2.7]\n",
    "# Create the DataFrame.\n",
    "testDF42= pd.DataFrame({\"Color\":Color,\n",
    "    \"height (cm)\":height__cm_,\n",
    "    \"width (cm)\":width__cm_,\n",
    "    })\n",
    "# Print a label and output a summary of the DataFrame.\n",
    "print('DataFrame testDF42:')\n",
    "testDF42"
   ]
  },
  {
   "cell_type": "code",
   "execution_count": 3,
   "id": "f043373e-25a9-41b2-a5b0-d2db3721da28",
   "metadata": {
    "deletable": false,
    "editable": false
   },
   "outputs": [
    {
     "data": {
      "text/html": [
       "<div class=\"jp-input_table\"><div class = \"jp-input_table_actions\"><p class = \"jp-input_table_actions\">Actions only work if jupyter-datainputtable extension installed.</p><div class = \"jp-input_table_actions_label\" style = \"display:inline-flex;\">Table Actions</div><button class =\"jp-Button jp-input_table_actions_btn\" style = \"margin:4px;text-decoration:red line-through;\" data-commandlinker-command=\"EditDataTable:jupyter-inputtable\" data-commandlinker-args='{\"tableID\":\"it_1720015732397\"}'title=\"Start editing the data.\">Edit Data</button><button class =\"jp-Button jp-input_table_actions_btn\" style = \"margin:4px;text-decoration:red line-through;\" data-commandlinker-command=\"DataToPandas:jupyter-inputtable\" data-commandlinker-args='{\"tableID\":\"it_1720015732397\"}'title=\"Create a Panda DataFrame from table.\">Data to Pandas...</button><button class =\"jp-Button jp-input_table_actions_btn\" style = \"margin:4px;text-decoration:red line-through;\" data-commandlinker-command=\"SaveDataTable:jupyter-inputtable\" data-commandlinker-args='{\"tableID\":\"it_1720015732397\"}'title=\"Save the updated data table.\">Save Table</button></div><table class=\"jp-input_table\" id=\"it_1720015732397\" style = \"min-width:80%;\"><caption class=\"jp-input_table\" style=\"font-weight:bold;font-size:1.5em;color:darkkhaki;text-align:left;\">Table 42: Testing ability to make a cell empty.</caption><tbody> <tr class=\"jp-input_table r0\">  <th class=\"jp-input_table r0 c0\" style=\"text-align:left;padding:0px;border-width:1px;border-style:solid;\"></th><th class=\"jp-input_table r0 c1\" style=\"text-align:left;padding:0px;border-width:1px;border-style:solid;\"><span class=\"jp-input_table_table_label\">Col_0</span></th><th class=\"jp-input_table r0 c2\" style=\"text-align:left;padding:0px;border-width:1px;border-style:solid;\"><span class=\"jp-input_table_table_label\">Col_1</span></th><th class=\"jp-input_table r0 c3\" style=\"text-align:left;padding:0px;border-width:1px;border-style:solid;\"><span class=\"jp-input_table_table_label\">Col_2</span></th> </tr> <tr class=\"jp-input_table r1\"><th class=\"jp-input_table r1 c0\" style=\"text-align:left;padding:0px;border-width:1px;border-style:solid;\"><span class=\"jp-input_table_table_label\">0</span></th>  <td class=\"jp-input_table r1 c1\" style=\"text-align:left;padding:0px;border-width:1px;border-style:solid;\"><span class=\"jp-input_table_data_cell\">a</span></td>  <td class=\"jp-input_table r1 c2\" style=\"text-align:left;padding:0px;border-width:1px;border-style:solid;\"><span class=\"jp-input_table_data_cell\">b</span></td>  <td class=\"jp-input_table r1 c3\" style=\"text-align:left;padding:0px;border-width:1px;border-style:solid;\"><span class=\"jp-input_table_data_cell\">c</span></td> </tr> <tr class=\"jp-input_table r2\"><th class=\"jp-input_table r2 c0\" style=\"text-align:left;padding:0px;border-width:1px;border-style:solid;\"><span class=\"jp-input_table_table_label\">1</span></th>  <td class=\"jp-input_table r2 c1\" style=\"text-align:left;padding:0px;border-width:1px;border-style:solid;\"><span class=\"jp-input_table_data_cell\">d</span></td>  <td class=\"jp-input_table r2 c2\" style=\"text-align:left;padding:0px;border-width:1px;border-style:solid;\"><span class=\"jp-input_table_data_cell\"></span></td>  <td class=\"jp-input_table r2 c3\" style=\"text-align:left;padding:0px;border-width:1px;border-style:solid;\"><span class=\"jp-input_table_data_cell\">f</span></td> </tr> <tr class=\"jp-input_table r3\"><th class=\"jp-input_table r3 c0\" style=\"text-align:left;padding:0px;border-width:1px;border-style:solid;\"><span class=\"jp-input_table_table_label\">2</span></th>  <td class=\"jp-input_table r3 c1\" style=\"text-align:left;padding:0px;border-width:1px;border-style:solid;\"><span class=\"jp-input_table_data_cell\">g</span></td>  <td class=\"jp-input_table r3 c2\" style=\"text-align:left;padding:0px;border-width:1px;border-style:solid;\"><span class=\"jp-input_table_data_cell\">h</span></td>  <td class=\"jp-input_table r3 c3\" style=\"text-align:left;padding:0px;border-width:1px;border-style:solid;\"><span class=\"jp-input_table_data_cell\"></span></td> </tr></tbody></table></div>"
      ],
      "text/plain": [
       "<IPython.core.display.HTML object>"
      ]
     },
     "metadata": {},
     "output_type": "display_data"
    }
   ],
   "source": [
    "# If no data table appears in the output of this cell, run the cell to display the table.\n",
    "\n",
    "from IPython.display import HTML\n",
    "display(HTML('<div class=\"jp-input_table\"><div class = \"jp-input_table_actions\"><p class = \"jp-input_table_actions\">Actions only work if jupyter-datainputtable extension installed.</p><div class = \"jp-input_table_actions_label\" style = \"display:inline-flex;\">Table Actions</div><button class =\"jp-Button jp-input_table_actions_btn\" style = \"margin:4px;text-decoration:red line-through;\" data-commandlinker-command=\"EditDataTable:jupyter-inputtable\" data-commandlinker-args=\\'{\"tableID\":\"it_1720015732397\"}\\'title=\"Start editing the data.\">Edit Data</button><button class =\"jp-Button jp-input_table_actions_btn\" style = \"margin:4px;text-decoration:red line-through;\" data-commandlinker-command=\"DataToPandas:jupyter-inputtable\" data-commandlinker-args=\\'{\"tableID\":\"it_1720015732397\"}\\'title=\"Create a Panda DataFrame from table.\">Data to Pandas...</button><button class =\"jp-Button jp-input_table_actions_btn\" style = \"margin:4px;text-decoration:red line-through;\" data-commandlinker-command=\"SaveDataTable:jupyter-inputtable\" data-commandlinker-args=\\'{\"tableID\":\"it_1720015732397\"}\\'title=\"Save the updated data table.\">Save Table</button></div><table class=\"jp-input_table\" id=\"it_1720015732397\" style = \"min-width:80%;\"><caption class=\"jp-input_table\" style=\"font-weight:bold;font-size:1.5em;color:darkkhaki;text-align:left;\">Table 42: Testing ability to make a cell empty.</caption><tbody> <tr class=\"jp-input_table r0\">  <th class=\"jp-input_table r0 c0\" style=\"text-align:left;padding:0px;border-width:1px;border-style:solid;\"></th><th class=\"jp-input_table r0 c1\" style=\"text-align:left;padding:0px;border-width:1px;border-style:solid;\"><span class=\"jp-input_table_table_label\">Col_0</span></th><th class=\"jp-input_table r0 c2\" style=\"text-align:left;padding:0px;border-width:1px;border-style:solid;\"><span class=\"jp-input_table_table_label\">Col_1</span></th><th class=\"jp-input_table r0 c3\" style=\"text-align:left;padding:0px;border-width:1px;border-style:solid;\"><span class=\"jp-input_table_table_label\">Col_2</span></th> </tr> <tr class=\"jp-input_table r1\"><th class=\"jp-input_table r1 c0\" style=\"text-align:left;padding:0px;border-width:1px;border-style:solid;\"><span class=\"jp-input_table_table_label\">0</span></th>  <td class=\"jp-input_table r1 c1\" style=\"text-align:left;padding:0px;border-width:1px;border-style:solid;\"><span class=\"jp-input_table_data_cell\">a</span></td>  <td class=\"jp-input_table r1 c2\" style=\"text-align:left;padding:0px;border-width:1px;border-style:solid;\"><span class=\"jp-input_table_data_cell\">b</span></td>  <td class=\"jp-input_table r1 c3\" style=\"text-align:left;padding:0px;border-width:1px;border-style:solid;\"><span class=\"jp-input_table_data_cell\">c</span></td> </tr> <tr class=\"jp-input_table r2\"><th class=\"jp-input_table r2 c0\" style=\"text-align:left;padding:0px;border-width:1px;border-style:solid;\"><span class=\"jp-input_table_table_label\">1</span></th>  <td class=\"jp-input_table r2 c1\" style=\"text-align:left;padding:0px;border-width:1px;border-style:solid;\"><span class=\"jp-input_table_data_cell\">d</span></td>  <td class=\"jp-input_table r2 c2\" style=\"text-align:left;padding:0px;border-width:1px;border-style:solid;\"><span class=\"jp-input_table_data_cell\"></span></td>  <td class=\"jp-input_table r2 c3\" style=\"text-align:left;padding:0px;border-width:1px;border-style:solid;\"><span class=\"jp-input_table_data_cell\">f</span></td> </tr> <tr class=\"jp-input_table r3\"><th class=\"jp-input_table r3 c0\" style=\"text-align:left;padding:0px;border-width:1px;border-style:solid;\"><span class=\"jp-input_table_table_label\">2</span></th>  <td class=\"jp-input_table r3 c1\" style=\"text-align:left;padding:0px;border-width:1px;border-style:solid;\"><span class=\"jp-input_table_data_cell\">g</span></td>  <td class=\"jp-input_table r3 c2\" style=\"text-align:left;padding:0px;border-width:1px;border-style:solid;\"><span class=\"jp-input_table_data_cell\">h</span></td>  <td class=\"jp-input_table r3 c3\" style=\"text-align:left;padding:0px;border-width:1px;border-style:solid;\"><span class=\"jp-input_table_data_cell\"></span></td> </tr></tbody></table></div>'))"
   ]
  },
  {
   "cell_type": "code",
   "execution_count": 7,
   "id": "34934cc1-dd4a-468f-b042-b825fcfa2cc3",
   "metadata": {
    "deletable": false,
    "editable": false
   },
   "outputs": [
    {
     "data": {
      "text/html": [
       "<div class=\"jp-input_table\"><div class = \"jp-input_table_actions\"><p class = \"jp-input_table_actions\">Actions only work if jupyter-datainputtable extension installed.</p><div class = \"jp-input_table_actions_label\" style = \"display:inline-flex;\">Table Actions</div><button class =\"jp-Button jp-input_table_actions_btn\" style = \"margin:4px;text-decoration:red line-through;\" data-commandlinker-command=\"EditDataTable:jupyter-inputtable\" data-commandlinker-args='{\"tableID\":\"it_1720024472609\"}'title=\"Start editing the data.\">Edit Data</button><button class =\"jp-Button jp-input_table_actions_btn\" style = \"margin:4px;text-decoration:red line-through;\" data-commandlinker-command=\"DataToPandas:jupyter-inputtable\" data-commandlinker-args='{\"tableID\":\"it_1720024472609\"}'title=\"Create a Panda DataFrame from table.\">Data to Pandas...</button><button class =\"jp-Button jp-input_table_actions_btn\" style = \"margin:4px;text-decoration:red line-through;\" data-commandlinker-command=\"SaveDataTable:jupyter-inputtable\" data-commandlinker-args='{\"tableID\":\"it_1720024472609\"}'title=\"Save the updated data table.\">Save Table</button></div><table class=\"jp-input_table\" id=\"it_1720024472609\" style = \"min-width:80%;\"><caption class=\"jp-input_table\" style=\"font-weight:bold;font-size:1.5em;color:darkkhaki;text-align:left;\">Table 1: An example of a small data input table.</caption><tbody> <tr class=\"jp-input_table r0\">  <th class=\"jp-input_table r0 c0\" style=\"text-align:left;padding:0px;border-width:1px;border-style:solid;\"></th><th class=\"jp-input_table r0 c1\" style=\"text-align:left;padding:0px;border-width:1px;border-style:solid;\"><span class=\"jp-input_table_table_label\">Solution</span></th><th class=\"jp-input_table r0 c2\" style=\"text-align:left;padding:0px;border-width:1px;border-style:solid;\"><span class=\"jp-input_table_table_label\">Volume (mL)</span></th><th class=\"jp-input_table r0 c3\" style=\"text-align:left;padding:0px;border-width:1px;border-style:solid;\"><span class=\"jp-input_table_table_label\">Comments</span></th> </tr> <tr class=\"jp-input_table r1\"><th class=\"jp-input_table r1 c0\" style=\"text-align:left;padding:0px;border-width:1px;border-style:solid;\"><span class=\"jp-input_table_table_label\">0</span></th>  <td class=\"jp-input_table r1 c1\" style=\"text-align:left;padding:0px;border-width:1px;border-style:solid;\"><span class=\"jp-input_table_data_cell\">0.10 M acetic acid in water</span></td>  <td class=\"jp-input_table r1 c2\" style=\"text-align:left;padding:0px;border-width:1px;border-style:solid;\"><span class=\"jp-input_table_data_cell\">5.00</span></td>  <td class=\"jp-input_table r1 c3\" style=\"text-align:left;padding:0px;border-width:1px;border-style:solid;\"><span class=\"jp-input_table_data_cell\">a little cloudy</span></td> </tr> <tr class=\"jp-input_table r2\"><th class=\"jp-input_table r2 c0\" style=\"text-align:left;padding:0px;border-width:1px;border-style:solid;\"><span class=\"jp-input_table_table_label\">1</span></th>  <td class=\"jp-input_table r2 c1\" style=\"text-align:left;padding:0px;border-width:1px;border-style:solid;\"><span class=\"jp-input_table_data_cell\">0.22 M NaOH in water.</span></td>  <td class=\"jp-input_table r2 c2\" style=\"text-align:left;padding:0px;border-width:1px;border-style:solid;\"><span class=\"jp-input_table_data_cell\">2.50</span></td>  <td class=\"jp-input_table r2 c3\" style=\"text-align:left;padding:0px;border-width:1px;border-style:solid;\"><span class=\"jp-input_table_data_cell\"></span></td> </tr></tbody></table></div>"
      ],
      "text/plain": [
       "<IPython.core.display.HTML object>"
      ]
     },
     "metadata": {},
     "output_type": "display_data"
    }
   ],
   "source": [
    "# If no data table appears in the output of this cell, run the cell to display the table.\n",
    "\n",
    "from IPython.display import HTML\n",
    "display(HTML('<div class=\"jp-input_table\"><div class = \"jp-input_table_actions\"><p class = \"jp-input_table_actions\">Actions only work if jupyter-datainputtable extension installed.</p><div class = \"jp-input_table_actions_label\" style = \"display:inline-flex;\">Table Actions</div><button class =\"jp-Button jp-input_table_actions_btn\" style = \"margin:4px;text-decoration:red line-through;\" data-commandlinker-command=\"EditDataTable:jupyter-inputtable\" data-commandlinker-args=\\'{\"tableID\":\"it_1720024472609\"}\\'title=\"Start editing the data.\">Edit Data</button><button class =\"jp-Button jp-input_table_actions_btn\" style = \"margin:4px;text-decoration:red line-through;\" data-commandlinker-command=\"DataToPandas:jupyter-inputtable\" data-commandlinker-args=\\'{\"tableID\":\"it_1720024472609\"}\\'title=\"Create a Panda DataFrame from table.\">Data to Pandas...</button><button class =\"jp-Button jp-input_table_actions_btn\" style = \"margin:4px;text-decoration:red line-through;\" data-commandlinker-command=\"SaveDataTable:jupyter-inputtable\" data-commandlinker-args=\\'{\"tableID\":\"it_1720024472609\"}\\'title=\"Save the updated data table.\">Save Table</button></div><table class=\"jp-input_table\" id=\"it_1720024472609\" style = \"min-width:80%;\"><caption class=\"jp-input_table\" style=\"font-weight:bold;font-size:1.5em;color:darkkhaki;text-align:left;\">Table 1: An example of a small data input table.</caption><tbody> <tr class=\"jp-input_table r0\">  <th class=\"jp-input_table r0 c0\" style=\"text-align:left;padding:0px;border-width:1px;border-style:solid;\"></th><th class=\"jp-input_table r0 c1\" style=\"text-align:left;padding:0px;border-width:1px;border-style:solid;\"><span class=\"jp-input_table_table_label\">Solution</span></th><th class=\"jp-input_table r0 c2\" style=\"text-align:left;padding:0px;border-width:1px;border-style:solid;\"><span class=\"jp-input_table_table_label\">Volume (mL)</span></th><th class=\"jp-input_table r0 c3\" style=\"text-align:left;padding:0px;border-width:1px;border-style:solid;\"><span class=\"jp-input_table_table_label\">Comments</span></th> </tr> <tr class=\"jp-input_table r1\"><th class=\"jp-input_table r1 c0\" style=\"text-align:left;padding:0px;border-width:1px;border-style:solid;\"><span class=\"jp-input_table_table_label\">0</span></th>  <td class=\"jp-input_table r1 c1\" style=\"text-align:left;padding:0px;border-width:1px;border-style:solid;\"><span class=\"jp-input_table_data_cell\">0.10 M acetic acid in water</span></td>  <td class=\"jp-input_table r1 c2\" style=\"text-align:left;padding:0px;border-width:1px;border-style:solid;\"><span class=\"jp-input_table_data_cell\">5.00</span></td>  <td class=\"jp-input_table r1 c3\" style=\"text-align:left;padding:0px;border-width:1px;border-style:solid;\"><span class=\"jp-input_table_data_cell\">a little cloudy</span></td> </tr> <tr class=\"jp-input_table r2\"><th class=\"jp-input_table r2 c0\" style=\"text-align:left;padding:0px;border-width:1px;border-style:solid;\"><span class=\"jp-input_table_table_label\">1</span></th>  <td class=\"jp-input_table r2 c1\" style=\"text-align:left;padding:0px;border-width:1px;border-style:solid;\"><span class=\"jp-input_table_data_cell\">0.22 M NaOH in water.</span></td>  <td class=\"jp-input_table r2 c2\" style=\"text-align:left;padding:0px;border-width:1px;border-style:solid;\"><span class=\"jp-input_table_data_cell\">2.50</span></td>  <td class=\"jp-input_table r2 c3\" style=\"text-align:left;padding:0px;border-width:1px;border-style:solid;\"><span class=\"jp-input_table_data_cell\"></span></td> </tr></tbody></table></div>'))"
   ]
  }
 ],
 "metadata": {
  "kernelspec": {
   "display_name": "Python 3 (ipykernel)",
   "language": "python",
   "name": "python3"
  },
  "language_info": {
   "codemirror_mode": {
    "name": "ipython",
    "version": 3
   },
   "file_extension": ".py",
   "mimetype": "text/x-python",
   "name": "python",
   "nbconvert_exporter": "python",
   "pygments_lexer": "ipython3",
   "version": "3.10.12"
  }
 },
 "nbformat": 4,
 "nbformat_minor": 5
}

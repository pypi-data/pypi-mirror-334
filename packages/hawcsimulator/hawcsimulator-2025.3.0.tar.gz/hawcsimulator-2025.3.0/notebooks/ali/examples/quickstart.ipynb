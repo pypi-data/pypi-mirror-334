{
 "cells": [
  {
   "cell_type": "code",
   "execution_count": null,
   "metadata": {},
   "outputs": [],
   "source": [
    "from __future__ import annotations\n",
    "\n",
    "import matplotlib.pyplot as plt\n",
    "import numpy as np\n",
    "import pandas as pd\n",
    "\n",
    "from hawcsimulator.ali.configurations.ideal_spectrograph import IdealALISimulator\n",
    "\n",
    "simulator = IdealALISimulator()\n",
    "\n",
    "input = {\n",
    "        \"tangent_latitude\": 30.0,\n",
    "        \"tangent_longitude\": 0.0,\n",
    "        \"tangent_solar_zenith_angle\": 60.0,\n",
    "        \"tangent_solar_azimuth_angle\": 0.0,\n",
    "        \"altitude_grid\": np.arange(0, 65001.0, 1000.0),\n",
    "        \"polarization_states\": [\"I\", \"dolp\"],\n",
    "        \"sample_wavelengths\": np.array([470.0, 745.0, 1020.0]),\n",
    "        \"time\": pd.Timestamp(\"2022-01-01T12:00:00Z\")\n",
    "}\n",
    "\n",
    "data = simulator.run([\"l2\", \"atmosphere\"], input, config={\"atmosphere_method\": \"omps_calipso_era5\"})\n",
    "\n",
    "\n",
    "data[\"l2\"][\"stratospheric_aerosol_extinction_per_m\"].plot(y=\"altitude\")\n",
    "plt.plot(data[\"atmosphere\"].constituents[\"aerosol\"].extinction_per_m, data[\"atmosphere\"].constituents[\"aerosol\"]._altitudes_m)\n",
    "plt.xlabel(\"Aerosol Extinction [/m]\")\n",
    "plt.ylabel(\"Altitude [m]\")"
   ]
  },
  {
   "cell_type": "code",
   "execution_count": null,
   "metadata": {},
   "outputs": [],
   "source": []
  }
 ],
 "metadata": {
  "kernelspec": {
   "display_name": ".venv",
   "language": "python",
   "name": "python3"
  },
  "language_info": {
   "codemirror_mode": {
    "name": "ipython",
    "version": 3
   },
   "file_extension": ".py",
   "mimetype": "text/x-python",
   "name": "python",
   "nbconvert_exporter": "python",
   "pygments_lexer": "ipython3",
   "version": "3.12.8"
  }
 },
 "nbformat": 4,
 "nbformat_minor": 2
}

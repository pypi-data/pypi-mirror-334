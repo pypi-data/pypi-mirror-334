{
 "cells": [
  {
   "cell_type": "code",
   "execution_count": null,
   "metadata": {},
   "outputs": [],
   "source": [
    "from __future__ import annotations\n",
    "\n",
    "import matplotlib.pyplot as plt\n",
    "import pandas as pd\n",
    "\n",
    "from hawcsimulator.show.configurations.ideal import IdealSHOWSimulator\n",
    "\n",
    "simulator = IdealSHOWSimulator()\n",
    "\n",
    "input = {\n",
    "        \"tangent_latitude\": 30.0,\n",
    "        \"tangent_longitude\": 0.0,\n",
    "        \"tangent_solar_zenith_angle\": 60.0,\n",
    "        \"tangent_solar_azimuth_angle\": 0.0,\n",
    "        \"time\": pd.Timestamp(\"2022-01-01T12:00:00Z\"),\n",
    "}\n",
    "\n",
    "data = simulator.run([\"l2\", \"atmosphere\"], input, config={\"atmosphere_method\": \"omps_calipso_era5\"})\n",
    "\n",
    "(data[\"l2\"][0]._ds[\"h2o_vmr\"] * 1e6).plot(y=\"altitude\")\n",
    "plt.ylim(10000, 30000)\n",
    "plt.xscale(\"log\")\n",
    "\n",
    "plt.plot(data[\"atmosphere\"].constituents[\"h2o\"]._vmr*1e6, data[\"atmosphere\"].constituents[\"h2o\"]._altitudes_m, label=\"H2O\")\n",
    "\n",
    "plt.xlabel(\"H2O VMR [ppm]\")\n",
    "plt.ylabel(\"Altitude [m]\")\n"
   ]
  },
  {
   "cell_type": "code",
   "execution_count": null,
   "metadata": {},
   "outputs": [],
   "source": []
  }
 ],
 "metadata": {
  "kernelspec": {
   "display_name": ".venv",
   "language": "python",
   "name": "python3"
  },
  "language_info": {
   "codemirror_mode": {
    "name": "ipython",
    "version": 3
   },
   "file_extension": ".py",
   "mimetype": "text/x-python",
   "name": "python",
   "nbconvert_exporter": "python",
   "pygments_lexer": "ipython3",
   "version": "3.12.8"
  }
 },
 "nbformat": 4,
 "nbformat_minor": 2
}

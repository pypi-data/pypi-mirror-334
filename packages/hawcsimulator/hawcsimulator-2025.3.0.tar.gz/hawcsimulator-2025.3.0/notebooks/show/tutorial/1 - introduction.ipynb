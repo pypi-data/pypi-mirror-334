{
 "cells": [
  {
   "cell_type": "markdown",
   "metadata": {},
   "source": [
    "# SHOW Simulator Introduction"
   ]
  },
  {
   "cell_type": "code",
   "execution_count": null,
   "metadata": {},
   "outputs": [],
   "source": [
    "from __future__ import annotations\n",
    "\n",
    "import pandas as pd\n",
    "\n",
    "from hawcsimulator.show.configurations.ideal import IdealSHOWSimulator\n",
    "\n",
    "simulator = IdealSHOWSimulator()\n",
    "\n",
    "cfg = {\n",
    "    \"steps\": [\"create_limb_observation\", \"default_atmosphere\", \"generate_fer\", \"show_por_from_atmosphere\", \"ideal_show_model_l1b\", \"l1b_to_l2\"],\n",
    "    \"create_limb_observation\": {\n",
    "        \"tangent_latitude\": 30,\n",
    "        \"tangent_longitude\": 0,\n",
    "        \"time\": pd.Timestamp(\"2022-01-01T12:00:00Z\"),\n",
    "    },\n",
    "}\n",
    "\n",
    "data = simulator.run(cfg)"
   ]
  },
  {
   "cell_type": "code",
   "execution_count": null,
   "metadata": {},
   "outputs": [],
   "source": [
    "import matplotlib.pyplot as plt\n",
    "\n",
    "plt.plot(data[\"atmosphere\"][\"h2o\"]._vmr*1e6, data[\"atmosphere\"][\"h2o\"]._altitudes_m)\n",
    "plt.plot(data[\"l2\"][0].ds[\"h2o_vmr\"]*1e6, data[\"l2\"][0].ds[\"altitude\"])\n",
    "plt.ylim(10000, 40000)\n",
    "plt.xlim(2, 10)\n",
    "plt.legend([\"True\", \"Retrieved\"])"
   ]
  },
  {
   "cell_type": "code",
   "execution_count": null,
   "metadata": {},
   "outputs": [],
   "source": [
    "data[\"l2\"][0].ds"
   ]
  },
  {
   "cell_type": "code",
   "execution_count": null,
   "metadata": {},
   "outputs": [],
   "source": []
  }
 ],
 "metadata": {
  "kernelspec": {
   "display_name": "Python 3 (ipykernel)",
   "language": "python",
   "name": "python3"
  },
  "language_info": {
   "codemirror_mode": {
    "name": "ipython",
    "version": 3
   },
   "file_extension": ".py",
   "mimetype": "text/x-python",
   "name": "python",
   "nbconvert_exporter": "python",
   "pygments_lexer": "ipython3",
   "version": "3.12.7"
  }
 },
 "nbformat": 4,
 "nbformat_minor": 2
}

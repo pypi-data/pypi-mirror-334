{
 "cells": [
  {
   "cell_type": "markdown",
   "metadata": {},
   "source": [
    "# Using the Nested-Dask `nest` Accessor"
   ]
  },
  {
   "cell_type": "markdown",
   "metadata": {},
   "source": [
    "The `nest` accessor implements an additional API layer to support working with nested columns of a `NestedFrame`.\n",
    "\n",
    "> **_NOTE:_** The nest accessor in Nested-Dask has a limited implementation compared to Nested-Pandas"
   ]
  },
  {
   "cell_type": "code",
   "execution_count": null,
   "metadata": {},
   "outputs": [],
   "source": [
    "from nested_dask.datasets import generate_data\n",
    "\n",
    "# generate_data creates some toy data\n",
    "ndf = generate_data(10, 5)  # 10 rows, 5 nested rows per row\n",
    "ndf"
   ]
  },
  {
   "cell_type": "markdown",
   "metadata": {},
   "source": [
    "The `nest` accessor is available when selecting a nested column of a `NestedFrame`. For example:"
   ]
  },
  {
   "cell_type": "code",
   "execution_count": null,
   "metadata": {},
   "outputs": [],
   "source": [
    "ndf[\"nested\"].nest"
   ]
  },
  {
   "cell_type": "markdown",
   "metadata": {},
   "source": [
    "Nested column labels can be viewed using the `fields` property:"
   ]
  },
  {
   "cell_type": "code",
   "execution_count": null,
   "metadata": {},
   "outputs": [],
   "source": [
    "ndf[\"nested\"].nest.fields"
   ]
  },
  {
   "cell_type": "markdown",
   "metadata": {},
   "source": [
    "Nested data can be viewed in different formats using `nest` accessor functions.\n",
    "\n",
    "`to_flat` will take the nested data and send it to a single flat `DataFrame`:"
   ]
  },
  {
   "cell_type": "code",
   "execution_count": null,
   "metadata": {},
   "outputs": [],
   "source": [
    "flat_nested = ndf[\"nested\"].nest.to_flat()\n",
    "flat_nested"
   ]
  },
  {
   "cell_type": "code",
   "execution_count": null,
   "metadata": {},
   "outputs": [],
   "source": [
    "flat_nested.head(20)"
   ]
  },
  {
   "cell_type": "markdown",
   "metadata": {},
   "source": [
    "The index of the resulting flat dataframe is repeated and maps directly to the index of the original `NestedFrame`.\n",
    "\n",
    "Alternatively, `to_lists` can be used to package the data into numpy arrays:"
   ]
  },
  {
   "cell_type": "code",
   "execution_count": null,
   "metadata": {},
   "outputs": [],
   "source": [
    "list_nested = ndf[\"nested\"].nest.to_lists()\n",
    "list_nested.compute()"
   ]
  }
 ],
 "metadata": {
  "kernelspec": {
   "display_name": "Python 3",
   "language": "python",
   "name": "python3"
  },
  "language_info": {
   "codemirror_mode": {
    "name": "ipython",
    "version": 3
   },
   "file_extension": ".py",
   "mimetype": "text/x-python",
   "name": "python",
   "nbconvert_exporter": "python",
   "pygments_lexer": "ipython3",
   "version": "3.10.11"
  }
 },
 "nbformat": 4,
 "nbformat_minor": 2
}

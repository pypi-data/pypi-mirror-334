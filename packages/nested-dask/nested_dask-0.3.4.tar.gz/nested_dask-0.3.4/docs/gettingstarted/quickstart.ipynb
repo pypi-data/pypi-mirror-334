{
 "cells": [
  {
   "cell_type": "markdown",
   "metadata": {},
   "source": [
    "# Quickstart"
   ]
  },
  {
   "cell_type": "markdown",
   "metadata": {},
   "source": [
    "With a valid Python environment, nested-dask and its dependencies are easy to install using the `pip` package manager. The following command can be used to install it:"
   ]
  },
  {
   "cell_type": "code",
   "execution_count": null,
   "metadata": {},
   "outputs": [],
   "source": [
    "# % pip install nested-dask"
   ]
  },
  {
   "cell_type": "markdown",
   "metadata": {},
   "source": [
    "Nested-Dask is a package that enables parallelized computation of nested associated datasets.\n",
    "\n",
    "Usage of Nested-Dask very closely follows the usage of [Nested-Pandas](https://nested-pandas.readthedocs.io/en/latest/index.html), but with a layer of [Dask](https://www.dask.org/get-started) concepts introduced on top. This quickstart guide will step through a basic example that mirrors the [quickstart guide](https://nested-pandas.readthedocs.io/en/latest/gettingstarted/quickstart.html) of Nested-Pandas. First, let's load some toy data:"
   ]
  },
  {
   "cell_type": "code",
   "execution_count": null,
   "metadata": {},
   "outputs": [],
   "source": [
    "from nested_dask.datasets import generate_data\n",
    "\n",
    "# generate_data creates some toy data\n",
    "ndf = generate_data(10, 100)  # 10 rows, 100 nested rows per row\n",
    "ndf"
   ]
  },
  {
   "cell_type": "markdown",
   "metadata": {},
   "source": [
    "The above is a Nested-Dask `NestedFrame` object. It's currently a \"lazy\" representation of the data, meaning that no data has actually been brought into memory yet. This lazy view gives us some useful information on the structure of the data, with notable pieces of information being:\n",
    "\n",
    "* Shows us which columns are in the dataset and their respective dtypes.\n",
    "\n",
    "* `npartitions=1` indicates how many partitions the dataset has been split into.\n",
    "\n",
    "*  The `0` and `9` tell us the \"divisions\" of the partitions. When the dataset is sorted by the index, these divisions are ranges to show which index values reside in each partition.\n",
    "\n",
    "We can signal to Dask that we'd like to actually obtain the data as `nested_pandas.NestedFrame` by using `compute`."
   ]
  },
  {
   "cell_type": "code",
   "execution_count": null,
   "metadata": {},
   "outputs": [],
   "source": [
    "ndf.compute()  # or could use ndf.head(n) to peak at the first n rows"
   ]
  },
  {
   "cell_type": "markdown",
   "metadata": {},
   "source": [
    "As with Nested-Pandas, this `NestedFrame` holds special nested columns in addition to normal Pandas columns. In this case, we have the top level dataframe with 10 rows and 2 typical columns, “a” and “b”. The “nested” column contains a dataframe in each row. We can inspect the contents of the “nested” column using the standard Pandas/Dask API."
   ]
  },
  {
   "cell_type": "code",
   "execution_count": null,
   "metadata": {},
   "outputs": [],
   "source": [
    "ndf.nested.compute()[0]"
   ]
  },
  {
   "cell_type": "markdown",
   "metadata": {},
   "source": [
    "Here we see that within the “nested” column there are Nested-Pandas `NestedFrame` objects with their own data. In this case we have 3 columns (“t”, “flux”, and “band”).\n",
    "\n",
    "Nested-Dask functionality mirrors Nested-Pandas, as we can see via the `query` function. In this case, we use a Nested-Pandas specific feature to query nested layers using a hierarchical column name (\"nested.t\" queries the \"t\" sub-column from the \"nested\" column of ndf)."
   ]
  },
  {
   "cell_type": "code",
   "execution_count": null,
   "metadata": {},
   "outputs": [],
   "source": [
    "# Applies the query to \"nested\", filtering based on \"t >17\"\n",
    "result = ndf.query(\"nested.t > 17.0\")\n",
    "result"
   ]
  },
  {
   "cell_type": "markdown",
   "metadata": {},
   "source": [
    "Once again, the result is lazy and no work has been performed. We can kick off some computation using `compute` as above or this time using `head` to just peek at the result:"
   ]
  },
  {
   "cell_type": "code",
   "execution_count": null,
   "metadata": {},
   "outputs": [],
   "source": [
    "result.head(5)"
   ]
  },
  {
   "cell_type": "markdown",
   "metadata": {},
   "source": [
    "In this case, the query has actually affected the rows of the \"nested\" column."
   ]
  },
  {
   "cell_type": "code",
   "execution_count": null,
   "metadata": {},
   "outputs": [],
   "source": [
    "result.head(5).nested[0]  # no t value lower than 17.0"
   ]
  },
  {
   "cell_type": "markdown",
   "metadata": {},
   "source": [
    "Nested-Dask `reduce` functions near-identically to Nested-Pandas `reduce`, providing a way to call custom functions on `NestedFrame` data. The one addition is that we'll need to provide the Dask `meta` value for the result. This is a dataframe-like or series-like object that has the same structure as the expected output. Let's compute the mean flux for each dataframe in the \"nested\" column. "
   ]
  },
  {
   "cell_type": "code",
   "execution_count": null,
   "metadata": {},
   "outputs": [],
   "source": [
    "import numpy as np\n",
    "import pandas as pd\n",
    "\n",
    "# The result will be a series with float values\n",
    "meta = pd.DataFrame(columns=[0], dtype=float)\n",
    "\n",
    "# use hierarchical column names to access the flux column\n",
    "# passed as an array to np.mean\n",
    "means = ndf.reduce(np.mean, \"nested.flux\", meta=meta)\n",
    "means.compute()"
   ]
  },
  {
   "cell_type": "code",
   "execution_count": null,
   "metadata": {},
   "outputs": [],
   "source": []
  }
 ],
 "metadata": {
  "kernelspec": {
   "display_name": "Python 3",
   "language": "python",
   "name": "python3"
  },
  "language_info": {
   "codemirror_mode": {
    "name": "ipython",
    "version": 3
   },
   "file_extension": ".py",
   "mimetype": "text/x-python",
   "name": "python",
   "nbconvert_exporter": "python",
   "pygments_lexer": "ipython3",
   "version": "3.12.3"
  }
 },
 "nbformat": 4,
 "nbformat_minor": 2
}

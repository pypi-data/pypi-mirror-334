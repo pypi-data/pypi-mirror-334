{
 "cells": [
  {
   "cell_type": "markdown",
   "metadata": {},
   "source": [
    "# Import Required Libraries\n",
    "Import the necessary libraries, including the Rust-Python bindings module."
   ]
  },
  {
   "cell_type": "code",
   "execution_count": 5,
   "metadata": {},
   "outputs": [],
   "source": [
    "# Import the necessary libraries, including the Rust-Python bindings module\n",
    "import rustypot\n",
    "\n",
    "# Additional imports if necessary\n",
    "import numpy as np\n",
    "import matplotlib.pyplot as plt"
   ]
  },
  {
   "cell_type": "code",
   "execution_count": 6,
   "metadata": {},
   "outputs": [],
   "source": [
    "io = rustypot.feetech(\"/dev/tty.usbmodem58FD0164681\", 1000000)"
   ]
  },
  {
   "cell_type": "code",
   "execution_count": 7,
   "metadata": {},
   "outputs": [
    {
     "data": {
      "text/plain": [
       "<IO at 0x11636ae20>"
      ]
     },
     "execution_count": 7,
     "metadata": {},
     "output_type": "execute_result"
    }
   ],
   "source": [
    "io"
   ]
  },
  {
   "cell_type": "code",
   "execution_count": 9,
   "metadata": {},
   "outputs": [
    {
     "name": "stderr",
     "output_type": "stream",
     "text": [
      "thread '<unnamed>' panicked at src/lib.rs:18:14:\n",
      "called `Result::unwrap()` on an `Err` value: Error { kind: Unknown, description: \"No such device or address\" }\n"
     ]
    },
    {
     "ename": "PanicException",
     "evalue": "called `Result::unwrap()` on an `Err` value: Error { kind: Unknown, description: \"No such device or address\" }",
     "output_type": "error",
     "traceback": [
      "\u001b[0;31m---------------------------------------------------------------------------\u001b[0m",
      "\u001b[0;31mPanicException\u001b[0m                            Traceback (most recent call last)",
      "Cell \u001b[0;32mIn[9], line 1\u001b[0m\n\u001b[0;32m----> 1\u001b[0m \u001b[43mio\u001b[49m\u001b[38;5;241;43m.\u001b[39;49m\u001b[43mread_pos\u001b[49m\u001b[43m(\u001b[49m\u001b[43m[\u001b[49m\u001b[38;5;241;43m1\u001b[39;49m\u001b[43m]\u001b[49m\u001b[43m)\u001b[49m\n",
      "\u001b[0;31mPanicException\u001b[0m: called `Result::unwrap()` on an `Err` value: Error { kind: Unknown, description: \"No such device or address\" }"
     ]
    }
   ],
   "source": [
    "io.read_pos([1])"
   ]
  },
  {
   "cell_type": "markdown",
   "metadata": {},
   "source": [
    "# Load the Rust Module\n",
    "Load the Rust module using the appropriate import statement."
   ]
  },
  {
   "cell_type": "code",
   "execution_count": 3,
   "metadata": {},
   "outputs": [
    {
     "name": "stdout",
     "output_type": "stream",
     "text": [
      "7\n"
     ]
    }
   ],
   "source": [
    "# Load the Rust Module\n",
    "import rustypot\n",
    "\n",
    "# Verify the module is loaded by calling a function\n",
    "result = rustypot.sum_as_string(3, 4)\n",
    "print(result)  # Should print \"7\""
   ]
  },
  {
   "cell_type": "markdown",
   "metadata": {},
   "source": [
    "# Test sum_as_string Function\n",
    "Call the sum_as_string function with different inputs and print the results to verify its correctness."
   ]
  },
  {
   "cell_type": "code",
   "execution_count": 4,
   "metadata": {},
   "outputs": [
    {
     "name": "stdout",
     "output_type": "stream",
     "text": [
      "3\n",
      "30\n",
      "0\n",
      "579\n",
      "1000\n"
     ]
    }
   ],
   "source": [
    "# Test sum_as_string Function\n",
    "\n",
    "# Call the sum_as_string function with different inputs and print the results to verify its correctness\n",
    "\n",
    "# Test case 1: Sum of 1 and 2\n",
    "result1 = rustypot.sum_as_string(1, 2)\n",
    "print(result1)  # Should print \"3\"\n",
    "\n",
    "# Test case 2: Sum of 10 and 20\n",
    "result2 = rustypot.sum_as_string(10, 20)\n",
    "print(result2)  # Should print \"30\"\n",
    "\n",
    "# Test case 3: Sum of 0 and 0\n",
    "result3 = rustypot.sum_as_string(0, 0)\n",
    "print(result3)  # Should print \"0\"\n",
    "\n",
    "# Test case 4: Sum of 123 and 456\n",
    "result4 = rustypot.sum_as_string(123, 456)\n",
    "print(result4)  # Should print \"579\"\n",
    "\n",
    "# Test case 5: Sum of 999 and 1\n",
    "result5 = rustypot.sum_as_string(999, 1)\n",
    "print(result5)  # Should print \"1000\""
   ]
  }
 ],
 "metadata": {
  "kernelspec": {
   "display_name": "rustypot",
   "language": "python",
   "name": "python3"
  },
  "language_info": {
   "codemirror_mode": {
    "name": "ipython",
    "version": 3
   },
   "file_extension": ".py",
   "mimetype": "text/x-python",
   "name": "python",
   "nbconvert_exporter": "python",
   "pygments_lexer": "ipython3",
   "version": "3.13.1"
  }
 },
 "nbformat": 4,
 "nbformat_minor": 2
}

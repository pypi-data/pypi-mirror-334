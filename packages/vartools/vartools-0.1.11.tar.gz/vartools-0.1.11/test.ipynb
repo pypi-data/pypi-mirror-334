{
 "cells": [
  {
   "cell_type": "code",
   "execution_count": 1,
   "metadata": {},
   "outputs": [],
   "source": [
    "import numpy as np\n",
    "import pandas as pd\n",
    "import yfinance as yf\n",
    "from scipy.stats import norm\n",
    "import matplotlib.pyplot as plt\n",
    "from scipy.optimize import minimize\n",
    "import vartools as vt"
   ]
  },
  {
   "cell_type": "markdown",
   "metadata": {},
   "source": [
    "## get_data"
   ]
  },
  {
   "cell_type": "code",
   "execution_count": 2,
   "metadata": {},
   "outputs": [
    {
     "name": "stdout",
     "output_type": "stream",
     "text": [
      "YF.download() has changed argument auto_adjust default to True\n"
     ]
    },
    {
     "name": "stderr",
     "output_type": "stream",
     "text": [
      "[*********************100%***********************]  5 of 5 completed\n"
     ]
    }
   ],
   "source": [
    "stocks = [\"AAPL\", \"TSLA\", \"AMD\", \"LMT\", \"JPM\"]\n",
    "start_date = \"2020-01-01\"\n",
    "end_date = \"2023-01-01\"\n",
    "type = 'Close' # 'Close', select the type of price you want to download\n",
    "\n",
    "data = vt.get_data(stocks, start_date, end_date, type)"
   ]
  },
  {
   "cell_type": "markdown",
   "metadata": {},
   "source": [
    "## var_stocks"
   ]
  },
  {
   "cell_type": "code",
   "execution_count": 3,
   "metadata": {},
   "outputs": [
    {
     "name": "stderr",
     "output_type": "stream",
     "text": [
      "[*********************100%***********************]  5 of 5 completed\n"
     ]
    },
    {
     "data": {
      "text/html": [
       "<div>\n",
       "<style scoped>\n",
       "    .dataframe tbody tr th:only-of-type {\n",
       "        vertical-align: middle;\n",
       "    }\n",
       "\n",
       "    .dataframe tbody tr th {\n",
       "        vertical-align: top;\n",
       "    }\n",
       "\n",
       "    .dataframe thead th {\n",
       "        text-align: right;\n",
       "    }\n",
       "</style>\n",
       "<table border=\"1\" class=\"dataframe\">\n",
       "  <thead>\n",
       "    <tr style=\"text-align: right;\">\n",
       "      <th></th>\n",
       "      <th>Métrica</th>\n",
       "      <th>Porcentaje</th>\n",
       "      <th>cash</th>\n",
       "    </tr>\n",
       "  </thead>\n",
       "  <tbody>\n",
       "    <tr>\n",
       "      <th>0</th>\n",
       "      <td>VaR</td>\n",
       "      <td>0.0289</td>\n",
       "      <td>33,039.7789</td>\n",
       "    </tr>\n",
       "    <tr>\n",
       "      <th>1</th>\n",
       "      <td>cVaR</td>\n",
       "      <td>0.0464</td>\n",
       "      <td>53,056.0828</td>\n",
       "    </tr>\n",
       "  </tbody>\n",
       "</table>\n",
       "</div>"
      ],
      "text/plain": [
       "  Métrica  Porcentaje        cash\n",
       "0     VaR      0.0289 33,039.7789\n",
       "1    cVaR      0.0464 53,056.0828"
      ]
     },
     "execution_count": 3,
     "metadata": {},
     "output_type": "execute_result"
    }
   ],
   "source": [
    "stocks = [\"AAPL\", \"TSLA\", \"AMD\", \"LMT\", \"JPM\"]\n",
    "start_date = \"2020-01-01\"\n",
    "end_date = \"2023-01-01\"\n",
    "type = 'Close' # 'Close', select the type of price you want to download\n",
    "\n",
    "data = vt.get_data(stocks, start_date, end_date, type)\n",
    "n_stocks =[2193, 1211, 3221, 761, 1231]\n",
    "conf = 95\n",
    "long = True\n",
    "\n",
    "var_df = vt.var_stocks(data, n_stocks, conf, long, stocks)\n",
    "var_df"
   ]
  },
  {
   "cell_type": "markdown",
   "metadata": {},
   "source": [
    "## var_forex"
   ]
  },
  {
   "cell_type": "code",
   "execution_count": 4,
   "metadata": {},
   "outputs": [
    {
     "name": "stderr",
     "output_type": "stream",
     "text": [
      "[*********************100%***********************]  2 of 2 completed\n"
     ]
    },
    {
     "data": {
      "text/html": [
       "<div>\n",
       "<style scoped>\n",
       "    .dataframe tbody tr th:only-of-type {\n",
       "        vertical-align: middle;\n",
       "    }\n",
       "\n",
       "    .dataframe tbody tr th {\n",
       "        vertical-align: top;\n",
       "    }\n",
       "\n",
       "    .dataframe thead th {\n",
       "        text-align: right;\n",
       "    }\n",
       "</style>\n",
       "<table border=\"1\" class=\"dataframe\">\n",
       "  <thead>\n",
       "    <tr style=\"text-align: right;\">\n",
       "      <th></th>\n",
       "      <th>Métrica</th>\n",
       "      <th>Porcentual</th>\n",
       "      <th>Cash</th>\n",
       "    </tr>\n",
       "  </thead>\n",
       "  <tbody>\n",
       "    <tr>\n",
       "      <th>0</th>\n",
       "      <td>VaR</td>\n",
       "      <td>0.0185</td>\n",
       "      <td>5,041,647.6883</td>\n",
       "    </tr>\n",
       "    <tr>\n",
       "      <th>1</th>\n",
       "      <td>cVaR</td>\n",
       "      <td>0.0238</td>\n",
       "      <td>6,478,978.9919</td>\n",
       "    </tr>\n",
       "  </tbody>\n",
       "</table>\n",
       "</div>"
      ],
      "text/plain": [
       "  Métrica  Porcentual           Cash\n",
       "0     VaR      0.0185 5,041,647.6883\n",
       "1    cVaR      0.0238 6,478,978.9919"
      ]
     },
     "execution_count": 4,
     "metadata": {},
     "output_type": "execute_result"
    }
   ],
   "source": [
    "currencies = ['CHFMXN=X', 'MXN=X']\n",
    "start_date = \"2020-01-01\"\n",
    "end_date = \"2024-12-02\"\n",
    "type = 'Close'\n",
    "\n",
    "data = vt.get_data(currencies, start_date, end_date, type)\n",
    "positions = [7100000, 5300000] # How much you have in each currency. Must match the order in currencies.\n",
    "conf = 99 # Nivel de confianza\n",
    "long = True\n",
    "\n",
    "var_forex_df = vt.var_forex(data, positions, conf, long, currencies)\n",
    "var_forex_df"
   ]
  },
  {
   "cell_type": "markdown",
   "metadata": {},
   "source": [
    "## rebalance_stocks"
   ]
  },
  {
   "cell_type": "code",
   "execution_count": 5,
   "metadata": {},
   "outputs": [
    {
     "name": "stderr",
     "output_type": "stream",
     "text": [
      "[*********************100%***********************]  5 of 5 completed\n"
     ]
    },
    {
     "data": {
      "text/html": [
       "<div>\n",
       "<style scoped>\n",
       "    .dataframe tbody tr th:only-of-type {\n",
       "        vertical-align: middle;\n",
       "    }\n",
       "\n",
       "    .dataframe tbody tr th {\n",
       "        vertical-align: top;\n",
       "    }\n",
       "\n",
       "    .dataframe thead th {\n",
       "        text-align: right;\n",
       "    }\n",
       "</style>\n",
       "<table border=\"1\" class=\"dataframe\">\n",
       "  <thead>\n",
       "    <tr style=\"text-align: right;\">\n",
       "      <th>Ticker</th>\n",
       "      <th>AAPL</th>\n",
       "      <th>TSLA</th>\n",
       "      <th>AMD</th>\n",
       "      <th>LMT</th>\n",
       "      <th>JPM</th>\n",
       "    </tr>\n",
       "  </thead>\n",
       "  <tbody>\n",
       "    <tr>\n",
       "      <th>Peso Original</th>\n",
       "      <td>0.2462</td>\n",
       "      <td>0.1304</td>\n",
       "      <td>0.1824</td>\n",
       "      <td>0.3048</td>\n",
       "      <td>0.1362</td>\n",
       "    </tr>\n",
       "    <tr>\n",
       "      <th>Peso Óptimo</th>\n",
       "      <td>0.3300</td>\n",
       "      <td>0.1500</td>\n",
       "      <td>0.0600</td>\n",
       "      <td>0.4600</td>\n",
       "      <td>0.0000</td>\n",
       "    </tr>\n",
       "    <tr>\n",
       "      <th>Acciones (C/V)</th>\n",
       "      <td>746.0000</td>\n",
       "      <td>181.0000</td>\n",
       "      <td>-2,162.0000</td>\n",
       "      <td>387.0000</td>\n",
       "      <td>-1,231.0000</td>\n",
       "    </tr>\n",
       "  </tbody>\n",
       "</table>\n",
       "</div>"
      ],
      "text/plain": [
       "Ticker             AAPL     TSLA         AMD      LMT         JPM\n",
       "Peso Original    0.2462   0.1304      0.1824   0.3048      0.1362\n",
       "Peso Óptimo      0.3300   0.1500      0.0600   0.4600      0.0000\n",
       "Acciones (C/V) 746.0000 181.0000 -2,162.0000 387.0000 -1,231.0000"
      ]
     },
     "execution_count": 5,
     "metadata": {},
     "output_type": "execute_result"
    }
   ],
   "source": [
    "stocks = [\"AAPL\", \"TSLA\", \"AMD\", \"LMT\", \"JPM\"]\n",
    "start_date = \"2020-01-01\"\n",
    "end_date = \"2023-01-01\"\n",
    "type = 'Close' # 'Close', select the type of price you want to download\n",
    "\n",
    "data = vt.get_data(stocks, start_date, end_date, type)\n",
    "\n",
    "rt = data.pct_change().dropna()\n",
    "stock_value = n_stocks * data.iloc[-1]\n",
    "portfolio_value = stock_value.sum()\n",
    "w_original = stock_value / portfolio_value\n",
    "w_opt = [0.33, 0.15, 0.06, 0.46, 0.00]\n",
    "\n",
    "rebalance_df = vt.rebalance_stocks(w_original, w_opt, data, stocks, portfolio_value)\n",
    "rebalance_df"
   ]
  },
  {
   "cell_type": "markdown",
   "metadata": {},
   "source": [
    "## var_weights"
   ]
  },
  {
   "cell_type": "code",
   "execution_count": 6,
   "metadata": {},
   "outputs": [
    {
     "name": "stderr",
     "output_type": "stream",
     "text": [
      "[*********************100%***********************]  5 of 5 completed\n"
     ]
    },
    {
     "data": {
      "text/plain": [
       "0.02884954405516577"
      ]
     },
     "execution_count": 6,
     "metadata": {},
     "output_type": "execute_result"
    }
   ],
   "source": [
    "stocks = [\"AAPL\", \"TSLA\", \"AMD\", \"LMT\", \"JPM\"]\n",
    "start_date = \"2020-01-01\"\n",
    "end_date = \"2023-01-01\"\n",
    "type = 'Close' # 'Close', select the type of price you want to download\n",
    "\n",
    "data = vt.get_data(stocks, start_date, end_date, type)\n",
    "\n",
    "weights = [0.2457, 0.1301, 0.1820, 0.3064, 0.1358]\n",
    "conf = 95\n",
    "var_pct = vt.var_weights(data, weights, conf)\n",
    "var_pct"
   ]
  },
  {
   "cell_type": "markdown",
   "metadata": {},
   "source": [
    "## cvar_weights"
   ]
  },
  {
   "cell_type": "code",
   "execution_count": 7,
   "metadata": {},
   "outputs": [
    {
     "name": "stderr",
     "output_type": "stream",
     "text": [
      "[*********************100%***********************]  5 of 5 completed\n"
     ]
    },
    {
     "data": {
      "text/plain": [
       "0.04634398062779274"
      ]
     },
     "execution_count": 7,
     "metadata": {},
     "output_type": "execute_result"
    }
   ],
   "source": [
    "stocks = [\"AAPL\", \"TSLA\", \"AMD\", \"LMT\", \"JPM\"]\n",
    "start_date = \"2020-01-01\"\n",
    "end_date = \"2023-01-01\"\n",
    "type = 'Close' # 'Close', select the type of price you want to download\n",
    "\n",
    "data = vt.get_data(stocks, start_date, end_date, type)\n",
    "\n",
    "weights = [0.2457, 0.1301, 0.1820, 0.3064, 0.1358]\n",
    "conf = 95\n",
    "cvar_pct = vt.cvar_weights(data, weights, conf)\n",
    "cvar_pct"
   ]
  },
  {
   "cell_type": "markdown",
   "metadata": {},
   "source": [
    "## opt_sharpe"
   ]
  },
  {
   "cell_type": "code",
   "execution_count": 8,
   "metadata": {},
   "outputs": [
    {
     "name": "stderr",
     "output_type": "stream",
     "text": [
      "[*********************100%***********************]  8 of 8 completed\n"
     ]
    },
    {
     "data": {
      "text/plain": [
       "array([4.21950928e-01, 1.57706455e-01, 6.40763484e-17, 3.17330428e-17,\n",
       "       1.41441522e-01, 0.00000000e+00, 2.78901096e-01, 0.00000000e+00])"
      ]
     },
     "execution_count": 8,
     "metadata": {},
     "output_type": "execute_result"
    }
   ],
   "source": [
    "stocks=['WMT','AAPL','GOOGL','PG','XOM','KO','CMG','F']\n",
    "start_date='2020-01-01'\n",
    "end_date='2024-11-24'\n",
    "type='Close'\n",
    "\n",
    "data = vt.get_data(stocks, start_date, end_date, type)\n",
    "returns = data.pct_change().dropna()\n",
    "rf = 0.04413\n",
    "\n",
    "opt_sharpe_weights = vt.opt_sharpe(returns, rf)\n",
    "opt_sharpe_weights"
   ]
  },
  {
   "cell_type": "markdown",
   "metadata": {},
   "source": [
    "## min_variance"
   ]
  },
  {
   "cell_type": "code",
   "execution_count": 9,
   "metadata": {},
   "outputs": [
    {
     "name": "stderr",
     "output_type": "stream",
     "text": [
      "[*********************100%***********************]  8 of 8 completed\n"
     ]
    },
    {
     "ename": "TypeError",
     "evalue": "min_variance.<locals>.min_var() takes 2 positional arguments but 3 were given",
     "output_type": "error",
     "traceback": [
      "\u001b[0;31m---------------------------------------------------------------------------\u001b[0m",
      "\u001b[0;31mTypeError\u001b[0m                                 Traceback (most recent call last)",
      "Cell \u001b[0;32mIn[9], line 9\u001b[0m\n\u001b[1;32m      6\u001b[0m data \u001b[38;5;241m=\u001b[39m vt\u001b[38;5;241m.\u001b[39mget_data(stocks, start_date, end_date, \u001b[38;5;28mtype\u001b[39m)\n\u001b[1;32m      7\u001b[0m returns \u001b[38;5;241m=\u001b[39m data\u001b[38;5;241m.\u001b[39mpct_change()\u001b[38;5;241m.\u001b[39mdropna()\n\u001b[0;32m----> 9\u001b[0m min_var_weights \u001b[38;5;241m=\u001b[39m vt\u001b[38;5;241m.\u001b[39mmin_variance(returns)\n\u001b[1;32m     10\u001b[0m min_var_weights\n",
      "File \u001b[0;32m/opt/anaconda3/lib/python3.12/site-packages/vartools/__init__.py:302\u001b[0m, in \u001b[0;36mmin_variance\u001b[0;34m(returns)\u001b[0m\n\u001b[1;32m    299\u001b[0m w0 \u001b[38;5;241m=\u001b[39m np\u001b[38;5;241m.\u001b[39marray([\u001b[38;5;241m1\u001b[39m \u001b[38;5;241m/\u001b[39m n_assets] \u001b[38;5;241m*\u001b[39m n_assets)\n\u001b[1;32m    301\u001b[0m \u001b[38;5;66;03m# Optimización\u001b[39;00m\n\u001b[0;32m--> 302\u001b[0m result \u001b[38;5;241m=\u001b[39m minimize(min_var, \n\u001b[1;32m    303\u001b[0m         w0, \n\u001b[1;32m    304\u001b[0m         args\u001b[38;5;241m=\u001b[39m(mu, sigma), \n\u001b[1;32m    305\u001b[0m         method\u001b[38;5;241m=\u001b[39m\u001b[38;5;124m'\u001b[39m\u001b[38;5;124mSLSQP\u001b[39m\u001b[38;5;124m'\u001b[39m, \n\u001b[1;32m    306\u001b[0m         bounds\u001b[38;5;241m=\u001b[39mbounds, \n\u001b[1;32m    307\u001b[0m         constraints\u001b[38;5;241m=\u001b[39mconstraints)\n\u001b[1;32m    309\u001b[0m \u001b[38;5;66;03m# Resultados\u001b[39;00m\n\u001b[1;32m    310\u001b[0m min_var_weights \u001b[38;5;241m=\u001b[39m result\u001b[38;5;241m.\u001b[39mx\n",
      "File \u001b[0;32m/opt/anaconda3/lib/python3.12/site-packages/scipy/optimize/_minimize.py:722\u001b[0m, in \u001b[0;36mminimize\u001b[0;34m(fun, x0, args, method, jac, hess, hessp, bounds, constraints, tol, callback, options)\u001b[0m\n\u001b[1;32m    719\u001b[0m     res \u001b[38;5;241m=\u001b[39m _minimize_cobyla(fun, x0, args, constraints, callback\u001b[38;5;241m=\u001b[39mcallback,\n\u001b[1;32m    720\u001b[0m                            bounds\u001b[38;5;241m=\u001b[39mbounds, \u001b[38;5;241m*\u001b[39m\u001b[38;5;241m*\u001b[39moptions)\n\u001b[1;32m    721\u001b[0m \u001b[38;5;28;01melif\u001b[39;00m meth \u001b[38;5;241m==\u001b[39m \u001b[38;5;124m'\u001b[39m\u001b[38;5;124mslsqp\u001b[39m\u001b[38;5;124m'\u001b[39m:\n\u001b[0;32m--> 722\u001b[0m     res \u001b[38;5;241m=\u001b[39m _minimize_slsqp(fun, x0, args, jac, bounds,\n\u001b[1;32m    723\u001b[0m                           constraints, callback\u001b[38;5;241m=\u001b[39mcallback, \u001b[38;5;241m*\u001b[39m\u001b[38;5;241m*\u001b[39moptions)\n\u001b[1;32m    724\u001b[0m \u001b[38;5;28;01melif\u001b[39;00m meth \u001b[38;5;241m==\u001b[39m \u001b[38;5;124m'\u001b[39m\u001b[38;5;124mtrust-constr\u001b[39m\u001b[38;5;124m'\u001b[39m:\n\u001b[1;32m    725\u001b[0m     res \u001b[38;5;241m=\u001b[39m _minimize_trustregion_constr(fun, x0, args, jac, hess, hessp,\n\u001b[1;32m    726\u001b[0m                                        bounds, constraints,\n\u001b[1;32m    727\u001b[0m                                        callback\u001b[38;5;241m=\u001b[39mcallback, \u001b[38;5;241m*\u001b[39m\u001b[38;5;241m*\u001b[39moptions)\n",
      "File \u001b[0;32m/opt/anaconda3/lib/python3.12/site-packages/scipy/optimize/_slsqp_py.py:383\u001b[0m, in \u001b[0;36m_minimize_slsqp\u001b[0;34m(func, x0, args, jac, bounds, constraints, maxiter, ftol, iprint, disp, eps, callback, finite_diff_rel_step, **unknown_options)\u001b[0m\n\u001b[1;32m    380\u001b[0m     xu[infbnd[:, \u001b[38;5;241m1\u001b[39m]] \u001b[38;5;241m=\u001b[39m np\u001b[38;5;241m.\u001b[39mnan\n\u001b[1;32m    382\u001b[0m \u001b[38;5;66;03m# ScalarFunction provides function and gradient evaluation\u001b[39;00m\n\u001b[0;32m--> 383\u001b[0m sf \u001b[38;5;241m=\u001b[39m _prepare_scalar_function(func, x, jac\u001b[38;5;241m=\u001b[39mjac, args\u001b[38;5;241m=\u001b[39margs, epsilon\u001b[38;5;241m=\u001b[39meps,\n\u001b[1;32m    384\u001b[0m                               finite_diff_rel_step\u001b[38;5;241m=\u001b[39mfinite_diff_rel_step,\n\u001b[1;32m    385\u001b[0m                               bounds\u001b[38;5;241m=\u001b[39mnew_bounds)\n\u001b[1;32m    386\u001b[0m \u001b[38;5;66;03m# gh11403 SLSQP sometimes exceeds bounds by 1 or 2 ULP, make sure this\u001b[39;00m\n\u001b[1;32m    387\u001b[0m \u001b[38;5;66;03m# doesn't get sent to the func/grad evaluator.\u001b[39;00m\n\u001b[1;32m    388\u001b[0m wrapped_fun \u001b[38;5;241m=\u001b[39m _clip_x_for_func(sf\u001b[38;5;241m.\u001b[39mfun, new_bounds)\n",
      "File \u001b[0;32m/opt/anaconda3/lib/python3.12/site-packages/scipy/optimize/_optimize.py:402\u001b[0m, in \u001b[0;36m_prepare_scalar_function\u001b[0;34m(fun, x0, jac, args, bounds, epsilon, finite_diff_rel_step, hess)\u001b[0m\n\u001b[1;32m    398\u001b[0m     bounds \u001b[38;5;241m=\u001b[39m (\u001b[38;5;241m-\u001b[39mnp\u001b[38;5;241m.\u001b[39minf, np\u001b[38;5;241m.\u001b[39minf)\n\u001b[1;32m    400\u001b[0m \u001b[38;5;66;03m# ScalarFunction caches. Reuse of fun(x) during grad\u001b[39;00m\n\u001b[1;32m    401\u001b[0m \u001b[38;5;66;03m# calculation reduces overall function evaluations.\u001b[39;00m\n\u001b[0;32m--> 402\u001b[0m sf \u001b[38;5;241m=\u001b[39m ScalarFunction(fun, x0, args, grad, hess,\n\u001b[1;32m    403\u001b[0m                     finite_diff_rel_step, bounds, epsilon\u001b[38;5;241m=\u001b[39mepsilon)\n\u001b[1;32m    405\u001b[0m \u001b[38;5;28;01mreturn\u001b[39;00m sf\n",
      "File \u001b[0;32m/opt/anaconda3/lib/python3.12/site-packages/scipy/optimize/_differentiable_functions.py:166\u001b[0m, in \u001b[0;36mScalarFunction.__init__\u001b[0;34m(self, fun, x0, args, grad, hess, finite_diff_rel_step, finite_diff_bounds, epsilon)\u001b[0m\n\u001b[1;32m    163\u001b[0m     \u001b[38;5;28mself\u001b[39m\u001b[38;5;241m.\u001b[39mf \u001b[38;5;241m=\u001b[39m fun_wrapped(\u001b[38;5;28mself\u001b[39m\u001b[38;5;241m.\u001b[39mx)\n\u001b[1;32m    165\u001b[0m \u001b[38;5;28mself\u001b[39m\u001b[38;5;241m.\u001b[39m_update_fun_impl \u001b[38;5;241m=\u001b[39m update_fun\n\u001b[0;32m--> 166\u001b[0m \u001b[38;5;28mself\u001b[39m\u001b[38;5;241m.\u001b[39m_update_fun()\n\u001b[1;32m    168\u001b[0m \u001b[38;5;66;03m# Gradient evaluation\u001b[39;00m\n\u001b[1;32m    169\u001b[0m \u001b[38;5;28;01mif\u001b[39;00m \u001b[38;5;28mcallable\u001b[39m(grad):\n",
      "File \u001b[0;32m/opt/anaconda3/lib/python3.12/site-packages/scipy/optimize/_differentiable_functions.py:262\u001b[0m, in \u001b[0;36mScalarFunction._update_fun\u001b[0;34m(self)\u001b[0m\n\u001b[1;32m    260\u001b[0m \u001b[38;5;28;01mdef\u001b[39;00m \u001b[38;5;21m_update_fun\u001b[39m(\u001b[38;5;28mself\u001b[39m):\n\u001b[1;32m    261\u001b[0m     \u001b[38;5;28;01mif\u001b[39;00m \u001b[38;5;129;01mnot\u001b[39;00m \u001b[38;5;28mself\u001b[39m\u001b[38;5;241m.\u001b[39mf_updated:\n\u001b[0;32m--> 262\u001b[0m         \u001b[38;5;28mself\u001b[39m\u001b[38;5;241m.\u001b[39m_update_fun_impl()\n\u001b[1;32m    263\u001b[0m         \u001b[38;5;28mself\u001b[39m\u001b[38;5;241m.\u001b[39mf_updated \u001b[38;5;241m=\u001b[39m \u001b[38;5;28;01mTrue\u001b[39;00m\n",
      "File \u001b[0;32m/opt/anaconda3/lib/python3.12/site-packages/scipy/optimize/_differentiable_functions.py:163\u001b[0m, in \u001b[0;36mScalarFunction.__init__.<locals>.update_fun\u001b[0;34m()\u001b[0m\n\u001b[1;32m    162\u001b[0m \u001b[38;5;28;01mdef\u001b[39;00m \u001b[38;5;21mupdate_fun\u001b[39m():\n\u001b[0;32m--> 163\u001b[0m     \u001b[38;5;28mself\u001b[39m\u001b[38;5;241m.\u001b[39mf \u001b[38;5;241m=\u001b[39m fun_wrapped(\u001b[38;5;28mself\u001b[39m\u001b[38;5;241m.\u001b[39mx)\n",
      "File \u001b[0;32m/opt/anaconda3/lib/python3.12/site-packages/scipy/optimize/_differentiable_functions.py:145\u001b[0m, in \u001b[0;36mScalarFunction.__init__.<locals>.fun_wrapped\u001b[0;34m(x)\u001b[0m\n\u001b[1;32m    141\u001b[0m \u001b[38;5;28mself\u001b[39m\u001b[38;5;241m.\u001b[39mnfev \u001b[38;5;241m+\u001b[39m\u001b[38;5;241m=\u001b[39m \u001b[38;5;241m1\u001b[39m\n\u001b[1;32m    142\u001b[0m \u001b[38;5;66;03m# Send a copy because the user may overwrite it.\u001b[39;00m\n\u001b[1;32m    143\u001b[0m \u001b[38;5;66;03m# Overwriting results in undefined behaviour because\u001b[39;00m\n\u001b[1;32m    144\u001b[0m \u001b[38;5;66;03m# fun(self.x) will change self.x, with the two no longer linked.\u001b[39;00m\n\u001b[0;32m--> 145\u001b[0m fx \u001b[38;5;241m=\u001b[39m fun(np\u001b[38;5;241m.\u001b[39mcopy(x), \u001b[38;5;241m*\u001b[39margs)\n\u001b[1;32m    146\u001b[0m \u001b[38;5;66;03m# Make sure the function returns a true scalar\u001b[39;00m\n\u001b[1;32m    147\u001b[0m \u001b[38;5;28;01mif\u001b[39;00m \u001b[38;5;129;01mnot\u001b[39;00m np\u001b[38;5;241m.\u001b[39misscalar(fx):\n",
      "\u001b[0;31mTypeError\u001b[0m: min_variance.<locals>.min_var() takes 2 positional arguments but 3 were given"
     ]
    }
   ],
   "source": [
    "stocks=['WMT','AAPL','GOOGL','PG','XOM','KO','CMG','F']\n",
    "start_date='2020-01-01'\n",
    "end_date='2024-11-24'\n",
    "type='Close'\n",
    "\n",
    "data = vt.get_data(stocks, start_date, end_date, type)\n",
    "returns = data.pct_change().dropna()\n",
    "\n",
    "min_var_weights = vt.min_variance(returns)\n",
    "min_var_weights"
   ]
  },
  {
   "cell_type": "markdown",
   "metadata": {},
   "source": [
    "## mcc_portfolio"
   ]
  },
  {
   "cell_type": "code",
   "execution_count": null,
   "metadata": {},
   "outputs": [
    {
     "name": "stderr",
     "output_type": "stream",
     "text": [
      "[*********************100%***********************]  4 of 4 completed\n"
     ]
    },
    {
     "data": {
      "text/plain": [
       "array([0.66013261, 0.12093336, 0.11711985, 0.10181418])"
      ]
     },
     "execution_count": 10,
     "metadata": {},
     "output_type": "execute_result"
    }
   ],
   "source": [
    "# bonds, commodities, equities and real estate\n",
    "stocks = ['VBTLX', 'GSG', 'VTI', 'VNQ']\n",
    "start_date = '2019-01-01'\n",
    "end_date = '2024-01-01'\n",
    "type = 'Close'\n",
    "\n",
    "data = vt.get_data(stocks, start_date, end_date, type)\n",
    "returns = data.pct_change().dropna()\n",
    "alpha = 0.05\n",
    "\n",
    "mcc_weights = vt.mcc_portfolio(returns, alpha)\n",
    "mcc_weights"
   ]
  },
  {
   "cell_type": "markdown",
   "metadata": {},
   "source": [
    "## cvar_contributions"
   ]
  },
  {
   "cell_type": "code",
   "execution_count": null,
   "metadata": {},
   "outputs": [
    {
     "name": "stderr",
     "output_type": "stream",
     "text": [
      "[*********************100%***********************]  4 of 4 completed\n"
     ]
    },
    {
     "data": {
      "text/plain": [
       "[0.002948339373259547,\n",
       " 0.0029640996231315385,\n",
       " 0.002740858258006194,\n",
       " 0.00296279648197003]"
      ]
     },
     "execution_count": 11,
     "metadata": {},
     "output_type": "execute_result"
    }
   ],
   "source": [
    "# bonds, commodities, equities and real estate\n",
    "stocks = ['VBTLX', 'GSG', 'VTI', 'VNQ']\n",
    "start_date = '2019-01-01'\n",
    "end_date = '2024-01-01'\n",
    "type = 'Close'\n",
    "\n",
    "data = vt.get_data(stocks, start_date, end_date, type)\n",
    "returns = data.pct_change().dropna()\n",
    "alpha = 0.05\n",
    "\n",
    "mcc_weights = vt.mcc_portfolio(returns, alpha)\n",
    "\n",
    "cvar_contributions = vt.cvar_contributions(mcc_weights, returns, alpha)\n",
    "cvar_contributions"
   ]
  },
  {
   "cell_type": "markdown",
   "metadata": {},
   "source": [
    "## min_cvar"
   ]
  },
  {
   "cell_type": "code",
   "execution_count": null,
   "metadata": {},
   "outputs": [
    {
     "name": "stderr",
     "output_type": "stream",
     "text": [
      "[*********************100%***********************]  4 of 4 completed\n"
     ]
    },
    {
     "data": {
      "text/plain": [
       "array([0.95628787, 0.03740082, 0.00631131, 0.        ])"
      ]
     },
     "execution_count": 12,
     "metadata": {},
     "output_type": "execute_result"
    }
   ],
   "source": [
    "# bonds, commodities, equities and real estate\n",
    "stocks = ['VBTLX', 'GSG', 'VTI', 'VNQ']\n",
    "start_date = '2019-01-01'\n",
    "end_date = '2024-01-01'\n",
    "type = 'Close'\n",
    "\n",
    "data = vt.get_data(stocks, start_date, end_date, type)\n",
    "returns = data.pct_change().dropna()\n",
    "alpha = 0.05\n",
    "\n",
    "min_cvar = vt.min_cvar(returns, alpha)\n",
    "min_cvar"
   ]
  },
  {
   "cell_type": "markdown",
   "metadata": {},
   "source": [
    "## plot_weights"
   ]
  },
  {
   "cell_type": "code",
   "execution_count": null,
   "metadata": {},
   "outputs": [
    {
     "name": "stderr",
     "output_type": "stream",
     "text": [
      "[*********************100%***********************]  8 of 8 completed\n"
     ]
    },
    {
     "data": {
      "image/png": "[encoded data removed]",
      "text/plain": [
       "<Figure size 800x800 with 1 Axes>"
      ]
     },
     "metadata": {},
     "output_type": "display_data"
    }
   ],
   "source": [
    "stocks=['WMT','AAPL','GOOGL','PG','XOM','KO','CMG','F']\n",
    "start_date='2020-01-01'\n",
    "end_date='2024-11-24'\n",
    "type='Close'\n",
    "\n",
    "data = vt.get_data(stocks, start_date, end_date, type)\n",
    "returns = data.pct_change().dropna()\n",
    "rf = 0.04413\n",
    "\n",
    "opt_sharpe = vt.opt_sharpe(returns, rf)\n",
    "\n",
    "vt.plot_weights(stocks, opt_sharpe)"
   ]
  },
  {
   "cell_type": "markdown",
   "metadata": {},
   "source": [
    "## call_delta and put_delta"
   ]
  },
  {
   "cell_type": "code",
   "execution_count": null,
   "metadata": {},
   "outputs": [
    {
     "data": {
      "text/plain": [
       "(0.46740603432697553, 0.4165136615097752)"
      ]
     },
     "execution_count": 14,
     "metadata": {},
     "output_type": "execute_result"
    }
   ],
   "source": [
    "S_call = 20.3\n",
    "K_call = 20.43\n",
    "r_call = 0.0425\n",
    "sigma_call = 0.102\n",
    "T_call = 1/12\n",
    "\n",
    "S_put = 20.3\n",
    "K_put = 20.2\n",
    "r_put = 0.0425\n",
    "sigma_put = 0.156\n",
    "T_put = 1/12\n",
    "\n",
    "delta_call = vt.BlackScholes().call_delta(S_call, K_call, r_call, sigma_call, T_call)\n",
    "delta_put = vt.BlackScholes().put_delta(S_put, K_put, r_put, sigma_put, T_put)\n",
    "\n",
    "delta_call, delta_put"
   ]
  },
  {
   "cell_type": "code",
   "execution_count": null,
   "metadata": {},
   "outputs": [
    {
     "data": {
      "text/plain": [
       "(0.46740603432697553, 0.4165136615097752)"
      ]
     },
     "execution_count": 15,
     "metadata": {},
     "output_type": "execute_result"
    }
   ],
   "source": [
    "# Write in order S, K, r, sigma, T\n",
    "\n",
    "call = [20.3, 20.43, 0.0425, 0.102, 1/12]\n",
    "put = [20.3, 20.2, 0.0425, 0.156, 1/12]\n",
    "\n",
    "delta_call = vt.BlackScholes().call_delta(*call)\n",
    "delta_put = vt.BlackScholes().put_delta(*put)\n",
    "\n",
    "delta_call, delta_put"
   ]
  },
  {
   "cell_type": "markdown",
   "metadata": {},
   "source": [
    "## delta_hedge"
   ]
  },
  {
   "cell_type": "code",
   "execution_count": null,
   "metadata": {},
   "outputs": [
    {
     "name": "stdout",
     "output_type": "stream",
     "text": [
      "Buy 27.301081694288555 millions of dollars of the underlying asset\n"
     ]
    }
   ],
   "source": [
    "# Write in order S, K, r, sigma, T, N (money invested in each option)\n",
    "\n",
    "info_call = [[20.3, 20.43, 0.0425, 0.102, 1/12, 23],\n",
    "            [20.3, 20.52, 0.0425, 0.111, 1/12, 25],\n",
    "            [20.3, 20.43, 0.0421, 0.297, 6/12, 17],\n",
    "            [20.3, 20.52, 0.0421, 0.289, 6/12, 32]]\n",
    "\n",
    "info_put = [[20.3, 20.2, 0.0425, 0.156, 1/12, 12],\n",
    "            [20.3, 20, 0.0425, 0.153, 1/12, 16],\n",
    "            [20.3, 20.2, 0.0421, 0.348, 6/12, 11],\n",
    "            [20.3, 20, 0.0421, 0.378, 6/12, 17]]\n",
    "\n",
    "# If N is in millions of dollar, then\n",
    "hedge = vt.BlackScholes().delta_hedge(info_call, info_put)\n",
    "print(f'Buy {hedge} millions of dollars of the underlying asset')"
   ]
  }
 ],
 "metadata": {
  "kernelspec": {
   "display_name": "base",
   "language": "python",
   "name": "python3"
  },
  "language_info": {
   "codemirror_mode": {
    "name": "ipython",
    "version": 3
   },
   "file_extension": ".py",
   "mimetype": "text/x-python",
   "name": "python",
   "nbconvert_exporter": "python",
   "pygments_lexer": "ipython3",
   "version": "3.12.3"
  }
 },
 "nbformat": 4,
 "nbformat_minor": 2
}

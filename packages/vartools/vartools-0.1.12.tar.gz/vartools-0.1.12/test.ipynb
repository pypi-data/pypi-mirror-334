{
 "cells": [
  {
   "cell_type": "code",
   "execution_count": 1,
   "metadata": {},
   "outputs": [],
   "source": [
    "import numpy as np\n",
    "import pandas as pd\n",
    "import yfinance as yf\n",
    "from scipy.stats import norm\n",
    "import matplotlib.pyplot as plt\n",
    "from scipy.optimize import minimize\n",
    "import vartools as vt"
   ]
  },
  {
   "cell_type": "markdown",
   "metadata": {},
   "source": [
    "## get_data"
   ]
  },
  {
   "cell_type": "code",
   "execution_count": 2,
   "metadata": {},
   "outputs": [
    {
     "name": "stdout",
     "output_type": "stream",
     "text": [
      "YF.download() has changed argument auto_adjust default to True\n"
     ]
    },
    {
     "name": "stderr",
     "output_type": "stream",
     "text": [
      "[*********************100%***********************]  5 of 5 completed\n"
     ]
    }
   ],
   "source": [
    "stocks = [\"AAPL\", \"TSLA\", \"AMD\", \"LMT\", \"JPM\"]\n",
    "start_date = \"2020-01-01\"\n",
    "end_date = \"2023-01-01\"\n",
    "type = 'Close' # 'Close', select the type of price you want to download\n",
    "\n",
    "data = vt.get_data(stocks, start_date, end_date, type)"
   ]
  },
  {
   "cell_type": "markdown",
   "metadata": {},
   "source": [
    "## var_stocks"
   ]
  },
  {
   "cell_type": "code",
   "execution_count": 3,
   "metadata": {},
   "outputs": [
    {
     "name": "stderr",
     "output_type": "stream",
     "text": [
      "[*********************100%***********************]  5 of 5 completed\n"
     ]
    },
    {
     "data": {
      "text/html": [
       "<div>\n",
       "<style scoped>\n",
       "    .dataframe tbody tr th:only-of-type {\n",
       "        vertical-align: middle;\n",
       "    }\n",
       "\n",
       "    .dataframe tbody tr th {\n",
       "        vertical-align: top;\n",
       "    }\n",
       "\n",
       "    .dataframe thead th {\n",
       "        text-align: right;\n",
       "    }\n",
       "</style>\n",
       "<table border=\"1\" class=\"dataframe\">\n",
       "  <thead>\n",
       "    <tr style=\"text-align: right;\">\n",
       "      <th></th>\n",
       "      <th>Métrica</th>\n",
       "      <th>Porcentaje</th>\n",
       "      <th>cash</th>\n",
       "    </tr>\n",
       "  </thead>\n",
       "  <tbody>\n",
       "    <tr>\n",
       "      <th>0</th>\n",
       "      <td>VaR</td>\n",
       "      <td>0.0289</td>\n",
       "      <td>33,039.7883</td>\n",
       "    </tr>\n",
       "    <tr>\n",
       "      <th>1</th>\n",
       "      <td>cVaR</td>\n",
       "      <td>0.0464</td>\n",
       "      <td>53,056.0556</td>\n",
       "    </tr>\n",
       "  </tbody>\n",
       "</table>\n",
       "</div>"
      ],
      "text/plain": [
       "  Métrica  Porcentaje        cash\n",
       "0     VaR      0.0289 33,039.7883\n",
       "1    cVaR      0.0464 53,056.0556"
      ]
     },
     "execution_count": 3,
     "metadata": {},
     "output_type": "execute_result"
    }
   ],
   "source": [
    "stocks = [\"AAPL\", \"TSLA\", \"AMD\", \"LMT\", \"JPM\"]\n",
    "start_date = \"2020-01-01\"\n",
    "end_date = \"2023-01-01\"\n",
    "type = 'Close' # 'Close', select the type of price you want to download\n",
    "\n",
    "data = vt.get_data(stocks, start_date, end_date, type)\n",
    "n_stocks =[2193, 1211, 3221, 761, 1231]\n",
    "conf = 95\n",
    "long = True\n",
    "\n",
    "var_df = vt.var_stocks(data, n_stocks, conf, long, stocks)\n",
    "var_df"
   ]
  },
  {
   "cell_type": "markdown",
   "metadata": {},
   "source": [
    "## var_forex"
   ]
  },
  {
   "cell_type": "code",
   "execution_count": 4,
   "metadata": {},
   "outputs": [
    {
     "name": "stderr",
     "output_type": "stream",
     "text": [
      "[*********************100%***********************]  2 of 2 completed\n"
     ]
    },
    {
     "data": {
      "text/html": [
       "<div>\n",
       "<style scoped>\n",
       "    .dataframe tbody tr th:only-of-type {\n",
       "        vertical-align: middle;\n",
       "    }\n",
       "\n",
       "    .dataframe tbody tr th {\n",
       "        vertical-align: top;\n",
       "    }\n",
       "\n",
       "    .dataframe thead th {\n",
       "        text-align: right;\n",
       "    }\n",
       "</style>\n",
       "<table border=\"1\" class=\"dataframe\">\n",
       "  <thead>\n",
       "    <tr style=\"text-align: right;\">\n",
       "      <th></th>\n",
       "      <th>Métrica</th>\n",
       "      <th>Porcentual</th>\n",
       "      <th>Cash</th>\n",
       "    </tr>\n",
       "  </thead>\n",
       "  <tbody>\n",
       "    <tr>\n",
       "      <th>0</th>\n",
       "      <td>VaR</td>\n",
       "      <td>0.0185</td>\n",
       "      <td>5,041,647.6883</td>\n",
       "    </tr>\n",
       "    <tr>\n",
       "      <th>1</th>\n",
       "      <td>cVaR</td>\n",
       "      <td>0.0238</td>\n",
       "      <td>6,478,978.9919</td>\n",
       "    </tr>\n",
       "  </tbody>\n",
       "</table>\n",
       "</div>"
      ],
      "text/plain": [
       "  Métrica  Porcentual           Cash\n",
       "0     VaR      0.0185 5,041,647.6883\n",
       "1    cVaR      0.0238 6,478,978.9919"
      ]
     },
     "execution_count": 4,
     "metadata": {},
     "output_type": "execute_result"
    }
   ],
   "source": [
    "currencies = ['CHFMXN=X', 'MXN=X']\n",
    "start_date = \"2020-01-01\"\n",
    "end_date = \"2024-12-02\"\n",
    "type = 'Close'\n",
    "\n",
    "data = vt.get_data(currencies, start_date, end_date, type)\n",
    "positions = [7100000, 5300000] # How much you have in each currency. Must match the order in currencies.\n",
    "conf = 99 # Nivel de confianza\n",
    "long = True\n",
    "\n",
    "var_forex_df = vt.var_forex(data, positions, conf, long, currencies)\n",
    "var_forex_df"
   ]
  },
  {
   "cell_type": "markdown",
   "metadata": {},
   "source": [
    "## rebalance_stocks"
   ]
  },
  {
   "cell_type": "code",
   "execution_count": 5,
   "metadata": {},
   "outputs": [
    {
     "name": "stderr",
     "output_type": "stream",
     "text": [
      "[*********************100%***********************]  5 of 5 completed\n"
     ]
    },
    {
     "data": {
      "text/html": [
       "<div>\n",
       "<style scoped>\n",
       "    .dataframe tbody tr th:only-of-type {\n",
       "        vertical-align: middle;\n",
       "    }\n",
       "\n",
       "    .dataframe tbody tr th {\n",
       "        vertical-align: top;\n",
       "    }\n",
       "\n",
       "    .dataframe thead th {\n",
       "        text-align: right;\n",
       "    }\n",
       "</style>\n",
       "<table border=\"1\" class=\"dataframe\">\n",
       "  <thead>\n",
       "    <tr style=\"text-align: right;\">\n",
       "      <th>Ticker</th>\n",
       "      <th>AAPL</th>\n",
       "      <th>TSLA</th>\n",
       "      <th>AMD</th>\n",
       "      <th>LMT</th>\n",
       "      <th>JPM</th>\n",
       "    </tr>\n",
       "  </thead>\n",
       "  <tbody>\n",
       "    <tr>\n",
       "      <th>Peso Original</th>\n",
       "      <td>0.2462</td>\n",
       "      <td>0.1304</td>\n",
       "      <td>0.1824</td>\n",
       "      <td>0.3048</td>\n",
       "      <td>0.1362</td>\n",
       "    </tr>\n",
       "    <tr>\n",
       "      <th>Peso Óptimo</th>\n",
       "      <td>0.3300</td>\n",
       "      <td>0.1500</td>\n",
       "      <td>0.0600</td>\n",
       "      <td>0.4600</td>\n",
       "      <td>0.0000</td>\n",
       "    </tr>\n",
       "    <tr>\n",
       "      <th>Acciones (C/V)</th>\n",
       "      <td>746.0000</td>\n",
       "      <td>181.0000</td>\n",
       "      <td>-2,162.0000</td>\n",
       "      <td>387.0000</td>\n",
       "      <td>-1,231.0000</td>\n",
       "    </tr>\n",
       "  </tbody>\n",
       "</table>\n",
       "</div>"
      ],
      "text/plain": [
       "Ticker             AAPL     TSLA         AMD      LMT         JPM\n",
       "Peso Original    0.2462   0.1304      0.1824   0.3048      0.1362\n",
       "Peso Óptimo      0.3300   0.1500      0.0600   0.4600      0.0000\n",
       "Acciones (C/V) 746.0000 181.0000 -2,162.0000 387.0000 -1,231.0000"
      ]
     },
     "execution_count": 5,
     "metadata": {},
     "output_type": "execute_result"
    }
   ],
   "source": [
    "stocks = [\"AAPL\", \"TSLA\", \"AMD\", \"LMT\", \"JPM\"]\n",
    "start_date = \"2020-01-01\"\n",
    "end_date = \"2023-01-01\"\n",
    "type = 'Close' # 'Close', select the type of price you want to download\n",
    "\n",
    "data = vt.get_data(stocks, start_date, end_date, type)\n",
    "\n",
    "rt = data.pct_change().dropna()\n",
    "stock_value = n_stocks * data.iloc[-1]\n",
    "portfolio_value = stock_value.sum()\n",
    "w_original = stock_value / portfolio_value\n",
    "w_opt = [0.33, 0.15, 0.06, 0.46, 0.00]\n",
    "\n",
    "rebalance_df = vt.rebalance_stocks(w_original, w_opt, data, stocks, portfolio_value)\n",
    "rebalance_df"
   ]
  },
  {
   "cell_type": "markdown",
   "metadata": {},
   "source": [
    "## var_weights"
   ]
  },
  {
   "cell_type": "code",
   "execution_count": 6,
   "metadata": {},
   "outputs": [
    {
     "name": "stderr",
     "output_type": "stream",
     "text": [
      "[*********************100%***********************]  5 of 5 completed\n"
     ]
    },
    {
     "data": {
      "text/plain": [
       "0.02884955227642725"
      ]
     },
     "execution_count": 6,
     "metadata": {},
     "output_type": "execute_result"
    }
   ],
   "source": [
    "stocks = [\"AAPL\", \"TSLA\", \"AMD\", \"LMT\", \"JPM\"]\n",
    "start_date = \"2020-01-01\"\n",
    "end_date = \"2023-01-01\"\n",
    "type = 'Close' # 'Close', select the type of price you want to download\n",
    "\n",
    "data = vt.get_data(stocks, start_date, end_date, type)\n",
    "\n",
    "weights = [0.2457, 0.1301, 0.1820, 0.3064, 0.1358]\n",
    "conf = 95\n",
    "var_pct = vt.var_weights(data, weights, conf)\n",
    "var_pct"
   ]
  },
  {
   "cell_type": "markdown",
   "metadata": {},
   "source": [
    "## cvar_weights"
   ]
  },
  {
   "cell_type": "code",
   "execution_count": 7,
   "metadata": {},
   "outputs": [
    {
     "name": "stderr",
     "output_type": "stream",
     "text": [
      "[*********************100%***********************]  5 of 5 completed\n"
     ]
    },
    {
     "data": {
      "text/plain": [
       "0.046343957152162094"
      ]
     },
     "execution_count": 7,
     "metadata": {},
     "output_type": "execute_result"
    }
   ],
   "source": [
    "stocks = [\"AAPL\", \"TSLA\", \"AMD\", \"LMT\", \"JPM\"]\n",
    "start_date = \"2020-01-01\"\n",
    "end_date = \"2023-01-01\"\n",
    "type = 'Close' # 'Close', select the type of price you want to download\n",
    "\n",
    "data = vt.get_data(stocks, start_date, end_date, type)\n",
    "\n",
    "weights = [0.2457, 0.1301, 0.1820, 0.3064, 0.1358]\n",
    "conf = 95\n",
    "cvar_pct = vt.cvar_weights(data, weights, conf)\n",
    "cvar_pct"
   ]
  },
  {
   "cell_type": "markdown",
   "metadata": {},
   "source": [
    "## opt_sharpe"
   ]
  },
  {
   "cell_type": "code",
   "execution_count": 8,
   "metadata": {},
   "outputs": [
    {
     "name": "stderr",
     "output_type": "stream",
     "text": [
      "[*********************100%***********************]  8 of 8 completed\n"
     ]
    },
    {
     "data": {
      "text/plain": [
       "array([4.21950533e-01, 1.57706530e-01, 0.00000000e+00, 0.00000000e+00,\n",
       "       1.41441823e-01, 2.62972946e-17, 2.78901114e-01, 0.00000000e+00])"
      ]
     },
     "execution_count": 8,
     "metadata": {},
     "output_type": "execute_result"
    }
   ],
   "source": [
    "stocks=['WMT','AAPL','GOOGL','PG','XOM','KO','CMG','F']\n",
    "start_date='2020-01-01'\n",
    "end_date='2024-11-24'\n",
    "type='Close'\n",
    "\n",
    "data = vt.get_data(stocks, start_date, end_date, type)\n",
    "returns = data.pct_change().dropna()\n",
    "rf = 0.04413\n",
    "\n",
    "opt_sharpe_weights = vt.opt_sharpe(returns, rf)\n",
    "opt_sharpe_weights"
   ]
  },
  {
   "cell_type": "markdown",
   "metadata": {},
   "source": [
    "## min_variance"
   ]
  },
  {
   "cell_type": "code",
   "execution_count": 9,
   "metadata": {},
   "outputs": [
    {
     "name": "stderr",
     "output_type": "stream",
     "text": [
      "[*********************100%***********************]  8 of 8 completed\n"
     ]
    },
    {
     "data": {
      "text/plain": [
       "array([2.83347402e-01, 0.00000000e+00, 1.94422718e-02, 2.56840822e-01,\n",
       "       8.16280735e-02, 2.59838425e-01, 9.89030052e-02, 3.62868915e-18])"
      ]
     },
     "execution_count": 9,
     "metadata": {},
     "output_type": "execute_result"
    }
   ],
   "source": [
    "stocks=['WMT','AAPL','GOOGL','PG','XOM','KO','CMG','F']\n",
    "start_date='2020-01-01'\n",
    "end_date='2024-11-24'\n",
    "type='Close'\n",
    "\n",
    "data = vt.get_data(stocks, start_date, end_date, type)\n",
    "returns = data.pct_change().dropna()\n",
    "\n",
    "min_var_weights = vt.min_variance(returns)\n",
    "min_var_weights"
   ]
  },
  {
   "cell_type": "markdown",
   "metadata": {},
   "source": [
    "## mcc_portfolio"
   ]
  },
  {
   "cell_type": "code",
   "execution_count": 10,
   "metadata": {},
   "outputs": [
    {
     "name": "stderr",
     "output_type": "stream",
     "text": [
      "[*********************100%***********************]  4 of 4 completed\n"
     ]
    },
    {
     "data": {
      "text/plain": [
       "array([0.66012589, 0.1209354 , 0.1171228 , 0.1018159 ])"
      ]
     },
     "execution_count": 10,
     "metadata": {},
     "output_type": "execute_result"
    }
   ],
   "source": [
    "# bonds, commodities, equities and real estate\n",
    "stocks = ['VBTLX', 'GSG', 'VTI', 'VNQ']\n",
    "start_date = '2019-01-01'\n",
    "end_date = '2024-01-01'\n",
    "type = 'Close'\n",
    "\n",
    "data = vt.get_data(stocks, start_date, end_date, type)\n",
    "returns = data.pct_change().dropna()\n",
    "alpha = 0.05\n",
    "\n",
    "mcc_weights = vt.mcc_portfolio(returns, alpha)\n",
    "mcc_weights"
   ]
  },
  {
   "cell_type": "markdown",
   "metadata": {},
   "source": [
    "## cvar_contributions"
   ]
  },
  {
   "cell_type": "code",
   "execution_count": 11,
   "metadata": {},
   "outputs": [
    {
     "name": "stderr",
     "output_type": "stream",
     "text": [
      "[*********************100%***********************]  4 of 4 completed\n"
     ]
    },
    {
     "data": {
      "text/plain": [
       "[0.0029483123484104084,\n",
       " 0.0029641496642415725,\n",
       " 0.002740930270070123,\n",
       " 0.002962845937859472]"
      ]
     },
     "execution_count": 11,
     "metadata": {},
     "output_type": "execute_result"
    }
   ],
   "source": [
    "# bonds, commodities, equities and real estate\n",
    "stocks = ['VBTLX', 'GSG', 'VTI', 'VNQ']\n",
    "start_date = '2019-01-01'\n",
    "end_date = '2024-01-01'\n",
    "type = 'Close'\n",
    "\n",
    "data = vt.get_data(stocks, start_date, end_date, type)\n",
    "returns = data.pct_change().dropna()\n",
    "alpha = 0.05\n",
    "\n",
    "mcc_weights = vt.mcc_portfolio(returns, alpha)\n",
    "\n",
    "cvar_contributions = vt.cvar_contributions(mcc_weights, returns, alpha)\n",
    "cvar_contributions"
   ]
  },
  {
   "cell_type": "markdown",
   "metadata": {},
   "source": [
    "## min_cvar"
   ]
  },
  {
   "cell_type": "code",
   "execution_count": 12,
   "metadata": {},
   "outputs": [
    {
     "name": "stderr",
     "output_type": "stream",
     "text": [
      "[*********************100%***********************]  4 of 4 completed\n"
     ]
    },
    {
     "data": {
      "text/plain": [
       "array([0.95628851, 0.03740048, 0.00631101, 0.        ])"
      ]
     },
     "execution_count": 12,
     "metadata": {},
     "output_type": "execute_result"
    }
   ],
   "source": [
    "# bonds, commodities, equities and real estate\n",
    "stocks = ['VBTLX', 'GSG', 'VTI', 'VNQ']\n",
    "start_date = '2019-01-01'\n",
    "end_date = '2024-01-01'\n",
    "type = 'Close'\n",
    "\n",
    "data = vt.get_data(stocks, start_date, end_date, type)\n",
    "returns = data.pct_change().dropna()\n",
    "alpha = 0.05\n",
    "\n",
    "min_cvar = vt.min_cvar(returns, alpha)\n",
    "min_cvar"
   ]
  },
  {
   "cell_type": "markdown",
   "metadata": {},
   "source": [
    "## plot_weights"
   ]
  },
  {
   "cell_type": "code",
   "execution_count": 13,
   "metadata": {},
   "outputs": [
    {
     "name": "stderr",
     "output_type": "stream",
     "text": [
      "[*********************100%***********************]  8 of 8 completed\n"
     ]
    },
    {
     "data": {
      "image/png": "[encoded data removed]",
      "text/plain": [
       "<Figure size 800x800 with 1 Axes>"
      ]
     },
     "metadata": {},
     "output_type": "display_data"
    }
   ],
   "source": [
    "stocks=['WMT','AAPL','GOOGL','PG','XOM','KO','CMG','F']\n",
    "start_date='2020-01-01'\n",
    "end_date='2024-11-24'\n",
    "type='Close'\n",
    "\n",
    "data = vt.get_data(stocks, start_date, end_date, type)\n",
    "returns = data.pct_change().dropna()\n",
    "rf = 0.04413\n",
    "\n",
    "opt_sharpe = vt.opt_sharpe(returns, rf)\n",
    "\n",
    "vt.plot_weights(stocks, opt_sharpe)"
   ]
  },
  {
   "cell_type": "markdown",
   "metadata": {},
   "source": [
    "## call_delta and put_delta"
   ]
  },
  {
   "cell_type": "code",
   "execution_count": 14,
   "metadata": {},
   "outputs": [
    {
     "data": {
      "text/plain": [
       "(0.46740603432697553, 0.4165136615097752)"
      ]
     },
     "execution_count": 14,
     "metadata": {},
     "output_type": "execute_result"
    }
   ],
   "source": [
    "S_call = 20.3\n",
    "K_call = 20.43\n",
    "r_call = 0.0425\n",
    "sigma_call = 0.102\n",
    "T_call = 1/12\n",
    "\n",
    "S_put = 20.3\n",
    "K_put = 20.2\n",
    "r_put = 0.0425\n",
    "sigma_put = 0.156\n",
    "T_put = 1/12\n",
    "\n",
    "delta_call = vt.BlackScholes().call_delta(S_call, K_call, r_call, sigma_call, T_call)\n",
    "delta_put = vt.BlackScholes().put_delta(S_put, K_put, r_put, sigma_put, T_put)\n",
    "\n",
    "delta_call, delta_put"
   ]
  },
  {
   "cell_type": "code",
   "execution_count": 15,
   "metadata": {},
   "outputs": [
    {
     "data": {
      "text/plain": [
       "(0.46740603432697553, 0.4165136615097752)"
      ]
     },
     "execution_count": 15,
     "metadata": {},
     "output_type": "execute_result"
    }
   ],
   "source": [
    "# Write in order S, K, r, sigma, T\n",
    "\n",
    "call = [20.3, 20.43, 0.0425, 0.102, 1/12]\n",
    "put = [20.3, 20.2, 0.0425, 0.156, 1/12]\n",
    "\n",
    "delta_call = vt.BlackScholes().call_delta(*call)\n",
    "delta_put = vt.BlackScholes().put_delta(*put)\n",
    "\n",
    "delta_call, delta_put"
   ]
  },
  {
   "cell_type": "markdown",
   "metadata": {},
   "source": [
    "## delta_hedge"
   ]
  },
  {
   "cell_type": "code",
   "execution_count": 16,
   "metadata": {},
   "outputs": [
    {
     "name": "stdout",
     "output_type": "stream",
     "text": [
      "Buy 27.301081694288555 millions of dollars of the underlying asset\n"
     ]
    }
   ],
   "source": [
    "# Write in order S, K, r, sigma, T, N (money invested in each option)\n",
    "\n",
    "info_call = [[20.3, 20.43, 0.0425, 0.102, 1/12, 23],\n",
    "            [20.3, 20.52, 0.0425, 0.111, 1/12, 25],\n",
    "            [20.3, 20.43, 0.0421, 0.297, 6/12, 17],\n",
    "            [20.3, 20.52, 0.0421, 0.289, 6/12, 32]]\n",
    "\n",
    "info_put = [[20.3, 20.2, 0.0425, 0.156, 1/12, 12],\n",
    "            [20.3, 20, 0.0425, 0.153, 1/12, 16],\n",
    "            [20.3, 20.2, 0.0421, 0.348, 6/12, 11],\n",
    "            [20.3, 20, 0.0421, 0.378, 6/12, 17]]\n",
    "\n",
    "# If N is in millions of dollar, then\n",
    "hedge = vt.BlackScholes().delta_hedge(info_call, info_put)\n",
    "print(f'Buy {hedge} millions of dollars of the underlying asset')"
   ]
  }
 ],
 "metadata": {
  "kernelspec": {
   "display_name": "base",
   "language": "python",
   "name": "python3"
  },
  "language_info": {
   "codemirror_mode": {
    "name": "ipython",
    "version": 3
   },
   "file_extension": ".py",
   "mimetype": "text/x-python",
   "name": "python",
   "nbconvert_exporter": "python",
   "pygments_lexer": "ipython3",
   "version": "3.12.3"
  }
 },
 "nbformat": 4,
 "nbformat_minor": 2
}

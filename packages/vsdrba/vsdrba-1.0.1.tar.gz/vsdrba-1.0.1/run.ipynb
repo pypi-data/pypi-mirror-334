{
 "cells": [
  {
   "cell_type": "code",
   "execution_count": null,
   "id": "f74bb770-b698-44c7-91d3-eda66adaa156",
   "metadata": {
    "ExecuteTime": {
     "start_time": "2025-03-06T08:37:17.604470800Z"
    }
   },
   "outputs": [],
   "source": [
    "%pip install -U packaging setuptools wheel -i https://pypi.tuna.tsinghua.edu.cn/simple/ --trusted-host pypi.tuna.tsinghua.edu.cn\n",
    "%pip install --pre -U torch torchvision --index-url https://download.pytorch.org/whl/nightly/cu126 -i https://pypi.tuna.tsinghua.edu.cn/simple/ --trusted-host pypi.tuna.tsinghua.edu.cn\n",
    "%pip install --no-deps --pre -U torch_tensorrt --index-url https://download.pytorch.org/whl/nightly/cu126 -i https://pypi.tuna.tsinghua.edu.cn/simple/ --trusted-host pypi.tuna.tsinghua.edu.cn\n",
    "%pip install -U tensorrt-cu12 tensorrt-cu12_bindings tensorrt-cu12_libs --extra-index-url https://pypi.nvidia.com  -i https://pypi.tuna.tsinghua.edu.cn/simple/ --trusted-host pypi.tuna.tsinghua.edu.cn\n",
    "%pip install nvidia-pyindex -i https://pypi.tuna.tsinghua.edu.cn/simple/ --trusted-host pypi.tuna.tsinghua.edu.cn\n",
    "%pip install nvidia-tensorrt -i https://pypi.tuna.tsinghua.edu.cn/simple/ --trusted-host pypi.tuna.tsinghua.edu.cn"
   ]
  },
  {
   "cell_type": "code",
   "execution_count": null,
   "id": "aff8c008daca4f94",
   "metadata": {
    "collapsed": false,
    "jupyter": {
     "outputs_hidden": false
    }
   },
   "outputs": [],
   "source": [
    "!wget https://developer.download.nvidia.com/compute/cuda/12.6.3/local_installers/cuda_12.6.3_560.35.05_linux.run\n",
    "!sh cuda_12.6.3_560.35.05_linux.run --override"
   ]
  },
  {
   "cell_type": "code",
   "execution_count": null,
   "id": "1208be86-8a6e-414a-a820-cb05e43a1996",
   "metadata": {},
   "outputs": [],
   "source": [
    "!pip install cupy-cuda12x -i https://pypi.tuna.tsinghua.edu.cn/simple/ --trusted-host pypi.tuna.tsinghua.edu.cn"
   ]
  },
  {
   "cell_type": "code",
   "execution_count": null,
   "id": "ddb056e1-017c-48ea-a964-82fbc247b4f5",
   "metadata": {},
   "outputs": [],
   "source": [
    "!pip install tensorrt-model-opt -i https://pypi.tuna.tsinghua.edu.cn/simple/ --trusted-host pypi.tuna.tsinghua.edu.cn\n",
    "!pip install tensorrt-llm -i https://pypi.tuna.tsinghua.edu.cn/simple/ --trusted-host pypi.tuna.tsinghua.edu.cn"
   ]
  },
  {
   "cell_type": "code",
   "execution_count": 2,
   "id": "e81ed4884f84f4cc",
   "metadata": {
    "collapsed": false,
    "jupyter": {
     "outputs_hidden": false
    }
   },
   "outputs": [
    {
     "name": "stdout",
     "output_type": "stream",
     "text": [
      "/usr/local/cuda-12.8\n",
      "/opt/conda/bin:/usr/local/sbin:/usr/local/bin:/usr/sbin:/usr/bin:/sbin:/bin:/usr/local/cuda-12.8/bin\n",
      "/usr/local/cuda-12.8/lib64\n"
     ]
    }
   ],
   "source": [
    "import os\n",
    "import cupy\n",
    "os.environ[\"CUDA_HOME\"] = \"/usr/local/cuda-12.8\"\n",
    "os.environ[\"PATH\"] += \":/usr/local/cuda-12.8/bin\"\n",
    "os.environ[\"LD_LIBRARY_PATH\"] = \"/usr/local/cuda-12.8/lib64\"\n",
    "print(os.environ.get(\"CUDA_HOME\"))\n",
    "print(os.environ.get(\"PATH\"))\n",
    "print(os.environ.get(\"LD_LIBRARY_PATH\"))\n",
    "print(cupy.cuda.get_cuda_path())"
   ]
  },
  {
   "cell_type": "code",
   "execution_count": null,
   "id": "aa33f5210e40dc57",
   "metadata": {
    "collapsed": false,
    "jupyter": {
     "outputs_hidden": false
    }
   },
   "outputs": [],
   "source": [
    "!pip install -U vsrife -i https://pypi.tuna.tsinghua.edu.cn/simple/ --trusted-host pypi.tuna.tsinghua.edu.cn"
   ]
  },
  {
   "cell_type": "code",
   "execution_count": null,
   "id": "f317e859-da5d-4794-8559-1eea9e7701d1",
   "metadata": {},
   "outputs": [],
   "source": [
    "!git clone https://github.com/routineLife1/VS-DRBA.git"
   ]
  },
  {
   "cell_type": "code",
   "execution_count": null,
   "id": "d0fabc77-6f2a-44be-a6f0-e2dae24df7f7",
   "metadata": {},
   "outputs": [],
   "source": [
    "!pip install \"nvidia-modelopt[all]\" -U --extra-index-url https://pypi.nvidia.com"
   ]
  },
  {
   "cell_type": "code",
   "execution_count": 1,
   "id": "2e52aac9-bb67-4825-9f52-c7561266595a",
   "metadata": {},
   "outputs": [],
   "source": [
    "%load_ext yuuno"
   ]
  },
  {
   "cell_type": "code",
   "execution_count": 2,
   "id": "c251b2ba-743b-41cb-a5af-7c8a66789004",
   "metadata": {
    "scrolled": true
   },
   "outputs": [
    {
     "name": "stderr",
     "output_type": "stream",
     "text": [
      "/video/VS-DRBA/vsdrba/softsplat/softsplat.py:301: FutureWarning: `torch.cuda.amp.custom_fwd(args...)` is deprecated. Please use `torch.amp.custom_fwd(args..., device_type='cuda')` instead.\n",
      "  @torch.cuda.amp.custom_fwd(cast_inputs=torch.float32)\n",
      "/video/VS-DRBA/vsdrba/softsplat/softsplat.py:382: FutureWarning: `torch.cuda.amp.custom_bwd(args...)` is deprecated. Please use `torch.amp.custom_bwd(args..., device_type='cuda')` instead.\n",
      "  def backward(self, tenOutgrad):\n",
      "TensorRT-LLM is not installed. Please install TensorRT-LLM or set TRTLLM_PLUGINS_PATH to the directory containing libnvinfer_plugin_tensorrt_llm.so to use converters for torch.distributed ops\n",
      "[03/17/2025-20:08:59] [TRT] [W] Functionality provided through tensorrt.plugin module is experimental.\n"
     ]
    },
    {
     "data": {
      "application/vnd.jupyter.widget-view+json": {
       "model_id": "ba1653bc04944d18b60410106ea6adb9",
       "version_major": 2,
       "version_minor": 0
      },
      "text/plain": [
       "EncodeWidget(commandline='ffmpeg -r 24000/1001*2 -y -i \"video/test.mkv\" -i - -map 0:a -map 1:v -vcodec libx264…"
      ]
     },
     "metadata": {},
     "output_type": "display_data"
    }
   ],
   "source": [
    "%%vspipe --y4m | ffmpeg -r 24000/1001*2 -y -i \"video/test.mkv\" -i - -map 0:a -map 1:v -vcodec libx264 -c:a copy -crf 16 -preset ultrafast t.mkv\n",
    "from vsdrba import drba_rife\n",
    "import vapoursynth as vs\n",
    "from vapoursynth import core\n",
    "clip = core.bs.VideoSource(source=\"video/test.mkv\")\n",
    "clip = core.resize.Bicubic(clip=clip, matrix_in_s=\"709\", format=vs.RGBH,width=1920, height=1080)\n",
    "ret = drba_rife(clip, trt=True, factor_num=2, factor_den=1, scale=1.0, model=\"4.22.lite\")\n",
    "clip = core.resize.Bicubic(clip=ret, matrix_s=\"709\", format=vs.YUV420P16)\n",
    "clip.set_output()"
   ]
  },
  {
   "cell_type": "code",
   "execution_count": null,
   "id": "1d8a5691-4d85-4f84-8a8c-a00720fb7a97",
   "metadata": {},
   "outputs": [],
   "source": []
  }
 ],
 "metadata": {
  "kernelspec": {
   "display_name": "Python 3 (ipykernel)",
   "language": "python",
   "name": "python3"
  },
  "language_info": {
   "codemirror_mode": {
    "name": "ipython",
    "version": 3
   },
   "file_extension": ".py",
   "mimetype": "text/x-python",
   "name": "python",
   "nbconvert_exporter": "python",
   "pygments_lexer": "ipython3",
   "version": "3.10.13"
  }
 },
 "nbformat": 4,
 "nbformat_minor": 5
}

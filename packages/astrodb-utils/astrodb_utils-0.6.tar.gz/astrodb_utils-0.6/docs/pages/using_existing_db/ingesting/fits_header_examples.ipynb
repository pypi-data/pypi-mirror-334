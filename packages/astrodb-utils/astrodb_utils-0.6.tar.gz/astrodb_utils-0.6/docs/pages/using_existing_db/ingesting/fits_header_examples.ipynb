{
 "cells": [
  {
   "cell_type": "code",
   "execution_count": 1,
   "metadata": {},
   "outputs": [],
   "source": [
    "import sys\n",
    "\n",
    "import astropy.units as u\n",
    "import numpy as np\n",
    "\n",
    "sys.path.append('..')\n",
    "from astrodb_utils.fits import add_missing_keywords, add_observation_date, add_wavelength_keywords, check_header\n"
   ]
  },
  {
   "cell_type": "markdown",
   "metadata": {},
   "source": [
    "# Starting from scratch with no pre-existing FITS header    "
   ]
  },
  {
   "cell_type": "markdown",
   "metadata": {},
   "source": [
    "## Make a new header, called `header` with the needed keywords set to None:"
   ]
  },
  {
   "cell_type": "code",
   "execution_count": 2,
   "metadata": {},
   "outputs": [
    {
     "name": "stdout",
     "output_type": "stream",
     "text": [
      "COPY AND PASTE THE FOLLOWING COMMANDS INTO YOUR SCRIPT\n",
      "Replace <value> with the appropriate value for your dataset\n",
      "If you're not sure of the correct value, use None\n",
      "If you started with a header object not called `header`, replace 'header' with the name of your header object\n",
      "Use the `astrodb_utils.fits.add_wavelength_keywords` function to add the SPEC_VAL, SPEC_BW, and SPECBAND keywords\n",
      "\n",
      "\n",
      "header.set('OBJECT', \"<value>\")\n",
      "header.set('RA_TARG', \"<value>\")\n",
      "header.set('DEC_TARG', \"<value>\")\n",
      "header.set('DATE-OBS', \"<value>\")\n",
      "header.set('INSTRUME', \"<value>\")\n",
      "header.set('TELESCOP', \"<value>\")\n",
      "header.set('TELAPSE', \"<value>\")\n",
      "header.set('APERTURE', \"<value>\")\n",
      "header.set('AUTHOR', \"<value>\")\n",
      "header.set('TITLE', \"<value>\")\n",
      "header.set('VOREF', \"<value>\")\n",
      "header.set('VOPUB', \"<value>\")\n",
      "header.set('CONTRIB1', \"<value>\")\n",
      "header.set('SPEC_VAL', \"<value>\")\n",
      "header.set('SPEC_BW', \"<value>\")\n",
      "header.set('SPECBAND', \"<value>\")\n"
     ]
    }
   ],
   "source": [
    "header = add_missing_keywords()\n"
   ]
  },
  {
   "cell_type": "markdown",
   "metadata": {},
   "source": [
    "## Look at the header. It has several keywords but they are all set to `None`"
   ]
  },
  {
   "cell_type": "code",
   "execution_count": 3,
   "metadata": {},
   "outputs": [
    {
     "data": {
      "text/plain": [
       "OBJECT  =  / Name of observed object                                            \n",
       "RA_TARG =  / [deg] target position                                              \n",
       "DEC_TARG=  / [deg] target position                                              \n",
       "DATE-OBS=  / Date of observation                                                \n",
       "INSTRUME=  / Instrument name                                                    \n",
       "TELESCOP=  / Telescope name                                                     \n",
       "TELAPSE =  / [s] Total elapsed time (s)                                         \n",
       "APERTURE=  / [arcsec] slit width                                                \n",
       "AUTHOR  =  / Authors of original dataset                                        \n",
       "TITLE   =  / Dataset title                                                      \n",
       "VOREF   =  / URL, DOI, or bibcode of original publication                       \n",
       "VOPUB   =  / Publisher                                                          \n",
       "CONTRIB1=  / Contributor who generated this header                              \n",
       "SPEC_VAL=  / [angstrom] Characteristic spectral coordinate                      \n",
       "SPEC_BW =  / [angstrom] width of spectrum                                       \n",
       "SPECBAND=  / SED.bandpass                                                       "
      ]
     },
     "execution_count": 3,
     "metadata": {},
     "output_type": "execute_result"
    }
   ],
   "source": [
    "header "
   ]
  },
  {
   "cell_type": "markdown",
   "metadata": {},
   "source": [
    "## Use `add_wavelength_keywords` to add the wavelength header keywords:"
   ]
  },
  {
   "cell_type": "code",
   "execution_count": 4,
   "metadata": {},
   "outputs": [
    {
     "data": {
      "text/plain": [
       "OBJECT  =  / Name of observed object                                            \n",
       "RA_TARG =  / [deg] target position                                              \n",
       "DEC_TARG=  / [deg] target position                                              \n",
       "DATE-OBS=  / Date of observation                                                \n",
       "INSTRUME=  / Instrument name                                                    \n",
       "TELESCOP=  / Telescope name                                                     \n",
       "TELAPSE =  / [s] Total elapsed time (s)                                         \n",
       "APERTURE=  / [arcsec] slit width                                                \n",
       "AUTHOR  =  / Authors of original dataset                                        \n",
       "TITLE   =  / Dataset title                                                      \n",
       "VOREF   =  / URL, DOI, or bibcode of original publication                       \n",
       "VOPUB   =  / Publisher                                                          \n",
       "CONTRIB1=  / Contributor who generated this header                              \n",
       "SPEC_VAL=               5199.5 / [Angstrom] Characteristic spec coord           \n",
       "SPEC_BW =                199.0 / [Angstrom] Width of spectrum                   \n",
       "SPECBAND= 'em.opt.V'           / SED.bandpass                                   \n",
       "TDMIN1  =               5100.0 / [Angstrom] Starting wavelength                 \n",
       "TDMAX1  =               5299.0 / [Angstrom] Ending wavelength                   \n",
       "HISTORY Wavelength keywords added by astrodb_utils.fits.add_wavelength_keywords "
      ]
     },
     "execution_count": 4,
     "metadata": {},
     "output_type": "execute_result"
    }
   ],
   "source": [
    "wavelength = np.arange(5100, 5300)*u.AA\n",
    "add_wavelength_keywords(header, wavelength)\n",
    "header  #  Notice the new keywords and values added to the header"
   ]
  },
  {
   "cell_type": "markdown",
   "metadata": {},
   "source": [
    "## Add the observation date:"
   ]
  },
  {
   "cell_type": "code",
   "execution_count": 5,
   "metadata": {},
   "outputs": [
    {
     "name": "stdout",
     "output_type": "stream",
     "text": [
      "Date of observation: Jan 01, 2021\n",
      "DATE-OBS set to : 2021-01-01.\n"
     ]
    }
   ],
   "source": [
    "add_observation_date(header, '1/1/21')"
   ]
  },
  {
   "cell_type": "markdown",
   "metadata": {},
   "source": [
    "## Run `add_missing_keywords`, this time with `header` as input, to see what keywords are still missing."
   ]
  },
  {
   "cell_type": "code",
   "execution_count": 6,
   "metadata": {},
   "outputs": [
    {
     "name": "stdout",
     "output_type": "stream",
     "text": [
      "COPY AND PASTE THE FOLLOWING COMMANDS INTO YOUR SCRIPT\n",
      "Replace <value> with the appropriate value for your dataset\n",
      "If you're not sure of the correct value, use None\n",
      "If you started with a header object not called `header`, replace 'header' with the name of your header object\n",
      "Use the `astrodb_utils.fits.add_wavelength_keywords` function to add the SPEC_VAL, SPEC_BW, and SPECBAND keywords\n",
      "\n",
      "\n",
      "header.set('OBJECT', \"<value>\")\n",
      "header.set('RA_TARG', \"<value>\")\n",
      "header.set('DEC_TARG', \"<value>\")\n",
      "header.set('INSTRUME', \"<value>\")\n",
      "header.set('TELESCOP', \"<value>\")\n",
      "header.set('TELAPSE', \"<value>\")\n",
      "header.set('APERTURE', \"<value>\")\n",
      "header.set('AUTHOR', \"<value>\")\n",
      "header.set('TITLE', \"<value>\")\n",
      "header.set('VOREF', \"<value>\")\n",
      "header.set('VOPUB', \"<value>\")\n",
      "header.set('CONTRIB1', \"<value>\")\n"
     ]
    },
    {
     "data": {
      "text/plain": [
       "OBJECT  =  / Name of observed object                                            \n",
       "RA_TARG =  / [deg] target position                                              \n",
       "DEC_TARG=  / [deg] target position                                              \n",
       "DATE-OBS= '2021-01-01'         / date of the observation                        \n",
       "INSTRUME=  / Instrument name                                                    \n",
       "TELESCOP=  / Telescope name                                                     \n",
       "TELAPSE =  / [s] Total elapsed time (s)                                         \n",
       "APERTURE=  / [arcsec] slit width                                                \n",
       "AUTHOR  =  / Authors of original dataset                                        \n",
       "TITLE   =  / Dataset title                                                      \n",
       "VOREF   =  / URL, DOI, or bibcode of original publication                       \n",
       "VOPUB   =  / Publisher                                                          \n",
       "CONTRIB1=  / Contributor who generated this header                              \n",
       "SPEC_VAL=               5199.5 / [Angstrom] Characteristic spec coord           \n",
       "SPEC_BW =                199.0 / [Angstrom] Width of spectrum                   \n",
       "SPECBAND= 'em.opt.V'           / SED.bandpass                                   \n",
       "TDMIN1  =               5100.0 / [Angstrom] Starting wavelength                 \n",
       "TDMAX1  =               5299.0 / [Angstrom] Ending wavelength                   \n",
       "HISTORY Wavelength keywords added by astrodb_utils.fits.add_wavelength_keywords "
      ]
     },
     "execution_count": 6,
     "metadata": {},
     "output_type": "execute_result"
    }
   ],
   "source": [
    "add_missing_keywords(header=header)\n"
   ]
  },
  {
   "cell_type": "markdown",
   "metadata": {},
   "source": [
    "## Set the remaining keywords by hand. If the keyword is not known, assign `None`.  The below values are just made up and not real."
   ]
  },
  {
   "cell_type": "code",
   "execution_count": 7,
   "metadata": {},
   "outputs": [],
   "source": [
    "header.set('OBJECT', \"SIMP J013656.5+093347.3\")\n",
    "header.set('RA_TARG', 24.2356689249292 )\n",
    "header.set('DEC_TARG', 9.5631422127692)\n",
    "header.set('INSTRUME', \"NIRSPEC\")\n",
    "header.set('TELESCOP', \"JWST\")\n",
    "header.set('TELAPSE', None)\n",
    "header.set('APERTURE', None)\n",
    "header.set('AUTHOR', \"McCarthy et al.\")\n",
    "header.set('TITLE', \"An amazing paper\")\n",
    "header.set('VOREF', \"10.3847/1538-3881/aa9d8b\")\n",
    "header.set('VOPUB', \"SIMPLE Archive https://simple-bd-archive.org/\")\n",
    "header.set('CONTRIB1', \"Kelle Cruz\")"
   ]
  },
  {
   "cell_type": "markdown",
   "metadata": {},
   "source": [
    "## Run `check_header` on the header to double check everything is as you expect it to be."
   ]
  },
  {
   "cell_type": "code",
   "execution_count": 8,
   "metadata": {},
   "outputs": [
    {
     "name": "stdout",
     "output_type": "stream",
     "text": [
      "The following keywords are not set in the header:\n",
      "TELAPSE : [s] Total elapsed time (s)\n",
      "APERTURE : [arcsec] slit width\n",
      "coordinates converted to sexagesimal: 01h36m56.56054198s +09d33m47.31196597s\n",
      "coordinates converted to sexagesimal: 01h36m56.56054198s +09d33m47.31196597s\n",
      "Object name SIMP J013656.5+093347.3 found in SIMBAD\n",
      "        MAIN_ID               RA      ...     COO_BIBCODE     SCRIPT_NUMBER_ID\n",
      "                           \"h:m:s\"    ...                                     \n",
      "----------------------- ------------- ... ------------------- ----------------\n",
      "SIMP J013656.5+093347.3 01 36 56.5605 ... 2020yCat.1350....0G                1\n",
      "make sure SIMBAD coords match header coords\n",
      "DATE-OBS set to : 2021-01-01.\n",
      "Date of observation: Jan 01, 2021\n"
     ]
    },
    {
     "data": {
      "text/plain": [
       "True"
      ]
     },
     "execution_count": 8,
     "metadata": {},
     "output_type": "execute_result"
    }
   ],
   "source": [
    "check_header(header)"
   ]
  },
  {
   "cell_type": "markdown",
   "metadata": {},
   "source": [
    "# Add header keywords to a pre-existing FITS header"
   ]
  },
  {
   "cell_type": "code",
   "execution_count": 9,
   "metadata": {},
   "outputs": [],
   "source": [
    "from astropy.io.fits import getheader"
   ]
  },
  {
   "cell_type": "markdown",
   "metadata": {},
   "source": [
    "## Get the header from 2MASS+J21442847+1446077.fits and look at it."
   ]
  },
  {
   "cell_type": "code",
   "execution_count": 10,
   "metadata": {},
   "outputs": [
    {
     "data": {
      "text/plain": [
       "SIMPLE  =                    T / conforms to FITS standard                      \n",
       "BITPIX  =                    8 / array data type                                \n",
       "NAXIS   =                    0 / number of array dimensions                     \n",
       "EXTEND  =                    T                                                  \n",
       "EXTNAME = 'PRIMARY '           / name of this extension                         \n",
       "VOCLASS = 'Spectrum-1.0'       / VO Data Model                                  \n",
       "VOPUB   = 'SIMPLE Archive'     / VO Publisher ID URI                            \n",
       "TITLE   = 'IRS Spectra of Brown Dwarfs from Suarez & Metchev 2022' / data set ti\n",
       "OBJECT  = '2MASS J21442847+1446077' / name of observed object                   \n",
       "RA      =    326.1186316666667 / [deg] Pointing position                        \n",
       "DEC     =    14.76883277777778 / [deg] Pointing position                        \n",
       "TMID    =            2454669.5 / [d] MJD mid expsoure                           \n",
       "TSTART  =            2454680.5 / [d] MJD start time                             \n",
       "TSTOP   =            2454658.5 / [d] MJD stop time                              \n",
       "TELAPSE =                42240 / [s] Total elapsed time                         \n",
       "SPEC_VAL= 'Mid-Infared'        / [angstrom] Characteristic spec coord           \n",
       "SPEC_BW =    8.951589999999999 / [[um]] Width of spectrum                       \n",
       "TDMIN1  =              5.21725 / [[um]] starting wavelength                     \n",
       "TDMAX1  =             14.16884 / [[um]] ending wavelength                       \n",
       "AUTHOR  = 'Suarez, Genaro; Metchev, Stanimir' / author of the data              \n",
       "VOREF   = '2022MNRAS.513.5701S' / bibcode                                       \n",
       "DATE    = '2022-08-25'         / date of file creation                          \n",
       "INSTRUME= 'IRS     '           / name of instrument                             \n",
       "DATE-OBS= '2008-08-02'         / date of the observation                        \n",
       "REFERENC= ' 10.1093/mnras/stac1205' / bibliographic reference                   \n",
       "TELESCOP= 'Spitzer '           / name of telescope                              \n",
       "HISTORY 'Original file: 2144%2B1446_IRS_spectrum.dat', This file generated by SI\n",
       "HISTORY MPLE-db/scripts/ingests/rewrite_spectra.py                              "
      ]
     },
     "execution_count": 10,
     "metadata": {},
     "output_type": "execute_result"
    }
   ],
   "source": [
    "header_2144 = getheader('../astrodb_utils/tests/data/2MASS+J21442847+1446077.fits')\n",
    "header_2144"
   ]
  },
  {
   "cell_type": "markdown",
   "metadata": {},
   "source": [
    "## See if any keywords are missing"
   ]
  },
  {
   "cell_type": "code",
   "execution_count": 11,
   "metadata": {},
   "outputs": [
    {
     "name": "stdout",
     "output_type": "stream",
     "text": [
      "The following keywords are not set in the header:\n",
      "RA_TARG : [deg] target position\n",
      "DEC_TARG : [deg] target position\n",
      "APERTURE : [arcsec] slit width\n",
      "CONTRIB1 : Contributor who generated this header\n",
      "SPECBAND : SED.bandpass\n"
     ]
    },
    {
     "ename": "UnboundLocalError",
     "evalue": "cannot access local variable 'ra' where it is not associated with a value",
     "output_type": "error",
     "traceback": [
      "\u001b[0;31m---------------------------------------------------------------------------\u001b[0m",
      "\u001b[0;31mUnboundLocalError\u001b[0m                         Traceback (most recent call last)",
      "File \u001b[0;32m~/Hunter College Dropbox/Kelle Cruz/SIMPLE/astrodb-utils/docs/../astrodb_utils/fits.py:305\u001b[0m, in \u001b[0;36mmake_skycoord\u001b[0;34m(header)\u001b[0m\n\u001b[1;32m    304\u001b[0m \u001b[38;5;28;01mtry\u001b[39;00m:\n\u001b[0;32m--> 305\u001b[0m     coord \u001b[38;5;241m=\u001b[39m SkyCoord(\u001b[43mra\u001b[49m,dec, unit\u001b[38;5;241m=\u001b[39m(u\u001b[38;5;241m.\u001b[39mdeg, u\u001b[38;5;241m.\u001b[39mdeg))\n\u001b[1;32m    306\u001b[0m     coord_str \u001b[38;5;241m=\u001b[39m coord\u001b[38;5;241m.\u001b[39mto_string(\u001b[38;5;124m'\u001b[39m\u001b[38;5;124mhmsdms\u001b[39m\u001b[38;5;124m'\u001b[39m)\n",
      "\u001b[0;31mUnboundLocalError\u001b[0m: cannot access local variable 'ra' where it is not associated with a value",
      "\nDuring handling of the above exception, another exception occurred:\n",
      "\u001b[0;31mUnboundLocalError\u001b[0m                         Traceback (most recent call last)",
      "Cell \u001b[0;32mIn[11], line 1\u001b[0m\n\u001b[0;32m----> 1\u001b[0m \u001b[43mcheck_header\u001b[49m\u001b[43m(\u001b[49m\u001b[43mheader_2144\u001b[49m\u001b[43m)\u001b[49m\n",
      "File \u001b[0;32m~/Hunter College Dropbox/Kelle Cruz/SIMPLE/astrodb-utils/docs/../astrodb_utils/fits.py:195\u001b[0m, in \u001b[0;36mcheck_header\u001b[0;34m(header, format, ignore_simbad)\u001b[0m\n\u001b[1;32m    192\u001b[0m         missing_keywords\u001b[38;5;241m.\u001b[39mappend((keyword, comment))\n\u001b[1;32m    193\u001b[0m         \u001b[38;5;28mprint\u001b[39m(\u001b[38;5;124mf\u001b[39m\u001b[38;5;124m\"\u001b[39m\u001b[38;5;132;01m{\u001b[39;00mkeyword\u001b[38;5;132;01m}\u001b[39;00m\u001b[38;5;124m : \u001b[39m\u001b[38;5;132;01m{\u001b[39;00mcomment\u001b[38;5;132;01m}\u001b[39;00m\u001b[38;5;124m\"\u001b[39m)            \n\u001b[0;32m--> 195\u001b[0m coord \u001b[38;5;241m=\u001b[39m \u001b[43mmake_skycoord\u001b[49m\u001b[43m(\u001b[49m\u001b[43mheader\u001b[49m\u001b[43m)\u001b[49m\n\u001b[1;32m    196\u001b[0m \u001b[38;5;28;01mif\u001b[39;00m coord \u001b[38;5;129;01mis\u001b[39;00m \u001b[38;5;28;01mNone\u001b[39;00m:\n\u001b[1;32m    197\u001b[0m     result \u001b[38;5;241m=\u001b[39m \u001b[38;5;28;01mFalse\u001b[39;00m\n",
      "File \u001b[0;32m~/Hunter College Dropbox/Kelle Cruz/SIMPLE/astrodb-utils/docs/../astrodb_utils/fits.py:310\u001b[0m, in \u001b[0;36mmake_skycoord\u001b[0;34m(header)\u001b[0m\n\u001b[1;32m    308\u001b[0m     \u001b[38;5;28;01mreturn\u001b[39;00m coord\n\u001b[1;32m    309\u001b[0m \u001b[38;5;28;01mexcept\u001b[39;00m \u001b[38;5;167;01mException\u001b[39;00m \u001b[38;5;28;01mas\u001b[39;00m e:\n\u001b[0;32m--> 310\u001b[0m     \u001b[38;5;28mprint\u001b[39m(\u001b[38;5;124mf\u001b[39m\u001b[38;5;124m\"\u001b[39m\u001b[38;5;124mcoordinates (\u001b[39m\u001b[38;5;132;01m{\u001b[39;00m\u001b[43mra\u001b[49m\u001b[38;5;132;01m}\u001b[39;00m\u001b[38;5;124m,\u001b[39m\u001b[38;5;132;01m{\u001b[39;00mdec\u001b[38;5;132;01m}\u001b[39;00m\u001b[38;5;124m) could not be converted to Skycoord object: \u001b[39m\u001b[38;5;132;01m{\u001b[39;00me\u001b[38;5;132;01m}\u001b[39;00m\u001b[38;5;124m\"\u001b[39m)\n\u001b[1;32m    311\u001b[0m     \u001b[38;5;28;01mreturn\u001b[39;00m \u001b[38;5;28;01mNone\u001b[39;00m\n",
      "\u001b[0;31mUnboundLocalError\u001b[0m: cannot access local variable 'ra' where it is not associated with a value"
     ]
    }
   ],
   "source": [
    "check_header(header_2144)"
   ]
  },
  {
   "cell_type": "markdown",
   "metadata": {},
   "source": [
    "## RA_Targ and Dec_targ are required so let's add them using the RA/Dec in the header"
   ]
  },
  {
   "cell_type": "code",
   "execution_count": 12,
   "metadata": {},
   "outputs": [
    {
     "name": "stdout",
     "output_type": "stream",
     "text": [
      "The following keywords are not set in the header:\n",
      "APERTURE : [arcsec] slit width\n",
      "CONTRIB1 : Contributor who generated this header\n",
      "SPECBAND : SED.bandpass\n",
      "coordinates converted to sexagesimal: 21h44m28.4716s +14d46m07.798s\n",
      "coordinates converted to sexagesimal: 21h44m28.4716s +14d46m07.798s\n",
      "Object name 2MASS J21442847+1446077 found in SIMBAD\n",
      "  MAIN_ID         RA           DEC      ...     COO_BIBCODE     SCRIPT_NUMBER_ID\n",
      "               \"h:m:s\"       \"d:m:s\"    ...                                     \n",
      "----------- ------------- ------------- ... ------------------- ----------------\n",
      "V* HN Peg B 21 44 28.4716 +14 46 07.798 ... 2003yCat.2246....0C                1\n",
      "make sure SIMBAD coords match header coords\n",
      "DATE-OBS set to : 2008-08-02.\n",
      "Date of observation: Aug 02, 2008\n"
     ]
    },
    {
     "data": {
      "text/plain": [
       "True"
      ]
     },
     "execution_count": 12,
     "metadata": {},
     "output_type": "execute_result"
    }
   ],
   "source": [
    "header_2144.set('RA_TARG', header_2144['RA'] )\n",
    "header_2144.set('DEC_TARG', header_2144['DEC'])\n",
    "check_header(header_2144)"
   ]
  }
 ],
 "metadata": {
  "kernelspec": {
   "display_name": "simple-db",
   "language": "python",
   "name": "python3"
  },
  "language_info": {
   "codemirror_mode": {
    "name": "ipython",
    "version": 3
   },
   "file_extension": ".py",
   "mimetype": "text/x-python",
   "name": "python",
   "nbconvert_exporter": "python",
   "pygments_lexer": "ipython3",
   "version": "3.11.4"
  }
 },
 "nbformat": 4,
 "nbformat_minor": 2
}

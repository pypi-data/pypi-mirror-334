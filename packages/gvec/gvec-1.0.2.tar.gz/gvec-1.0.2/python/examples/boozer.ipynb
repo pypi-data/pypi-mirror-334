{
 "cells": [
  {
   "cell_type": "markdown",
   "metadata": {},
   "source": [
    "# Boozer transform"
   ]
  },
  {
   "cell_type": "code",
   "execution_count": null,
   "metadata": {},
   "outputs": [],
   "source": [
    "from pathlib import Path\n",
    "\n",
    "import matplotlib.pyplot as plt\n",
    "import xarray as xr\n",
    "\n",
    "import gvec"
   ]
  },
  {
   "cell_type": "code",
   "execution_count": null,
   "metadata": {},
   "outputs": [],
   "source": [
    "# assumes the test-CI output for the ellipstell_lowres_restart_to_highres example run\n",
    "# replace with paths to your own data\n",
    "basepath = Path(\"../../test-CI/run/example/ellipstell_lowres_restart_to_highres\")\n",
    "parameterfile = basepath / \"parameter.ini\"\n",
    "statefile = basepath / \"ELLIPSTELL_HIGHRES_State_0001_00000500.dat\"\n",
    "assert parameterfile.exists() and statefile.exists()"
   ]
  },
  {
   "cell_type": "code",
   "execution_count": null,
   "metadata": {},
   "outputs": [],
   "source": [
    "with gvec.State(parameterfile, statefile) as state:\n",
    "    rho = [0.1, 0.5, 0.9]\n",
    "    ev = gvec.Evaluations(rho, 20, 15, state=state)\n",
    "    state.compute(ev, \"mod_B\")\n",
    "\n",
    "    evb = gvec.EvaluationsBoozer(rho, 20, 15, state, 14, 6)\n",
    "    state.compute(evb, \"mod_B\", \"pos\")\n",
    "evb"
   ]
  },
  {
   "cell_type": "code",
   "execution_count": null,
   "metadata": {},
   "outputs": [],
   "source": [
    "fig, axs = plt.subplots(\n",
    "    2, 3, figsize=(10, 5), sharey=True, sharex=True, tight_layout=True\n",
    ")\n",
    "for i, ax in enumerate(axs[0, :]):\n",
    "    evi = evb.isel(rad=i)\n",
    "    ax.pcolormesh(evi.theta, evi.zeta, evi.mod_B, shading=\"gouraud\")\n",
    "    ax.contour(evi.theta, evi.zeta, evi.mod_B, colors=\"k\", alpha=0.5)\n",
    "    ax.plot(evi.theta, evi.zeta, \"k.\", alpha=0.5, markersize=2)\n",
    "    ax.set(\n",
    "        # xlabel=r\"$\\theta$\",\n",
    "        title=f\"$\\\\rho = {evi.rho.data:.2f}$\",\n",
    "        aspect=\"equal\",\n",
    "    )\n",
    "axs[0, 0].set(\n",
    "    ylabel=r\"$\\zeta$\",\n",
    ")\n",
    "\n",
    "for i, ax in enumerate(axs[1, :]):\n",
    "    evi = ev.isel(rad=i)\n",
    "    ax.pcolormesh(evi.theta, evi.zeta, evi.mod_B.T, shading=\"gouraud\")\n",
    "    ax.contour(evi.theta, evi.zeta, evi.mod_B.T, colors=\"k\", alpha=0.5)\n",
    "    T, Z = xr.broadcast(evi.theta, evi.zeta)\n",
    "    ax.plot(T, Z, \"k.\", alpha=0.5, markersize=2)\n",
    "    ax.set(\n",
    "        xlabel=r\"$\\theta$\",\n",
    "        # title=f\"$\\\\rho = {evi.rho.data:.2f}$\",\n",
    "        aspect=\"equal\",\n",
    "    )\n",
    "axs[1, 0].set(\n",
    "    ylabel=r\"$\\zeta$\",\n",
    ")\n",
    "\n",
    "fig.suptitle(\n",
    "    \"$|B|$ in Logical coordinates computed via a Boozer grid (top) or regular grid (bottom)\"\n",
    ");"
   ]
  },
  {
   "cell_type": "code",
   "execution_count": null,
   "metadata": {},
   "outputs": [],
   "source": [
    "fig, axs = plt.subplots(\n",
    "    2, 3, figsize=(10, 5), sharey=True, sharex=True, tight_layout=True\n",
    ")\n",
    "for i, ax in enumerate(axs[0, :]):\n",
    "    evi = evb.isel(rad=i)\n",
    "    ax.pcolormesh(evi.theta_B, evi.zeta_B, evi.mod_B.T, shading=\"gouraud\")\n",
    "    ax.contour(evi.theta_B, evi.zeta_B, evi.mod_B.T, colors=\"k\", alpha=0.5)\n",
    "    # ax.plot(evi.theta_B, evi.zeta_B, \"k.\", alpha=0.5, markersize=2)\n",
    "    ax.set(\n",
    "        xlabel=r\"$\\theta_B$\",\n",
    "        title=f\"$\\\\rho = {evi.rho.data:.2f}$\",\n",
    "        aspect=\"equal\",\n",
    "    )\n",
    "axs[0, 0].set(\n",
    "    ylabel=r\"$\\zeta_B$\",\n",
    ")\n",
    "\n",
    "for i, ax in enumerate(axs[1, :]):\n",
    "    evi = evb.isel(rad=i)\n",
    "    ax.pcolormesh(evi.theta, evi.zeta, evi.mod_B, shading=\"gouraud\")\n",
    "    ax.contour(evi.theta, evi.zeta, evi.mod_B, colors=\"k\", alpha=0.5)\n",
    "    # ax.plot(evi.theta_B, evi.zeta_B, \"k.\", alpha=0.5, markersize=2)\n",
    "    ax.set(\n",
    "        xlabel=r\"$\\theta$\",\n",
    "        title=f\"$\\\\rho = {evi.rho.data:.2f}$\",\n",
    "        aspect=\"equal\",\n",
    "    )\n",
    "axs[1, 0].set(\n",
    "    ylabel=r\"$\\zeta$\",\n",
    ")\n",
    "fig.suptitle(\"$|B|$ in Boozer coordinates (top) or logical coordinates (bottom)\");"
   ]
  }
 ],
 "metadata": {},
 "nbformat": 4,
 "nbformat_minor": 2
}

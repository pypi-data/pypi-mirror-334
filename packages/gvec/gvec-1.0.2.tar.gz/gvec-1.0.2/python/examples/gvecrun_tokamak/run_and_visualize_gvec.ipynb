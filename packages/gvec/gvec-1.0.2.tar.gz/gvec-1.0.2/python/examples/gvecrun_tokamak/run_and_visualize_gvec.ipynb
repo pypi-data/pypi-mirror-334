{
 "cells": [
  {
   "cell_type": "markdown",
   "metadata": {},
   "source": [
    "## Example to run gvec using python, and visualize the result\n",
    "\n",
    "\n",
    "**Note:**\n",
    "\n",
    "**This ipython notebook needs prior installation of the gvec python package**\n",
    "\n",
    "**within a virtual environment, which then should be chosen as kernel!**"
   ]
  },
  {
   "cell_type": "code",
   "execution_count": null,
   "metadata": {},
   "outputs": [],
   "source": [
    "import os\n",
    "from pathlib import Path\n",
    "import contextlib\n",
    "\n",
    "import numpy as np\n",
    "import matplotlib.pyplot as plt\n",
    "\n",
    "# OMP number of threads for gvec run needs to be before import of gvec\n",
    "os.environ[\"OMP_NUM_THREADS\"] = \"4\"\n",
    "# needs `pip install` of gvec in virtual environment, and to be run in that environment!!!\n",
    "import gvec  # using run & modifying the parameters & postprocessing"
   ]
  },
  {
   "cell_type": "code",
   "execution_count": null,
   "metadata": {},
   "outputs": [],
   "source": [
    "# helper\n",
    "@contextlib.contextmanager\n",
    "def chdir(path: Path | str):\n",
    "    \"\"\"\n",
    "    Contextmanager to change the current working directory.\n",
    "\n",
    "    Using a context has the benefit of automatically changing back to the original directory when the context is exited, even if an exception is raised.\n",
    "    \"\"\"\n",
    "    path = Path(path)\n",
    "    old_dir = Path(os.getcwd())\n",
    "\n",
    "    os.chdir(path)\n",
    "    yield\n",
    "    os.chdir(old_dir)"
   ]
  },
  {
   "cell_type": "markdown",
   "metadata": {},
   "source": [
    "### Run gvec from a parameter file \n",
    "\n",
    "In this example, the input parameter file in this directory `parameter.ini` is used as a template. \n",
    "\n",
    "The input contains the boundary description as Fourier modes (here a simple circular tokamak), the profiles (iota and pressure) and discretization parameters.\n",
    "\n",
    "Here, we will modify some parameters and then run the equilibrium solver gvec, in a sub-directory.\n"
   ]
  },
  {
   "cell_type": "code",
   "execution_count": null,
   "metadata": {},
   "outputs": [],
   "source": [
    "template = \"parameter.ini\"\n",
    "\n",
    "# collect all parameters in a dictionary:\n",
    "params = {}\n",
    "# polynomial coefficients of the iota (rotational transform) and pressure profile\n",
    "iota_coefs = [0.523, 0.625]  # c_0*s + c_1\n",
    "pres_coefs = [-1.36878012275e-02, 0.02]\n",
    "params[\"iota_coefs\"] = \"(/\" + \", \".join(map(str, iota_coefs[::-1])) + \"/)\"\n",
    "params[\"pres_coefs\"] = \"(/\" + \", \".join(map(str, pres_coefs[::-1])) + \"/)\"\n",
    "# number of radial B-spline elements\n",
    "params[\"sgrid_nElems\"] = 5\n",
    "# maximum number of iterations\n",
    "params[\"maxiter\"] = 1000\n",
    "# First fourier mode of boundary shape, X1=R, X2=Z\n",
    "params[\"X1_b_cos\"] = {(1, 0): 0.9}\n",
    "params[\"X2_b_sin\"] = {(1, 0): 1.1}\n",
    "\n",
    "\n",
    "# create a run directory\n",
    "runpath = Path(f\"run_{1:02d}\")\n",
    "if not runpath.exists():\n",
    "    runpath.mkdir()\n",
    "    print(f\"created run directory {runpath}\")\n",
    "\n",
    "# copy template and modify parameters:\n",
    "gvec.util.adapt_parameter_file(template, runpath / \"parameter.ini\", **params)\n",
    "\n",
    "# run GVEC simulation\n",
    "with chdir(runpath):\n",
    "    gvec.run(\"parameter.ini\", stdout_path=\"stdout.txt\")"
   ]
  },
  {
   "cell_type": "markdown",
   "metadata": {},
   "source": [
    "### Post-processing: evaluate the equilibrium\n",
    "\n",
    "Here, we load the final state file written in the gvec run, together with the parameterfile used. \n",
    "Then we can choose a discrete set of 1d points in radial direction `rho` (proportional to the square-root of the magnetic flux) and poloidal direction `theta` and toroidal direction `zeta`. Either by specifying an array, or just the number of points. \n",
    "\n",
    "As this example is a tokamak, only one point in toroidal direction is used."
   ]
  },
  {
   "cell_type": "code",
   "execution_count": null,
   "metadata": {},
   "outputs": [],
   "source": [
    "statefile = sorted(runpath.glob(\"*State*.dat\"))[-1]\n",
    "with gvec.State(runpath / \"parameter.ini\", statefile) as state:\n",
    "    rho = np.linspace(0, 1, 20)  # radial visualization points\n",
    "    theta = np.linspace(0, 2 * np.pi, 50)  # poloidal visualization points\n",
    "    ev = gvec.Evaluations(rho=rho, theta=theta, zeta=1, state=state)\n",
    "    state.compute(ev, \"X1\", \"X2\", \"LA\", \"iota\", \"p\")"
   ]
  },
  {
   "cell_type": "markdown",
   "metadata": {},
   "source": [
    "### Visualize the result\n",
    "\n",
    "Now, lets visualize the 1D profiles (input quantities)"
   ]
  },
  {
   "cell_type": "code",
   "execution_count": null,
   "metadata": {},
   "outputs": [],
   "source": [
    "fig, ax = plt.subplots(1, 2, figsize=(8, 4))\n",
    "\n",
    "ax[0].plot(ev.rho**2, ev.iota)\n",
    "ax[0].set(xlabel=\"$\\\\rho^2\\sim$ tor. flux\", title=\"iota profile\")\n",
    "ax[1].plot(ev.rho**2, ev.p)\n",
    "ax[1].set(xlabel=\"$\\\\rho^2\\sim$ tor. flux\", title=\"pressure profile\");"
   ]
  },
  {
   "cell_type": "markdown",
   "metadata": {},
   "source": [
    "\n",
    "And visualizte the 2D cross-section of the example.  Note that the contours of the straight-field line angle $\\theta^* =\\theta +\\lambda(\\theta,\\zeta)$  are shown."
   ]
  },
  {
   "cell_type": "code",
   "execution_count": null,
   "metadata": {},
   "outputs": [],
   "source": [
    "fig, ax = plt.subplots(1, 1, figsize=(8, 4))\n",
    "\n",
    "R = ev.X1[:, :, 0]\n",
    "Z = ev.X2[:, :, 0]\n",
    "rho_vis = R * 0 + ev.rho\n",
    "theta_vis = R * 0 + ev.theta\n",
    "thetastar_vis = ev.LA[:, :, 0] + ev.theta\n",
    "p_vis = R * 0 + ev.p\n",
    "rho_levels_vis = np.linspace(0, 1 - 1e-10, 11)\n",
    "theta_levels_vis = np.linspace(0, 2 * np.pi, 16, endpoint=False)\n",
    "c = ax.contourf(R, Z, p_vis, alpha=0.75)\n",
    "fig.colorbar(c, ax=ax, label=\"pressure\")\n",
    "ax.contour(R, Z, rho_vis, rho_levels_vis, colors=\"black\")\n",
    "ax.contour(R, Z, thetastar_vis, theta_levels_vis, colors=\"red\")\n",
    "ax.set(\n",
    "    xlabel=\"$R$\",\n",
    "    ylabel=\"$Z$\",\n",
    "    title=\"equilibrium solution, cross-section\",\n",
    "    aspect=\"equal\",\n",
    "    xlim=[0.8 * np.amin(R), 1.2 * np.amax(R)],\n",
    "    ylim=[1.1 * np.amin(Z), 1.1 * np.amax(Z)],\n",
    ")\n",
    "ax.legend(\n",
    "    handles=[\n",
    "        plt.Line2D([0], [0], color=\"black\", label=\"$\\\\rho=$const.\"),\n",
    "        plt.Line2D([0], [0], color=\"red\", label=\"$\\\\theta^*=$const\"),\n",
    "    ]\n",
    ")\n",
    "\n",
    "\n",
    "R_axis = R[0, 0].item()\n",
    "Z_axis = Z[0, 0].item()\n",
    "\n",
    "print(f\"R,Z position of magnetic axis={R_axis,Z_axis}\")"
   ]
  }
 ],
 "metadata": {},
 "nbformat": 4,
 "nbformat_minor": 2
}

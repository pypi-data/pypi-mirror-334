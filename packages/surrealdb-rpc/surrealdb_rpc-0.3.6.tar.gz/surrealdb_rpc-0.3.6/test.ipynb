{
 "cells": [
  {
   "cell_type": "code",
   "execution_count": 2,
   "metadata": {},
   "outputs": [
    {
     "name": "stdout",
     "output_type": "stream",
     "text": [
      "{'duration': Duration(seconds=3600), 'id': TextRecordId(test:1985z018sgesgsg)}\n"
     ]
    }
   ],
   "source": [
    "import datetime\n",
    "from surrealdb_rpc.client.websocket.surrealdb import SurrealDBClient\n",
    "\n",
    "if __name__ == \"__main__\":\n",
    "    with SurrealDBClient(\n",
    "        host=\"localhost\",\n",
    "        port=8000,\n",
    "        ns=\"test\",\n",
    "        db=\"test\",\n",
    "        user=\"root\",\n",
    "        password=\"root\",\n",
    "    ) as db:\n",
    "        response = db.create(\"test:1985z018sgesgsg\", duration=datetime.timedelta(hours=1))\n",
    "        print(response)\n"
   ]
  }
 ],
 "metadata": {
  "kernelspec": {
   "display_name": ".venv",
   "language": "python",
   "name": "python3"
  },
  "language_info": {
   "codemirror_mode": {
    "name": "ipython",
    "version": 3
   },
   "file_extension": ".py",
   "mimetype": "text/x-python",
   "name": "python",
   "nbconvert_exporter": "python",
   "pygments_lexer": "ipython3",
   "version": "3.12.7"
  }
 },
 "nbformat": 4,
 "nbformat_minor": 4
}

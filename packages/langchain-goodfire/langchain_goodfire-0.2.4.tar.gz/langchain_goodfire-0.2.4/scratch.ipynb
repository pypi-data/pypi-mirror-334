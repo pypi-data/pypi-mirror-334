{
 "cells": [
  {
   "cell_type": "code",
   "execution_count": 1,
   "metadata": {},
   "outputs": [
    {
     "name": "stderr",
     "output_type": "stream",
     "text": [
      "None of PyTorch, TensorFlow >= 2.0, or Flax have been found. Models won't be available and only tokenizers, configuration and file/data utilities can be used.\n"
     ]
    },
    {
     "data": {
      "text/plain": [
       "True"
      ]
     },
     "execution_count": 1,
     "metadata": {},
     "output_type": "execute_result"
    }
   ],
   "source": [
    "import goodfire\n",
    "import langchain_goodfire\n",
    "from dotenv import load_dotenv\n",
    "import os\n",
    "\n",
    "load_dotenv()"
   ]
  },
  {
   "cell_type": "code",
   "execution_count": 3,
   "metadata": {},
   "outputs": [
    {
     "data": {
      "text/plain": [
       "AIMessage(content=\"Hello. I'm doing great, thanks for asking. How can I help you today?\", additional_kwargs={}, response_metadata={}, id='run-2af891c6-fb84-4b91-9d91-965c7d709f9d-0', usage_metadata={'input_tokens': 37, 'output_tokens': 49, 'total_tokens': 86})"
      ]
     },
     "execution_count": 3,
     "metadata": {},
     "output_type": "execute_result"
    }
   ],
   "source": [
    "client = goodfire.Client(api_key=os.getenv(\"GOODFIRE_API_KEY\"))\n",
    "\n",
    "base_variant = goodfire.Variant(\n",
    "    \"meta-llama/Llama-3.3-70B-Instruct\",\n",
    ")\n",
    "\n",
    "chat = langchain_goodfire.ChatGoodfire(model=base_variant)\n",
    "\n",
    "await chat.ainvoke([\"Hello, how are you?\"])"
   ]
  },
  {
   "cell_type": "code",
   "execution_count": 4,
   "metadata": {},
   "outputs": [
    {
     "data": {
      "text/plain": [
       "[AIMessage(content=\"Hello. I'm doing great, thanks for asking. How can I help you today?\", additional_kwargs={}, response_metadata={}, id='run-93e4a4a2-f41d-4de1-8feb-39429cf6ab1f-0', usage_metadata={'input_tokens': 37, 'output_tokens': 49, 'total_tokens': 86}),\n",
       " AIMessage(content='The capital of France is Paris.', additional_kwargs={}, response_metadata={}, id='run-68c68148-76d3-473d-bd6a-9731e511617c-0', usage_metadata={'input_tokens': 38, 'output_tokens': 38, 'total_tokens': 76})]"
      ]
     },
     "execution_count": 4,
     "metadata": {},
     "output_type": "execute_result"
    }
   ],
   "source": [
    "await chat.abatch([\"Hello, how are you?\", \"What is the capital of France?\"])"
   ]
  },
  {
   "cell_type": "code",
   "execution_count": null,
   "metadata": {},
   "outputs": [],
   "source": []
  }
 ],
 "metadata": {
  "kernelspec": {
   "display_name": ".venv",
   "language": "python",
   "name": "python3"
  },
  "language_info": {
   "codemirror_mode": {
    "name": "ipython",
    "version": 3
   },
   "file_extension": ".py",
   "mimetype": "text/x-python",
   "name": "python",
   "nbconvert_exporter": "python",
   "pygments_lexer": "ipython3",
   "version": "3.12.8"
  }
 },
 "nbformat": 4,
 "nbformat_minor": 2
}

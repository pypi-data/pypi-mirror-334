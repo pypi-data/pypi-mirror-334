{
 "cells": [
  {
   "cell_type": "code",
   "execution_count": 31,
   "metadata": {},
   "outputs": [],
   "source": [
    "from pySWATPlus.TxtinoutReader import TxtinoutReader\n",
    "from pathlib import Path\n",
    "import random\n",
    "from SALib.sample import saltelli\n",
    "from SALib.analyze import sobol\n",
    "import numpy as np\n",
    "import random\n",
    "import concurrent.futures"
   ]
  },
  {
   "cell_type": "code",
   "execution_count": 32,
   "metadata": {},
   "outputs": [],
   "source": [
    "random.seed(42)  # Set seed for reproducibility"
   ]
  },
  {
   "cell_type": "code",
   "execution_count": 33,
   "metadata": {},
   "outputs": [],
   "source": [
    "cwd = Path.cwd()\n",
    "txtinout_folder_path = Path(cwd / 'muga')   #replace with the path to the SWAT+ project folder"
   ]
  },
  {
   "cell_type": "code",
   "execution_count": 34,
   "metadata": {},
   "outputs": [],
   "source": [
    "txtinout_reader = TxtinoutReader(txtinout_folder_path)"
   ]
  },
  {
   "cell_type": "code",
   "execution_count": 35,
   "metadata": {},
   "outputs": [],
   "source": [
    "txtinout_reader.set_beginning_and_end_year(2010, 2012)\n",
    "txtinout_reader.set_warmup(1)\n",
    "txtinout_reader.enable_object_in_print_prt('channel_sd', True, False, False, False)\n"
   ]
  },
  {
   "cell_type": "code",
   "execution_count": 36,
   "metadata": {},
   "outputs": [],
   "source": [
    "#define the problem: in our case, we just want to calibrate epco and esco and evaluate the model\n",
    "\n",
    "def run_and_evaluate_swat(epco: int = 0.5, esco: int = 0.5):\n",
    "    \n",
    "    print(f'Running SWAT with epco = {epco} and esco = {esco} \\n')\n",
    "    \n",
    "    #copy swat so simulations don't interfere with each other and can run in parallel\n",
    "    tmp_path = txtinout_reader.copy_swat()\n",
    "    \n",
    "    reader = TxtinoutReader(tmp_path)\n",
    "    hydrology_hyd = reader.register_file('hydrology.hyd', has_units = False, )\n",
    "    hydrology_hyd_df = hydrology_hyd.df\n",
    "    \n",
    "    #overwrite the values of epco and esco\n",
    "    hydrology_hyd_df['epco'] = epco\n",
    "    hydrology_hyd_df['esco'] = esco\n",
    "    \n",
    "    #save the changes\n",
    "    hydrology_hyd.overwrite_file()\n",
    "    \n",
    "    #run the model\n",
    "    txt_in_out_result = reader.run_swat(show_output=False)\n",
    "    \n",
    "    #read the results\n",
    "    reader = TxtinoutReader(txt_in_out_result)    \n",
    "    channel_sdmorph = reader.register_file('channel_sdmorph_day.txt', has_units = True, )\n",
    "    channel_sdmorph_df = channel_sdmorph.df\n",
    "    \n",
    "    #here, you should read your observations and calculate the objective function\n",
    "    #for now, let's just return a mock value\n",
    "    return random.random()\n",
    "\n",
    "# Wrapper function for parallel execution\n",
    "def evaluate(params):\n",
    "    return run_and_evaluate_swat(*params)"
   ]
  },
  {
   "cell_type": "code",
   "execution_count": 37,
   "metadata": {},
   "outputs": [],
   "source": [
    "# Define the model inputs\n",
    "problem = {\n",
    "  'num_vars': 2,\n",
    "  'names': ['epco', 'esco'],\n",
    "  'bounds': [[0, 1]]*2\n",
    "}"
   ]
  },
  {
   "cell_type": "code",
   "execution_count": 38,
   "metadata": {},
   "outputs": [
    {
     "name": "stderr",
     "output_type": "stream",
     "text": [
      "/tmp/ipykernel_810609/950771132.py:2: DeprecationWarning: `salib.sample.saltelli` will be removed in SALib 1.5.1 Please use `salib.sample.sobol`\n",
      "  param_values = saltelli.sample(problem, 2)\n"
     ]
    },
    {
     "name": "stdout",
     "output_type": "stream",
     "text": [
      "Running SWAT with epco = 0.46875 and esco = 0.46875 \n",
      "Running SWAT with epco = 0.09375 and esco = 0.65625 \n",
      "Running SWAT with epco = 0.46875 and esco = 0.46875 \n",
      "Running SWAT with epco = 0.46875 and esco = 0.65625 \n",
      "Running SWAT with epco = 0.09375 and esco = 0.46875 \n",
      "Running SWAT with epco = 0.59375 and esco = 0.15625 \n",
      "Running SWAT with epco = 0.96875 and esco = 0.96875 \n",
      "Running SWAT with epco = 0.59375 and esco = 0.96875 \n",
      "Running SWAT with epco = 0.96875 and esco = 0.96875 \n",
      "\n",
      "Running SWAT with epco = 0.59375 and esco = 0.15625 \n",
      "Running SWAT with epco = 0.96875 and esco = 0.15625 \n",
      "\n",
      "\n",
      "\n",
      "Running SWAT with epco = 0.09375 and esco = 0.65625 \n",
      "\n",
      "\n",
      "\n",
      "\n",
      "\n",
      "\n",
      "\n",
      "\n"
     ]
    }
   ],
   "source": [
    "# sample\n",
    "param_values = saltelli.sample(problem, 2)\n",
    "\n",
    "# Parallel execution\n",
    "with concurrent.futures.ProcessPoolExecutor() as executor:\n",
    "    y = np.array(list(executor.map(evaluate, param_values)))\n",
    "\n",
    "sobol_indices = sobol.analyze(problem, y)\n"
   ]
  }
 ],
 "metadata": {
  "kernelspec": {
   "display_name": "pyswatplus",
   "language": "python",
   "name": "python3"
  },
  "language_info": {
   "codemirror_mode": {
    "name": "ipython",
    "version": 3
   },
   "file_extension": ".py",
   "mimetype": "text/x-python",
   "name": "python",
   "nbconvert_exporter": "python",
   "pygments_lexer": "ipython3",
   "version": "3.12.1"
  }
 },
 "nbformat": 4,
 "nbformat_minor": 2
}

{
 "cells": [
  {
   "cell_type": "code",
   "execution_count": 1,
   "metadata": {},
   "outputs": [],
   "source": [
    "from gql import Client, gql\n",
    "\n",
    "from piscada_foresight.http import ForesightHTTPXTransport"
   ]
  },
  {
   "cell_type": "code",
   "execution_count": 2,
   "metadata": {},
   "outputs": [],
   "source": [
    "# Interactive Auth\n",
    "transport = ForesightHTTPXTransport(domain=\"foresight.piscada.cloud\")\n",
    "fs_client = Client(transport=transport, fetch_schema_from_transport=False)"
   ]
  },
  {
   "cell_type": "code",
   "execution_count": 3,
   "metadata": {},
   "outputs": [],
   "source": [
    "# Client Credentiels Auth\n",
    "# transport = ForesightHTTPXTransport(\n",
    "#     domain=\"104.199.83.22.nip.io\", client_id=\"XXX\", client_secret=\"XXX\"\n",
    "# )\n",
    "# fs_client = Client(transport=transport, fetch_schema_from_transport=False)"
   ]
  },
  {
   "cell_type": "code",
   "execution_count": 4,
   "metadata": {},
   "outputs": [],
   "source": [
    "# No Auth\n",
    "# transport = ForesightHTTPXTransport(\n",
    "#     domain=None,\n",
    "#     client_id=None,\n",
    "#     client_secret=None,\n",
    "#     graphql_endpoint=\"http://127.0.0.1:4001/\",\n",
    "# )\n",
    "# fs_client = Client(transport=transport, fetch_schema_from_transport=False)"
   ]
  },
  {
   "cell_type": "code",
   "execution_count": 5,
   "metadata": {},
   "outputs": [
    {
     "data": {
      "text/plain": [
       "{'myself': {'user': {'id': 'foaf:User:01922d3b-af67-77d7-ac0a-7207fedcf91e',\n",
       "   'name': 'Tim Jagenberg'}}}"
      ]
     },
     "execution_count": 5,
     "metadata": {},
     "output_type": "execute_result"
    }
   ],
   "source": [
    "query = gql(\n",
    "    \"\"\"\n",
    "    query myself {\n",
    "        myself {\n",
    "            user {\n",
    "                id\n",
    "                name\n",
    "            }\n",
    "        }\n",
    "    }\n",
    "\"\"\",\n",
    ")\n",
    "\n",
    "fs_client.execute(query)"
   ]
  }
 ],
 "metadata": {
  "kernelspec": {
   "display_name": ".venv",
   "language": "python",
   "name": "python3"
  },
  "language_info": {
   "codemirror_mode": {
    "name": "ipython",
    "version": 3
   },
   "file_extension": ".py",
   "mimetype": "text/x-python",
   "name": "python",
   "nbconvert_exporter": "python",
   "pygments_lexer": "ipython3",
   "version": "3.12.8"
  }
 },
 "nbformat": 4,
 "nbformat_minor": 2
}

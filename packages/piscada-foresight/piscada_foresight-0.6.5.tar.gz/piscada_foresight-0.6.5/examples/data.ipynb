{
 "cells": [
  {
   "cell_type": "code",
   "execution_count": 1,
   "metadata": {},
   "outputs": [],
   "source": [
    "from datetime import datetime, timedelta, timezone\n",
    "\n",
    "from gql import Client\n",
    "\n",
    "from piscada_foresight.data import get_value, get_values\n",
    "from piscada_foresight.http import ForesightHTTPXTransport"
   ]
  },
  {
   "cell_type": "code",
   "execution_count": 2,
   "metadata": {},
   "outputs": [],
   "source": [
    "transport = ForesightHTTPXTransport(\"foresight.piscada.cloud\")\n",
    "fs_client = Client(transport=transport, fetch_schema_from_transport=False)"
   ]
  },
  {
   "cell_type": "code",
   "execution_count": null,
   "metadata": {},
   "outputs": [],
   "source": [
    "get_value(fs_client, \"brick:Command:01929980-df95-7258-bede-e20d80f51839\")"
   ]
  },
  {
   "cell_type": "code",
   "execution_count": 18,
   "metadata": {},
   "outputs": [],
   "source": [
    "series = get_values(\n",
    "    fs_client,\n",
    "    \"brick:Command:01929980-df95-7258-bede-e20d80f51839\",\n",
    "    datetime.now(tz=timezone.utc) - timedelta(minutes=30),\n",
    ")"
   ]
  },
  {
   "cell_type": "code",
   "execution_count": null,
   "metadata": {},
   "outputs": [],
   "source": [
    "series.plot();"
   ]
  }
 ],
 "metadata": {
  "kernelspec": {
   "display_name": ".venv",
   "language": "python",
   "name": "python3"
  },
  "language_info": {
   "codemirror_mode": {
    "name": "ipython",
    "version": 3
   },
   "file_extension": ".py",
   "mimetype": "text/x-python",
   "name": "python",
   "nbconvert_exporter": "python",
   "pygments_lexer": "ipython3",
   "version": "3.12.6"
  }
 },
 "nbformat": 4,
 "nbformat_minor": 2
}

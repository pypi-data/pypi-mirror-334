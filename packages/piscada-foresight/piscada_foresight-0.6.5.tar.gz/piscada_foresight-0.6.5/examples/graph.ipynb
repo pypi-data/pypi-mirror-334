{
 "cells": [
  {
   "cell_type": "code",
   "execution_count": 1,
   "metadata": {},
   "outputs": [],
   "source": [
    "from gql import Client, gql\n",
    "\n",
    "from piscada_foresight.data import get_all_values\n",
    "from piscada_foresight.http import ForesightHTTPXTransport"
   ]
  },
  {
   "cell_type": "code",
   "execution_count": 2,
   "metadata": {},
   "outputs": [],
   "source": [
    "transport = ForesightHTTPXTransport(\"foresight.piscada.cloud\")\n",
    "fs_client = Client(transport=transport, fetch_schema_from_transport=False)"
   ]
  },
  {
   "cell_type": "code",
   "execution_count": 3,
   "metadata": {},
   "outputs": [],
   "source": [
    "query = gql(\n",
    "\"\"\"\n",
    "query Domains {\n",
    "  entity(id: \"brick:Building:01929980-cb29-70d9-a94f-067f1a72968b\") {\n",
    "    transitiveRelationships(filterByRelationshipDefinitions: [\"brick:isLocationOf\", \"brick:hasPart\"], useUnionForRelationshipDefinitions: true, targetEntityTraitDefinitions: \"brick:AHU\") {\n",
    "\t\t\tid\n",
    "\t\t\tname\n",
    "\t\t\ttransitiveRelationships(filterByRelationshipDefinitions: [\"brick:hasPart\", \"brick:hasPoint\"], useUnionForRelationshipDefinitions: true, targetEntityTraitDefinitions: \"brick:Return_Air_Temperature_Sensor\") {\n",
    "\t\t\t\tid\n",
    "\t\t\t\tname\n",
    "\t\t\t\ttrait(id: \"foresight:Datapoint\") {\n",
    "\t\t\t\t\tquantity(key: \"Value\") {\n",
    "\t\t\t\t\t\tvalues(startEventTime: \"2024-10-01T00:00:00Z\", endEventTime: \"2024-10-02T00:00:00Z\") {\n",
    "\t\t\t\t\t\t\teventTime\n",
    "\t\t\t\t\t\t\tvalue\n",
    "\t\t\t\t\t\t}\n",
    "\t\t\t\t\t}\n",
    "\t\t\t\t}\n",
    "\t\t\t}\n",
    "\t\t}\n",
    "  }\n",
    "}\n",
    "\"\"\",\n",
    ")\n",
    "\n",
    "result = str(fs_client.execute(query))"
   ]
  },
  {
   "cell_type": "code",
   "execution_count": null,
   "metadata": {},
   "outputs": [],
   "source": [
    "for df in get_all_values(result):\n",
    "    if df.index.size > 1:\n",
    "        df.plot()"
   ]
  }
 ],
 "metadata": {
  "kernelspec": {
   "display_name": ".venv",
   "language": "python",
   "name": "python3"
  },
  "language_info": {
   "codemirror_mode": {
    "name": "ipython",
    "version": 3
   },
   "file_extension": ".py",
   "mimetype": "text/x-python",
   "name": "python",
   "nbconvert_exporter": "python",
   "pygments_lexer": "ipython3",
   "version": "3.12.6"
  }
 },
 "nbformat": 4,
 "nbformat_minor": 2
}

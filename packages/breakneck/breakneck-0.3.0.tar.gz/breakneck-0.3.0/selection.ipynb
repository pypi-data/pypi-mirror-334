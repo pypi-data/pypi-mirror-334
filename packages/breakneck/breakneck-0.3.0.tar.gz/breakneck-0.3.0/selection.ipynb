{
 "cells": [
  {
   "cell_type": "code",
   "execution_count": 1,
   "metadata": {},
   "outputs": [],
   "source": [
    "%load_ext autoreload\n",
    "%autoreload 2\n"
   ]
  },
  {
   "cell_type": "code",
   "execution_count": 7,
   "metadata": {},
   "outputs": [],
   "source": [
    "import matplotlib.pyplot as plt\n",
    "import numpy as np\n",
    "\n",
    "import kipy\n",
    "from kipy.board import BoardLayer as BL\n",
    "import kipy.common_types as kct\n",
    "import kipy.board_types as kbt\n",
    "import kipy.geometry as kg\n",
    "from kipy.proto.board import board_commands_pb2, board_types_pb2\n",
    "from kipy.proto.common import base_types_pb2\n",
    "import shapely\n",
    "import shapely.geometry as sg\n",
    "import shapely.plotting as sp\n",
    "\n",
    "import breakneck.conversions as bnc\n",
    "import breakneck.footprint\n",
    "import breakneck.track\n"
   ]
  },
  {
   "cell_type": "code",
   "execution_count": 3,
   "metadata": {},
   "outputs": [],
   "source": [
    "kicad = kipy.KiCad()\n"
   ]
  },
  {
   "cell_type": "code",
   "execution_count": 4,
   "metadata": {},
   "outputs": [],
   "source": [
    "board = kicad.get_board()\n"
   ]
  },
  {
   "cell_type": "code",
   "execution_count": 37,
   "metadata": {},
   "outputs": [],
   "source": [
    "sel = board.get_selection()\n",
    "sel0 = sel[0]\n"
   ]
  },
  {
   "cell_type": "code",
   "execution_count": null,
   "metadata": {},
   "outputs": [],
   "source": [
    "sel0\n",
    "bnc._reverse_shape(sel0)\n"
   ]
  },
  {
   "cell_type": "code",
   "execution_count": 39,
   "metadata": {},
   "outputs": [
    {
     "data": {
      "image/svg+xml": [
       "<svg xmlns=\"http://www.w3.org/2000/svg\" xmlns:xlink=\"http://www.w3.org/1999/xlink\" width=\"300\" height=\"300\" viewBox=\"40901972.08 -32561969.92 2159997.8400000036 2159997.8400000036\" preserveAspectRatio=\"xMinYMin meet\"><g transform=\"matrix(1,0,0,-1,0,-62963942.0)\"><polyline fill=\"none\" stroke=\"#66cc99\" stroke-width=\"14399.985600000024\" points=\"42981970.0,-30481972.0 42947065.0,-30482276.0 42912171.0,-30483190.0 42877298.0,-30484712.0 42842457.0,-30486843.0 42807658.0,-30489582.0 42772913.0,-30492928.0 42738231.0,-30496879.0 42703624.0,-30501435.0 42669101.0,-30506595.0 42634673.0,-30512356.0 42600352.0,-30518717.0 42566147.0,-30525676.0 42532068.0,-30533231.0 42498126.0,-30541380.0 42464332.0,-30550120.0 42430695.0,-30559448.0 42397227.0,-30569362.0 42363936.0,-30579858.0 42330834.0,-30590934.0 42297930.0,-30602586.0 42265234.0,-30614811.0 42232757.0,-30627604.0 42200508.0,-30640962.0 42168497.0,-30654880.0 42136734.0,-30669356.0 42105228.0,-30684383.0 42073989.0,-30699958.0 42043027.0,-30716076.0 42012351.0,-30732732.0 41981971.0,-30749920.0 41951894.0,-30767637.0 41922132.0,-30785875.0 41892693.0,-30804630.0 41863585.0,-30823896.0 41834818.0,-30843667.0 41806400.0,-30863937.0 41778341.0,-30884700.0 41750648.0,-30905950.0 41723330.0,-30927679.0 41696396.0,-30949882.0 41669853.0,-30972552.0 41643710.0,-30995681.0 41617974.0,-31019264.0 41592654.0,-31043291.0 41567757.0,-31067757.0 41543291.0,-31092654.0 41519264.0,-31117974.0 41495681.0,-31143710.0 41472552.0,-31169853.0 41449882.0,-31196396.0 41427679.0,-31223330.0 41405950.0,-31250648.0 41384700.0,-31278341.0 41363937.0,-31306400.0 41343667.0,-31334818.0 41323896.0,-31363585.0 41304630.0,-31392693.0 41285875.0,-31422132.0 41267637.0,-31451894.0 41249920.0,-31481971.0 41232732.0,-31512351.0 41216076.0,-31543027.0 41199958.0,-31573989.0 41184383.0,-31605228.0 41169356.0,-31636734.0 41154880.0,-31668497.0 41140962.0,-31700508.0 41127604.0,-31732757.0 41114811.0,-31765234.0 41102586.0,-31797930.0 41090934.0,-31830834.0 41079858.0,-31863936.0 41069362.0,-31897227.0 41059448.0,-31930695.0 41050120.0,-31964332.0 41041380.0,-31998126.0 41033231.0,-32032068.0 41025676.0,-32066147.0 41018717.0,-32100352.0 41012356.0,-32134673.0 41006595.0,-32169101.0 41001435.0,-32203624.0 40996879.0,-32238231.0 40992928.0,-32272913.0 40989582.0,-32307658.0 40986843.0,-32342457.0 40984712.0,-32377298.0 40983190.0,-32412171.0 40982276.0,-32447065.0 40981972.0,-32481970.0\" opacity=\"0.8\" /></g></svg>"
      ],
      "text/plain": [
       "<LINESTRING (42981970 -30481972, 42947065 -30482276, 42912171 -30483190, 428...>"
      ]
     },
     "execution_count": 39,
     "metadata": {},
     "output_type": "execute_result"
    }
   ],
   "source": [
    "bnc.as_linestring(sel0)\n"
   ]
  },
  {
   "cell_type": "code",
   "execution_count": 44,
   "metadata": {},
   "outputs": [
    {
     "data": {
      "text/plain": [
       "Coords2D(x=40981972, y=-32481970)"
      ]
     },
     "execution_count": 44,
     "metadata": {},
     "output_type": "execute_result"
    }
   ],
   "source": [
    "bnc.as_coords2d(sel0.end)\n"
   ]
  },
  {
   "cell_type": "code",
   "execution_count": 47,
   "metadata": {},
   "outputs": [],
   "source": [
    "start = bnc.as_coords2d(sel0.start)\n",
    "mid = bnc.as_coords2d(sel0.mid)\n",
    "end = bnc.as_coords2d(sel0.end)\n",
    "center = bnc.as_coords2d(sel0.center())\n",
    "radius = int(sel0.radius())\n",
    "cross_product = (start.x - center.x) * (mid.y - center.y) - (\n",
    "            start.y - center.y\n",
    "        ) * (mid.x - center.x)\n"
   ]
  },
  {
   "cell_type": "code",
   "execution_count": null,
   "metadata": {},
   "outputs": [
    {
     "data": {
      "text/plain": [
       "(Coords2D(x=42981970, y=-30481972), Coords2D(x=40981972, y=-32481970))"
      ]
     },
     "execution_count": 51,
     "metadata": {},
     "output_type": "execute_result"
    }
   ],
   "source": [
    "start, end\n"
   ]
  },
  {
   "cell_type": "code",
   "execution_count": null,
   "metadata": {},
   "outputs": [
    {
     "data": {
      "text/plain": [
       "(Coords2D(x=42981970, y=-30481972), Coords2D(x=40981972, y=-32481970))"
      ]
     },
     "execution_count": 50,
     "metadata": {},
     "output_type": "execute_result"
    }
   ],
   "source": [
    "bnc.get_endpoints(sel0, 1)\n"
   ]
  },
  {
   "cell_type": "code",
   "execution_count": 48,
   "metadata": {},
   "outputs": [
    {
     "data": {
      "image/svg+xml": [
       "<svg xmlns=\"http://www.w3.org/2000/svg\" xmlns:xlink=\"http://www.w3.org/1999/xlink\" width=\"300\" height=\"300\" viewBox=\"40901972.08 -32561969.92 2159997.8400000036 2159997.8400000036\" preserveAspectRatio=\"xMinYMin meet\"><g transform=\"matrix(1,0,0,-1,0,-62963942.0)\"><polyline fill=\"none\" stroke=\"#66cc99\" stroke-width=\"14399.985600000024\" points=\"42981970.0,-30481972.0 41567758.0,-31067758.0 40981972.0,-32481970.0\" opacity=\"0.8\" /></g></svg>"
      ],
      "text/plain": [
       "<LINESTRING (42981970 -30481972, 41567758 -31067758, 40981972 -32481970)>"
      ]
     },
     "execution_count": 48,
     "metadata": {},
     "output_type": "execute_result"
    }
   ],
   "source": [
    "sg.LineString([bnc.as_coords2d(sel0.start), bnc.as_coords2d(sel0.mid), bnc.as_coords2d(sel0.end)])\n"
   ]
  },
  {
   "cell_type": "code",
   "execution_count": null,
   "metadata": {},
   "outputs": [
    {
     "ename": "ValueError",
     "evalue": "Can't unpack type.googleapis.com/kiapi.board.types.FootprintInstance.  Incompatible change on KiCad side?",
     "output_type": "error",
     "traceback": [
      "\u001b[0;31m---------------------------------------------------------------------------\u001b[0m",
      "\u001b[0;31mValueError\u001b[0m                                Traceback (most recent call last)",
      "Cell \u001b[0;32mIn[6], line 1\u001b[0m\n\u001b[0;32m----> 1\u001b[0m \u001b[43mboard\u001b[49m\u001b[38;5;241;43m.\u001b[39;49m\u001b[43mget_footprints\u001b[49m\u001b[43m(\u001b[49m\u001b[43m)\u001b[49m\n",
      "File \u001b[0;32m~/src/hatlabs/breakneck/.venv/lib/python3.13/site-packages/kipy/board.py:398\u001b[0m, in \u001b[0;36mBoard.get_footprints\u001b[0;34m(self)\u001b[0m\n\u001b[1;32m    394\u001b[0m \u001b[38;5;28;01mdef\u001b[39;00m\u001b[38;5;250m \u001b[39m\u001b[38;5;21mget_footprints\u001b[39m(\u001b[38;5;28mself\u001b[39m) \u001b[38;5;241m-\u001b[39m\u001b[38;5;241m>\u001b[39m Sequence[FootprintInstance]:\n\u001b[1;32m    395\u001b[0m \u001b[38;5;250m    \u001b[39m\u001b[38;5;124;03m\"\"\"Retrieves all footprints on the board\"\"\"\u001b[39;00m\n\u001b[1;32m    396\u001b[0m     \u001b[38;5;28;01mreturn\u001b[39;00m [\n\u001b[1;32m    397\u001b[0m         cast(FootprintInstance, item)\n\u001b[0;32m--> 398\u001b[0m         \u001b[38;5;28;01mfor\u001b[39;00m item \u001b[38;5;129;01min\u001b[39;00m \u001b[38;5;28;43mself\u001b[39;49m\u001b[38;5;241;43m.\u001b[39;49m\u001b[43mget_items\u001b[49m\u001b[43m(\u001b[49m\u001b[43mtypes\u001b[49m\u001b[38;5;241;43m=\u001b[39;49m\u001b[43m[\u001b[49m\u001b[43mKiCadObjectType\u001b[49m\u001b[38;5;241;43m.\u001b[39;49m\u001b[43mKOT_PCB_FOOTPRINT\u001b[49m\u001b[43m]\u001b[49m\u001b[43m)\u001b[49m\n\u001b[1;32m    399\u001b[0m     ]\n",
      "File \u001b[0;32m~/src/hatlabs/breakneck/.venv/lib/python3.13/site-packages/kipy/board.py:373\u001b[0m, in \u001b[0;36mBoard.get_items\u001b[0;34m(self, types)\u001b[0m\n\u001b[1;32m    369\u001b[0m \u001b[38;5;28;01melse\u001b[39;00m:\n\u001b[1;32m    370\u001b[0m     command\u001b[38;5;241m.\u001b[39mtypes\u001b[38;5;241m.\u001b[39mextend(types)\n\u001b[1;32m    372\u001b[0m \u001b[38;5;28;01mreturn\u001b[39;00m \u001b[38;5;28mself\u001b[39m\u001b[38;5;241m.\u001b[39m_to_concrete_items(\n\u001b[0;32m--> 373\u001b[0m     [\u001b[43munwrap\u001b[49m\u001b[43m(\u001b[49m\u001b[43mitem\u001b[49m\u001b[43m)\u001b[49m \u001b[38;5;28;01mfor\u001b[39;00m item \u001b[38;5;129;01min\u001b[39;00m \u001b[38;5;28mself\u001b[39m\u001b[38;5;241m.\u001b[39m_kicad\u001b[38;5;241m.\u001b[39msend(command, GetItemsResponse)\u001b[38;5;241m.\u001b[39mitems]\n\u001b[1;32m    374\u001b[0m )\n",
      "File \u001b[0;32m~/src/hatlabs/breakneck/.venv/lib/python3.13/site-packages/kipy/board_types.py:2100\u001b[0m, in \u001b[0;36munwrap\u001b[0;34m(message)\u001b[0m\n\u001b[1;32m   2099\u001b[0m \u001b[38;5;28;01mdef\u001b[39;00m\u001b[38;5;250m \u001b[39m\u001b[38;5;21munwrap\u001b[39m(message: Any) \u001b[38;5;241m-\u001b[39m\u001b[38;5;241m>\u001b[39m Wrapper:\n\u001b[0;32m-> 2100\u001b[0m     concrete \u001b[38;5;241m=\u001b[39m \u001b[43munpack_any\u001b[49m\u001b[43m(\u001b[49m\u001b[43mmessage\u001b[49m\u001b[43m)\u001b[49m\n\u001b[1;32m   2101\u001b[0m     wrapper \u001b[38;5;241m=\u001b[39m _proto_to_object\u001b[38;5;241m.\u001b[39mget(\u001b[38;5;28mtype\u001b[39m(concrete), \u001b[38;5;28;01mNone\u001b[39;00m)\n\u001b[1;32m   2102\u001b[0m     \u001b[38;5;28;01massert\u001b[39;00m wrapper \u001b[38;5;129;01mis\u001b[39;00m \u001b[38;5;129;01mnot\u001b[39;00m \u001b[38;5;28;01mNone\u001b[39;00m\n",
      "File \u001b[0;32m~/src/hatlabs/breakneck/.venv/lib/python3.13/site-packages/kipy/util/proto.py:63\u001b[0m, in \u001b[0;36munpack_any\u001b[0;34m(object)\u001b[0m\n\u001b[1;32m     61\u001b[0m     \u001b[38;5;28mobject\u001b[39m\u001b[38;5;241m.\u001b[39mUnpack(concrete)\n\u001b[1;32m     62\u001b[0m \u001b[38;5;28;01mexcept\u001b[39;00m DecodeError:\n\u001b[0;32m---> 63\u001b[0m     \u001b[38;5;28;01mraise\u001b[39;00m \u001b[38;5;167;01mValueError\u001b[39;00m(\u001b[38;5;124mf\u001b[39m\u001b[38;5;124m\"\u001b[39m\u001b[38;5;124mCan\u001b[39m\u001b[38;5;124m'\u001b[39m\u001b[38;5;124mt unpack \u001b[39m\u001b[38;5;132;01m{\u001b[39;00m\u001b[38;5;28mobject\u001b[39m\u001b[38;5;241m.\u001b[39mtype_url\u001b[38;5;132;01m}\u001b[39;00m\u001b[38;5;124m.  Incompatible change on KiCad side?\u001b[39m\u001b[38;5;124m\"\u001b[39m) \u001b[38;5;28;01mfrom\u001b[39;00m\u001b[38;5;250m \u001b[39m\u001b[38;5;28;01mNone\u001b[39;00m\n\u001b[1;32m     64\u001b[0m \u001b[38;5;28;01mreturn\u001b[39;00m concrete\n",
      "\u001b[0;31mValueError\u001b[0m: Can't unpack type.googleapis.com/kiapi.board.types.FootprintInstance.  Incompatible change on KiCad side?"
     ]
    }
   ],
   "source": [
    "board.get_footprints()\n"
   ]
  },
  {
   "cell_type": "code",
   "execution_count": 20,
   "metadata": {},
   "outputs": [],
   "source": [
    "fp = sel0.definition\n"
   ]
  },
  {
   "cell_type": "code",
   "execution_count": 22,
   "metadata": {},
   "outputs": [
    {
     "data": {
      "text/plain": [
       "[<kipy.board_types.Pad at 0x12bf21f90>, <kipy.board_types.Pad at 0x12bf21a90>]"
      ]
     },
     "execution_count": 22,
     "metadata": {},
     "output_type": "execute_result"
    }
   ],
   "source": [
    "fp.pads\n"
   ]
  },
  {
   "cell_type": "code",
   "execution_count": 18,
   "metadata": {},
   "outputs": [
    {
     "data": {
      "text/plain": [
       "['ByteSize',\n",
       " 'Clear',\n",
       " 'ClearExtension',\n",
       " 'ClearField',\n",
       " 'CopyFrom',\n",
       " 'DESCRIPTOR',\n",
       " 'DiscardUnknownFields',\n",
       " 'Extensions',\n",
       " 'FindInitializationErrors',\n",
       " 'FromString',\n",
       " 'HasExtension',\n",
       " 'HasField',\n",
       " 'IsInitialized',\n",
       " 'ListFields',\n",
       " 'MergeFrom',\n",
       " 'MergeFromString',\n",
       " 'ParseFromString',\n",
       " 'SerializePartialToString',\n",
       " 'SerializeToString',\n",
       " 'SetInParent',\n",
       " 'UnknownFields',\n",
       " 'WhichOneof',\n",
       " '_CheckCalledFromGeneratedFile',\n",
       " '_ListFieldsItemKey',\n",
       " '_SetListener',\n",
       " '__class__',\n",
       " '__contains__',\n",
       " '__deepcopy__',\n",
       " '__delattr__',\n",
       " '__dir__',\n",
       " '__doc__',\n",
       " '__eq__',\n",
       " '__firstlineno__',\n",
       " '__format__',\n",
       " '__ge__',\n",
       " '__getattribute__',\n",
       " '__getstate__',\n",
       " '__gt__',\n",
       " '__hash__',\n",
       " '__init__',\n",
       " '__init_subclass__',\n",
       " '__le__',\n",
       " '__lt__',\n",
       " '__module__',\n",
       " '__ne__',\n",
       " '__new__',\n",
       " '__reduce__',\n",
       " '__reduce_ex__',\n",
       " '__repr__',\n",
       " '__setattr__',\n",
       " '__setstate__',\n",
       " '__sizeof__',\n",
       " '__slots__',\n",
       " '__static_attributes__',\n",
       " '__str__',\n",
       " '__subclasshook__',\n",
       " '__unicode__']"
      ]
     },
     "execution_count": 18,
     "metadata": {},
     "output_type": "execute_result"
    }
   ],
   "source": [
    "dir(sel0.proto)\n"
   ]
  }
 ],
 "metadata": {
  "kernelspec": {
   "display_name": ".venv",
   "language": "python",
   "name": "python3"
  },
  "language_info": {
   "codemirror_mode": {
    "name": "ipython",
    "version": 3
   },
   "file_extension": ".py",
   "mimetype": "text/x-python",
   "name": "python",
   "nbconvert_exporter": "python",
   "pygments_lexer": "ipython3",
   "version": "3.13.0"
  }
 },
 "nbformat": 4,
 "nbformat_minor": 2
}

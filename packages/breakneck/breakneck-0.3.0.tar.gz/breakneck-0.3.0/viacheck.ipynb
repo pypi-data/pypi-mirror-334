{
 "cells": [
  {
   "cell_type": "code",
   "execution_count": 1,
   "metadata": {},
   "outputs": [],
   "source": [
    "%load_ext autoreload\n",
    "%autoreload 2\n"
   ]
  },
  {
   "cell_type": "code",
   "execution_count": 2,
   "metadata": {},
   "outputs": [],
   "source": [
    "import matplotlib.pyplot as plt\n",
    "import numpy as np\n",
    "\n",
    "import kipy\n",
    "from kipy.board import BoardLayer as BL\n",
    "import kipy.common_types as kct\n",
    "import kipy.board_types as kbt\n",
    "import kipy.geometry as kg\n",
    "from kipy.proto.board import board_commands_pb2, board_types_pb2\n",
    "from kipy.proto.common import base_types_pb2\n",
    "import shapely\n",
    "import shapely.geometry as sg\n",
    "import shapely.plotting as sp\n",
    "\n",
    "import breakneck.conversions\n",
    "import breakneck.footprint\n",
    "import breakneck.track\n"
   ]
  },
  {
   "cell_type": "code",
   "execution_count": 3,
   "metadata": {},
   "outputs": [],
   "source": [
    "kicad = kipy.KiCad()\n"
   ]
  },
  {
   "cell_type": "code",
   "execution_count": 4,
   "metadata": {},
   "outputs": [],
   "source": [
    "board = kicad.get_board()\n"
   ]
  },
  {
   "cell_type": "code",
   "execution_count": 5,
   "metadata": {},
   "outputs": [
    {
     "ename": "ValueError",
     "evalue": "Can't unpack type.googleapis.com/kiapi.board.types.FootprintInstance.  Incompatible change on KiCad side?",
     "output_type": "error",
     "traceback": [
      "\u001b[0;31m---------------------------------------------------------------------------\u001b[0m",
      "\u001b[0;31mValueError\u001b[0m                                Traceback (most recent call last)",
      "Cell \u001b[0;32mIn[5], line 1\u001b[0m\n\u001b[0;32m----> 1\u001b[0m fps \u001b[38;5;241m=\u001b[39m \u001b[43mboard\u001b[49m\u001b[38;5;241;43m.\u001b[39;49m\u001b[43mget_footprints\u001b[49m\u001b[43m(\u001b[49m\u001b[43m)\u001b[49m\n",
      "File \u001b[0;32m~/src/hatlabs/breakneck/.venv/lib/python3.13/site-packages/kipy/board.py:398\u001b[0m, in \u001b[0;36mBoard.get_footprints\u001b[0;34m(self)\u001b[0m\n\u001b[1;32m    394\u001b[0m \u001b[38;5;28;01mdef\u001b[39;00m\u001b[38;5;250m \u001b[39m\u001b[38;5;21mget_footprints\u001b[39m(\u001b[38;5;28mself\u001b[39m) \u001b[38;5;241m-\u001b[39m\u001b[38;5;241m>\u001b[39m Sequence[FootprintInstance]:\n\u001b[1;32m    395\u001b[0m \u001b[38;5;250m    \u001b[39m\u001b[38;5;124;03m\"\"\"Retrieves all footprints on the board\"\"\"\u001b[39;00m\n\u001b[1;32m    396\u001b[0m     \u001b[38;5;28;01mreturn\u001b[39;00m [\n\u001b[1;32m    397\u001b[0m         cast(FootprintInstance, item)\n\u001b[0;32m--> 398\u001b[0m         \u001b[38;5;28;01mfor\u001b[39;00m item \u001b[38;5;129;01min\u001b[39;00m \u001b[38;5;28;43mself\u001b[39;49m\u001b[38;5;241;43m.\u001b[39;49m\u001b[43mget_items\u001b[49m\u001b[43m(\u001b[49m\u001b[43mtypes\u001b[49m\u001b[38;5;241;43m=\u001b[39;49m\u001b[43m[\u001b[49m\u001b[43mKiCadObjectType\u001b[49m\u001b[38;5;241;43m.\u001b[39;49m\u001b[43mKOT_PCB_FOOTPRINT\u001b[49m\u001b[43m]\u001b[49m\u001b[43m)\u001b[49m\n\u001b[1;32m    399\u001b[0m     ]\n",
      "File \u001b[0;32m~/src/hatlabs/breakneck/.venv/lib/python3.13/site-packages/kipy/board.py:373\u001b[0m, in \u001b[0;36mBoard.get_items\u001b[0;34m(self, types)\u001b[0m\n\u001b[1;32m    369\u001b[0m \u001b[38;5;28;01melse\u001b[39;00m:\n\u001b[1;32m    370\u001b[0m     command\u001b[38;5;241m.\u001b[39mtypes\u001b[38;5;241m.\u001b[39mextend(types)\n\u001b[1;32m    372\u001b[0m \u001b[38;5;28;01mreturn\u001b[39;00m \u001b[38;5;28mself\u001b[39m\u001b[38;5;241m.\u001b[39m_to_concrete_items(\n\u001b[0;32m--> 373\u001b[0m     [\u001b[43munwrap\u001b[49m\u001b[43m(\u001b[49m\u001b[43mitem\u001b[49m\u001b[43m)\u001b[49m \u001b[38;5;28;01mfor\u001b[39;00m item \u001b[38;5;129;01min\u001b[39;00m \u001b[38;5;28mself\u001b[39m\u001b[38;5;241m.\u001b[39m_kicad\u001b[38;5;241m.\u001b[39msend(command, GetItemsResponse)\u001b[38;5;241m.\u001b[39mitems]\n\u001b[1;32m    374\u001b[0m )\n",
      "File \u001b[0;32m~/src/hatlabs/breakneck/.venv/lib/python3.13/site-packages/kipy/board_types.py:2100\u001b[0m, in \u001b[0;36munwrap\u001b[0;34m(message)\u001b[0m\n\u001b[1;32m   2099\u001b[0m \u001b[38;5;28;01mdef\u001b[39;00m\u001b[38;5;250m \u001b[39m\u001b[38;5;21munwrap\u001b[39m(message: Any) \u001b[38;5;241m-\u001b[39m\u001b[38;5;241m>\u001b[39m Wrapper:\n\u001b[0;32m-> 2100\u001b[0m     concrete \u001b[38;5;241m=\u001b[39m \u001b[43munpack_any\u001b[49m\u001b[43m(\u001b[49m\u001b[43mmessage\u001b[49m\u001b[43m)\u001b[49m\n\u001b[1;32m   2101\u001b[0m     wrapper \u001b[38;5;241m=\u001b[39m _proto_to_object\u001b[38;5;241m.\u001b[39mget(\u001b[38;5;28mtype\u001b[39m(concrete), \u001b[38;5;28;01mNone\u001b[39;00m)\n\u001b[1;32m   2102\u001b[0m     \u001b[38;5;28;01massert\u001b[39;00m wrapper \u001b[38;5;129;01mis\u001b[39;00m \u001b[38;5;129;01mnot\u001b[39;00m \u001b[38;5;28;01mNone\u001b[39;00m\n",
      "File \u001b[0;32m~/src/hatlabs/breakneck/.venv/lib/python3.13/site-packages/kipy/util/proto.py:63\u001b[0m, in \u001b[0;36munpack_any\u001b[0;34m(object)\u001b[0m\n\u001b[1;32m     61\u001b[0m     \u001b[38;5;28mobject\u001b[39m\u001b[38;5;241m.\u001b[39mUnpack(concrete)\n\u001b[1;32m     62\u001b[0m \u001b[38;5;28;01mexcept\u001b[39;00m DecodeError:\n\u001b[0;32m---> 63\u001b[0m     \u001b[38;5;28;01mraise\u001b[39;00m \u001b[38;5;167;01mValueError\u001b[39;00m(\u001b[38;5;124mf\u001b[39m\u001b[38;5;124m\"\u001b[39m\u001b[38;5;124mCan\u001b[39m\u001b[38;5;124m'\u001b[39m\u001b[38;5;124mt unpack \u001b[39m\u001b[38;5;132;01m{\u001b[39;00m\u001b[38;5;28mobject\u001b[39m\u001b[38;5;241m.\u001b[39mtype_url\u001b[38;5;132;01m}\u001b[39;00m\u001b[38;5;124m.  Incompatible change on KiCad side?\u001b[39m\u001b[38;5;124m\"\u001b[39m) \u001b[38;5;28;01mfrom\u001b[39;00m\u001b[38;5;250m \u001b[39m\u001b[38;5;28;01mNone\u001b[39;00m\n\u001b[1;32m     64\u001b[0m \u001b[38;5;28;01mreturn\u001b[39;00m concrete\n",
      "\u001b[0;31mValueError\u001b[0m: Can't unpack type.googleapis.com/kiapi.board.types.FootprintInstance.  Incompatible change on KiCad side?"
     ]
    }
   ],
   "source": [
    "fps = board.get_footprints()\n"
   ]
  },
  {
   "cell_type": "code",
   "execution_count": 317,
   "metadata": {},
   "outputs": [],
   "source": [
    "vias = board.get_vias()\n"
   ]
  },
  {
   "cell_type": "code",
   "execution_count": 318,
   "metadata": {},
   "outputs": [
    {
     "data": {
      "text/plain": [
       "Via(position=Vector2(53000000, 63000000), net=/Power/Supercaps/Supercap stage2/R+, type=VT_THROUGH, locked=False)"
      ]
     },
     "execution_count": 318,
     "metadata": {},
     "output_type": "execute_result"
    }
   ],
   "source": [
    "via0 = vias[0]\n",
    "via0\n"
   ]
  },
  {
   "cell_type": "code",
   "execution_count": 319,
   "metadata": {},
   "outputs": [],
   "source": [
    "all_pads = board.get_pads()\n",
    "gnd_tht_pads = [pad for pad in all_pads if pad.net.name == 'GND' and pad.proto.type == kbt.PadType.PT_PTH]\n"
   ]
  },
  {
   "cell_type": "code",
   "execution_count": 320,
   "metadata": {},
   "outputs": [],
   "source": [
    "# We treat GND THT pads as vias as well\n",
    "gnd_vias = [via for via in vias if via.net.name == 'GND'] + gnd_tht_pads\n"
   ]
  },
  {
   "cell_type": "code",
   "execution_count": 321,
   "metadata": {},
   "outputs": [],
   "source": [
    "gnd_via_coords = [breakneck.conversions.vector2_as_coords(via.position) for via in gnd_vias]\n",
    "gnd_via_points = [sg.Point(coords) for coords in gnd_via_coords]\n"
   ]
  },
  {
   "cell_type": "code",
   "execution_count": 322,
   "metadata": {},
   "outputs": [],
   "source": [
    "gnd_via_tree = shapely.STRtree(gnd_via_points)\n"
   ]
  },
  {
   "cell_type": "code",
   "execution_count": 323,
   "metadata": {},
   "outputs": [],
   "source": [
    "non_gnd_vias = [via for via in vias if via.net.name != 'GND']\n",
    "non_gnd_via_coords = [breakneck.conversions.vector2_as_coords(via.position) for via in non_gnd_vias]\n",
    "non_gnd_via_points = [sg.Point(coords) for coords in non_gnd_via_coords]\n"
   ]
  },
  {
   "cell_type": "code",
   "execution_count": 324,
   "metadata": {},
   "outputs": [],
   "source": [
    "nearests_idxs = [gnd_via_tree.nearest(pt) for pt in non_gnd_via_points]\n"
   ]
  },
  {
   "cell_type": "code",
   "execution_count": 325,
   "metadata": {},
   "outputs": [],
   "source": [
    "nearests = [gnd_via_points[idx] for idx in nearests_idxs]\n"
   ]
  },
  {
   "cell_type": "code",
   "execution_count": 326,
   "metadata": {},
   "outputs": [
    {
     "data": {
      "text/plain": [
       "np.float64(14159802.258506296)"
      ]
     },
     "execution_count": 326,
     "metadata": {},
     "output_type": "execute_result"
    }
   ],
   "source": [
    "shapely.distance(nearests[0], non_gnd_via_points[0])\n"
   ]
  },
  {
   "cell_type": "code",
   "execution_count": 327,
   "metadata": {},
   "outputs": [],
   "source": [
    "distances = [shapely.distance(nearest, non_gnd_via) for nearest, non_gnd_via in zip(nearests, non_gnd_via_points)]\n"
   ]
  },
  {
   "cell_type": "code",
   "execution_count": 328,
   "metadata": {},
   "outputs": [],
   "source": [
    "# Get those non-gnd vias that are more than 3000000 nm away from the nearest gnd via\n",
    "lone_via_idxs = [i for i, distance in enumerate(distances) if distance > 2000000]\n"
   ]
  },
  {
   "cell_type": "code",
   "execution_count": 329,
   "metadata": {},
   "outputs": [],
   "source": [
    "import kipy.board\n",
    "import kipy.common_types\n",
    "import kipy.proto\n",
    "\n",
    "\n",
    "new_lines = []\n",
    "for idx in lone_via_idxs:\n",
    "    # Draw a line from the lone via to the nearest gnd via on layer BL.BL_Eco2_User\n",
    "    # with thickness 0.05mm = 50000 nm\n",
    "    ngvc = non_gnd_via_coords[idx]\n",
    "    gvc = gnd_via_coords[nearests_idxs[idx]]\n",
    "    start_proto_vector = base_types_pb2.Vector2(x_nm=ngvc[0], y_nm=-ngvc[1])\n",
    "    end_proto_vector = base_types_pb2.Vector2(x_nm=gvc[0], y_nm=-gvc[1])\n",
    "\n",
    "    shape = base_types_pb2.GraphicShape(\n",
    "        segment=base_types_pb2.GraphicSegmentAttributes(\n",
    "            start=start_proto_vector,\n",
    "            end=end_proto_vector)\n",
    "    )\n",
    "\n",
    "    board_graphic_shape = board_types_pb2.BoardGraphicShape(shape=shape)\n",
    "\n",
    "    segment = kbt.BoardSegment(proto=board_graphic_shape)\n",
    "    segment.layer = BL.BL_Eco2_User\n",
    "    segment.attributes.stroke.width = 100000\n",
    "    new_lines.append(segment)\n"
   ]
  },
  {
   "cell_type": "code",
   "execution_count": 330,
   "metadata": {},
   "outputs": [],
   "source": [
    "shapes = board.get_shapes()\n",
    "eco2_shapes = [shape for shape in shapes if shape.layer == BL.BL_Eco2_User]\n"
   ]
  },
  {
   "cell_type": "code",
   "execution_count": 331,
   "metadata": {},
   "outputs": [],
   "source": [
    "commit = board.begin_commit()\n",
    "board.remove_items(eco2_shapes)\n",
    "board.create_items(new_lines)\n",
    "board.push_commit(commit)\n"
   ]
  }
 ],
 "metadata": {
  "kernelspec": {
   "display_name": ".venv",
   "language": "python",
   "name": "python3"
  },
  "language_info": {
   "codemirror_mode": {
    "name": "ipython",
    "version": 3
   },
   "file_extension": ".py",
   "mimetype": "text/x-python",
   "name": "python",
   "nbconvert_exporter": "python",
   "pygments_lexer": "ipython3",
   "version": "3.13.0"
  }
 },
 "nbformat": 4,
 "nbformat_minor": 2
}

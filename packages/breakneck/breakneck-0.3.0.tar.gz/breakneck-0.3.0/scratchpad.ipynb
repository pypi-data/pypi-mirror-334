{
 "cells": [
  {
   "cell_type": "code",
   "execution_count": 1,
   "metadata": {},
   "outputs": [],
   "source": [
    "%load_ext autoreload\n",
    "%autoreload 2\n"
   ]
  },
  {
   "cell_type": "code",
   "execution_count": 2,
   "metadata": {},
   "outputs": [],
   "source": [
    "import matplotlib.pyplot as plt\n",
    "import numpy as np\n",
    "\n",
    "import kipy\n",
    "from kipy.board import BoardLayer as BL\n",
    "import kipy.common_types as kct\n",
    "import kipy.board_types as kbt\n",
    "import shapely\n",
    "import shapely.geometry as sg\n",
    "import shapely.plotting as sp\n",
    "\n",
    "import breakneck.conversions\n",
    "import breakneck.footprint\n",
    "import breakneck.track\n"
   ]
  },
  {
   "cell_type": "code",
   "execution_count": 3,
   "metadata": {},
   "outputs": [],
   "source": [
    "kicad = kipy.KiCad()\n"
   ]
  },
  {
   "cell_type": "code",
   "execution_count": 4,
   "metadata": {},
   "outputs": [],
   "source": [
    "board = kicad.get_board()\n"
   ]
  },
  {
   "cell_type": "code",
   "execution_count": 5,
   "metadata": {},
   "outputs": [
    {
     "data": {
      "text/plain": [
       "3"
      ]
     },
     "execution_count": 5,
     "metadata": {},
     "output_type": "execute_result"
    }
   ],
   "source": [
    "board.get_active_layer()\n"
   ]
  },
  {
   "cell_type": "code",
   "execution_count": 6,
   "metadata": {},
   "outputs": [],
   "source": [
    "footprints = board.get_footprints()\n",
    "all_tracks = board.get_tracks()\n"
   ]
  },
  {
   "cell_type": "code",
   "execution_count": 7,
   "metadata": {},
   "outputs": [
    {
     "data": {
      "text/plain": [
       "[BoardCircle(center=Vector2(80675000, 57600000), radius_point=Vector2(80725000, 57600000), layer=BL_Eco1_User),\n",
       " BoardCircle(center=Vector2(80675000, 57600000), radius_point=Vector2(81375000, 57600000), layer=BL_Eco1_User),\n",
       " BoardCircle(center=Vector2(80675000, 57600000), radius_point=Vector2(81625000, 57600000), layer=BL_F_Fab)]"
      ]
     },
     "execution_count": 7,
     "metadata": {},
     "output_type": "execute_result"
    }
   ],
   "source": [
    "footprints[0].definition.shapes\n"
   ]
  },
  {
   "cell_type": "code",
   "execution_count": 9,
   "metadata": {},
   "outputs": [
    {
     "data": {
      "text/plain": [
       "Track(start=Vector2(199909024, 74641845), end=Vector2(201607494, 74641845), layer=BL_B_Cu, net=/USB3/USB3 Hub/USB3 Interface1/VBUS)"
      ]
     },
     "execution_count": 9,
     "metadata": {},
     "output_type": "execute_result"
    }
   ],
   "source": [
    "track0 = all_tracks[0]\n",
    "track0\n"
   ]
  },
  {
   "cell_type": "code",
   "execution_count": 10,
   "metadata": {},
   "outputs": [
    {
     "data": {
      "text/plain": [
       "value: \"1c0993e1-da38-4590-bcc3-f6e2ea76d381\""
      ]
     },
     "execution_count": 10,
     "metadata": {},
     "output_type": "execute_result"
    }
   ],
   "source": [
    "track0.id\n"
   ]
  },
  {
   "cell_type": "code",
   "execution_count": 11,
   "metadata": {},
   "outputs": [
    {
     "data": {
      "text/plain": [
       "[ArcTrack(start=Vector2(86170960, 38741648), mid=Vector2(86100665, 38911354), end=Vector2(86170960, 39081060), layer=BL_B_Cu, net=/ETH.TD2-),\n",
       " ArcTrack(start=Vector2(86201329, 38371869), mid=Vector2(86271623, 38541575), end=Vector2(86201329, 38711280), layer=BL_B_Cu, net=/ETH.TD2-),\n",
       " ArcTrack(start=Vector2(86625592, 39135543), mid=Vector2(86795298, 39065248), end=Vector2(86965004, 39135543), layer=BL_B_Cu, net=/ETH.TD2-),\n",
       " ArcTrack(start=Vector2(86255812, 39165912), mid=Vector2(86425518, 39236207), end=Vector2(86595224, 39165912), layer=BL_B_Cu, net=/ETH.TD2-),\n",
       " ArcTrack(start=Vector2(182413937, 90853878), mid=Vector2(182547580, 90909235), end=Vector2(182681223, 90853878), layer=BL_B_Cu, net=/USB3/USB3 Hub/U32.TX+),\n",
       " ArcTrack(start=Vector2(182347116, 90519771), mid=Vector2(182291759, 90653414), end=Vector2(182347116, 90787057), layer=BL_B_Cu, net=/USB3/USB3 Hub/U32.TX+),\n",
       " ArcTrack(start=Vector2(182947511, 90587589), mid=Vector2(183081154, 90532232), end=Vector2(183214797, 90587589), layer=BL_B_Cu, net=/USB3/USB3 Hub/U32.TX+),\n",
       " ArcTrack(start=Vector2(182613405, 89986197), mid=Vector2(182668762, 90119840), end=Vector2(182613405, 90253483), layer=BL_B_Cu, net=/USB3/USB3 Hub/U32.TX+),\n",
       " ArcTrack(start=Vector2(173593058, 108568522), mid=Vector2(173630698, 108477650), end=Vector2(173593058, 108386778), layer=BL_B_Cu, net=/USB3/USB3 Hub/U33.D+),\n",
       " ArcTrack(start=Vector2(173168793, 108144257), mid=Vector2(173077921, 108181897), end=Vector2(172987049, 108144257), layer=BL_B_Cu, net=/USB3/USB3 Hub/U33.D+),\n",
       " ArcTrack(start=Vector2(173593058, 108750266), mid=Vector2(173555418, 108659394), end=Vector2(173593058, 108568522), layer=BL_B_Cu, net=/USB3/USB3 Hub/U33.D+),\n",
       " ArcTrack(start=Vector2(173350537, 108144257), mid=Vector2(173259665, 108106617), end=Vector2(173168793, 108144257), layer=BL_B_Cu, net=/USB3/USB3 Hub/U33.D+),\n",
       " ArcTrack(start=Vector2(199114604, 81975154), mid=Vector2(199059247, 82108797), end=Vector2(199114604, 82242440), layer=BL_F_Cu, net=/USB3/USB3 Hub/U31.RX-),\n",
       " ArcTrack(start=Vector2(199505577, 82252394), mid=Vector2(199639220, 82197037), end=Vector2(199772863, 82252394), layer=BL_F_Cu, net=/USB3/USB3 Hub/U31.RX-),\n",
       " ArcTrack(start=Vector2(199181425, 82309261), mid=Vector2(199315068, 82364618), end=Vector2(199448711, 82309261), layer=BL_F_Cu, net=/USB3/USB3 Hub/U31.RX-),\n",
       " ArcTrack(start=Vector2(199171471, 81651002), mid=Vector2(199226828, 81784645), end=Vector2(199171471, 81918288), layer=BL_F_Cu, net=/USB3/USB3 Hub/U31.RX-),\n",
       " ArcTrack(start=Vector2(170861736, 98264435), mid=Vector2(170899741, 98356187), end=Vector2(170991493, 98394192), layer=BL_F_Cu, net=/USB3/USB3 Hub/U33.TX+),\n",
       " ArcTrack(start=Vector2(170991493, 97921692), mid=Vector2(170899741, 97959697), end=Vector2(170861736, 98051449), layer=BL_F_Cu, net=/USB3/USB3 Hub/U33.TX+),\n",
       " ArcTrack(start=Vector2(171121250, 97791935), mid=Vector2(171083245, 97883687), end=Vector2(170991493, 97921692), layer=BL_F_Cu, net=/USB3/USB3 Hub/U33.TX+),\n",
       " ArcTrack(start=Vector2(170991493, 98394192), mid=Vector2(171083245, 98432197), end=Vector2(171121250, 98523949), layer=BL_F_Cu, net=/USB3/USB3 Hub/U33.TX+),\n",
       " ArcTrack(start=Vector2(186301507, 89874299), mid=Vector2(186356864, 90007942), end=Vector2(186301507, 90141585), layer=BL_F_Cu, net=/USB3/USB3 Hub/U32.RX-),\n",
       " ArcTrack(start=Vector2(186635613, 90475692), mid=Vector2(186769256, 90420335), end=Vector2(186902900, 90475692), layer=BL_F_Cu, net=/USB3/USB3 Hub/U32.RX-),\n",
       " ArcTrack(start=Vector2(186198323, 90244768), mid=Vector2(186142966, 90378411), end=Vector2(186198323, 90512055), layer=BL_F_Cu, net=/USB3/USB3 Hub/U32.RX-),\n",
       " ArcTrack(start=Vector2(186265144, 90578876), mid=Vector2(186398787, 90634233), end=Vector2(186532430, 90578876), layer=BL_F_Cu, net=/USB3/USB3 Hub/U32.RX-),\n",
       " ArcTrack(start=Vector2(173038309, 106148637), mid=Vector2(172946590, 106110645), end=Vector2(172854870, 106148637), layer=BL_B_Cu, net=/USB3/USB3 Hub/U33.RX-),\n",
       " ArcTrack(start=Vector2(172854870, 106148637), mid=Vector2(172763150, 106186629), end=Vector2(172671430, 106148637), layer=BL_B_Cu, net=/USB3/USB3 Hub/U33.RX-),\n",
       " ArcTrack(start=Vector2(173188978, 106482746), mid=Vector2(173226970, 106391026), end=Vector2(173188978, 106299306), layer=BL_B_Cu, net=/USB3/USB3 Hub/U33.RX-),\n",
       " ArcTrack(start=Vector2(173188978, 106666186), mid=Vector2(173150986, 106574466), end=Vector2(173188978, 106482746), layer=BL_B_Cu, net=/USB3/USB3 Hub/U33.RX-),\n",
       " ArcTrack(start=Vector2(195181633, 87958465), mid=Vector2(195219626, 88050187), end=Vector2(195311348, 88088180), layer=BL_B_Cu, net=/USB3/USB3 Hub/U31.D-),\n",
       " ArcTrack(start=Vector2(195654133, 87958465), mid=Vector2(195692126, 87866743), end=Vector2(195783848, 87828750), layer=BL_B_Cu, net=/USB3/USB3 Hub/U31.D-),\n",
       " ArcTrack(start=Vector2(195524418, 88088180), mid=Vector2(195616140, 88050187), end=Vector2(195654133, 87958465), layer=BL_B_Cu, net=/USB3/USB3 Hub/U31.D-),\n",
       " ArcTrack(start=Vector2(195051918, 87828750), mid=Vector2(195143640, 87866743), end=Vector2(195181633, 87958465), layer=BL_B_Cu, net=/USB3/USB3 Hub/U31.D-),\n",
       " ArcTrack(start=Vector2(202029141, 83614584), mid=Vector2(202162784, 83669941), end=Vector2(202296427, 83614584), layer=BL_F_Cu, net=/USB3/USB3 Hub/U31.D+),\n",
       " ArcTrack(start=Vector2(201154884, 82083266), mid=Vector2(201288527, 82027909), end=Vector2(201422170, 82083266), layer=BL_F_Cu, net=/USB3/USB3 Hub/U31.D+),\n",
       " ArcTrack(start=Vector2(201962320, 83280477), mid=Vector2(201906963, 83414120), end=Vector2(201962320, 83547763), layer=BL_F_Cu, net=/USB3/USB3 Hub/U31.D+),\n",
       " ArcTrack(start=Vector2(200879151, 82091714), mid=Vector2(201012794, 82147071), end=Vector2(201146437, 82091714), layer=BL_F_Cu, net=/USB3/USB3 Hub/U31.D+),\n",
       " ArcTrack(start=Vector2(201823100, 82625617), mid=Vector2(201893810, 82596328), end=Vector2(201964521, 82625617), layer=BL_F_Cu, net=/USB3/USB3 Hub/U31.D+),\n",
       " ArcTrack(start=Vector2(202491314, 83419696), mid=Vector2(202624957, 83364339), end=Vector2(202758600, 83419696), layer=BL_F_Cu, net=/USB3/USB3 Hub/U31.D+),\n",
       " ArcTrack(start=Vector2(201681679, 82625617), mid=Vector2(201752390, 82654906), end=Vector2(201823100, 82625617), layer=BL_F_Cu, net=/USB3/USB3 Hub/U31.D+),\n",
       " ArcTrack(start=Vector2(200812330, 81757607), mid=Vector2(200756973, 81891250), end=Vector2(200812330, 82024893), layer=BL_F_Cu, net=/USB3/USB3 Hub/U31.D+),\n",
       " ArcTrack(start=Vector2(201488993, 82150089), mid=Vector2(201518282, 82220800), end=Vector2(201488993, 82291510), layer=BL_F_Cu, net=/USB3/USB3 Hub/U31.D+),\n",
       " ArcTrack(start=Vector2(200820778, 81481874), mid=Vector2(200876135, 81615517), end=Vector2(200820778, 81749160), layer=BL_F_Cu, net=/USB3/USB3 Hub/U31.D+),\n",
       " ArcTrack(start=Vector2(202157208, 82818304), mid=Vector2(202212565, 82951947), end=Vector2(202157208, 83085590), layer=BL_F_Cu, net=/USB3/USB3 Hub/U31.D+),\n",
       " ArcTrack(start=Vector2(201488993, 82291510), mid=Vector2(201459704, 82362220), end=Vector2(201488993, 82432931), layer=BL_F_Cu, net=/USB3/USB3 Hub/U31.D+),\n",
       " ArcTrack(start=Vector2(197474282, 85861954), mid=Vector2(197566004, 85899946), end=Vector2(197657726, 85861954), layer=BL_B_Cu, net=/USB3/USB3 Hub/U31.TX+),\n",
       " ArcTrack(start=Vector2(197808389, 85711290), mid=Vector2(197846381, 85619568), end=Vector2(197808389, 85527846), layer=BL_B_Cu, net=/USB3/USB3 Hub/U31.TX+),\n",
       " ArcTrack(start=Vector2(197290838, 85861954), mid=Vector2(197382560, 85823962), end=Vector2(197474282, 85861954), layer=BL_B_Cu, net=/USB3/USB3 Hub/U31.TX+),\n",
       " ArcTrack(start=Vector2(197808389, 85527846), mid=Vector2(197770396, 85436124), end=Vector2(197808389, 85344401), layer=BL_B_Cu, net=/USB3/USB3 Hub/U31.TX+),\n",
       " ArcTrack(start=Vector2(190340931, 93672786), mid=Vector2(190432616, 93634809), end=Vector2(190470593, 93543124), layer=BL_F_Cu, net=/USB3/USB3 Hub/U32.D+),\n",
       " ArcTrack(start=Vector2(190211269, 93802448), mid=Vector2(190249246, 93710763), end=Vector2(190340931, 93672786), layer=BL_F_Cu, net=/USB3/USB3 Hub/U32.D+),\n",
       " ArcTrack(start=Vector2(190470593, 94274948), mid=Vector2(190432616, 94183263), end=Vector2(190340931, 94145286), layer=BL_F_Cu, net=/USB3/USB3 Hub/U32.D+),\n",
       " ArcTrack(start=Vector2(190340931, 94145286), mid=Vector2(190249246, 94107309), end=Vector2(190211269, 94015624), layer=BL_F_Cu, net=/USB3/USB3 Hub/U32.D+),\n",
       " ArcTrack(start=Vector2(203990690, 79073793), mid=Vector2(204160397, 79003497), end=Vector2(204330102, 79073792), layer=BL_B_Cu, net=/USB3/USB3 Hub/USB3 Interface1/SSTX-),\n",
       " ArcTrack(start=Vector2(203921545, 79853178), mid=Vector2(203991840, 79683472), end=Vector2(203921546, 79513766), layer=BL_B_Cu, net=/USB3/USB3 Hub/USB3 Interface1/SSTX-),\n",
       " ArcTrack(start=Vector2(203905837, 79498057), mid=Vector2(203835541, 79328352), end=Vector2(203905837, 79158645), layer=BL_B_Cu, net=/USB3/USB3 Hub/USB3 Interface1/SSTX-),\n",
       " ArcTrack(start=Vector2(204345812, 79089502), mid=Vector2(204515517, 79159798), end=Vector2(204685224, 79089502), layer=BL_B_Cu, net=/USB3/USB3 Hub/USB3 Interface1/SSTX-),\n",
       " ArcTrack(start=Vector2(197630861, 107036347), mid=Vector2(197686218, 106902704), end=Vector2(197630861, 106769061), layer=BL_B_Cu, net=/USB3/USB3 Hub/USB3 Interface2/SSTX-),\n",
       " ArcTrack(start=Vector2(197259888, 106398088), mid=Vector2(197204532, 106264444), end=Vector2(197259889, 106130800), layer=BL_B_Cu, net=/USB3/USB3 Hub/USB3 Interface2/SSTX-),\n",
       " ArcTrack(start=Vector2(197964971, 106434953), mid=Vector2(198098614, 106490310), end=Vector2(198232259, 106434952), layer=BL_B_Cu, net=/USB3/USB3 Hub/USB3 Interface2/SSTX-),\n",
       " ArcTrack(start=Vector2(197326711, 106063979), mid=Vector2(197460354, 106008622), end=Vector2(197593997, 106063979), layer=BL_B_Cu, net=/USB3/USB3 Hub/USB3 Interface2/SSTX-),\n",
       " ArcTrack(start=Vector2(65582032, 33694532), mid=Vector2(65463273, 33407823), end=Vector2(65176564, 33289064), layer=BL_B_Cu, net=/Ethernet/MX1+),\n",
       " ArcTrack(start=Vector2(64831000, 33289064), mid=Vector2(64544291, 33407823), end=Vector2(64425532, 33694532), layer=BL_B_Cu, net=/Ethernet/MX1+),\n",
       " ArcTrack(start=Vector2(67895075, 33694575), mid=Vector2(67776329, 33407896), end=Vector2(67489650, 33289150), layer=BL_B_Cu, net=/Ethernet/MX1+),\n",
       " ArcTrack(start=Vector2(66738575, 33694575), mid=Vector2(66619829, 33981254), end=Vector2(66333150, 34100000), layer=BL_B_Cu, net=/Ethernet/MX1+),\n",
       " ArcTrack(start=Vector2(67144000, 33289150), mid=Vector2(66857321, 33407896), end=Vector2(66738575, 33694575), layer=BL_B_Cu, net=/Ethernet/MX1+),\n",
       " ArcTrack(start=Vector2(68300500, 34100000), mid=Vector2(68013821, 33981254), end=Vector2(67895075, 33694575), layer=BL_B_Cu, net=/Ethernet/MX1+),\n",
       " ArcTrack(start=Vector2(65987500, 34100000), mid=Vector2(65700791, 33981241), end=Vector2(65582032, 33694532), layer=BL_B_Cu, net=/Ethernet/MX1+),\n",
       " ArcTrack(start=Vector2(64425532, 33694532), mid=Vector2(64306773, 33981241), end=Vector2(64020064, 34100000), layer=BL_B_Cu, net=/Ethernet/MX1+),\n",
       " ArcTrack(start=Vector2(65592190, 36928712), mid=Vector2(65274686, 37060227), end=Vector2(65143171, 37377731), layer=BL_B_Cu, net=/Ethernet/MX2+),\n",
       " ArcTrack(start=Vector2(62830171, 37377731), mid=Vector2(62698656, 37695235), end=Vector2(62381152, 37826750), layer=BL_B_Cu, net=/Ethernet/MX2+),\n",
       " ArcTrack(start=Vector2(63279190, 36928712), mid=Vector2(62961686, 37060227), end=Vector2(62830171, 37377731), layer=BL_B_Cu, net=/Ethernet/MX2+),\n",
       " ArcTrack(start=Vector2(68612671, 37377731), mid=Vector2(68481156, 37060227), end=Vector2(68163652, 36928712), layer=BL_B_Cu, net=/Ethernet/MX2+),\n",
       " ArcTrack(start=Vector2(60517167, 37377727), mid=Vector2(60385651, 37695234), end=Vector2(60068144, 37826750), layer=BL_B_Cu, net=/Ethernet/MX2+),\n",
       " ArcTrack(start=Vector2(69061690, 37826750), mid=Vector2(68744186, 37695235), end=Vector2(68612671, 37377731), layer=BL_B_Cu, net=/Ethernet/MX2+),\n",
       " ArcTrack(start=Vector2(62122690, 37826750), mid=Vector2(61805183, 37695234), end=Vector2(61673667, 37377727), layer=BL_B_Cu, net=/Ethernet/MX2+),\n",
       " ArcTrack(start=Vector2(66299671, 37377731), mid=Vector2(66168156, 37060227), end=Vector2(65850652, 36928712), layer=BL_B_Cu, net=/Ethernet/MX2+),\n",
       " ArcTrack(start=Vector2(63986671, 37377731), mid=Vector2(63855156, 37060227), end=Vector2(63537652, 36928712), layer=BL_B_Cu, net=/Ethernet/MX2+),\n",
       " ArcTrack(start=Vector2(60966190, 36928704), mid=Vector2(60648683, 37060220), end=Vector2(60517167, 37377727), layer=BL_B_Cu, net=/Ethernet/MX2+),\n",
       " ArcTrack(start=Vector2(61673667, 37377727), mid=Vector2(61542151, 37060220), end=Vector2(61224644, 36928704), layer=BL_B_Cu, net=/Ethernet/MX2+),\n",
       " ArcTrack(start=Vector2(65143171, 37377731), mid=Vector2(65011656, 37695235), end=Vector2(64694152, 37826750), layer=BL_B_Cu, net=/Ethernet/MX2+),\n",
       " ArcTrack(start=Vector2(64435690, 37826750), mid=Vector2(64118186, 37695235), end=Vector2(63986671, 37377731), layer=BL_B_Cu, net=/Ethernet/MX2+),\n",
       " ArcTrack(start=Vector2(66748690, 37826750), mid=Vector2(66431186, 37695235), end=Vector2(66299671, 37377731), layer=BL_B_Cu, net=/Ethernet/MX2+),\n",
       " ArcTrack(start=Vector2(67456171, 37377731), mid=Vector2(67324656, 37695235), end=Vector2(67007152, 37826750), layer=BL_B_Cu, net=/Ethernet/MX2+),\n",
       " ArcTrack(start=Vector2(67905190, 36928712), mid=Vector2(67587686, 37060227), end=Vector2(67456171, 37377731), layer=BL_B_Cu, net=/Ethernet/MX2+),\n",
       " ArcTrack(start=Vector2(67569371, 39806482), mid=Vector2(67324175, 39908045), end=Vector2(67222612, 40153241), layer=BL_B_Cu, net=/Ethernet/MX3+),\n",
       " ArcTrack(start=Vector2(66066061, 40153190), mid=Vector2(65964483, 39907958), end=Vector2(65719251, 39806380), layer=BL_B_Cu, net=/Ethernet/MX3+),\n",
       " ArcTrack(start=Vector2(66412871, 40500000), mid=Vector2(66167639, 40398422), end=Vector2(66066061, 40153190), layer=BL_B_Cu, net=/Ethernet/MX3+),\n",
       " ArcTrack(start=Vector2(68379112, 40153241), mid=Vector2(68277549, 39908045), end=Vector2(68032353, 39806482), layer=BL_B_Cu, net=/Ethernet/MX3+),\n",
       " ArcTrack(start=Vector2(67222612, 40153241), mid=Vector2(67121049, 40398437), end=Vector2(66875853, 40500000), layer=BL_B_Cu, net=/Ethernet/MX3+),\n",
       " ArcTrack(start=Vector2(65256371, 39806380), mid=Vector2(65011139, 39907958), end=Vector2(64909561, 40153190), layer=BL_B_Cu, net=/Ethernet/MX3+),\n",
       " ArcTrack(start=Vector2(64909561, 40153190), mid=Vector2(64807983, 40398422), end=Vector2(64562751, 40500000), layer=BL_B_Cu, net=/Ethernet/MX3+),\n",
       " ArcTrack(start=Vector2(68725871, 40500000), mid=Vector2(68480675, 40398437), end=Vector2(68379112, 40153241), layer=BL_B_Cu, net=/Ethernet/MX3+),\n",
       " ArcTrack(start=Vector2(67568098, 42521100), mid=Vector2(67668516, 42278668), end=Vector2(67910948, 42178250), layer=BL_B_Cu, net=/Ethernet/MX4-),\n",
       " ArcTrack(start=Vector2(64098598, 42521100), mid=Vector2(64199016, 42763532), end=Vector2(64441448, 42863950), layer=BL_B_Cu, net=/Ethernet/MX4-),\n",
       " ArcTrack(start=Vector2(64912248, 42863950), mid=Vector2(65154680, 42763532), end=Vector2(65255098, 42521100), layer=BL_B_Cu, net=/Ethernet/MX4-),\n",
       " ArcTrack(start=Vector2(65255098, 42521100), mid=Vector2(65355516, 42278668), end=Vector2(65597948, 42178250), layer=BL_B_Cu, net=/Ethernet/MX4-),\n",
       " ArcTrack(start=Vector2(66411598, 42521100), mid=Vector2(66512016, 42763532), end=Vector2(66754448, 42863950), layer=BL_B_Cu, net=/Ethernet/MX4-),\n",
       " ArcTrack(start=Vector2(63755748, 42178250), mid=Vector2(63998180, 42278668), end=Vector2(64098598, 42521100), layer=BL_B_Cu, net=/Ethernet/MX4-),\n",
       " ArcTrack(start=Vector2(67225248, 42863950), mid=Vector2(67467680, 42763532), end=Vector2(67568098, 42521100), layer=BL_B_Cu, net=/Ethernet/MX4-),\n",
       " ArcTrack(start=Vector2(66068748, 42178250), mid=Vector2(66311180, 42278668), end=Vector2(66411598, 42521100), layer=BL_B_Cu, net=/Ethernet/MX4-)]"
      ]
     },
     "execution_count": 11,
     "metadata": {},
     "output_type": "execute_result"
    }
   ],
   "source": [
    "arc_tracks = [t for t in all_tracks if isinstance(t, kbt.ArcTrack)]\n",
    "arc_tracks\n"
   ]
  },
  {
   "cell_type": "code",
   "execution_count": 12,
   "metadata": {},
   "outputs": [
    {
     "data": {
      "text/plain": [
       "(ArcTrack(start=Vector2(86170960, 38741648), mid=Vector2(86100665, 38911354), end=Vector2(86170960, 39081060), layer=BL_B_Cu, net=/ETH.TD2-),\n",
       " ArcTrack(start=Vector2(86201329, 38371869), mid=Vector2(86271623, 38541575), end=Vector2(86201329, 38711280), layer=BL_B_Cu, net=/ETH.TD2-))"
      ]
     },
     "execution_count": 12,
     "metadata": {},
     "output_type": "execute_result"
    }
   ],
   "source": [
    "at0 = arc_tracks[0]\n",
    "at1 = arc_tracks[1]\n",
    "at0, at1\n"
   ]
  },
  {
   "cell_type": "code",
   "execution_count": 13,
   "metadata": {},
   "outputs": [
    {
     "data": {
      "image/svg+xml": [
       "<svg xmlns=\"http://www.w3.org/2000/svg\" xmlns:xlink=\"http://www.w3.org/1999/xlink\" width=\"300\" height=\"300\" viewBox=\"86187751.6 -38724855.4 97446.80000001192 366562.799999997\" preserveAspectRatio=\"xMinYMin meet\"><g transform=\"matrix(1,0,0,-1,0,-77083148.0)\"><polyline fill=\"none\" stroke=\"#66cc99\" stroke-width=\"2443.75199999998\" points=\"86201328.0,-38371869.0 86204264.0,-38374856.0 86207148.0,-38377895.0 86209978.0,-38380983.0 86212753.0,-38384120.0 86215473.0,-38387305.0 86218138.0,-38390537.0 86220745.0,-38393815.0 86223295.0,-38397139.0 86225787.0,-38400506.0 86228219.0,-38403916.0 86230592.0,-38407368.0 86232904.0,-38410861.0 86235154.0,-38414393.0 86237343.0,-38417965.0 86239469.0,-38421574.0 86241531.0,-38425220.0 86243530.0,-38428901.0 86245464.0,-38432616.0 86247333.0,-38436365.0 86249137.0,-38440146.0 86250874.0,-38443957.0 86252544.0,-38447799.0 86254147.0,-38451668.0 86255682.0,-38455566.0 86257149.0,-38459489.0 86258547.0,-38463438.0 86259876.0,-38467410.0 86261136.0,-38471405.0 86262325.0,-38475421.0 86263445.0,-38479457.0 86264494.0,-38483513.0 86265471.0,-38487586.0 86266378.0,-38491675.0 86267213.0,-38495780.0 86267976.0,-38499898.0 86268668.0,-38504030.0 86269287.0,-38508172.0 86269834.0,-38512325.0 86270308.0,-38516487.0 86270709.0,-38520657.0 86271038.0,-38524832.0 86271294.0,-38529013.0 86271476.0,-38533198.0 86271586.0,-38537385.0 86271622.0,-38541574.0 86271586.0,-38545762.0 86271476.0,-38549950.0 86271294.0,-38554134.0 86271038.0,-38558315.0 86270709.0,-38562491.0 86270308.0,-38566661.0 86269834.0,-38570822.0 86269287.0,-38574975.0 86268668.0,-38579118.0 86267976.0,-38583249.0 86267213.0,-38587368.0 86266378.0,-38591473.0 86265471.0,-38595562.0 86264493.0,-38599635.0 86263445.0,-38603690.0 86262325.0,-38607727.0 86261136.0,-38611743.0 86259876.0,-38615738.0 86258547.0,-38619710.0 86257149.0,-38623658.0 86255682.0,-38627582.0 86254147.0,-38631479.0 86252544.0,-38635349.0 86250873.0,-38639190.0 86249136.0,-38643002.0 86247333.0,-38646783.0 86245464.0,-38650531.0 86243530.0,-38654247.0 86241531.0,-38657928.0 86239468.0,-38661574.0 86237342.0,-38665183.0 86235154.0,-38668754.0 86232903.0,-38672287.0 86230591.0,-38675780.0 86228219.0,-38679232.0 86225786.0,-38682642.0 86223295.0,-38686009.0 86220745.0,-38689332.0 86218137.0,-38692610.0 86215473.0,-38695842.0 86212753.0,-38699028.0 86209977.0,-38702165.0 86207147.0,-38705253.0 86204264.0,-38708291.0 86201328.0,-38711279.0\" opacity=\"0.8\" /></g></svg>"
      ],
      "text/plain": [
       "<LINESTRING (86201328 -38371869, 86204264 -38374856, 86207148 -38377895, 862...>"
      ]
     },
     "execution_count": 13,
     "metadata": {},
     "output_type": "execute_result"
    }
   ],
   "source": [
    "breakneck.conversions.arc_as_linestring(at1)\n"
   ]
  },
  {
   "cell_type": "code",
   "execution_count": 14,
   "metadata": {},
   "outputs": [
    {
     "data": {
      "text/plain": [
       "FootprintInstance(id=value: \"011bedc4-2b75-4b45-ae0b-97fcaa1ccde1\"\n",
       ", pos=Vector2(104977500, 60550000), layer=BL_F_Cu)"
      ]
     },
     "execution_count": 14,
     "metadata": {},
     "output_type": "execute_result"
    }
   ],
   "source": [
    "fp0 = footprints[0]\n",
    "fp0\n"
   ]
  },
  {
   "cell_type": "code",
   "execution_count": 15,
   "metadata": {},
   "outputs": [
    {
     "ename": "AttributeError",
     "evalue": "module 'breakneck' has no attribute 'courtyard'",
     "output_type": "error",
     "traceback": [
      "\u001b[0;31m---------------------------------------------------------------------------\u001b[0m",
      "\u001b[0;31mAttributeError\u001b[0m                            Traceback (most recent call last)",
      "Cell \u001b[0;32mIn[15], line 1\u001b[0m\n\u001b[0;32m----> 1\u001b[0m f_shapes \u001b[38;5;241m=\u001b[39m \u001b[43mbreakneck\u001b[49m\u001b[38;5;241;43m.\u001b[39;49m\u001b[43mcourtyard\u001b[49m\u001b[38;5;241m.\u001b[39mget_courtyard_shapes(fp0, BL\u001b[38;5;241m.\u001b[39mBL_F_CrtYd)\n\u001b[1;32m      2\u001b[0m f_shapes\n",
      "\u001b[0;31mAttributeError\u001b[0m: module 'breakneck' has no attribute 'courtyard'"
     ]
    }
   ],
   "source": [
    "f_shapes = breakneck.courtyard.get_courtyard_shapes(fp0, BL.BL_F_CrtYd)\n",
    "f_shapes\n"
   ]
  },
  {
   "cell_type": "code",
   "execution_count": 444,
   "metadata": {},
   "outputs": [
    {
     "data": {
      "text/plain": [
       "[[BoardSegment(start=Vector2(103057500, 58850000), end=Vector2(103057500, 62250000), layer=BL_F_CrtYd),\n",
       "  BoardSegment(start=Vector2(103057500, 62250000), end=Vector2(106897500, 62250000), layer=BL_F_CrtYd),\n",
       "  BoardSegment(start=Vector2(106897500, 62250000), end=Vector2(106897500, 58850000), layer=BL_F_CrtYd),\n",
       "  BoardSegment(start=Vector2(106897500, 58850000), end=Vector2(103057500, 58850000), layer=BL_F_CrtYd)]]"
      ]
     },
     "execution_count": 444,
     "metadata": {},
     "output_type": "execute_result"
    }
   ],
   "source": [
    "chains = breakneck.conversions._chain_shapes(f_shapes, 1000)\n",
    "chains\n"
   ]
  },
  {
   "cell_type": "code",
   "execution_count": 445,
   "metadata": {},
   "outputs": [
    {
     "data": {
      "image/svg+xml": [
       "<svg xmlns=\"http://www.w3.org/2000/svg\" xmlns:xlink=\"http://www.w3.org/1999/xlink\" width=\"300\" height=\"300\" viewBox=\"102903900.0 -62403600.0 4147200.0 3707200.0\" preserveAspectRatio=\"xMinYMin meet\"><g transform=\"matrix(1,0,0,-1,0,-121100000.0)\"><path fill-rule=\"evenodd\" fill=\"#66cc99\" stroke=\"#555555\" stroke-width=\"27648.0\" opacity=\"0.6\" d=\"M 103057500.0,-58850000.0 L 103057500.0,-62250000.0 L 106897500.0,-62250000.0 L 106897500.0,-58850000.0 L 103057500.0,-58850000.0 z\" /></g></svg>"
      ],
      "text/plain": [
       "<POLYGON ((103057500 -58850000, 103057500 -62250000, 106897500 -62250000, 10...>"
      ]
     },
     "execution_count": 445,
     "metadata": {},
     "output_type": "execute_result"
    }
   ],
   "source": [
    "breakneck.conversions._chain_as_polygon(chains[0])\n"
   ]
  },
  {
   "cell_type": "code",
   "execution_count": 446,
   "metadata": {},
   "outputs": [],
   "source": [
    "all_courtyards = breakneck.courtyard.get_all_footprints(board)\n"
   ]
  },
  {
   "cell_type": "code",
   "execution_count": null,
   "metadata": {},
   "outputs": [
    {
     "data": {
      "text/plain": [
       "[130000,\n",
       " 140000,\n",
       " 150000,\n",
       " 160000,\n",
       " 200000,\n",
       " 300000,\n",
       " 400000,\n",
       " 600000,\n",
       " 1000000,\n",
       " 1500000,\n",
       " 2000000]"
      ]
     },
     "execution_count": 447,
     "metadata": {},
     "output_type": "execute_result"
    }
   ],
   "source": [
    "unique_widths = breakneck.track.get_unique_track_widths(board.get_tracks())\n",
    "unique_widths\n"
   ]
  },
  {
   "cell_type": "code",
   "execution_count": 448,
   "metadata": {},
   "outputs": [],
   "source": [
    "front_tracks = [t for t in all_tracks if t.layer == BL.BL_F_Cu]\n",
    "back_tracks = [t for t in all_tracks if t.layer == BL.BL_B_Cu]\n",
    "front_track_tree = breakneck.track.TrackTree(front_tracks)\n",
    "back_track_tree = breakneck.track.TrackTree(back_tracks)\n"
   ]
  },
  {
   "cell_type": "code",
   "execution_count": 449,
   "metadata": {},
   "outputs": [
    {
     "data": {
      "text/plain": [
       "FootprintCrossings(ref='R408', footprint=FootprintInstance(id=value: \"f8d939f3-7f48-42b0-8b78-550a1028a5b6\"\n",
       ", pos=Vector2(61300000, 92900000), layer=BL_F_Cu), front_courtyards=[<POLYGON ((60570000 -91420000, 62030000 -91420000, 62030000 -94380000, 60570...>], back_courtyards=[])"
      ]
     },
     "execution_count": 449,
     "metadata": {},
     "output_type": "execute_result"
    }
   ],
   "source": [
    "c = [cyd for cyd in all_courtyards if cyd.footprint.reference_field.text.value == \"R408\"][0]\n",
    "c\n"
   ]
  },
  {
   "cell_type": "code",
   "execution_count": 450,
   "metadata": {},
   "outputs": [
    {
     "data": {
      "text/plain": [
       "[(Track(start=Vector2(58599000, 97603052), end=Vector2(58599000, 96302200), layer=BL_F_Cu, net=/Power/Buck converter 10V/Buck 10V IC/ILIM),\n",
       "  <LINESTRING (58599000 -97603052, 58599000 -96302200)>),\n",
       " (Track(start=Vector2(58599000, 96302200), end=Vector2(57457500, 95160700), layer=BL_F_Cu, net=/Power/Buck converter 10V/Buck 10V IC/ILIM),\n",
       "  <LINESTRING (58599000 -96302200, 57457500 -95160700)>),\n",
       " (Track(start=Vector2(56500000, 93279136), end=Vector2(58814136, 90965000), layer=BL_F_Cu, net=/Iin),\n",
       "  <LINESTRING (56500000 -93279136, 58814136 -90965000)>),\n",
       " (Track(start=Vector2(62033500, 96439000), end=Vector2(62033500, 94458500), layer=BL_F_Cu, net=/Power/Buck converter 10V/FB),\n",
       "  <LINESTRING (62033500 -96439000, 62033500 -94458500)>),\n",
       " (Track(start=Vector2(62033500, 94458500), end=Vector2(61300000, 93725000), layer=BL_F_Cu, net=/Power/Buck converter 10V/FB),\n",
       "  <LINESTRING (62033500 -94458500, 61300000 -93725000)>),\n",
       " (Track(start=Vector2(61300000, 93725000), end=Vector2(59357500, 93725000), layer=BL_F_Cu, net=/Power/Buck converter 10V/FB),\n",
       "  <LINESTRING (61300000 -93725000, 59357500 -93725000)>),\n",
       " (Track(start=Vector2(58814136, 90965000), end=Vector2(66125000, 90965000), layer=BL_F_Cu, net=/Iin),\n",
       "  <LINESTRING (58814136 -90965000, 66125000 -90965000)>)]"
      ]
     },
     "execution_count": 450,
     "metadata": {},
     "output_type": "execute_result"
    }
   ],
   "source": [
    "hits = front_track_tree.bounding_box_hit(c.front_courtyards, 2000000)\n",
    "hits\n"
   ]
  },
  {
   "cell_type": "code",
   "execution_count": 451,
   "metadata": {},
   "outputs": [],
   "source": [
    "tracks, linestrings = zip(*hits)\n"
   ]
  },
  {
   "cell_type": "raw",
   "metadata": {
    "vscode": {
     "languageId": "raw"
    }
   },
   "source": [
    "linestrings\n"
   ]
  },
  {
   "cell_type": "code",
   "execution_count": 452,
   "metadata": {},
   "outputs": [
    {
     "data": {
      "text/plain": [
       "defaultdict(list,\n",
       "            {Track(start=Vector2(62033500, 96439000), end=Vector2(62033500, 94458500), layer=BL_F_Cu, net=/Power/Buck converter 10V/FB): [Coords(62033500, -94589969)],\n",
       "             Track(start=Vector2(61300000, 93725000), end=Vector2(59357500, 93725000), layer=BL_F_Cu, net=/Power/Buck converter 10V/FB): [Coords(60360000, -93725000)]})"
      ]
     },
     "execution_count": 452,
     "metadata": {},
     "output_type": "execute_result"
    }
   ],
   "source": [
    "crossings = c.find_crossings(tracks, linestrings, True)\n",
    "crossings\n"
   ]
  },
  {
   "cell_type": "code",
   "execution_count": 453,
   "metadata": {},
   "outputs": [],
   "source": [
    "t, pts = list(crossings.items())[0]\n"
   ]
  },
  {
   "cell_type": "code",
   "execution_count": 454,
   "metadata": {},
   "outputs": [
    {
     "data": {
      "text/plain": [
       "Track(start=Vector2(62033500, 96439000), end=Vector2(62033500, 94458500), layer=BL_F_Cu, net=/Power/Buck converter 10V/FB)"
      ]
     },
     "execution_count": 454,
     "metadata": {},
     "output_type": "execute_result"
    }
   ],
   "source": [
    "t\n"
   ]
  },
  {
   "cell_type": "code",
   "execution_count": 455,
   "metadata": {},
   "outputs": [
    {
     "data": {
      "text/plain": [
       "[Coords(62033500, -94589969)]"
      ]
     },
     "execution_count": 455,
     "metadata": {},
     "output_type": "execute_result"
    }
   ],
   "source": [
    "pts\n"
   ]
  },
  {
   "cell_type": "code",
   "execution_count": 456,
   "metadata": {},
   "outputs": [
    {
     "data": {
      "text/plain": [
       "[Track(start=Vector2(62033500, 96439000), end=Vector2(62033500, 94589969), layer=BL_F_Cu, net=/Power/Buck converter 10V/FB),\n",
       " Track(start=Vector2(62033500, 94589969), end=Vector2(62033500, 94458500), layer=BL_F_Cu, net=/Power/Buck converter 10V/FB)]"
      ]
     },
     "execution_count": 456,
     "metadata": {},
     "output_type": "execute_result"
    }
   ],
   "source": [
    "new_tracks = breakneck.track.break_track(t, pts)\n",
    "new_tracks\n"
   ]
  },
  {
   "cell_type": "code",
   "execution_count": 457,
   "metadata": {},
   "outputs": [
    {
     "ename": "AttributeError",
     "evalue": "'Track' object has no attribute 'center'",
     "output_type": "error",
     "traceback": [
      "\u001b[0;31m---------------------------------------------------------------------------\u001b[0m",
      "\u001b[0;31mAttributeError\u001b[0m                            Traceback (most recent call last)",
      "Cell \u001b[0;32mIn[457], line 1\u001b[0m\n\u001b[0;32m----> 1\u001b[0m centers \u001b[38;5;241m=\u001b[39m [kifnd\u001b[38;5;241m.\u001b[39mconversions\u001b[38;5;241m.\u001b[39mvector2_as_coords(\u001b[43mt\u001b[49m\u001b[38;5;241;43m.\u001b[39;49m\u001b[43mcenter\u001b[49m()) \u001b[38;5;28;01mfor\u001b[39;00m t \u001b[38;5;129;01min\u001b[39;00m new_tracks]\n\u001b[1;32m      2\u001b[0m centers\n",
      "\u001b[0;31mAttributeError\u001b[0m: 'Track' object has no attribute 'center'"
     ]
    }
   ],
   "source": [
    "centers = [breakneck.conversions.vector2_as_coords(t.center()) for t in new_tracks]\n",
    "centers\n"
   ]
  },
  {
   "cell_type": "code",
   "execution_count": 375,
   "metadata": {},
   "outputs": [
    {
     "ename": "AttributeError",
     "evalue": "'Track' object has no attribute 'mid'",
     "output_type": "error",
     "traceback": [
      "\u001b[0;31m---------------------------------------------------------------------------\u001b[0m",
      "\u001b[0;31mAttributeError\u001b[0m                            Traceback (most recent call last)",
      "Cell \u001b[0;32mIn[375], line 2\u001b[0m\n\u001b[1;32m      1\u001b[0m \u001b[38;5;66;03m# plot track t\u001b[39;00m\n\u001b[0;32m----> 2\u001b[0m arc_linestring \u001b[38;5;241m=\u001b[39m \u001b[43mkifnd\u001b[49m\u001b[38;5;241;43m.\u001b[39;49m\u001b[43mconversions\u001b[49m\u001b[38;5;241;43m.\u001b[39;49m\u001b[43marc_as_linestring\u001b[49m\u001b[43m(\u001b[49m\u001b[43mt\u001b[49m\u001b[43m)\u001b[49m\n\u001b[1;32m      3\u001b[0m plt\u001b[38;5;241m.\u001b[39mplot(\u001b[38;5;241m*\u001b[39marc_linestring\u001b[38;5;241m.\u001b[39mxy, color\u001b[38;5;241m=\u001b[39m\u001b[38;5;124m\"\u001b[39m\u001b[38;5;124mblue\u001b[39m\u001b[38;5;124m\"\u001b[39m)\n\u001b[1;32m      5\u001b[0m \u001b[38;5;66;03m# plot courtyard c\u001b[39;00m\n\u001b[1;32m      6\u001b[0m \u001b[38;5;66;03m#plt.plot(*c.front_courtyards[0].exterior.xy, color=\"red\")\u001b[39;00m\n\u001b[1;32m      7\u001b[0m \n\u001b[1;32m      8\u001b[0m \u001b[38;5;66;03m# plot crossing points\u001b[39;00m\n",
      "File \u001b[0;32m~/src/hatlabs/forced-neckdown/kifnd/conversions.py:101\u001b[0m, in \u001b[0;36marc_as_linestring\u001b[0;34m(arc)\u001b[0m\n\u001b[1;32m     96\u001b[0m \u001b[38;5;28;01mdef\u001b[39;00m\u001b[38;5;250m \u001b[39m\u001b[38;5;21marc_as_linestring\u001b[39m(\n\u001b[1;32m     97\u001b[0m     arc: kipy\u001b[38;5;241m.\u001b[39mcommon_types\u001b[38;5;241m.\u001b[39mArc \u001b[38;5;241m|\u001b[39m kbt\u001b[38;5;241m.\u001b[39mArcTrack,\n\u001b[1;32m     98\u001b[0m ) \u001b[38;5;241m-\u001b[39m\u001b[38;5;241m>\u001b[39m sg\u001b[38;5;241m.\u001b[39mLineString:\n\u001b[1;32m     99\u001b[0m     \u001b[38;5;66;03m# Get the start and end points of the arc\u001b[39;00m\n\u001b[1;32m    100\u001b[0m     start \u001b[38;5;241m=\u001b[39m vector2_as_coords(arc\u001b[38;5;241m.\u001b[39mstart)\n\u001b[0;32m--> 101\u001b[0m     mid \u001b[38;5;241m=\u001b[39m vector2_as_coords(\u001b[43marc\u001b[49m\u001b[38;5;241;43m.\u001b[39;49m\u001b[43mmid\u001b[49m)\n\u001b[1;32m    103\u001b[0m     \u001b[38;5;66;03m# Calculate the center of the arc\u001b[39;00m\n\u001b[1;32m    104\u001b[0m     arc_center \u001b[38;5;241m=\u001b[39m arc\u001b[38;5;241m.\u001b[39mcenter()\n",
      "\u001b[0;31mAttributeError\u001b[0m: 'Track' object has no attribute 'mid'"
     ]
    }
   ],
   "source": [
    "# plot track t\n",
    "arc_linestring = breakneck.conversions.arc_as_linestring(t)\n",
    "plt.plot(*arc_linestring.xy, color=\"blue\")\n",
    "\n",
    "# plot courtyard c\n",
    "#plt.plot(*c.front_courtyards[0].exterior.xy, color=\"red\")\n",
    "\n",
    "# plot crossing points\n",
    "for pt in pts:\n",
    "    plt.plot(pt.x, pt.y, \"o\", color=\"green\")\n",
    "\n",
    "# plot first new track\n",
    "nt = new_tracks[2]\n",
    "nt_ls = breakneck.conversions.track_as_linestring(nt)\n",
    "plt.plot(*nt_ls.xy, color=\"purple\")\n"
   ]
  },
  {
   "cell_type": "code",
   "execution_count": 376,
   "metadata": {},
   "outputs": [
    {
     "ename": "AttributeError",
     "evalue": "'Track' object has no attribute 'mid'",
     "output_type": "error",
     "traceback": [
      "\u001b[0;31m---------------------------------------------------------------------------\u001b[0m",
      "\u001b[0;31mAttributeError\u001b[0m                            Traceback (most recent call last)",
      "Cell \u001b[0;32mIn[376], line 2\u001b[0m\n\u001b[1;32m      1\u001b[0m \u001b[38;5;66;03m# plot track t\u001b[39;00m\n\u001b[0;32m----> 2\u001b[0m arc_linestring \u001b[38;5;241m=\u001b[39m \u001b[43mkifnd\u001b[49m\u001b[38;5;241;43m.\u001b[39;49m\u001b[43mconversions\u001b[49m\u001b[38;5;241;43m.\u001b[39;49m\u001b[43marc_as_linestring\u001b[49m\u001b[43m(\u001b[49m\u001b[43mt\u001b[49m\u001b[43m)\u001b[49m\n\u001b[1;32m      3\u001b[0m plt\u001b[38;5;241m.\u001b[39mplot(\u001b[38;5;241m*\u001b[39marc_linestring\u001b[38;5;241m.\u001b[39mxy, color\u001b[38;5;241m=\u001b[39m\u001b[38;5;124m\"\u001b[39m\u001b[38;5;124mblue\u001b[39m\u001b[38;5;124m\"\u001b[39m)\n\u001b[1;32m      4\u001b[0m \u001b[38;5;66;03m# plot midpoint\u001b[39;00m\n",
      "File \u001b[0;32m~/src/hatlabs/forced-neckdown/kifnd/conversions.py:101\u001b[0m, in \u001b[0;36marc_as_linestring\u001b[0;34m(arc)\u001b[0m\n\u001b[1;32m     96\u001b[0m \u001b[38;5;28;01mdef\u001b[39;00m\u001b[38;5;250m \u001b[39m\u001b[38;5;21marc_as_linestring\u001b[39m(\n\u001b[1;32m     97\u001b[0m     arc: kipy\u001b[38;5;241m.\u001b[39mcommon_types\u001b[38;5;241m.\u001b[39mArc \u001b[38;5;241m|\u001b[39m kbt\u001b[38;5;241m.\u001b[39mArcTrack,\n\u001b[1;32m     98\u001b[0m ) \u001b[38;5;241m-\u001b[39m\u001b[38;5;241m>\u001b[39m sg\u001b[38;5;241m.\u001b[39mLineString:\n\u001b[1;32m     99\u001b[0m     \u001b[38;5;66;03m# Get the start and end points of the arc\u001b[39;00m\n\u001b[1;32m    100\u001b[0m     start \u001b[38;5;241m=\u001b[39m vector2_as_coords(arc\u001b[38;5;241m.\u001b[39mstart)\n\u001b[0;32m--> 101\u001b[0m     mid \u001b[38;5;241m=\u001b[39m vector2_as_coords(\u001b[43marc\u001b[49m\u001b[38;5;241;43m.\u001b[39;49m\u001b[43mmid\u001b[49m)\n\u001b[1;32m    103\u001b[0m     \u001b[38;5;66;03m# Calculate the center of the arc\u001b[39;00m\n\u001b[1;32m    104\u001b[0m     arc_center \u001b[38;5;241m=\u001b[39m arc\u001b[38;5;241m.\u001b[39mcenter()\n",
      "\u001b[0;31mAttributeError\u001b[0m: 'Track' object has no attribute 'mid'"
     ]
    }
   ],
   "source": [
    "# plot track t\n",
    "arc_linestring = breakneck.conversions.arc_as_linestring(t)\n",
    "plt.plot(*arc_linestring.xy, color=\"blue\")\n",
    "# plot midpoint\n",
    "midpt = breakneck.conversions.vector2_as_coords(t.mid)\n",
    "plt.plot(*midpt, marker=\"o\", color=\"blue\")\n",
    "\n",
    "colors = [\"red\", \"green\", \"purple\", \"orange\", \"black\", \"pink\", \"brown\", \"gray\", \"cyan\", \"magenta\"]\n",
    "\n",
    "for i, track in enumerate(new_tracks):\n",
    "    arc_linestring = breakneck.conversions.arc_as_linestring(track)\n",
    "    plt.plot(*arc_linestring.xy, color=colors[i % len(colors)])\n"
   ]
  },
  {
   "cell_type": "code",
   "execution_count": 528,
   "metadata": {},
   "outputs": [],
   "source": [
    "all_tracks = {t.id.value: t for t in board.get_tracks()}\n",
    "commit = board.begin_commit()\n",
    "old_list = []\n",
    "new_list = []\n"
   ]
  },
  {
   "cell_type": "code",
   "execution_count": 529,
   "metadata": {},
   "outputs": [
    {
     "name": "stdout",
     "output_type": "stream",
     "text": [
      "Breaking front tracks\n",
      "Finding bounding box hits\n",
      "Finding crossings\n",
      "old: ['b3e6c557-dbe7-4c7a-9b39-ec890d2a7d05', '6787c366-0a91-4c5b-8f58-17646a8bd3b3', '86930dd7-6bbc-4660-a590-7c934fbe2943']\n",
      "new: ['f484aa56-c5db-4f17-8185-b52990848568', 'd72bccb5-7251-41b0-a091-f00ec7a06912', 'bcf45da9-3ad6-4f8e-aef5-3a7304d9a4e6']\n"
     ]
    }
   ],
   "source": [
    "fpc = [cyd for cyd in all_courtyards if cyd.footprint.reference_field.text.value == \"R408\"][0]\n",
    "old, new = fpc.break_tracks(list(all_tracks.values()), 2000000)\n",
    "print(f\"old: {[o.id.value for o in old]}\")\n",
    "print(f\"new: {[n.id.value for n in new]}\")\n",
    "\n",
    "# remove old from all_tracks and new_list\n",
    "for t in old:\n",
    "    all_tracks.pop(t.id.value)\n",
    "    try:\n",
    "        new_list.remove(t)\n",
    "    except ValueError:\n",
    "        pass\n",
    "\n",
    "for t in new:\n",
    "    all_tracks[t.id.value] = t\n",
    "\n",
    "old_list.extend(old)\n",
    "new_list.extend(new)\n"
   ]
  },
  {
   "cell_type": "code",
   "execution_count": 530,
   "metadata": {},
   "outputs": [
    {
     "name": "stdout",
     "output_type": "stream",
     "text": [
      "Breaking front tracks\n",
      "Finding bounding box hits\n",
      "Finding crossings\n",
      "old: ['d72bccb5-7251-41b0-a091-f00ec7a06912', 'd32f2241-1c2f-4a4e-bc4c-472b78555c60', '39d8332e-a3f9-44c1-ae70-a3406029a4d7']\n",
      "new: ['374f1033-edd7-4ec2-ad42-796fe9128ea1', '7c4eb0cf-d084-4b31-a4c0-c2c3d1689d20', '406a7dc9-ceb7-4b55-818a-b77e19ed9e7d']\n"
     ]
    }
   ],
   "source": [
    "fpc = [cyd for cyd in all_courtyards if cyd.footprint.reference_field.text.value == \"R409\"][0]\n",
    "old, new = fpc.break_tracks(list(all_tracks.values()), 2000000)\n",
    "print(f\"old: {[o.id.value for o in old]}\")\n",
    "print(f\"new: {[n.id.value for n in new]}\")\n",
    "\n",
    "# remove old from all_tracks and new_list\n",
    "for t in old:\n",
    "    all_tracks.pop(t.id.value)\n",
    "    try:\n",
    "        new_list.remove(t)\n",
    "    except ValueError:\n",
    "        pass\n",
    "\n",
    "for t in new:\n",
    "    all_tracks[t.id.value] = t\n",
    "\n",
    "old_list.extend(old)\n",
    "new_list.extend(new)\n"
   ]
  },
  {
   "cell_type": "code",
   "execution_count": 531,
   "metadata": {},
   "outputs": [],
   "source": [
    "board.remove_items(old_list)\n",
    "board.create_items(new_list)\n",
    "board.push_commit(commit)\n"
   ]
  },
  {
   "cell_type": "code",
   "execution_count": 501,
   "metadata": {},
   "outputs": [],
   "source": [
    "board.drop_commit(commit)\n"
   ]
  },
  {
   "cell_type": "code",
   "execution_count": 86,
   "metadata": {},
   "outputs": [
    {
     "data": {
      "text/plain": [
       "FootprintInstance(id=value: \"59b6201d-1c0c-4f6a-8134-8c1a82b36bd6\"\n",
       ", pos=Vector2(157500000, 69300000), layer=BL_F_Cu)"
      ]
     },
     "execution_count": 86,
     "metadata": {},
     "output_type": "execute_result"
    }
   ],
   "source": [
    "# Select a footprint\n",
    "sel = board.get_selection()\n",
    "sel = sel[0]\n",
    "sel\n"
   ]
  },
  {
   "cell_type": "code",
   "execution_count": 59,
   "metadata": {},
   "outputs": [
    {
     "data": {
      "text/plain": [
       "Track(start=Vector2(158525958, 69928750), end=Vector2(119276832, 69928750), layer=BL_F_Cu, net=/USB.D+)"
      ]
     },
     "execution_count": 59,
     "metadata": {},
     "output_type": "execute_result"
    }
   ],
   "source": [
    "# Select a track\n",
    "trk = board.get_selection()\n",
    "trk = trk[0]\n",
    "trk\n"
   ]
  },
  {
   "cell_type": "code",
   "execution_count": 87,
   "metadata": {},
   "outputs": [],
   "source": [
    "trk_shape = breakneck.conversions.track_as_linestring(trk)\n"
   ]
  },
  {
   "cell_type": "code",
   "execution_count": 88,
   "metadata": {},
   "outputs": [],
   "source": [
    "max_width = 2000000\n"
   ]
  },
  {
   "cell_type": "code",
   "execution_count": 89,
   "metadata": {},
   "outputs": [
    {
     "data": {
      "text/plain": [
       "[BoardRectangle(top_left=Vector2(159450000, 65050000), bottom_right=Vector2(155075000, 73550000), layer=BL_F_CrtYd]"
      ]
     },
     "execution_count": 89,
     "metadata": {},
     "output_type": "execute_result"
    }
   ],
   "source": [
    "shapes = breakneck.footprint.get_courtyard_shapes(sel, BL.BL_F_CrtYd)\n",
    "shapes\n"
   ]
  },
  {
   "cell_type": "code",
   "execution_count": 90,
   "metadata": {},
   "outputs": [
    {
     "data": {
      "text/plain": [
       "[<POLYGON ((159450000 -65050000, 155075000 -65050000, 155075000 -73550000, 15...>]"
      ]
     },
     "execution_count": 90,
     "metadata": {},
     "output_type": "execute_result"
    }
   ],
   "source": [
    "breakneck.conversions.as_polygons(shapes, 1000)\n"
   ]
  },
  {
   "cell_type": "code",
   "execution_count": 91,
   "metadata": {},
   "outputs": [
    {
     "data": {
      "text/plain": [
       "BNFootprint(ref='U1602', footprint=FootprintInstance(id=value: \"59b6201d-1c0c-4f6a-8134-8c1a82b36bd6\"\n",
       ", pos=Vector2(157500000, 69300000), layer=BL_F_Cu), front_courtyards=[<POLYGON ((159450000 -65050000, 155075000 -65050000, 155075000 -73550000, 15...>], back_courtyards=[])"
      ]
     },
     "execution_count": 91,
     "metadata": {},
     "output_type": "execute_result"
    }
   ],
   "source": [
    "bn_footprint = breakneck.footprint.get_bn_footprints([sel])[0]\n",
    "bn_footprint\n"
   ]
  },
  {
   "cell_type": "code",
   "execution_count": 92,
   "metadata": {},
   "outputs": [],
   "source": [
    "#front_tracks = [t for t in all_tracks if t.layer == BL.BL_F_Cu]\n",
    "front_tracks = [trk]\n",
    "front_track_tree = breakneck.track.TrackTree(front_tracks)\n"
   ]
  },
  {
   "cell_type": "code",
   "execution_count": 93,
   "metadata": {},
   "outputs": [
    {
     "data": {
      "image/svg+xml": [
       "<svg xmlns=\"http://www.w3.org/2000/svg\" xmlns:xlink=\"http://www.w3.org/1999/xlink\" width=\"300\" height=\"300\" viewBox=\"152575000.0 -76050000.0 9375000.0 13500000.0\" preserveAspectRatio=\"xMinYMin meet\"><g transform=\"matrix(1,0,0,-1,0,-138600000.0)\"><path fill-rule=\"evenodd\" fill=\"#66cc99\" stroke=\"#555555\" stroke-width=\"90000.0\" opacity=\"0.6\" d=\"M 153075000.0,-75550000.0 L 161450000.0,-75550000.0 L 161450000.0,-63050000.0 L 153075000.0,-63050000.0 L 153075000.0,-75550000.0 z\" /></g></svg>"
      ],
      "text/plain": [
       "<POLYGON ((153075000 -75550000, 161450000 -75550000, 161450000 -63050000, 15...>"
      ]
     },
     "execution_count": 93,
     "metadata": {},
     "output_type": "execute_result"
    }
   ],
   "source": [
    "bounding_box = (\n",
    "            shapely.union_all(bn_footprint.front_courtyards).envelope.buffer(max_width).envelope\n",
    "        )\n",
    "bounding_box\n"
   ]
  },
  {
   "cell_type": "code",
   "execution_count": 94,
   "metadata": {},
   "outputs": [
    {
     "data": {
      "text/plain": [
       "(<matplotlib.patches.PathPatch at 0x120481450>,\n",
       " <matplotlib.lines.Line2D at 0x120481590>)"
      ]
     },
     "execution_count": 94,
     "metadata": {},
     "output_type": "execute_result"
    },
    {
     "data": {
      "image/png": "[encoded data removed]",
      "text/plain": [
       "<Figure size 640x480 with 1 Axes>"
      ]
     },
     "metadata": {},
     "output_type": "display_data"
    }
   ],
   "source": [
    "\n",
    "sp.plot_polygon(bounding_box)\n",
    "sp.plot_line(trk_shape, color=\"blue\")\n"
   ]
  },
  {
   "cell_type": "code",
   "execution_count": 95,
   "metadata": {},
   "outputs": [
    {
     "data": {
      "text/plain": [
       "True"
      ]
     },
     "execution_count": 95,
     "metadata": {},
     "output_type": "execute_result"
    }
   ],
   "source": [
    "bounding_box.intersects(trk_shape)\n"
   ]
  },
  {
   "cell_type": "code",
   "execution_count": 55,
   "metadata": {},
   "outputs": [
    {
     "data": {
      "text/plain": [
       "array([], dtype=int64)"
      ]
     },
     "execution_count": 55,
     "metadata": {},
     "output_type": "execute_result"
    }
   ],
   "source": [
    "front_hits = front_track_tree._track_tree.query(bounding_box.exterior, predicate=\"intersects\")\n",
    "front_hits\n"
   ]
  },
  {
   "cell_type": "code",
   "execution_count": 49,
   "metadata": {},
   "outputs": [
    {
     "ename": "TypeError",
     "evalue": "object of type 'TrackTree' has no len()",
     "output_type": "error",
     "traceback": [
      "\u001b[0;31m---------------------------------------------------------------------------\u001b[0m",
      "\u001b[0;31mTypeError\u001b[0m                                 Traceback (most recent call last)",
      "Cell \u001b[0;32mIn[49], line 1\u001b[0m\n\u001b[0;32m----> 1\u001b[0m \u001b[38;5;28;43mlen\u001b[39;49m\u001b[43m(\u001b[49m\u001b[43mfront_track_tree\u001b[49m\u001b[43m)\u001b[49m\n",
      "\u001b[0;31mTypeError\u001b[0m: object of type 'TrackTree' has no len()"
     ]
    }
   ],
   "source": []
  },
  {
   "cell_type": "code",
   "execution_count": 51,
   "metadata": {},
   "outputs": [
    {
     "data": {
      "image/svg+xml": [
       "<svg xmlns=\"http://www.w3.org/2000/svg\" xmlns:xlink=\"http://www.w3.org/1999/xlink\" width=\"300\" height=\"300\" viewBox=\"152575000.0 62550000.0 9375000.0 13500000.0\" preserveAspectRatio=\"xMinYMin meet\"><g transform=\"matrix(1,0,0,-1,0,138600000.0)\"><polyline fill=\"none\" stroke=\"#66cc99\" stroke-width=\"90000.0\" points=\"153075000.0,63050000.0 161450000.0,63050000.0 161450000.0,75550000.0 153075000.0,75550000.0 153075000.0,63050000.0\" opacity=\"0.8\" /></g></svg>"
      ],
      "text/plain": [
       "<LINEARRING (153075000 63050000, 161450000 63050000, 161450000 75550000, 153...>"
      ]
     },
     "execution_count": 51,
     "metadata": {},
     "output_type": "execute_result"
    }
   ],
   "source": []
  },
  {
   "cell_type": "code",
   "execution_count": 46,
   "metadata": {},
   "outputs": [
    {
     "data": {
      "text/plain": [
       "[<matplotlib.lines.Line2D at 0x120032710>]"
      ]
     },
     "execution_count": 46,
     "metadata": {},
     "output_type": "execute_result"
    },
    {
     "data": {
      "image/png": "[encoded data removed]",
      "text/plain": [
       "<Figure size 640x480 with 1 Axes>"
      ]
     },
     "metadata": {},
     "output_type": "display_data"
    }
   ],
   "source": [
    "plt.plot(*bounding_box.exterior.xy, color=\"red\")\n"
   ]
  },
  {
   "cell_type": "code",
   "execution_count": 38,
   "metadata": {},
   "outputs": [
    {
     "data": {
      "text/plain": [
       "[<POLYGON ((159450000 65050000, 155075000 65050000, 155075000 73550000, 15945...>]"
      ]
     },
     "execution_count": 38,
     "metadata": {},
     "output_type": "execute_result"
    }
   ],
   "source": [
    "bn_footprint.front_courtyards\n"
   ]
  },
  {
   "cell_type": "code",
   "execution_count": 25,
   "metadata": {},
   "outputs": [
    {
     "data": {
      "image/svg+xml": [
       "<svg xmlns=\"http://www.w3.org/2000/svg\" xmlns:xlink=\"http://www.w3.org/1999/xlink\" width=\"300\" height=\"300\" viewBox=\"154735000.0 64710000.0 5055000.0 9180000.0\" preserveAspectRatio=\"xMinYMin meet\"><g transform=\"matrix(1,0,0,-1,0,138600000.0)\"><path fill-rule=\"evenodd\" fill=\"#66cc99\" stroke=\"#555555\" stroke-width=\"61200.0\" opacity=\"0.6\" d=\"M 159450000.0,65050000.0 L 155075000.0,65050000.0 L 155075000.0,73550000.0 L 159450000.0,73550000.0 L 159450000.0,65050000.0 z\" /></g></svg>"
      ],
      "text/plain": [
       "<POLYGON ((159450000 65050000, 155075000 65050000, 155075000 73550000, 15945...>"
      ]
     },
     "execution_count": 25,
     "metadata": {},
     "output_type": "execute_result"
    }
   ],
   "source": [
    "bn_footprint.front_courtyards[0]\n"
   ]
  },
  {
   "cell_type": "code",
   "execution_count": null,
   "metadata": {},
   "outputs": [],
   "source": []
  }
 ],
 "metadata": {
  "kernelspec": {
   "display_name": ".venv",
   "language": "python",
   "name": "python3"
  },
  "language_info": {
   "codemirror_mode": {
    "name": "ipython",
    "version": 3
   },
   "file_extension": ".py",
   "mimetype": "text/x-python",
   "name": "python",
   "nbconvert_exporter": "python",
   "pygments_lexer": "ipython3",
   "version": "3.13.0"
  }
 },
 "nbformat": 4,
 "nbformat_minor": 2
}

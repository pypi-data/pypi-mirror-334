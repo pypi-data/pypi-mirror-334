{
 "cells": [
  {
   "cell_type": "code",
   "execution_count": null,
   "id": "14dfba13-bb35-4cfa-b846-f175459b650c",
   "metadata": {},
   "outputs": [],
   "source": [
    "import sys\n",
    "\n",
    "sys.version_info"
   ]
  },
  {
   "cell_type": "code",
   "execution_count": null,
   "id": "df8b4906-ea71-427a-8cb3-4b365c6cbdaa",
   "metadata": {},
   "outputs": [],
   "source": [
    "print(\"saved from jupyter lab\")"
   ]
  }
 ],
 "metadata": {
  "language_info": {
   "name": "python",
   "pygments_lexer": "ipython3"
  }
 },
 "nbformat": 4,
 "nbformat_minor": 5
}

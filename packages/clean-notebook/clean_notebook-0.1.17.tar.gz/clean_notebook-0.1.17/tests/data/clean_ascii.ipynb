{
 "cells": [
  {
   "cell_type": "code",
   "execution_count": null,
   "id": "f3bf207c-3e4e-4c00-9725-9d5fdcc36269",
   "metadata": {},
   "outputs": [],
   "source": [
    "data = \"● - Adelie, ▲ - Gentoo, ■ - Chinstrap\"\n",
    "print(data)"
   ]
  }
 ],
 "metadata": {
  "language_info": {
   "name": "python",
   "pygments_lexer": "ipython3"
  }
 },
 "nbformat": 4,
 "nbformat_minor": 5
}

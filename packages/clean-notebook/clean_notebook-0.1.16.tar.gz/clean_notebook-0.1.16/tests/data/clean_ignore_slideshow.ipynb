{
 "cells": [
  {
   "cell_type": "code",
   "execution_count": null,
   "id": "61b3eadd-b2b0-4c0f-9477-15f36adbd856",
   "metadata": {
    "slideshow": {
     "slide_type": "slide"
    }
   },
   "outputs": [],
   "source": [
    "a = \"This is a slideshow\""
   ]
  }
 ],
 "metadata": {
  "language_info": {
   "name": "python",
   "pygments_lexer": "ipython3"
  }
 },
 "nbformat": 4,
 "nbformat_minor": 5
}

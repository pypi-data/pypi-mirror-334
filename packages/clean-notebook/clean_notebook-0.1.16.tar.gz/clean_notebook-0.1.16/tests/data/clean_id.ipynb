{
 "cells": [
  {
   "cell_type": "code",
   "execution_count": null,
   "id": "3d183bd1-509f-4758-9f2d-db94b23c58f9",
   "metadata": {},
   "outputs": [],
   "source": [
    "a = 2"
   ]
  },
  {
   "cell_type": "markdown",
   "id": "66cdc779-4931-4306-881a-4bf30cb0fdbb",
   "metadata": {},
   "source": [
    "Markdown"
   ]
  },
  {
   "cell_type": "raw",
   "id": "5cbb8154-79ee-4290-953c-89a89b4276b7",
   "metadata": {},
   "source": [
    "Raw"
   ]
  }
 ],
 "metadata": {
  "language_info": {
   "name": "python",
   "pygments_lexer": "ipython3"
  }
 },
 "nbformat": 4,
 "nbformat_minor": 5
}

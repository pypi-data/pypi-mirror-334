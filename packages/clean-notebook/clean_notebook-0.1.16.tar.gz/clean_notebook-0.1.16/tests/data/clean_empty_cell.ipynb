{
 "cells": [
  {
   "cell_type": "code",
   "execution_count": null,
   "id": "9259e103-a9fe-4be1-8204-dfe194e8e978",
   "metadata": {},
   "outputs": [],
   "source": [
    "a = 2"
   ]
  }
 ],
 "metadata": {
  "language_info": {
   "name": "python",
   "pygments_lexer": "ipython3"
  }
 },
 "nbformat": 4,
 "nbformat_minor": 5
}

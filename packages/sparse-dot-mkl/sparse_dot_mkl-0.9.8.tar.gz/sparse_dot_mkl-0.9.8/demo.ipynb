{
 "cells": [
  {
   "cell_type": "code",
   "execution_count": 1,
   "metadata": {},
   "outputs": [],
   "source": [
    "import scipy.sparse as sps\n",
    "import numpy as np\n",
    "\n",
    "try:\n",
    "    import sparse_dot_mkl\n",
    "    dot_product = sparse_dot_mkl.dot_product_mkl\n",
    "except ImportError:\n",
    "    def dot_product(x, y, dense=False, **kwargs):\n",
    "        z = x @ y\n",
    "        return z.A if dense and sps.issparse(z) else z "
   ]
  },
  {
   "cell_type": "code",
   "execution_count": 2,
   "metadata": {},
   "outputs": [
    {
     "name": "stdout",
     "output_type": "stream",
     "text": [
      "X sparsity: 78.80 %\n"
     ]
    }
   ],
   "source": [
    "np.random.seed(0)\n",
    "X = np.random.randn(500, 5000)\n",
    "X[X < 0.8] = 0\n",
    "X = sps.csr_matrix(X)\n",
    "print(f'X sparsity: {100 * (1 - X.count_nonzero() / np.prod(X.shape)):5.2f} %')"
   ]
  },
  {
   "cell_type": "code",
   "execution_count": 3,
   "metadata": {},
   "outputs": [
    {
     "data": {
      "text/plain": [
       "<500x500 sparse matrix of type '<class 'numpy.float64'>'\n",
       "\twith 250000 stored elements in Compressed Sparse Row format>"
      ]
     },
     "execution_count": 3,
     "metadata": {},
     "output_type": "execute_result"
    }
   ],
   "source": [
    "X @ X.T"
   ]
  },
  {
   "cell_type": "code",
   "execution_count": 4,
   "metadata": {},
   "outputs": [],
   "source": [
    "expected_result = (X @ X.T).toarray()\n",
    "expected_result_tril = expected_result.copy()\n",
    "expected_result_tril[np.tril_indices(expected_result.shape[0], k=-1)] = 0"
   ]
  },
  {
   "cell_type": "code",
   "execution_count": 5,
   "metadata": {},
   "outputs": [
    {
     "data": {
      "text/plain": [
       "True"
      ]
     },
     "execution_count": 5,
     "metadata": {},
     "output_type": "execute_result"
    }
   ],
   "source": [
    "mkl_result1 = sparse_dot_mkl.dot_product_mkl(X, X.T)\n",
    "np.allclose(mkl_result1.toarray(), expected_result)"
   ]
  },
  {
   "cell_type": "code",
   "execution_count": 6,
   "metadata": {},
   "outputs": [
    {
     "data": {
      "text/plain": [
       "True"
      ]
     },
     "execution_count": 6,
     "metadata": {},
     "output_type": "execute_result"
    }
   ],
   "source": [
    "mkl_result2 = sparse_dot_mkl.gram_matrix_mkl(X, transpose=True)\n",
    "np.allclose(mkl_result2.toarray(), expected_result_tril)"
   ]
  },
  {
   "cell_type": "code",
   "execution_count": 7,
   "metadata": {},
   "outputs": [
    {
     "name": "stdout",
     "output_type": "stream",
     "text": [
      "Scipy Matrix Multiplication Product:\n",
      "204 ms ± 8.2 ms per loop (mean ± std. dev. of 7 runs, 1 loop each)\n",
      "MKL Matrix Multiplication Product:\n",
      "52.5 ms ± 579 µs per loop (mean ± std. dev. of 7 runs, 10 loops each)\n",
      "MKL Gram Matrix Product:\n",
      "28.1 ms ± 213 µs per loop (mean ± std. dev. of 7 runs, 10 loops each)\n"
     ]
    }
   ],
   "source": [
    "print(\"Scipy Matrix Multiplication Product:\")\n",
    "%timeit X @ X.T\n",
    "\n",
    "print(\"MKL Matrix Multiplication Product:\")\n",
    "%timeit sparse_dot_mkl.dot_product_mkl(X, X.T)\n",
    "\n",
    "print(\"MKL Gram Matrix Product:\")\n",
    "%timeit sparse_dot_mkl.dot_product_transpose_mkl(X, transpose=True)"
   ]
  }
 ],
 "metadata": {
  "kernelspec": {
   "display_name": "Python [conda env:sparse-test]",
   "language": "python",
   "name": "conda-env-sparse-test-py"
  },
  "language_info": {
   "codemirror_mode": {
    "name": "ipython",
    "version": 3
   },
   "file_extension": ".py",
   "mimetype": "text/x-python",
   "name": "python",
   "nbconvert_exporter": "python",
   "pygments_lexer": "ipython3",
   "version": "3.8.3"
  }
 },
 "nbformat": 4,
 "nbformat_minor": 4
}

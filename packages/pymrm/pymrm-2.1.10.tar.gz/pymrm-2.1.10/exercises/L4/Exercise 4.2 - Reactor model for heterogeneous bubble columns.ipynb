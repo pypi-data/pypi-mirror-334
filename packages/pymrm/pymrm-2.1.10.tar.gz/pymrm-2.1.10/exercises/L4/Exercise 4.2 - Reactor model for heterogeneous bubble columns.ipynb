{
 "cells": [
  {
   "cell_type": "code",
   "execution_count": 24,
   "metadata": {},
   "outputs": [],
   "source": [
    "import math\n",
    "import numpy as np\n",
    "import scipy as sp\n",
    "import matplotlib.pyplot as plt\n",
    "import pymrm as mrm\n",
    "from IPython.display import display, clear_output"
   ]
  },
  {
   "cell_type": "code",
   "execution_count": 25,
   "metadata": {},
   "outputs": [
    {
     "name": "stdout",
     "output_type": "stream",
     "text": [
      "0.09565348645821949 0.2549027242662663 0.13461873353353343 0.04509727573373369\n",
      "[[0.22811903 0.14025554]\n",
      " [1.21580851 0.74752152]]\n"
     ]
    }
   ],
   "source": [
    "def holdup_correlation(U, rho_g, eps_s, D_T):\n",
    "    eps_df_ref  = 0.27\n",
    "    V_small_ref = 0.095\n",
    "    rho_g_ref = 1.3\n",
    "    eps_trans = np.power(rho_g/rho_g_ref,0.48)*(eps_df_ref - 0.7*eps_s)\n",
    "    V_small = V_small_ref + 0.8*eps_s\n",
    "    U_df = np.minimum(U,eps_trans * V_small)\n",
    "    eps_df = U_df/V_small\n",
    "    U_b = U - U_df\n",
    "    eps_b = 0.3*np.power(D_T,-0.18)*np.power(U_b,0.58)\n",
    "    return eps_b, U_b, eps_df, U_df \n",
    "\n",
    "def kla_correlation(eps_b, eps_df):\n",
    "    D_L = np.array([[45.5E-9, 17.2E-9]])\n",
    "    D_L_ref = 2e-9\n",
    "    kla = np.sqrt(D_L/D_L_ref)*np.array([[0.5],[1.0]])*np.array([[eps_b],[eps_df]])\n",
    "    return kla\n",
    "\n",
    "solubilities = [[2.478, 2.964]]\n",
    "\n",
    "U = 0.3\n",
    "eps_b, U_b, eps_df, U_df = holdup_correlation(U, 7.0, 0.3, 7.0)\n",
    "kla =  kla_correlation(eps_b, U_b)\n",
    "\n",
    "print(eps_b, U_b, eps_df, U_df)\n",
    "print(kla)\n",
    "#plt.plot(U, eps_b + (1-eps_b)*eps_df)\n",
    "#plt.show()"
   ]
  },
  {
   "cell_type": "code",
   "execution_count": 26,
   "metadata": {},
   "outputs": [
    {
     "ename": "SyntaxError",
     "evalue": "invalid syntax (3662294910.py, line 31)",
     "output_type": "error",
     "traceback": [
      "\u001b[1;36m  Cell \u001b[1;32mIn[26], line 31\u001b[1;36m\u001b[0m\n\u001b[1;33m    def\u001b[0m\n\u001b[1;37m        ^\u001b[0m\n\u001b[1;31mSyntaxError\u001b[0m\u001b[1;31m:\u001b[0m invalid syntax\n"
     ]
    }
   ],
   "source": [
    "class SlurryBubbleColumn:\n",
    "    def __init__(self):\n",
    "        self.num_c = 2  # components: 0: CO, 1: H2\n",
    "        self.num_ph = 3 # phases: 0: b, 1: df, 2: sl\n",
    "        self.num_x = 100\n",
    "        \n",
    "        D_L = np.array([[[45.5E-9, 17.2E-9]]])\n",
    "        D_Lref = 2e-9\n",
    "        self.kla = np.sqrt(D_L/D_Lref)*np.array([[0.5,1.0]])\n",
    "        \n",
    "        self.k1 = 10\n",
    "        self.k2 = 0\n",
    "        self.dt = 1e-2\n",
    "        self.L = 1\n",
    "        self.maxfev = 2\n",
    "        self.plot_interval = 10\n",
    "        self.plot_cntr = 0\n",
    "        self.c_in = 10\n",
    "        self.v = [[1,-1, 1, -1]]\n",
    "        self.bc = {'a': [[[0,1,0,1]], [[1, 0,1,0]]], 'b': [[[1,0,1,0]], [[0, 1,0,1]]], 'd':[ [[self.c_in, 0, 0, 0]], [[0, self.c_in, 0, 0]]]}\n",
    "        self.x_f = np.linspace(0, self.L, self.num_x+1)\n",
    "        #self.x_f = mrm.non_uniform_grid(0, L, num_x+1, 0.05*L, 0.75)\n",
    "        self.x_c = 0.5*(self.x_f[:-1] + self.x_f[1:])\n",
    "        Conv, conv_bc = mrm.construct_convflux_upwind((self.num_x,self.num_c), self.x_f, self.x_c, self.bc, self.v, axis=0)\n",
    "        self.Div = mrm.construct_div((self.num_x,self.num_c), self.x_f, nu=0, axis=0)\n",
    "        self.g_const = self.Div @ conv_bc.reshape((-1,1))\n",
    "        self.Jac_const = sp.sparse.eye_array(self.num_x*self.num_c, format='csc')/self.dt + self.Div @ Conv\n",
    "        self.Jac_conv = self.Div @ Conv\n",
    "        self.init_c()\n",
    "    \n",
    "    def \n",
    "        \n",
    "    def init_c(self):\n",
    "        self.c = np.zeros((self.num_x, self.num_c))\n",
    "        self.fig, self.ax = plt.subplots()\n",
    "        self.ax.set_xlabel('Position')\n",
    "        self.ax.set_ylabel('Concentration')\n",
    "        \n",
    "    def reaction(self, c):\n",
    "        r = self.k1*self.c[:,0]*self.c[:,1]- self.k2*self.c[:,2]*self.c[:,3]\n",
    "        f = np.zeros_like(self.c)\n",
    "        f[:,0] = -r\n",
    "        f[:,1] = -r\n",
    "        f[:,2] = r\n",
    "        f[:,3] = r\n",
    "        return f\n",
    "\n",
    "    def g(self, c):\n",
    "        g_react, Jac_react = mrm.numjac_local(self.reaction, c, axis=-1)\n",
    "        c_f, dc_f = mrm.interp_cntr_to_stagg_tvd(c, self.x_f, self.x_c, self.bc, self.v, mrm.minmod, axis=0)\n",
    "        g_conv = self.Div @ (self.v*c_f).reshape((-1,1))\n",
    "        g = (c-self.c_old).reshape((-1,1))/self.dt + g_conv - g_react.reshape((-1,1))\n",
    "        Jac = self.Jac_const - Jac_react\n",
    "        return g, Jac\n",
    "\n",
    "    def plot(self):\n",
    "        if (self.plot_cntr == 0):\n",
    "            clear_output(wait=True)\n",
    "            for i in range(self.num_c):\n",
    "                self.ax.plot(self.x_c, self.c[:, i])\n",
    "            display(self.fig)\n",
    "            plt.show(self.fig)\n",
    "        self.plot_cntr = (self.plot_cntr + 1) % self.plot_interval\n",
    "\n",
    "    def solve(self, num_time_steps):\n",
    "        for i in range(num_time_steps):\n",
    "            self.c_old = self.c.copy()\n",
    "            result = mrm.newton(self.g, self.c, maxfev = self.maxfev, callback = lambda x,g: mrm.clip_approach(x, g, upper_bounds = self.c_in, factor = 0.5))\n",
    "            self.c = result.x\n",
    "            self.plot()"
   ]
  }
 ],
 "metadata": {
  "kernelspec": {
   "display_name": "mrm",
   "language": "python",
   "name": "python3"
  },
  "language_info": {
   "codemirror_mode": {
    "name": "ipython",
    "version": 3
   },
   "file_extension": ".py",
   "mimetype": "text/x-python",
   "name": "python",
   "nbconvert_exporter": "python",
   "pygments_lexer": "ipython3",
   "version": "3.12.3"
  }
 },
 "nbformat": 4,
 "nbformat_minor": 2
}

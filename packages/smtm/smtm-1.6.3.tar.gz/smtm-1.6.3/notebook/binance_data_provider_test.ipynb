{
 "cells": [
  {
   "cell_type": "code",
   "execution_count": 1,
   "id": "worse-compiler",
   "metadata": {},
   "outputs": [],
   "source": [
    "import os\n",
    "os.chdir('../')"
   ]
  },
  {
   "cell_type": "markdown",
   "id": "armed-racing",
   "metadata": {},
   "source": [
    "### 현재 디렉토리가 smtm 프로젝트 root로 설정되었는지 확인\n",
    "분석 결과 파일이 저장될 output 폴더 생성"
   ]
  },
  {
   "cell_type": "code",
   "execution_count": 2,
   "id": "nominated-allowance",
   "metadata": {},
   "outputs": [
    {
     "name": "stdout",
     "output_type": "stream",
     "text": [
      "현재 디렉토리  c:\\01_Code\\smtm\n"
     ]
    }
   ],
   "source": [
    "print(\"현재 디렉토리 \" , os.getcwd())"
   ]
  },
  {
   "cell_type": "code",
   "execution_count": 3,
   "id": "regular-bulletin",
   "metadata": {},
   "outputs": [],
   "source": [
    "from smtm import BinanceDataProvider"
   ]
  },
  {
   "cell_type": "code",
   "execution_count": 4,
   "id": "metallic-canal",
   "metadata": {},
   "outputs": [],
   "source": [
    "dp = BinanceDataProvider()"
   ]
  },
  {
   "cell_type": "code",
   "execution_count": 5,
   "id": "dynamic-psychiatry",
   "metadata": {},
   "outputs": [
    {
     "data": {
      "text/plain": [
       "{'market': 'BTC',\n",
       " 'date_time': '2023-10-28T08:12:00',\n",
       " 'opening_price': 33838.0,\n",
       " 'high_price': 33838.0,\n",
       " 'low_price': 33837.99,\n",
       " 'closing_price': 33838.0,\n",
       " 'acc_price': 11947.8585644,\n",
       " 'acc_volume': 0.35309}"
      ]
     },
     "execution_count": 5,
     "metadata": {},
     "output_type": "execute_result"
    }
   ],
   "source": [
    "dp.get_info()"
   ]
  },
  {
   "cell_type": "code",
   "execution_count": 6,
   "id": "senior-ancient",
   "metadata": {},
   "outputs": [
    {
     "data": {
      "text/plain": [
       "{'market': 'BTC',\n",
       " 'date_time': '2023-10-28T08:12:00',\n",
       " 'opening_price': 33838.0,\n",
       " 'high_price': 33838.0,\n",
       " 'low_price': 33837.99,\n",
       " 'closing_price': 33838.0,\n",
       " 'acc_price': 88287.4011994,\n",
       " 'acc_volume': 2.60912}"
      ]
     },
     "execution_count": 6,
     "metadata": {},
     "output_type": "execute_result"
    }
   ],
   "source": [
    "dp.get_info()"
   ]
  },
  {
   "cell_type": "code",
   "execution_count": 7,
   "id": "815ebf90",
   "metadata": {},
   "outputs": [
    {
     "data": {
      "text/plain": [
       "{'market': 'BTC',\n",
       " 'date_time': '2023-10-28T08:12:00',\n",
       " 'opening_price': 33838.0,\n",
       " 'high_price': 33838.0,\n",
       " 'low_price': 33837.99,\n",
       " 'closing_price': 33837.99,\n",
       " 'acc_price': 102336.2579556,\n",
       " 'acc_volume': 3.0243}"
      ]
     },
     "execution_count": 7,
     "metadata": {},
     "output_type": "execute_result"
    }
   ],
   "source": [
    "dp.get_info()"
   ]
  },
  {
   "cell_type": "code",
   "execution_count": null,
   "id": "fad6a8a4",
   "metadata": {},
   "outputs": [],
   "source": []
  }
 ],
 "metadata": {
  "kernelspec": {
   "display_name": "Python 3",
   "language": "python",
   "name": "python3"
  },
  "language_info": {
   "codemirror_mode": {
    "name": "ipython",
    "version": 3
   },
   "file_extension": ".py",
   "mimetype": "text/x-python",
   "name": "python",
   "nbconvert_exporter": "python",
   "pygments_lexer": "ipython3",
   "version": "3.8.10"
  }
 },
 "nbformat": 4,
 "nbformat_minor": 5
}

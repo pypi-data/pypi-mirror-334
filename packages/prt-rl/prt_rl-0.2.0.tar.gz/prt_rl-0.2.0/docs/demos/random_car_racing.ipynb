{
 "cells": [
  {
   "metadata": {},
   "cell_type": "markdown",
   "source": [
    "# Random Policy Car Racing Game\n",
    "Shows how to use a random policy for an agent and visualize the environment.\n"
   ],
   "id": "7627341fc510471c"
  },
  {
   "metadata": {},
   "cell_type": "markdown",
   "source": [
    "## Set up the environment and prt_rl wrapper\n",
    "Import the Gymnasium robot game and the environment wrapper"
   ],
   "id": "e810743df18dcf7a"
  },
  {
   "metadata": {
    "ExecuteTime": {
     "end_time": "2025-01-10T15:38:45.667369Z",
     "start_time": "2025-01-10T15:38:43.640629Z"
    }
   },
   "cell_type": "code",
   "source": [
    "from prt_rl.utils.policy import RandomPolicy\n",
    "from prt_rl.env.wrappers import GymnasiumWrapper\n",
    "from prt_rl.utils.runners import Runner\n",
    "from prt_rl.utils.recorders import GifRecorder"
   ],
   "id": "f1126d6bd5b6e9de",
   "outputs": [],
   "execution_count": 1
  },
  {
   "metadata": {},
   "cell_type": "markdown",
   "source": "## Create the environment",
   "id": "da2f8c17bd641c32"
  },
  {
   "metadata": {
    "ExecuteTime": {
     "end_time": "2025-01-10T15:38:45.696157Z",
     "start_time": "2025-01-10T15:38:45.674100Z"
    }
   },
   "cell_type": "code",
   "source": [
    "env = GymnasiumWrapper(\n",
    "    gym_name=\"CarRacing-v3\",\n",
    "    render_mode=\"rgb_array\",\n",
    "    continuous=True,\n",
    ")"
   ],
   "id": "67b01c8a03bf751a",
   "outputs": [],
   "execution_count": 2
  },
  {
   "metadata": {},
   "cell_type": "markdown",
   "source": [
    "## Initialize Random policy\n",
    "Create a random policy that takes in the environment parameters."
   ],
   "id": "620b0a89fa61bd80"
  },
  {
   "metadata": {
    "ExecuteTime": {
     "end_time": "2025-01-10T15:38:45.837300Z",
     "start_time": "2025-01-10T15:38:45.832856Z"
    }
   },
   "cell_type": "code",
   "source": "policy = RandomPolicy(env_params=env.get_parameters())",
   "id": "2ebac474b913915",
   "outputs": [],
   "execution_count": 3
  },
  {
   "metadata": {},
   "cell_type": "markdown",
   "source": [
    "## Create a Runner\n",
    "Run the environment for a single episode until it is done."
   ],
   "id": "de0bd098d65ca560"
  },
  {
   "metadata": {
    "ExecuteTime": {
     "end_time": "2025-01-10T15:38:45.896733Z",
     "start_time": "2025-01-10T15:38:45.890499Z"
    }
   },
   "cell_type": "code",
   "source": [
    "runner = Runner(\n",
    "    env=env,\n",
    "    policy=policy,\n",
    "    recorder=GifRecorder(\n",
    "        filename=\"car_race.gif\",\n",
    "        fps=50\n",
    "    ),\n",
    ")"
   ],
   "id": "e7d1d86c871daac0",
   "outputs": [],
   "execution_count": 4
  },
  {
   "metadata": {
    "ExecuteTime": {
     "end_time": "2025-01-10T15:39:29.000097Z",
     "start_time": "2025-01-10T15:38:45.958282Z"
    }
   },
   "cell_type": "code",
   "source": "runner.run()",
   "id": "f3174914680b301e",
   "outputs": [],
   "execution_count": 5
  },
  {
   "metadata": {},
   "cell_type": "markdown",
   "source": "![Car Race](car_race.gif)",
   "id": "c94653879347cc36"
  }
 ],
 "metadata": {
  "kernelspec": {
   "display_name": "Python 3",
   "language": "python",
   "name": "python3"
  },
  "language_info": {
   "codemirror_mode": {
    "name": "ipython",
    "version": 2
   },
   "file_extension": ".py",
   "mimetype": "text/x-python",
   "name": "python",
   "nbconvert_exporter": "python",
   "pygments_lexer": "ipython2",
   "version": "2.7.6"
  }
 },
 "nbformat": 4,
 "nbformat_minor": 5
}

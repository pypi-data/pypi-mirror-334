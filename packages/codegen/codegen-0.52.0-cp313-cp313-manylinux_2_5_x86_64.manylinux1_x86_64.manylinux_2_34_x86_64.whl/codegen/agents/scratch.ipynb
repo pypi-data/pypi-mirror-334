{
 "cells": [
  {
   "cell_type": "code",
   "execution_count": null,
   "metadata": {},
   "outputs": [],
   "source": [
    "from codegen.agents.code_agent import CodeAgent\n",
    "\n",
    "\n",
    "CodeAgent"
   ]
  },
  {
   "cell_type": "code",
   "execution_count": null,
   "metadata": {},
   "outputs": [],
   "source": [
    "from codegen.sdk.core.codebase import Codebase\n",
    "\n",
    "\n",
    "codebase = Codebase.from_repo(\"codegen-sh/Kevin-s-Adventure-Game\")"
   ]
  },
  {
   "cell_type": "code",
   "execution_count": null,
   "metadata": {},
   "outputs": [],
   "source": [
    "from typing import Any, Dict, Union\n",
    "from codegen.agents.data import BaseMessage\n",
    "from codegen.agents.loggers import ExternalLogger\n",
    "\n",
    "\n",
    "class ConsoleLogger(ExternalLogger):\n",
    "    def log(self, data: Union[Dict[str, Any], BaseMessage]) -> None:\n",
    "        print(data.content)"
   ]
  },
  {
   "cell_type": "code",
   "execution_count": null,
   "metadata": {},
   "outputs": [],
   "source": [
    "agent = CodeAgent(codebase)\n",
    "agent.run(\"What is the main character's name? also show the source code where you find the answer\", logger=ConsoleLogger())"
   ]
  },
  {
   "cell_type": "code",
   "execution_count": null,
   "metadata": {},
   "outputs": [],
   "source": [
    "agent.run(\"What is the main character's name?\")"
   ]
  },
  {
   "cell_type": "code",
   "execution_count": null,
   "metadata": {},
   "outputs": [],
   "source": []
  }
 ],
 "metadata": {
  "kernelspec": {
   "display_name": ".venv",
   "language": "python",
   "name": "python3"
  },
  "language_info": {
   "codemirror_mode": {
    "name": "ipython",
    "version": 3
   },
   "file_extension": ".py",
   "mimetype": "text/x-python",
   "name": "python",
   "nbconvert_exporter": "python",
   "pygments_lexer": "ipython3",
   "version": "3.13.0"
  }
 },
 "nbformat": 4,
 "nbformat_minor": 2
}

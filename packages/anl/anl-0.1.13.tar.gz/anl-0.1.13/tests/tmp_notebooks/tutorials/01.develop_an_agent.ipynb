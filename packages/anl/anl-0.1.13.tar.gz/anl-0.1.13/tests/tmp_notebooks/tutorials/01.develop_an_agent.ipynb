{
    "cells": [
        {
            "cell_type": "markdown",
            "id": "75c27bd2",
            "metadata": {
                "tags": [
                    "papermill-error-cell-tag"
                ]
            },
            "source": [
                "<span style=\"color:red; font-family:Helvetica Neue, Helvetica, Arial, sans-serif; font-size:2em;\">An Exception was encountered at '<a href=\"#papermill-error-cell\">In [4]</a>'.</span>"
            ]
        },
        {
            "cell_type": "code",
            "execution_count": 1,
            "id": "formed-honey",
            "metadata": {
                "execution": {
                    "iopub.execute_input": "2023-12-09T04:19:21.638907Z",
                    "iopub.status.busy": "2023-12-09T04:19:21.638530Z",
                    "iopub.status.idle": "2023-12-09T04:19:23.740357Z",
                    "shell.execute_reply": "2023-12-09T04:19:23.740043Z"
                },
                "papermill": {
                    "duration": 2.133853,
                    "end_time": "2023-12-09T04:19:23.741497",
                    "exception": false,
                    "start_time": "2023-12-09T04:19:21.607644",
                    "status": "completed"
                },
                "tags": [
                    "remove_cell"
                ]
            },
            "outputs": [
                {
                    "data": {
                        "text/html": [
                            "<style>.container { width:95% !important; }</style>"
                        ],
                        "text/plain": [
                            "<IPython.core.display.HTML object>"
                        ]
                    },
                    "metadata": {},
                    "output_type": "display_data"
                }
            ],
            "source": [
                "%matplotlib inline\n",
                "import warnings\n",
                "warnings.filterwarnings('ignore')\n",
                "# setup disply parameters\n",
                "from matplotlib import pylab as plt\n",
                "import seaborn as sns\n",
                "from matplotlib.ticker import StrMethodFormatter\n",
                "float_formatter = StrMethodFormatter('{x:0.03f}')\n",
                "from IPython.core.display import display, HTML\n",
                "display(HTML(\"<style>.container { width:95% !important; }</style>\"))\n",
                "SMALL_SIZE = 14\n",
                "MEDIUM_SIZE = 16\n",
                "BIGGER_SIZE = 20\n",
                "\n",
                "plt.rc('font', size=SMALL_SIZE)          # controls default text sizes\n",
                "plt.rc('axes', titlesize=SMALL_SIZE)     # fontsize of the axes title\n",
                "plt.rc('axes', labelsize=MEDIUM_SIZE)    # fontsize of the x and y labels\n",
                "plt.rc('xtick', labelsize=SMALL_SIZE)    # fontsize of the tick labels\n",
                "plt.rc('ytick', labelsize=SMALL_SIZE)    # fontsize of the tick labels\n",
                "plt.rc('legend', fontsize=SMALL_SIZE)    # legend fontsize\n",
                "plt.rc('figure', titlesize=BIGGER_SIZE)  # fontsize of the figure title\n",
                "plt.rc('figure', figsize=(18, 6)) # set figure size\n",
                "plt.rc(\"animation\", html=\"html5\")\n",
                "import random\n",
                "random.seed(345)\n",
                "import numpy as np\n",
                "np.random.seed(345)\n",
                "from rich import print"
            ]
        },
        {
            "cell_type": "code",
            "execution_count": 2,
            "id": "moving-telephone",
            "metadata": {
                "execution": {
                    "iopub.execute_input": "2023-12-09T04:19:23.753963Z",
                    "iopub.status.busy": "2023-12-09T04:19:23.753681Z",
                    "iopub.status.idle": "2023-12-09T04:19:23.756055Z",
                    "shell.execute_reply": "2023-12-09T04:19:23.755708Z"
                },
                "papermill": {
                    "duration": 0.009474,
                    "end_time": "2023-12-09T04:19:23.757020",
                    "exception": false,
                    "start_time": "2023-12-09T04:19:23.747546",
                    "status": "completed"
                },
                "tags": [
                    "remove_cell"
                ]
            },
            "outputs": [],
            "source": [
                "from pathlib import Path"
            ]
        },
        {
            "cell_type": "markdown",
            "id": "unable-bulgaria",
            "metadata": {
                "papermill": {
                    "duration": 0.01065,
                    "end_time": "2023-12-09T04:19:23.776413",
                    "exception": false,
                    "start_time": "2023-12-09T04:19:23.765763",
                    "status": "completed"
                },
                "tags": []
            },
            "source": [
                "## The tutorial starts here\n",
                "\n",
                "### Running a tournament"
            ]
        },
        {
            "cell_type": "code",
            "execution_count": 3,
            "id": "detected-toilet",
            "metadata": {
                "execution": {
                    "iopub.execute_input": "2023-12-09T04:19:23.788391Z",
                    "iopub.status.busy": "2023-12-09T04:19:23.788180Z",
                    "iopub.status.idle": "2023-12-09T04:19:24.422217Z",
                    "shell.execute_reply": "2023-12-09T04:19:24.421954Z"
                },
                "papermill": {
                    "duration": 0.640491,
                    "end_time": "2023-12-09T04:19:24.423173",
                    "exception": false,
                    "start_time": "2023-12-09T04:19:23.782682",
                    "status": "completed"
                },
                "tags": []
            },
            "outputs": [],
            "source": [
                "from anl.anl2024 import anl2024_tournament\n",
                "from negmas.helpers.strings import unique_name"
            ]
        },
        {
            "cell_type": "markdown",
            "id": "fb38d36b",
            "metadata": {
                "tags": [
                    "papermill-error-cell-tag"
                ]
            },
            "source": [
                "<span id=\"papermill-error-cell\" style=\"color:red; font-family:Helvetica Neue, Helvetica, Arial, sans-serif; font-size:2em;\">Execution using papermill encountered an exception here and stopped:</span>"
            ]
        },
        {
            "cell_type": "code",
            "execution_count": 4,
            "id": "dynamic-breath",
            "metadata": {
                "execution": {
                    "iopub.execute_input": "2023-12-09T04:19:24.435975Z",
                    "iopub.status.busy": "2023-12-09T04:19:24.435764Z",
                    "iopub.status.idle": "2023-12-09T04:19:24.601806Z",
                    "shell.execute_reply": "2023-12-09T04:19:24.601360Z"
                },
                "papermill": {
                    "duration": 0.170597,
                    "end_time": "2023-12-09T04:19:24.602505",
                    "exception": true,
                    "start_time": "2023-12-09T04:19:24.431908",
                    "status": "failed"
                },
                "tags": []
            },
            "outputs": [
                {
                    "ename": "TypeError",
                    "evalue": "anl2024_tournament() got an unexpected keyword argument 'path'",
                    "output_type": "error",
                    "traceback": [
                        "\u001b[0;31m---------------------------------------------------------------------------\u001b[0m",
                        "\u001b[0;31mTypeError\u001b[0m                                 Traceback (most recent call last)",
                        "Cell \u001b[0;32mIn[4], line 1\u001b[0m\n\u001b[0;32m----> 1\u001b[0m results \u001b[38;5;241m=\u001b[39m \u001b[43manl2024_tournament\u001b[49m\u001b[43m(\u001b[49m\n\u001b[1;32m      2\u001b[0m \u001b[43m    \u001b[49m\u001b[43mn_scenarios\u001b[49m\u001b[38;5;241;43m=\u001b[39;49m\u001b[38;5;241;43m4\u001b[39;49m\u001b[43m,\u001b[49m\u001b[43m \u001b[49m\u001b[43mn_outcomes\u001b[49m\u001b[38;5;241;43m=\u001b[39;49m\u001b[38;5;241;43m100\u001b[39;49m\u001b[43m,\u001b[49m\u001b[43m \u001b[49m\u001b[43mplot_fraction\u001b[49m\u001b[38;5;241;43m=\u001b[39;49m\u001b[38;5;241;43m0.01\u001b[39;49m\u001b[43m,\u001b[49m\u001b[43m \u001b[49m\u001b[43mverbosity\u001b[49m\u001b[38;5;241;43m=\u001b[39;49m\u001b[38;5;241;43m0\u001b[39;49m\u001b[43m,\u001b[49m\u001b[43m \u001b[49m\u001b[43mpath\u001b[49m\u001b[38;5;241;43m=\u001b[39;49m\u001b[38;5;28;43;01mNone\u001b[39;49;00m\n\u001b[1;32m      3\u001b[0m \u001b[43m)\u001b[49m\n",
                        "\u001b[0;31mTypeError\u001b[0m: anl2024_tournament() got an unexpected keyword argument 'path'"
                    ]
                }
            ],
            "source": [
                "results = anl2024_tournament(\n",
                "    n_scenarios=4, n_outcomes=100, plot_fraction=0.01, verbosity=0, path=None\n",
                ")"
            ]
        },
        {
            "cell_type": "code",
            "execution_count": null,
            "id": "analyzed-trading",
            "metadata": {
                "papermill": {
                    "duration": null,
                    "end_time": null,
                    "exception": null,
                    "start_time": null,
                    "status": "pending"
                },
                "tags": []
            },
            "outputs": [],
            "source": [
                "results.final_scores.plot(kind=\"bar\");"
            ]
        },
        {
            "cell_type": "code",
            "execution_count": null,
            "id": "0aacae58-e02e-4981-bb12-890e6d55681a",
            "metadata": {
                "papermill": {
                    "duration": null,
                    "end_time": null,
                    "exception": null,
                    "start_time": null,
                    "status": "pending"
                },
                "tags": []
            },
            "outputs": [],
            "source": [
                "fig, ax = plt.subplots(figsize=(8,6))\n",
                "df = results.scores\n",
                "for label, data in df.groupby('strategy'):\n",
                "    data.advantage.plot(kind=\"kde\", ax=ax, label=label)\n",
                "plt.ylabel(\"advantage\")\n",
                "plt.legend();"
            ]
        },
        {
            "cell_type": "code",
            "execution_count": null,
            "id": "a683a365-1f2e-4f1d-89c5-e169b00b5a68",
            "metadata": {
                "papermill": {
                    "duration": null,
                    "end_time": null,
                    "exception": null,
                    "start_time": null,
                    "status": "pending"
                },
                "tags": []
            },
            "outputs": [],
            "source": [
                "fig, axs = plt.subplots(1, 2, figsize=(13,6))\n",
                "for i, col in enumerate([\"utility\", \"partner_welfare\"]):\n",
                "    results.scores.groupby(\"strategy\")[col].mean().sort_index().plot(kind=\"bar\", ax=axs[i])\n",
                "    axs[i].set_ylabel(col)"
            ]
        },
        {
            "cell_type": "code",
            "execution_count": null,
            "id": "bcf4952b-6293-4da2-ad8a-73cf0f9acaad",
            "metadata": {
                "papermill": {
                    "duration": null,
                    "end_time": null,
                    "exception": null,
                    "start_time": null,
                    "status": "pending"
                },
                "tags": []
            },
            "outputs": [],
            "source": []
        }
    ],
    "metadata": {
        "celltoolbar": "Tags",
        "language_info": {
            "codemirror_mode": {
                "name": "ipython",
                "version": 3
            },
            "file_extension": ".py",
            "mimetype": "text/x-python",
            "name": "python",
            "nbconvert_exporter": "python",
            "pygments_lexer": "ipython3",
            "version": "3.11.4"
        },
        "latex_envs": {
            "LaTeX_envs_menu_present": true,
            "autoclose": false,
            "autocomplete": true,
            "bibliofile": "biblio.bib",
            "cite_by": "apalike",
            "current_citInitial": 1,
            "eqLabelWithNumbers": true,
            "eqNumInitial": 1,
            "hotkeys": {
                "equation": "Ctrl-E",
                "itemize": "Ctrl-I"
            },
            "labels_anchors": false,
            "latex_user_defs": false,
            "report_style_numbering": false,
            "user_envs_cfg": false
        },
        "papermill": {
            "default_parameters": {},
            "duration": 7.425786,
            "end_time": "2023-12-09T04:19:24.937467",
            "environment_variables": {},
            "exception": true,
            "input_path": "/Users/yasser/code/projects/anl/notebooks/tutorials/01.develop_an_agent.ipynb",
            "output_path": "/Users/yasser/code/projects/anl/tests/tmp_notebooks/tutorials/01.develop_an_agent.ipynb",
            "parameters": {},
            "start_time": "2023-12-09T04:19:17.511681",
            "version": "2.3.4"
        },
        "toc": {
            "base_numbering": 1,
            "nav_menu": {},
            "number_sections": true,
            "sideBar": true,
            "skip_h1_title": false,
            "title_cell": "Table of Contents",
            "title_sidebar": "Contents",
            "toc_cell": false,
            "toc_position": {},
            "toc_section_display": true,
            "toc_window_display": false
        },
        "varInspector": {
            "cols": {
                "lenName": 16,
                "lenType": 16,
                "lenVar": 40
            },
            "kernels_config": {
                "python": {
                    "delete_cmd_postfix": "",
                    "delete_cmd_prefix": "del ",
                    "library": "var_list.py",
                    "varRefreshCmd": "print(var_dic_list())"
                },
                "r": {
                    "delete_cmd_postfix": ") ",
                    "delete_cmd_prefix": "rm(",
                    "library": "var_list.r",
                    "varRefreshCmd": "cat(var_dic_list()) "
                }
            },
            "types_to_exclude": [
                "module",
                "function",
                "builtin_function_or_method",
                "instance",
                "_Feature"
            ],
            "window_display": false
        },
        "widgets": {
            "application/vnd.jupyter.widget-state+json": {
                "state": {
                    "2cadc33b26404616ae0a695fd33d2ca8": {
                        "model_module": "@jupyter-widgets/base",
                        "model_module_version": "1.2.0",
                        "model_name": "LayoutModel",
                        "state": {
                            "_model_module": "@jupyter-widgets/base",
                            "_model_module_version": "1.2.0",
                            "_model_name": "LayoutModel",
                            "_view_count": null,
                            "_view_module": "@jupyter-widgets/base",
                            "_view_module_version": "1.2.0",
                            "_view_name": "LayoutView",
                            "align_content": null,
                            "align_items": null,
                            "align_self": null,
                            "border": null,
                            "bottom": null,
                            "display": null,
                            "flex": null,
                            "flex_flow": null,
                            "grid_area": null,
                            "grid_auto_columns": null,
                            "grid_auto_flow": null,
                            "grid_auto_rows": null,
                            "grid_column": null,
                            "grid_gap": null,
                            "grid_row": null,
                            "grid_template_areas": null,
                            "grid_template_columns": null,
                            "grid_template_rows": null,
                            "height": null,
                            "justify_content": null,
                            "justify_items": null,
                            "left": null,
                            "margin": null,
                            "max_height": null,
                            "max_width": null,
                            "min_height": null,
                            "min_width": null,
                            "object_fit": null,
                            "object_position": null,
                            "order": null,
                            "overflow": null,
                            "overflow_x": null,
                            "overflow_y": null,
                            "padding": null,
                            "right": null,
                            "top": null,
                            "visibility": null,
                            "width": null
                        }
                    },
                    "4368ae6360eb453aaf61f264839b0ddb": {
                        "model_module": "@jupyter-widgets/base",
                        "model_module_version": "1.2.0",
                        "model_name": "LayoutModel",
                        "state": {
                            "_model_module": "@jupyter-widgets/base",
                            "_model_module_version": "1.2.0",
                            "_model_name": "LayoutModel",
                            "_view_count": null,
                            "_view_module": "@jupyter-widgets/base",
                            "_view_module_version": "1.2.0",
                            "_view_name": "LayoutView",
                            "align_content": null,
                            "align_items": null,
                            "align_self": null,
                            "border": null,
                            "bottom": null,
                            "display": null,
                            "flex": null,
                            "flex_flow": null,
                            "grid_area": null,
                            "grid_auto_columns": null,
                            "grid_auto_flow": null,
                            "grid_auto_rows": null,
                            "grid_column": null,
                            "grid_gap": null,
                            "grid_row": null,
                            "grid_template_areas": null,
                            "grid_template_columns": null,
                            "grid_template_rows": null,
                            "height": null,
                            "justify_content": null,
                            "justify_items": null,
                            "left": null,
                            "margin": null,
                            "max_height": null,
                            "max_width": null,
                            "min_height": null,
                            "min_width": null,
                            "object_fit": null,
                            "object_position": null,
                            "order": null,
                            "overflow": null,
                            "overflow_x": null,
                            "overflow_y": null,
                            "padding": null,
                            "right": null,
                            "top": null,
                            "visibility": null,
                            "width": "20px"
                        }
                    },
                    "485a093637284ec28170f816ecd1fa92": {
                        "model_module": "@jupyter-widgets/controls",
                        "model_module_version": "1.5.0",
                        "model_name": "ProgressStyleModel",
                        "state": {
                            "_model_module": "@jupyter-widgets/controls",
                            "_model_module_version": "1.5.0",
                            "_model_name": "ProgressStyleModel",
                            "_view_count": null,
                            "_view_module": "@jupyter-widgets/base",
                            "_view_module_version": "1.2.0",
                            "_view_name": "StyleView",
                            "bar_color": null,
                            "description_width": ""
                        }
                    },
                    "75d848742bcd4d8cb56a5457a57698c7": {
                        "model_module": "@jupyter-widgets/base",
                        "model_module_version": "1.2.0",
                        "model_name": "LayoutModel",
                        "state": {
                            "_model_module": "@jupyter-widgets/base",
                            "_model_module_version": "1.2.0",
                            "_model_name": "LayoutModel",
                            "_view_count": null,
                            "_view_module": "@jupyter-widgets/base",
                            "_view_module_version": "1.2.0",
                            "_view_name": "LayoutView",
                            "align_content": null,
                            "align_items": null,
                            "align_self": null,
                            "border": null,
                            "bottom": null,
                            "display": null,
                            "flex": null,
                            "flex_flow": null,
                            "grid_area": null,
                            "grid_auto_columns": null,
                            "grid_auto_flow": null,
                            "grid_auto_rows": null,
                            "grid_column": null,
                            "grid_gap": null,
                            "grid_row": null,
                            "grid_template_areas": null,
                            "grid_template_columns": null,
                            "grid_template_rows": null,
                            "height": null,
                            "justify_content": null,
                            "justify_items": null,
                            "left": null,
                            "margin": null,
                            "max_height": null,
                            "max_width": null,
                            "min_height": null,
                            "min_width": null,
                            "object_fit": null,
                            "object_position": null,
                            "order": null,
                            "overflow": null,
                            "overflow_x": null,
                            "overflow_y": null,
                            "padding": null,
                            "right": null,
                            "top": null,
                            "visibility": null,
                            "width": null
                        }
                    },
                    "83b5f1069c86434ba8abb01460027b86": {
                        "model_module": "@jupyter-widgets/controls",
                        "model_module_version": "1.5.0",
                        "model_name": "HTMLModel",
                        "state": {
                            "_dom_classes": [],
                            "_model_module": "@jupyter-widgets/controls",
                            "_model_module_version": "1.5.0",
                            "_model_name": "HTMLModel",
                            "_view_count": null,
                            "_view_module": "@jupyter-widgets/controls",
                            "_view_module_version": "1.5.0",
                            "_view_name": "HTMLView",
                            "description": "",
                            "description_tooltip": null,
                            "layout": "IPY_MODEL_2cadc33b26404616ae0a695fd33d2ca8",
                            "placeholder": "​",
                            "style": "IPY_MODEL_e9a077f7f68245d5b476e84fe61b2518",
                            "value": ""
                        }
                    },
                    "ad16d5ccfae94a6bab53b1e4f0d3b2fd": {
                        "model_module": "@jupyter-widgets/base",
                        "model_module_version": "1.2.0",
                        "model_name": "LayoutModel",
                        "state": {
                            "_model_module": "@jupyter-widgets/base",
                            "_model_module_version": "1.2.0",
                            "_model_name": "LayoutModel",
                            "_view_count": null,
                            "_view_module": "@jupyter-widgets/base",
                            "_view_module_version": "1.2.0",
                            "_view_name": "LayoutView",
                            "align_content": null,
                            "align_items": null,
                            "align_self": null,
                            "border": null,
                            "bottom": null,
                            "display": null,
                            "flex": null,
                            "flex_flow": null,
                            "grid_area": null,
                            "grid_auto_columns": null,
                            "grid_auto_flow": null,
                            "grid_auto_rows": null,
                            "grid_column": null,
                            "grid_gap": null,
                            "grid_row": null,
                            "grid_template_areas": null,
                            "grid_template_columns": null,
                            "grid_template_rows": null,
                            "height": null,
                            "justify_content": null,
                            "justify_items": null,
                            "left": null,
                            "margin": null,
                            "max_height": null,
                            "max_width": null,
                            "min_height": null,
                            "min_width": null,
                            "object_fit": null,
                            "object_position": null,
                            "order": null,
                            "overflow": null,
                            "overflow_x": null,
                            "overflow_y": null,
                            "padding": null,
                            "right": null,
                            "top": null,
                            "visibility": null,
                            "width": null
                        }
                    },
                    "ae6ea78135ea49e79f65ded1eb5873f5": {
                        "model_module": "@jupyter-widgets/controls",
                        "model_module_version": "1.5.0",
                        "model_name": "DescriptionStyleModel",
                        "state": {
                            "_model_module": "@jupyter-widgets/controls",
                            "_model_module_version": "1.5.0",
                            "_model_name": "DescriptionStyleModel",
                            "_view_count": null,
                            "_view_module": "@jupyter-widgets/base",
                            "_view_module_version": "1.2.0",
                            "_view_name": "StyleView",
                            "description_width": ""
                        }
                    },
                    "d8c3b6c0996640e8aa5ff137cf69e906": {
                        "model_module": "@jupyter-widgets/controls",
                        "model_module_version": "1.5.0",
                        "model_name": "HBoxModel",
                        "state": {
                            "_dom_classes": [],
                            "_model_module": "@jupyter-widgets/controls",
                            "_model_module_version": "1.5.0",
                            "_model_name": "HBoxModel",
                            "_view_count": null,
                            "_view_module": "@jupyter-widgets/controls",
                            "_view_module_version": "1.5.0",
                            "_view_name": "HBoxView",
                            "box_style": "",
                            "children": [
                                "IPY_MODEL_83b5f1069c86434ba8abb01460027b86",
                                "IPY_MODEL_f0bfa51dd65f45e89d271167128606e3",
                                "IPY_MODEL_f3955f11b376489287a5e30e241fcee1"
                            ],
                            "layout": "IPY_MODEL_75d848742bcd4d8cb56a5457a57698c7"
                        }
                    },
                    "e9a077f7f68245d5b476e84fe61b2518": {
                        "model_module": "@jupyter-widgets/controls",
                        "model_module_version": "1.5.0",
                        "model_name": "DescriptionStyleModel",
                        "state": {
                            "_model_module": "@jupyter-widgets/controls",
                            "_model_module_version": "1.5.0",
                            "_model_name": "DescriptionStyleModel",
                            "_view_count": null,
                            "_view_module": "@jupyter-widgets/base",
                            "_view_module_version": "1.2.0",
                            "_view_name": "StyleView",
                            "description_width": ""
                        }
                    },
                    "f0bfa51dd65f45e89d271167128606e3": {
                        "model_module": "@jupyter-widgets/controls",
                        "model_module_version": "1.5.0",
                        "model_name": "FloatProgressModel",
                        "state": {
                            "_dom_classes": [],
                            "_model_module": "@jupyter-widgets/controls",
                            "_model_module_version": "1.5.0",
                            "_model_name": "FloatProgressModel",
                            "_view_count": null,
                            "_view_module": "@jupyter-widgets/controls",
                            "_view_module_version": "1.5.0",
                            "_view_name": "ProgressView",
                            "bar_style": "info",
                            "description": "",
                            "description_tooltip": null,
                            "layout": "IPY_MODEL_4368ae6360eb453aaf61f264839b0ddb",
                            "max": 1,
                            "min": 0,
                            "orientation": "horizontal",
                            "style": "IPY_MODEL_485a093637284ec28170f816ecd1fa92",
                            "value": 0
                        }
                    },
                    "f3955f11b376489287a5e30e241fcee1": {
                        "model_module": "@jupyter-widgets/controls",
                        "model_module_version": "1.5.0",
                        "model_name": "HTMLModel",
                        "state": {
                            "_dom_classes": [],
                            "_model_module": "@jupyter-widgets/controls",
                            "_model_module_version": "1.5.0",
                            "_model_name": "HTMLModel",
                            "_view_count": null,
                            "_view_module": "@jupyter-widgets/controls",
                            "_view_module_version": "1.5.0",
                            "_view_name": "HTMLView",
                            "description": "",
                            "description_tooltip": null,
                            "layout": "IPY_MODEL_ad16d5ccfae94a6bab53b1e4f0d3b2fd",
                            "placeholder": "​",
                            "style": "IPY_MODEL_ae6ea78135ea49e79f65ded1eb5873f5",
                            "value": " 0/? [00:00&lt;?, ?it/s]"
                        }
                    }
                },
                "version_major": 2,
                "version_minor": 0
            }
        }
    },
    "nbformat": 4,
    "nbformat_minor": 5
}
